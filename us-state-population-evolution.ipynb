{
 "cells": [
  {
   "cell_type": "markdown",
   "id": "952a7b06",
   "metadata": {},
   "source": [
    "# Data Viz: US State Population Animation\n",
    "> **Anthony Jimenez** <br>\n",
    "> *20 August 2021*<br>\n",
    "> [http://www.fa-jimenez.com/](http://www.fa-jimenez.com/)"
   ]
  },
  {
   "cell_type": "markdown",
   "id": "15202589",
   "metadata": {},
   "source": [
    "## Overview of this work\n",
    "With data visualization becoming more and more important in order to share results and help give meaning to certain projects, this notebook will leverage the plotly library for animation chart generation.\n",
    "\n",
    "**Main Data Sources**:\n",
    "- https://en.wikipedia.org/wiki/List_of_U.S._states_and_territories_by_historical_population\n",
    "- https://data.census.gov/cedsci/\n",
    "\n",
    "With US Census data being provided every 10 years, a simple numpy library function (np.interp()) will be used to linearly interpolate between the provided data points to give more density when generating our animation bar chart.\n",
    "\n",
    "Finally, before plotting, we will generate a function that will allow us to filter our dataframe to show only the top 10 US State Populations for each given year."
   ]
  },
  {
   "cell_type": "markdown",
   "id": "9f6e4b3f",
   "metadata": {},
   "source": [
    "## Import necessary libraries"
   ]
  },
  {
   "cell_type": "code",
   "execution_count": 1,
   "id": "c78aab00",
   "metadata": {},
   "outputs": [],
   "source": [
    "import pandas as pd\n",
    "import numpy as np\n",
    "import plotly.express as px"
   ]
  },
  {
   "cell_type": "markdown",
   "id": "a24b489a",
   "metadata": {},
   "source": [
    "## Load each excel worksheet into different dataframes"
   ]
  },
  {
   "cell_type": "code",
   "execution_count": 2,
   "id": "48a43c18",
   "metadata": {},
   "outputs": [
    {
     "data": {
      "text/html": [
       "<div>\n",
       "<style scoped>\n",
       "    .dataframe tbody tr th:only-of-type {\n",
       "        vertical-align: middle;\n",
       "    }\n",
       "\n",
       "    .dataframe tbody tr th {\n",
       "        vertical-align: top;\n",
       "    }\n",
       "\n",
       "    .dataframe thead th {\n",
       "        text-align: right;\n",
       "    }\n",
       "</style>\n",
       "<table border=\"1\" class=\"dataframe\">\n",
       "  <thead>\n",
       "    <tr style=\"text-align: right;\">\n",
       "      <th></th>\n",
       "      <th>Name</th>\n",
       "      <th>variable</th>\n",
       "      <th>value</th>\n",
       "    </tr>\n",
       "  </thead>\n",
       "  <tbody>\n",
       "    <tr>\n",
       "      <th>0</th>\n",
       "      <td>Alabama</td>\n",
       "      <td>1960</td>\n",
       "      <td>3266740.0</td>\n",
       "    </tr>\n",
       "    <tr>\n",
       "      <th>1</th>\n",
       "      <td>Alaska</td>\n",
       "      <td>1960</td>\n",
       "      <td>226167.0</td>\n",
       "    </tr>\n",
       "    <tr>\n",
       "      <th>2</th>\n",
       "      <td>American Samoa</td>\n",
       "      <td>1960</td>\n",
       "      <td>20051.0</td>\n",
       "    </tr>\n",
       "    <tr>\n",
       "      <th>3</th>\n",
       "      <td>Arizona</td>\n",
       "      <td>1960</td>\n",
       "      <td>1302161.0</td>\n",
       "    </tr>\n",
       "    <tr>\n",
       "      <th>4</th>\n",
       "      <td>Arkansas</td>\n",
       "      <td>1960</td>\n",
       "      <td>1786272.0</td>\n",
       "    </tr>\n",
       "    <tr>\n",
       "      <th>...</th>\n",
       "      <td>...</td>\n",
       "      <td>...</td>\n",
       "      <td>...</td>\n",
       "    </tr>\n",
       "    <tr>\n",
       "      <th>475</th>\n",
       "      <td>Washington</td>\n",
       "      <td>2020</td>\n",
       "      <td>7705281.0</td>\n",
       "    </tr>\n",
       "    <tr>\n",
       "      <th>476</th>\n",
       "      <td>West Virginia</td>\n",
       "      <td>2020</td>\n",
       "      <td>1793716.0</td>\n",
       "    </tr>\n",
       "    <tr>\n",
       "      <th>477</th>\n",
       "      <td>Wisconsin</td>\n",
       "      <td>2020</td>\n",
       "      <td>5893718.0</td>\n",
       "    </tr>\n",
       "    <tr>\n",
       "      <th>478</th>\n",
       "      <td>Wyoming</td>\n",
       "      <td>2020</td>\n",
       "      <td>576851.0</td>\n",
       "    </tr>\n",
       "    <tr>\n",
       "      <th>479</th>\n",
       "      <td>United States</td>\n",
       "      <td>2020</td>\n",
       "      <td>NaN</td>\n",
       "    </tr>\n",
       "  </tbody>\n",
       "</table>\n",
       "<p>480 rows × 3 columns</p>\n",
       "</div>"
      ],
      "text/plain": [
       "               Name variable      value\n",
       "0           Alabama     1960  3266740.0\n",
       "1            Alaska     1960   226167.0\n",
       "2    American Samoa     1960    20051.0\n",
       "3           Arizona     1960  1302161.0\n",
       "4          Arkansas     1960  1786272.0\n",
       "..              ...      ...        ...\n",
       "475      Washington     2020  7705281.0\n",
       "476   West Virginia     2020  1793716.0\n",
       "477       Wisconsin     2020  5893718.0\n",
       "478         Wyoming     2020   576851.0\n",
       "479   United States     2020        NaN\n",
       "\n",
       "[480 rows x 3 columns]"
      ]
     },
     "execution_count": 2,
     "metadata": {},
     "output_type": "execute_result"
    }
   ],
   "source": [
    "# Read in data from github\n",
    "xls_file = r'https://github.com/ajmz1/Data-Visualizations/blob/main/us_census_data_by_state.xlsx?raw=true'\n",
    "xls = pd.read_excel(xls_file, sheet_name=None)\n",
    "\n",
    "# Configure dataframe from 1790-1860\n",
    "df1_wide = xls['1790-1860']\n",
    "df1_wide.drop('Admitted[b]', axis=1, inplace=True)\n",
    "df1 = df1_wide.melt(id_vars=['Name'])\n",
    "\n",
    "# Configure dataframe from 1870-1950\n",
    "df2_wide = xls['1870-1950']\n",
    "df2 = df2_wide.melt(id_vars=['Name'])\n",
    "\n",
    "# Configure dataframe from 1960-2020\n",
    "df3_wide = xls['1960-2020']\n",
    "df3 = df3_wide.melt(id_vars=['Name'])\n",
    "df3\n"
   ]
  },
  {
   "cell_type": "markdown",
   "id": "fb8dbdb4",
   "metadata": {},
   "source": [
    "## Combine all dataframes into single one for analysis"
   ]
  },
  {
   "cell_type": "code",
   "execution_count": 3,
   "id": "c4b35fee",
   "metadata": {},
   "outputs": [
    {
     "data": {
      "text/html": [
       "<div>\n",
       "<style scoped>\n",
       "    .dataframe tbody tr th:only-of-type {\n",
       "        vertical-align: middle;\n",
       "    }\n",
       "\n",
       "    .dataframe tbody tr th {\n",
       "        vertical-align: top;\n",
       "    }\n",
       "\n",
       "    .dataframe thead th {\n",
       "        text-align: right;\n",
       "    }\n",
       "</style>\n",
       "<table border=\"1\" class=\"dataframe\">\n",
       "  <thead>\n",
       "    <tr style=\"text-align: right;\">\n",
       "      <th></th>\n",
       "      <th>Name</th>\n",
       "      <th>variable</th>\n",
       "      <th>value</th>\n",
       "    </tr>\n",
       "  </thead>\n",
       "  <tbody>\n",
       "    <tr>\n",
       "      <th>0</th>\n",
       "      <td>Alabama</td>\n",
       "      <td>1790</td>\n",
       "      <td>NaN</td>\n",
       "    </tr>\n",
       "    <tr>\n",
       "      <th>1</th>\n",
       "      <td>Alaska</td>\n",
       "      <td>1790</td>\n",
       "      <td>NaN</td>\n",
       "    </tr>\n",
       "    <tr>\n",
       "      <th>2</th>\n",
       "      <td>American Samoa</td>\n",
       "      <td>1790</td>\n",
       "      <td>NaN</td>\n",
       "    </tr>\n",
       "    <tr>\n",
       "      <th>3</th>\n",
       "      <td>Arizona</td>\n",
       "      <td>1790</td>\n",
       "      <td>NaN</td>\n",
       "    </tr>\n",
       "    <tr>\n",
       "      <th>4</th>\n",
       "      <td>Arkansas</td>\n",
       "      <td>1790</td>\n",
       "      <td>NaN</td>\n",
       "    </tr>\n",
       "    <tr>\n",
       "      <th>...</th>\n",
       "      <td>...</td>\n",
       "      <td>...</td>\n",
       "      <td>...</td>\n",
       "    </tr>\n",
       "    <tr>\n",
       "      <th>475</th>\n",
       "      <td>Washington</td>\n",
       "      <td>2020</td>\n",
       "      <td>7705281.0</td>\n",
       "    </tr>\n",
       "    <tr>\n",
       "      <th>476</th>\n",
       "      <td>West Virginia</td>\n",
       "      <td>2020</td>\n",
       "      <td>1793716.0</td>\n",
       "    </tr>\n",
       "    <tr>\n",
       "      <th>477</th>\n",
       "      <td>Wisconsin</td>\n",
       "      <td>2020</td>\n",
       "      <td>5893718.0</td>\n",
       "    </tr>\n",
       "    <tr>\n",
       "      <th>478</th>\n",
       "      <td>Wyoming</td>\n",
       "      <td>2020</td>\n",
       "      <td>576851.0</td>\n",
       "    </tr>\n",
       "    <tr>\n",
       "      <th>479</th>\n",
       "      <td>United States</td>\n",
       "      <td>2020</td>\n",
       "      <td>NaN</td>\n",
       "    </tr>\n",
       "  </tbody>\n",
       "</table>\n",
       "<p>1449 rows × 3 columns</p>\n",
       "</div>"
      ],
      "text/plain": [
       "               Name variable      value\n",
       "0           Alabama     1790        NaN\n",
       "1            Alaska     1790        NaN\n",
       "2    American Samoa     1790        NaN\n",
       "3           Arizona     1790        NaN\n",
       "4          Arkansas     1790        NaN\n",
       "..              ...      ...        ...\n",
       "475      Washington     2020  7705281.0\n",
       "476   West Virginia     2020  1793716.0\n",
       "477       Wisconsin     2020  5893718.0\n",
       "478         Wyoming     2020   576851.0\n",
       "479   United States     2020        NaN\n",
       "\n",
       "[1449 rows x 3 columns]"
      ]
     },
     "execution_count": 3,
     "metadata": {},
     "output_type": "execute_result"
    }
   ],
   "source": [
    "df = df1.append([df2, df3])\n",
    "df"
   ]
  },
  {
   "cell_type": "markdown",
   "id": "57f5c991",
   "metadata": {},
   "source": [
    "## Create multi-index dataframe that is grouped by 'State' and 'Year'"
   ]
  },
  {
   "cell_type": "code",
   "execution_count": 4,
   "id": "9605abe0",
   "metadata": {},
   "outputs": [
    {
     "data": {
      "text/plain": [
       "Name     variable\n",
       "Alabama  1790             0.0\n",
       "         1800          1250.0\n",
       "         1810          9046.0\n",
       "         1820        127901.0\n",
       "         1830        309527.0\n",
       "                       ...   \n",
       "Wyoming  1990        453588.0\n",
       "         2000        493782.0\n",
       "         2010        563626.0\n",
       "         2015        600000.0\n",
       "         2020        576851.0\n",
       "Name: value, Length: 1449, dtype: float64"
      ]
     },
     "execution_count": 4,
     "metadata": {},
     "output_type": "execute_result"
    }
   ],
   "source": [
    "df_format = df.groupby(['Name', 'variable'])['value'].sum()\n",
    "df_format"
   ]
  },
  {
   "cell_type": "markdown",
   "id": "ac2f8577",
   "metadata": {},
   "source": [
    "## Main functions for interpolating and returning the top \"X\" states"
   ]
  },
  {
   "cell_type": "code",
   "execution_count": 5,
   "id": "03989d48",
   "metadata": {},
   "outputs": [],
   "source": [
    "# Main function for creating dense population dataframes based off of US Census data\n",
    "def interpolate_year_data(df, n_interp):\n",
    "    # Define the interpolation data points we seek\n",
    "    time_interp = np.linspace(1790, 2020, n_interp)\n",
    "    \n",
    "    # Main loop to interpolate and populate matrix for future display\n",
    "    for idx, val in enumerate(df.index.get_level_values(0).unique()):\n",
    "        # Get the table data for x- and y-coordinates so we can interpolate\n",
    "        xp = df[(df.index.get_level_values(0) == val)].index.get_level_values(1)\n",
    "        fp = df[(df.index.get_level_values(0) == val)]\n",
    "        label = n_interp * [val]\n",
    "        \n",
    "        # Interpolate the data table\n",
    "        pop_interp = np.interp(time_interp, xp, fp)\n",
    "        \n",
    "        # Prepare dataframe for output of the function\n",
    "        df_temp = pd.DataFrame(data=[time_interp, label, pop_interp]).T\n",
    "        df_temp.columns = ['Year', 'State', 'Population']\n",
    "        if idx == 0:\n",
    "            df_out = df_temp\n",
    "        else:\n",
    "            df_out = df_out.append([df_temp])\n",
    "    \n",
    "    # Reset the index just for ease of reading\n",
    "    df_out.reset_index(drop=True, inplace=True)\n",
    "    return df_out\n",
    "\n",
    "# Filter the data to show only the top \"X\" states by population in preparation for chart animation\n",
    "def return_top_states(df, n_top):\n",
    "    # Filter out the US population rows\n",
    "    df = df[df.State != 'United States']\n",
    "    \n",
    "    # Main loop for returning the top \"X\" states for each year\n",
    "    for idx, val in enumerate(df.Year.unique()):\n",
    "        df_top = df[df['Year'] == val].sort_values(by='Population', ascending=False)[:n_top]\n",
    "        if idx == 0:\n",
    "            df_out = df_top\n",
    "        else:\n",
    "            df_out = df_out.append([df_top])\n",
    "    \n",
    "    # Format the columns before outputting\n",
    "    df_out['Year'] = df_out['Year'].astype(int)\n",
    "    df_out['Population'] = df_out['Population'].astype(float)\n",
    "    df_out['Population'] = df_out['Population'].round(decimals=0)\n",
    "    df_out.reset_index(drop=True, inplace=True)\n",
    "    return df_out"
   ]
  },
  {
   "cell_type": "markdown",
   "id": "a5e537ca",
   "metadata": {},
   "source": [
    "## Main call to the functions to generate a dense population dataframe"
   ]
  },
  {
   "cell_type": "code",
   "execution_count": 6,
   "id": "b8fb6ac2",
   "metadata": {},
   "outputs": [],
   "source": [
    "# Function call to interpolate data\n",
    "df_dense = interpolate_year_data(df_format, 30)\n",
    "\n",
    "# Final function to return the top 10 states for each year\n",
    "df_out = return_top_states(df_dense, 10)"
   ]
  },
  {
   "cell_type": "markdown",
   "id": "2aae59f3",
   "metadata": {},
   "source": [
    "## Leveraging the plotly library for animation plots"
   ]
  },
  {
   "cell_type": "code",
   "execution_count": 8,
   "id": "5a451b37",
   "metadata": {},
   "outputs": [
    {
     "data": {
      "application/vnd.plotly.v1+json": {
       "config": {
        "plotlyServerURL": "https://plot.ly"
       },
       "data": [
        {
         "alignmentgroup": "True",
         "hovertemplate": "color=Virginia<br>animation_frame=1790<br>x=%{x}<br>y=%{y}<extra></extra>",
         "legendgroup": "Virginia",
         "marker": {
          "color": "#636efa"
         },
         "name": "Virginia",
         "offsetgroup": "Virginia",
         "orientation": "h",
         "showlegend": true,
         "textposition": "auto",
         "type": "bar",
         "x": [
          691937
         ],
         "xaxis": "x",
         "y": [
          "Virginia"
         ],
         "yaxis": "y"
        },
        {
         "alignmentgroup": "True",
         "hovertemplate": "color=Pennsylvania<br>animation_frame=1790<br>x=%{x}<br>y=%{y}<extra></extra>",
         "legendgroup": "Pennsylvania",
         "marker": {
          "color": "#EF553B"
         },
         "name": "Pennsylvania",
         "offsetgroup": "Pennsylvania",
         "orientation": "h",
         "showlegend": true,
         "textposition": "auto",
         "type": "bar",
         "x": [
          434373
         ],
         "xaxis": "x",
         "y": [
          "Pennsylvania"
         ],
         "yaxis": "y"
        },
        {
         "alignmentgroup": "True",
         "hovertemplate": "color=North Carolina<br>animation_frame=1790<br>x=%{x}<br>y=%{y}<extra></extra>",
         "legendgroup": "North Carolina",
         "marker": {
          "color": "#00cc96"
         },
         "name": "North Carolina",
         "offsetgroup": "North Carolina",
         "orientation": "h",
         "showlegend": true,
         "textposition": "auto",
         "type": "bar",
         "x": [
          393751
         ],
         "xaxis": "x",
         "y": [
          "North Carolina"
         ],
         "yaxis": "y"
        },
        {
         "alignmentgroup": "True",
         "hovertemplate": "color=Massachusetts<br>animation_frame=1790<br>x=%{x}<br>y=%{y}<extra></extra>",
         "legendgroup": "Massachusetts",
         "marker": {
          "color": "#ab63fa"
         },
         "name": "Massachusetts",
         "offsetgroup": "Massachusetts",
         "orientation": "h",
         "showlegend": true,
         "textposition": "auto",
         "type": "bar",
         "x": [
          378787
         ],
         "xaxis": "x",
         "y": [
          "Massachusetts"
         ],
         "yaxis": "y"
        },
        {
         "alignmentgroup": "True",
         "hovertemplate": "color=New York<br>animation_frame=1790<br>x=%{x}<br>y=%{y}<extra></extra>",
         "legendgroup": "New York",
         "marker": {
          "color": "#FFA15A"
         },
         "name": "New York",
         "offsetgroup": "New York",
         "orientation": "h",
         "showlegend": true,
         "textposition": "auto",
         "type": "bar",
         "x": [
          340120
         ],
         "xaxis": "x",
         "y": [
          "New York"
         ],
         "yaxis": "y"
        },
        {
         "alignmentgroup": "True",
         "hovertemplate": "color=Maryland<br>animation_frame=1790<br>x=%{x}<br>y=%{y}<extra></extra>",
         "legendgroup": "Maryland",
         "marker": {
          "color": "#19d3f3"
         },
         "name": "Maryland",
         "offsetgroup": "Maryland",
         "orientation": "h",
         "showlegend": true,
         "textposition": "auto",
         "type": "bar",
         "x": [
          319728
         ],
         "xaxis": "x",
         "y": [
          "Maryland"
         ],
         "yaxis": "y"
        },
        {
         "alignmentgroup": "True",
         "hovertemplate": "color=South Carolina<br>animation_frame=1790<br>x=%{x}<br>y=%{y}<extra></extra>",
         "legendgroup": "South Carolina",
         "marker": {
          "color": "#FF6692"
         },
         "name": "South Carolina",
         "offsetgroup": "South Carolina",
         "orientation": "h",
         "showlegend": true,
         "textposition": "auto",
         "type": "bar",
         "x": [
          249073
         ],
         "xaxis": "x",
         "y": [
          "South Carolina"
         ],
         "yaxis": "y"
        },
        {
         "alignmentgroup": "True",
         "hovertemplate": "color=Connecticut<br>animation_frame=1790<br>x=%{x}<br>y=%{y}<extra></extra>",
         "legendgroup": "Connecticut",
         "marker": {
          "color": "#B6E880"
         },
         "name": "Connecticut",
         "offsetgroup": "Connecticut",
         "orientation": "h",
         "showlegend": true,
         "textposition": "auto",
         "type": "bar",
         "x": [
          237946
         ],
         "xaxis": "x",
         "y": [
          "Connecticut"
         ],
         "yaxis": "y"
        },
        {
         "alignmentgroup": "True",
         "hovertemplate": "color=New Jersey<br>animation_frame=1790<br>x=%{x}<br>y=%{y}<extra></extra>",
         "legendgroup": "New Jersey",
         "marker": {
          "color": "#FF97FF"
         },
         "name": "New Jersey",
         "offsetgroup": "New Jersey",
         "orientation": "h",
         "showlegend": true,
         "textposition": "auto",
         "type": "bar",
         "x": [
          184139
         ],
         "xaxis": "x",
         "y": [
          "New Jersey"
         ],
         "yaxis": "y"
        },
        {
         "alignmentgroup": "True",
         "hovertemplate": "color=New Hampshire<br>animation_frame=1790<br>x=%{x}<br>y=%{y}<extra></extra>",
         "legendgroup": "New Hampshire",
         "marker": {
          "color": "#FECB52"
         },
         "name": "New Hampshire",
         "offsetgroup": "New Hampshire",
         "orientation": "h",
         "showlegend": true,
         "textposition": "auto",
         "type": "bar",
         "x": [
          141885
         ],
         "xaxis": "x",
         "y": [
          "New Hampshire"
         ],
         "yaxis": "y"
        }
       ],
       "frames": [
        {
         "data": [
          {
           "alignmentgroup": "True",
           "hovertemplate": "color=Virginia<br>animation_frame=1790<br>x=%{x}<br>y=%{y}<extra></extra>",
           "legendgroup": "Virginia",
           "marker": {
            "color": "#636efa"
           },
           "name": "Virginia",
           "offsetgroup": "Virginia",
           "orientation": "h",
           "showlegend": true,
           "textposition": "auto",
           "type": "bar",
           "x": [
            691937
           ],
           "xaxis": "x",
           "y": [
            "Virginia"
           ],
           "yaxis": "y"
          },
          {
           "alignmentgroup": "True",
           "hovertemplate": "color=Pennsylvania<br>animation_frame=1790<br>x=%{x}<br>y=%{y}<extra></extra>",
           "legendgroup": "Pennsylvania",
           "marker": {
            "color": "#EF553B"
           },
           "name": "Pennsylvania",
           "offsetgroup": "Pennsylvania",
           "orientation": "h",
           "showlegend": true,
           "textposition": "auto",
           "type": "bar",
           "x": [
            434373
           ],
           "xaxis": "x",
           "y": [
            "Pennsylvania"
           ],
           "yaxis": "y"
          },
          {
           "alignmentgroup": "True",
           "hovertemplate": "color=North Carolina<br>animation_frame=1790<br>x=%{x}<br>y=%{y}<extra></extra>",
           "legendgroup": "North Carolina",
           "marker": {
            "color": "#00cc96"
           },
           "name": "North Carolina",
           "offsetgroup": "North Carolina",
           "orientation": "h",
           "showlegend": true,
           "textposition": "auto",
           "type": "bar",
           "x": [
            393751
           ],
           "xaxis": "x",
           "y": [
            "North Carolina"
           ],
           "yaxis": "y"
          },
          {
           "alignmentgroup": "True",
           "hovertemplate": "color=Massachusetts<br>animation_frame=1790<br>x=%{x}<br>y=%{y}<extra></extra>",
           "legendgroup": "Massachusetts",
           "marker": {
            "color": "#ab63fa"
           },
           "name": "Massachusetts",
           "offsetgroup": "Massachusetts",
           "orientation": "h",
           "showlegend": true,
           "textposition": "auto",
           "type": "bar",
           "x": [
            378787
           ],
           "xaxis": "x",
           "y": [
            "Massachusetts"
           ],
           "yaxis": "y"
          },
          {
           "alignmentgroup": "True",
           "hovertemplate": "color=New York<br>animation_frame=1790<br>x=%{x}<br>y=%{y}<extra></extra>",
           "legendgroup": "New York",
           "marker": {
            "color": "#FFA15A"
           },
           "name": "New York",
           "offsetgroup": "New York",
           "orientation": "h",
           "showlegend": true,
           "textposition": "auto",
           "type": "bar",
           "x": [
            340120
           ],
           "xaxis": "x",
           "y": [
            "New York"
           ],
           "yaxis": "y"
          },
          {
           "alignmentgroup": "True",
           "hovertemplate": "color=Maryland<br>animation_frame=1790<br>x=%{x}<br>y=%{y}<extra></extra>",
           "legendgroup": "Maryland",
           "marker": {
            "color": "#19d3f3"
           },
           "name": "Maryland",
           "offsetgroup": "Maryland",
           "orientation": "h",
           "showlegend": true,
           "textposition": "auto",
           "type": "bar",
           "x": [
            319728
           ],
           "xaxis": "x",
           "y": [
            "Maryland"
           ],
           "yaxis": "y"
          },
          {
           "alignmentgroup": "True",
           "hovertemplate": "color=South Carolina<br>animation_frame=1790<br>x=%{x}<br>y=%{y}<extra></extra>",
           "legendgroup": "South Carolina",
           "marker": {
            "color": "#FF6692"
           },
           "name": "South Carolina",
           "offsetgroup": "South Carolina",
           "orientation": "h",
           "showlegend": true,
           "textposition": "auto",
           "type": "bar",
           "x": [
            249073
           ],
           "xaxis": "x",
           "y": [
            "South Carolina"
           ],
           "yaxis": "y"
          },
          {
           "alignmentgroup": "True",
           "hovertemplate": "color=Connecticut<br>animation_frame=1790<br>x=%{x}<br>y=%{y}<extra></extra>",
           "legendgroup": "Connecticut",
           "marker": {
            "color": "#B6E880"
           },
           "name": "Connecticut",
           "offsetgroup": "Connecticut",
           "orientation": "h",
           "showlegend": true,
           "textposition": "auto",
           "type": "bar",
           "x": [
            237946
           ],
           "xaxis": "x",
           "y": [
            "Connecticut"
           ],
           "yaxis": "y"
          },
          {
           "alignmentgroup": "True",
           "hovertemplate": "color=New Jersey<br>animation_frame=1790<br>x=%{x}<br>y=%{y}<extra></extra>",
           "legendgroup": "New Jersey",
           "marker": {
            "color": "#FF97FF"
           },
           "name": "New Jersey",
           "offsetgroup": "New Jersey",
           "orientation": "h",
           "showlegend": true,
           "textposition": "auto",
           "type": "bar",
           "x": [
            184139
           ],
           "xaxis": "x",
           "y": [
            "New Jersey"
           ],
           "yaxis": "y"
          },
          {
           "alignmentgroup": "True",
           "hovertemplate": "color=New Hampshire<br>animation_frame=1790<br>x=%{x}<br>y=%{y}<extra></extra>",
           "legendgroup": "New Hampshire",
           "marker": {
            "color": "#FECB52"
           },
           "name": "New Hampshire",
           "offsetgroup": "New Hampshire",
           "orientation": "h",
           "showlegend": true,
           "textposition": "auto",
           "type": "bar",
           "x": [
            141885
           ],
           "xaxis": "x",
           "y": [
            "New Hampshire"
           ],
           "yaxis": "y"
          }
         ],
         "name": "1790"
        },
        {
         "data": [
          {
           "alignmentgroup": "True",
           "hovertemplate": "color=Virginia<br>animation_frame=1797<br>x=%{x}<br>y=%{y}<extra></extra>",
           "legendgroup": "Virginia",
           "marker": {
            "color": "#636efa"
           },
           "name": "Virginia",
           "offsetgroup": "Virginia",
           "orientation": "h",
           "showlegend": true,
           "textposition": "auto",
           "type": "bar",
           "x": [
            783636
           ],
           "xaxis": "x",
           "y": [
            "Virginia"
           ],
           "yaxis": "y"
          },
          {
           "alignmentgroup": "True",
           "hovertemplate": "color=Pennsylvania<br>animation_frame=1797<br>x=%{x}<br>y=%{y}<extra></extra>",
           "legendgroup": "Pennsylvania",
           "marker": {
            "color": "#EF553B"
           },
           "name": "Pennsylvania",
           "offsetgroup": "Pennsylvania",
           "orientation": "h",
           "showlegend": true,
           "textposition": "auto",
           "type": "bar",
           "x": [
            567751
           ],
           "xaxis": "x",
           "y": [
            "Pennsylvania"
           ],
           "yaxis": "y"
          },
          {
           "alignmentgroup": "True",
           "hovertemplate": "color=North Carolina<br>animation_frame=1797<br>x=%{x}<br>y=%{y}<extra></extra>",
           "legendgroup": "North Carolina",
           "marker": {
            "color": "#00cc96"
           },
           "name": "North Carolina",
           "offsetgroup": "North Carolina",
           "orientation": "h",
           "showlegend": true,
           "textposition": "auto",
           "type": "bar",
           "x": [
            460651
           ],
           "xaxis": "x",
           "y": [
            "North Carolina"
           ],
           "yaxis": "y"
          },
          {
           "alignmentgroup": "True",
           "hovertemplate": "color=Massachusetts<br>animation_frame=1797<br>x=%{x}<br>y=%{y}<extra></extra>",
           "legendgroup": "Massachusetts",
           "marker": {
            "color": "#ab63fa"
           },
           "name": "Massachusetts",
           "offsetgroup": "Massachusetts",
           "orientation": "h",
           "showlegend": true,
           "textposition": "auto",
           "type": "bar",
           "x": [
            413730
           ],
           "xaxis": "x",
           "y": [
            "Massachusetts"
           ],
           "yaxis": "y"
          },
          {
           "alignmentgroup": "True",
           "hovertemplate": "color=New York<br>animation_frame=1797<br>x=%{x}<br>y=%{y}<extra></extra>",
           "legendgroup": "New York",
           "marker": {
            "color": "#FFA15A"
           },
           "name": "New York",
           "offsetgroup": "New York",
           "orientation": "h",
           "showlegend": true,
           "textposition": "auto",
           "type": "bar",
           "x": [
            535168
           ],
           "xaxis": "x",
           "y": [
            "New York"
           ],
           "yaxis": "y"
          },
          {
           "alignmentgroup": "True",
           "hovertemplate": "color=Maryland<br>animation_frame=1797<br>x=%{x}<br>y=%{y}<extra></extra>",
           "legendgroup": "Maryland",
           "marker": {
            "color": "#19d3f3"
           },
           "name": "Maryland",
           "offsetgroup": "Maryland",
           "orientation": "h",
           "showlegend": true,
           "textposition": "auto",
           "type": "bar",
           "x": [
            337034
           ],
           "xaxis": "x",
           "y": [
            "Maryland"
           ],
           "yaxis": "y"
          },
          {
           "alignmentgroup": "True",
           "hovertemplate": "color=South Carolina<br>animation_frame=1797<br>x=%{x}<br>y=%{y}<extra></extra>",
           "legendgroup": "South Carolina",
           "marker": {
            "color": "#FF6692"
           },
           "name": "South Carolina",
           "offsetgroup": "South Carolina",
           "orientation": "h",
           "showlegend": true,
           "textposition": "auto",
           "type": "bar",
           "x": [
            325622
           ],
           "xaxis": "x",
           "y": [
            "South Carolina"
           ],
           "yaxis": "y"
          },
          {
           "alignmentgroup": "True",
           "hovertemplate": "color=Connecticut<br>animation_frame=1797<br>x=%{x}<br>y=%{y}<extra></extra>",
           "legendgroup": "Connecticut",
           "marker": {
            "color": "#B6E880"
           },
           "name": "Connecticut",
           "offsetgroup": "Connecticut",
           "orientation": "h",
           "showlegend": true,
           "textposition": "auto",
           "type": "bar",
           "x": [
            248301
           ],
           "xaxis": "x",
           "y": [
            "Connecticut"
           ],
           "yaxis": "y"
          },
          {
           "alignmentgroup": "True",
           "hovertemplate": "color=New Jersey<br>animation_frame=1797<br>x=%{x}<br>y=%{y}<extra></extra>",
           "legendgroup": "New Jersey",
           "marker": {
            "color": "#FF97FF"
           },
           "name": "New Jersey",
           "offsetgroup": "New Jersey",
           "orientation": "h",
           "showlegend": true,
           "textposition": "auto",
           "type": "bar",
           "x": [
            205561
           ],
           "xaxis": "x",
           "y": [
            "New Jersey"
           ],
           "yaxis": "y"
          },
          {
           "alignmentgroup": "True",
           "hovertemplate": "color=Kentucky<br>animation_frame=1797<br>x=%{x}<br>y=%{y}<extra></extra>",
           "legendgroup": "Kentucky",
           "marker": {
            "color": "#636efa"
           },
           "name": "Kentucky",
           "offsetgroup": "Kentucky",
           "orientation": "h",
           "showlegend": true,
           "textposition": "auto",
           "type": "bar",
           "x": [
            190487
           ],
           "xaxis": "x",
           "y": [
            "Kentucky"
           ],
           "yaxis": "y"
          }
         ],
         "name": "1797"
        },
        {
         "data": [
          {
           "alignmentgroup": "True",
           "hovertemplate": "color=Virginia<br>animation_frame=1805<br>x=%{x}<br>y=%{y}<extra></extra>",
           "legendgroup": "Virginia",
           "marker": {
            "color": "#636efa"
           },
           "name": "Virginia",
           "offsetgroup": "Virginia",
           "orientation": "h",
           "showlegend": true,
           "textposition": "auto",
           "type": "bar",
           "x": [
            848665
           ],
           "xaxis": "x",
           "y": [
            "Virginia"
           ],
           "yaxis": "y"
          },
          {
           "alignmentgroup": "True",
           "hovertemplate": "color=Pennsylvania<br>animation_frame=1805<br>x=%{x}<br>y=%{y}<extra></extra>",
           "legendgroup": "Pennsylvania",
           "marker": {
            "color": "#EF553B"
           },
           "name": "Pennsylvania",
           "offsetgroup": "Pennsylvania",
           "orientation": "h",
           "showlegend": true,
           "textposition": "auto",
           "type": "bar",
           "x": [
            724210
           ],
           "xaxis": "x",
           "y": [
            "Pennsylvania"
           ],
           "yaxis": "y"
          },
          {
           "alignmentgroup": "True",
           "hovertemplate": "color=North Carolina<br>animation_frame=1805<br>x=%{x}<br>y=%{y}<extra></extra>",
           "legendgroup": "North Carolina",
           "marker": {
            "color": "#00cc96"
           },
           "name": "North Carolina",
           "offsetgroup": "North Carolina",
           "orientation": "h",
           "showlegend": true,
           "textposition": "auto",
           "type": "bar",
           "x": [
            524075
           ],
           "xaxis": "x",
           "y": [
            "North Carolina"
           ],
           "yaxis": "y"
          },
          {
           "alignmentgroup": "True",
           "hovertemplate": "color=Massachusetts<br>animation_frame=1805<br>x=%{x}<br>y=%{y}<extra></extra>",
           "legendgroup": "Massachusetts",
           "marker": {
            "color": "#ab63fa"
           },
           "name": "Massachusetts",
           "offsetgroup": "Massachusetts",
           "orientation": "h",
           "showlegend": true,
           "textposition": "auto",
           "type": "bar",
           "x": [
            451683
           ],
           "xaxis": "x",
           "y": [
            "Massachusetts"
           ],
           "yaxis": "y"
          },
          {
           "alignmentgroup": "True",
           "hovertemplate": "color=New York<br>animation_frame=1805<br>x=%{x}<br>y=%{y}<extra></extra>",
           "legendgroup": "New York",
           "marker": {
            "color": "#FFA15A"
           },
           "name": "New York",
           "offsetgroup": "New York",
           "orientation": "h",
           "showlegend": true,
           "textposition": "auto",
           "type": "bar",
           "x": [
            804705
           ],
           "xaxis": "x",
           "y": [
            "New York"
           ],
           "yaxis": "y"
          },
          {
           "alignmentgroup": "True",
           "hovertemplate": "color=Maryland<br>animation_frame=1805<br>x=%{x}<br>y=%{y}<extra></extra>",
           "legendgroup": "Maryland",
           "marker": {
            "color": "#19d3f3"
           },
           "name": "Maryland",
           "offsetgroup": "Maryland",
           "orientation": "h",
           "showlegend": true,
           "textposition": "auto",
           "type": "bar",
           "x": [
            364409
           ],
           "xaxis": "x",
           "y": [
            "Maryland"
           ],
           "yaxis": "y"
          },
          {
           "alignmentgroup": "True",
           "hovertemplate": "color=South Carolina<br>animation_frame=1805<br>x=%{x}<br>y=%{y}<extra></extra>",
           "legendgroup": "South Carolina",
           "marker": {
            "color": "#FF6692"
           },
           "name": "South Carolina",
           "offsetgroup": "South Carolina",
           "orientation": "h",
           "showlegend": true,
           "textposition": "auto",
           "type": "bar",
           "x": [
            386346
           ],
           "xaxis": "x",
           "y": [
            "South Carolina"
           ],
           "yaxis": "y"
          },
          {
           "alignmentgroup": "True",
           "hovertemplate": "color=Connecticut<br>animation_frame=1805<br>x=%{x}<br>y=%{y}<extra></extra>",
           "legendgroup": "Connecticut",
           "marker": {
            "color": "#B6E880"
           },
           "name": "Connecticut",
           "offsetgroup": "Connecticut",
           "orientation": "h",
           "showlegend": true,
           "textposition": "auto",
           "type": "bar",
           "x": [
            257474
           ],
           "xaxis": "x",
           "y": [
            "Connecticut"
           ],
           "yaxis": "y"
          },
          {
           "alignmentgroup": "True",
           "hovertemplate": "color=New Jersey<br>animation_frame=1805<br>x=%{x}<br>y=%{y}<extra></extra>",
           "legendgroup": "New Jersey",
           "marker": {
            "color": "#FF97FF"
           },
           "name": "New Jersey",
           "offsetgroup": "New Jersey",
           "orientation": "h",
           "showlegend": true,
           "textposition": "auto",
           "type": "bar",
           "x": [
            231318
           ],
           "xaxis": "x",
           "y": [
            "New Jersey"
           ],
           "yaxis": "y"
          },
          {
           "alignmentgroup": "True",
           "hovertemplate": "color=Kentucky<br>animation_frame=1805<br>x=%{x}<br>y=%{y}<extra></extra>",
           "legendgroup": "Kentucky",
           "marker": {
            "color": "#636efa"
           },
           "name": "Kentucky",
           "offsetgroup": "Kentucky",
           "orientation": "h",
           "showlegend": true,
           "textposition": "auto",
           "type": "bar",
           "x": [
            329731
           ],
           "xaxis": "x",
           "y": [
            "Kentucky"
           ],
           "yaxis": "y"
          }
         ],
         "name": "1805"
        },
        {
         "data": [
          {
           "alignmentgroup": "True",
           "hovertemplate": "color=Virginia<br>animation_frame=1813<br>x=%{x}<br>y=%{y}<extra></extra>",
           "legendgroup": "Virginia",
           "marker": {
            "color": "#636efa"
           },
           "name": "Virginia",
           "offsetgroup": "Virginia",
           "orientation": "h",
           "showlegend": true,
           "textposition": "auto",
           "type": "bar",
           "x": [
            900661
           ],
           "xaxis": "x",
           "y": [
            "Virginia"
           ],
           "yaxis": "y"
          },
          {
           "alignmentgroup": "True",
           "hovertemplate": "color=Pennsylvania<br>animation_frame=1813<br>x=%{x}<br>y=%{y}<extra></extra>",
           "legendgroup": "Pennsylvania",
           "marker": {
            "color": "#EF553B"
           },
           "name": "Pennsylvania",
           "offsetgroup": "Pennsylvania",
           "orientation": "h",
           "showlegend": true,
           "textposition": "auto",
           "type": "bar",
           "x": [
            900885
           ],
           "xaxis": "x",
           "y": [
            "Pennsylvania"
           ],
           "yaxis": "y"
          },
          {
           "alignmentgroup": "True",
           "hovertemplate": "color=North Carolina<br>animation_frame=1813<br>x=%{x}<br>y=%{y}<extra></extra>",
           "legendgroup": "North Carolina",
           "marker": {
            "color": "#00cc96"
           },
           "name": "North Carolina",
           "offsetgroup": "North Carolina",
           "orientation": "h",
           "showlegend": true,
           "textposition": "auto",
           "type": "bar",
           "x": [
            587744
           ],
           "xaxis": "x",
           "y": [
            "North Carolina"
           ],
           "yaxis": "y"
          },
          {
           "alignmentgroup": "True",
           "hovertemplate": "color=Massachusetts<br>animation_frame=1813<br>x=%{x}<br>y=%{y}<extra></extra>",
           "legendgroup": "Massachusetts",
           "marker": {
            "color": "#ab63fa"
           },
           "name": "Massachusetts",
           "offsetgroup": "Massachusetts",
           "orientation": "h",
           "showlegend": true,
           "textposition": "auto",
           "type": "bar",
           "x": [
            491479
           ],
           "xaxis": "x",
           "y": [
            "Massachusetts"
           ],
           "yaxis": "y"
          },
          {
           "alignmentgroup": "True",
           "hovertemplate": "color=New York<br>animation_frame=1813<br>x=%{x}<br>y=%{y}<extra></extra>",
           "legendgroup": "New York",
           "marker": {
            "color": "#FFA15A"
           },
           "name": "New York",
           "offsetgroup": "New York",
           "orientation": "h",
           "showlegend": true,
           "textposition": "auto",
           "type": "bar",
           "x": [
            1115994
           ],
           "xaxis": "x",
           "y": [
            "New York"
           ],
           "yaxis": "y"
          },
          {
           "alignmentgroup": "True",
           "hovertemplate": "color=Maryland<br>animation_frame=1813<br>x=%{x}<br>y=%{y}<extra></extra>",
           "legendgroup": "Maryland",
           "marker": {
            "color": "#19d3f3"
           },
           "name": "Maryland",
           "offsetgroup": "Maryland",
           "orientation": "h",
           "showlegend": true,
           "textposition": "auto",
           "type": "bar",
           "x": [
            390713
           ],
           "xaxis": "x",
           "y": [
            "Maryland"
           ],
           "yaxis": "y"
          },
          {
           "alignmentgroup": "True",
           "hovertemplate": "color=South Carolina<br>animation_frame=1813<br>x=%{x}<br>y=%{y}<extra></extra>",
           "legendgroup": "South Carolina",
           "marker": {
            "color": "#FF6692"
           },
           "name": "South Carolina",
           "offsetgroup": "South Carolina",
           "orientation": "h",
           "showlegend": true,
           "textposition": "auto",
           "type": "bar",
           "x": [
            448352
           ],
           "xaxis": "x",
           "y": [
            "South Carolina"
           ],
           "yaxis": "y"
          },
          {
           "alignmentgroup": "True",
           "hovertemplate": "color=Kentucky<br>animation_frame=1813<br>x=%{x}<br>y=%{y}<extra></extra>",
           "legendgroup": "Kentucky",
           "marker": {
            "color": "#636efa"
           },
           "name": "Kentucky",
           "offsetgroup": "Kentucky",
           "orientation": "h",
           "showlegend": true,
           "textposition": "auto",
           "type": "bar",
           "x": [
            466368
           ],
           "xaxis": "x",
           "y": [
            "Kentucky"
           ],
           "yaxis": "y"
          },
          {
           "alignmentgroup": "True",
           "hovertemplate": "color=Ohio<br>animation_frame=1813<br>x=%{x}<br>y=%{y}<extra></extra>",
           "legendgroup": "Ohio",
           "marker": {
            "color": "#EF553B"
           },
           "name": "Ohio",
           "offsetgroup": "Ohio",
           "orientation": "h",
           "showlegend": true,
           "textposition": "auto",
           "type": "bar",
           "x": [
            363774
           ],
           "xaxis": "x",
           "y": [
            "Ohio"
           ],
           "yaxis": "y"
          },
          {
           "alignmentgroup": "True",
           "hovertemplate": "color=Tennessee<br>animation_frame=1813<br>x=%{x}<br>y=%{y}<extra></extra>",
           "legendgroup": "Tennessee",
           "marker": {
            "color": "#00cc96"
           },
           "name": "Tennessee",
           "offsetgroup": "Tennessee",
           "orientation": "h",
           "showlegend": true,
           "textposition": "auto",
           "type": "bar",
           "x": [
            322829
           ],
           "xaxis": "x",
           "y": [
            "Tennessee"
           ],
           "yaxis": "y"
          }
         ],
         "name": "1813"
        },
        {
         "data": [
          {
           "alignmentgroup": "True",
           "hovertemplate": "color=Virginia<br>animation_frame=1821<br>x=%{x}<br>y=%{y}<extra></extra>",
           "legendgroup": "Virginia",
           "marker": {
            "color": "#636efa"
           },
           "name": "Virginia",
           "offsetgroup": "Virginia",
           "orientation": "h",
           "showlegend": true,
           "textposition": "auto",
           "type": "bar",
           "x": [
            956501
           ],
           "xaxis": "x",
           "y": [
            "Virginia"
           ],
           "yaxis": "y"
          },
          {
           "alignmentgroup": "True",
           "hovertemplate": "color=Pennsylvania<br>animation_frame=1821<br>x=%{x}<br>y=%{y}<extra></extra>",
           "legendgroup": "Pennsylvania",
           "marker": {
            "color": "#EF553B"
           },
           "name": "Pennsylvania",
           "offsetgroup": "Pennsylvania",
           "orientation": "h",
           "showlegend": true,
           "textposition": "auto",
           "type": "bar",
           "x": [
            1100971
           ],
           "xaxis": "x",
           "y": [
            "Pennsylvania"
           ],
           "yaxis": "y"
          },
          {
           "alignmentgroup": "True",
           "hovertemplate": "color=North Carolina<br>animation_frame=1821<br>x=%{x}<br>y=%{y}<extra></extra>",
           "legendgroup": "North Carolina",
           "marker": {
            "color": "#00cc96"
           },
           "name": "North Carolina",
           "offsetgroup": "North Carolina",
           "orientation": "h",
           "showlegend": true,
           "textposition": "auto",
           "type": "bar",
           "x": [
            655925
           ],
           "xaxis": "x",
           "y": [
            "North Carolina"
           ],
           "yaxis": "y"
          },
          {
           "alignmentgroup": "True",
           "hovertemplate": "color=Massachusetts<br>animation_frame=1821<br>x=%{x}<br>y=%{y}<extra></extra>",
           "legendgroup": "Massachusetts",
           "marker": {
            "color": "#ab63fa"
           },
           "name": "Massachusetts",
           "offsetgroup": "Massachusetts",
           "orientation": "h",
           "showlegend": true,
           "textposition": "auto",
           "type": "bar",
           "x": [
            538308
           ],
           "xaxis": "x",
           "y": [
            "Massachusetts"
           ],
           "yaxis": "y"
          },
          {
           "alignmentgroup": "True",
           "hovertemplate": "color=New York<br>animation_frame=1821<br>x=%{x}<br>y=%{y}<extra></extra>",
           "legendgroup": "New York",
           "marker": {
            "color": "#FFA15A"
           },
           "name": "New York",
           "offsetgroup": "New York",
           "orientation": "h",
           "showlegend": true,
           "textposition": "auto",
           "type": "bar",
           "x": [
            1466915
           ],
           "xaxis": "x",
           "y": [
            "New York"
           ],
           "yaxis": "y"
          },
          {
           "alignmentgroup": "True",
           "hovertemplate": "color=Maryland<br>animation_frame=1821<br>x=%{x}<br>y=%{y}<extra></extra>",
           "legendgroup": "Maryland",
           "marker": {
            "color": "#19d3f3"
           },
           "name": "Maryland",
           "offsetgroup": "Maryland",
           "orientation": "h",
           "showlegend": true,
           "textposition": "auto",
           "type": "bar",
           "x": [
            414193
           ],
           "xaxis": "x",
           "y": [
            "Maryland"
           ],
           "yaxis": "y"
          },
          {
           "alignmentgroup": "True",
           "hovertemplate": "color=South Carolina<br>animation_frame=1821<br>x=%{x}<br>y=%{y}<extra></extra>",
           "legendgroup": "South Carolina",
           "marker": {
            "color": "#FF6692"
           },
           "name": "South Carolina",
           "offsetgroup": "South Carolina",
           "orientation": "h",
           "showlegend": true,
           "textposition": "auto",
           "type": "bar",
           "x": [
            516266
           ],
           "xaxis": "x",
           "y": [
            "South Carolina"
           ],
           "yaxis": "y"
          },
          {
           "alignmentgroup": "True",
           "hovertemplate": "color=Kentucky<br>animation_frame=1821<br>x=%{x}<br>y=%{y}<extra></extra>",
           "legendgroup": "Kentucky",
           "marker": {
            "color": "#636efa"
           },
           "name": "Kentucky",
           "offsetgroup": "Kentucky",
           "orientation": "h",
           "showlegend": true,
           "textposition": "auto",
           "type": "bar",
           "x": [
            585627
           ],
           "xaxis": "x",
           "y": [
            "Kentucky"
           ],
           "yaxis": "y"
          },
          {
           "alignmentgroup": "True",
           "hovertemplate": "color=Ohio<br>animation_frame=1821<br>x=%{x}<br>y=%{y}<extra></extra>",
           "legendgroup": "Ohio",
           "marker": {
            "color": "#EF553B"
           },
           "name": "Ohio",
           "offsetgroup": "Ohio",
           "orientation": "h",
           "showlegend": true,
           "textposition": "auto",
           "type": "bar",
           "x": [
            642894
           ],
           "xaxis": "x",
           "y": [
            "Ohio"
           ],
           "yaxis": "y"
          },
          {
           "alignmentgroup": "True",
           "hovertemplate": "color=Tennessee<br>animation_frame=1821<br>x=%{x}<br>y=%{y}<extra></extra>",
           "legendgroup": "Tennessee",
           "marker": {
            "color": "#00cc96"
           },
           "name": "Tennessee",
           "offsetgroup": "Tennessee",
           "orientation": "h",
           "showlegend": true,
           "textposition": "auto",
           "type": "bar",
           "x": [
            467484
           ],
           "xaxis": "x",
           "y": [
            "Tennessee"
           ],
           "yaxis": "y"
          }
         ],
         "name": "1821"
        },
        {
         "data": [
          {
           "alignmentgroup": "True",
           "hovertemplate": "color=Virginia<br>animation_frame=1829<br>x=%{x}<br>y=%{y}<extra></extra>",
           "legendgroup": "Virginia",
           "marker": {
            "color": "#636efa"
           },
           "name": "Virginia",
           "offsetgroup": "Virginia",
           "orientation": "h",
           "showlegend": true,
           "textposition": "auto",
           "type": "bar",
           "x": [
            1040406
           ],
           "xaxis": "x",
           "y": [
            "Virginia"
           ],
           "yaxis": "y"
          },
          {
           "alignmentgroup": "True",
           "hovertemplate": "color=Pennsylvania<br>animation_frame=1829<br>x=%{x}<br>y=%{y}<extra></extra>",
           "legendgroup": "Pennsylvania",
           "marker": {
            "color": "#EF553B"
           },
           "name": "Pennsylvania",
           "offsetgroup": "Pennsylvania",
           "orientation": "h",
           "showlegend": true,
           "textposition": "auto",
           "type": "bar",
           "x": [
            1337930
           ],
           "xaxis": "x",
           "y": [
            "Pennsylvania"
           ],
           "yaxis": "y"
          },
          {
           "alignmentgroup": "True",
           "hovertemplate": "color=North Carolina<br>animation_frame=1829<br>x=%{x}<br>y=%{y}<extra></extra>",
           "legendgroup": "North Carolina",
           "marker": {
            "color": "#00cc96"
           },
           "name": "North Carolina",
           "offsetgroup": "North Carolina",
           "orientation": "h",
           "showlegend": true,
           "textposition": "auto",
           "type": "bar",
           "x": [
            734568
           ],
           "xaxis": "x",
           "y": [
            "North Carolina"
           ],
           "yaxis": "y"
          },
          {
           "alignmentgroup": "True",
           "hovertemplate": "color=Massachusetts<br>animation_frame=1829<br>x=%{x}<br>y=%{y}<extra></extra>",
           "legendgroup": "Massachusetts",
           "marker": {
            "color": "#ab63fa"
           },
           "name": "Massachusetts",
           "offsetgroup": "Massachusetts",
           "orientation": "h",
           "showlegend": true,
           "textposition": "auto",
           "type": "bar",
           "x": [
            607404
           ],
           "xaxis": "x",
           "y": [
            "Massachusetts"
           ],
           "yaxis": "y"
          },
          {
           "alignmentgroup": "True",
           "hovertemplate": "color=New York<br>animation_frame=1829<br>x=%{x}<br>y=%{y}<extra></extra>",
           "legendgroup": "New York",
           "marker": {
            "color": "#FFA15A"
           },
           "name": "New York",
           "offsetgroup": "New York",
           "orientation": "h",
           "showlegend": true,
           "textposition": "auto",
           "type": "bar",
           "x": [
            1899787
           ],
           "xaxis": "x",
           "y": [
            "New York"
           ],
           "yaxis": "y"
          },
          {
           "alignmentgroup": "True",
           "hovertemplate": "color=South Carolina<br>animation_frame=1829<br>x=%{x}<br>y=%{y}<extra></extra>",
           "legendgroup": "South Carolina",
           "marker": {
            "color": "#FF6692"
           },
           "name": "South Carolina",
           "offsetgroup": "South Carolina",
           "orientation": "h",
           "showlegend": true,
           "textposition": "auto",
           "type": "bar",
           "x": [
            578480
           ],
           "xaxis": "x",
           "y": [
            "South Carolina"
           ],
           "yaxis": "y"
          },
          {
           "alignmentgroup": "True",
           "hovertemplate": "color=Kentucky<br>animation_frame=1829<br>x=%{x}<br>y=%{y}<extra></extra>",
           "legendgroup": "Kentucky",
           "marker": {
            "color": "#636efa"
           },
           "name": "Kentucky",
           "offsetgroup": "Kentucky",
           "orientation": "h",
           "showlegend": true,
           "textposition": "auto",
           "type": "bar",
           "x": [
            683655
           ],
           "xaxis": "x",
           "y": [
            "Kentucky"
           ],
           "yaxis": "y"
          },
          {
           "alignmentgroup": "True",
           "hovertemplate": "color=Ohio<br>animation_frame=1829<br>x=%{x}<br>y=%{y}<extra></extra>",
           "legendgroup": "Ohio",
           "marker": {
            "color": "#EF553B"
           },
           "name": "Ohio",
           "offsetgroup": "Ohio",
           "orientation": "h",
           "showlegend": true,
           "textposition": "auto",
           "type": "bar",
           "x": [
            925611
           ],
           "xaxis": "x",
           "y": [
            "Ohio"
           ],
           "yaxis": "y"
          },
          {
           "alignmentgroup": "True",
           "hovertemplate": "color=Tennessee<br>animation_frame=1829<br>x=%{x}<br>y=%{y}<extra></extra>",
           "legendgroup": "Tennessee",
           "marker": {
            "color": "#00cc96"
           },
           "name": "Tennessee",
           "offsetgroup": "Tennessee",
           "orientation": "h",
           "showlegend": true,
           "textposition": "auto",
           "type": "bar",
           "x": [
            672970
           ],
           "xaxis": "x",
           "y": [
            "Tennessee"
           ],
           "yaxis": "y"
          },
          {
           "alignmentgroup": "True",
           "hovertemplate": "color=Georgia<br>animation_frame=1829<br>x=%{x}<br>y=%{y}<extra></extra>",
           "legendgroup": "Georgia",
           "marker": {
            "color": "#ab63fa"
           },
           "name": "Georgia",
           "offsetgroup": "Georgia",
           "orientation": "h",
           "showlegend": true,
           "textposition": "auto",
           "type": "bar",
           "x": [
            510760
           ],
           "xaxis": "x",
           "y": [
            "Georgia"
           ],
           "yaxis": "y"
          }
         ],
         "name": "1829"
        },
        {
         "data": [
          {
           "alignmentgroup": "True",
           "hovertemplate": "color=Virginia<br>animation_frame=1837<br>x=%{x}<br>y=%{y}<extra></extra>",
           "legendgroup": "Virginia",
           "marker": {
            "color": "#636efa"
           },
           "name": "Virginia",
           "offsetgroup": "Virginia",
           "orientation": "h",
           "showlegend": true,
           "textposition": "auto",
           "type": "bar",
           "x": [
            1029771
           ],
           "xaxis": "x",
           "y": [
            "Virginia"
           ],
           "yaxis": "y"
          },
          {
           "alignmentgroup": "True",
           "hovertemplate": "color=Pennsylvania<br>animation_frame=1837<br>x=%{x}<br>y=%{y}<extra></extra>",
           "legendgroup": "Pennsylvania",
           "marker": {
            "color": "#EF553B"
           },
           "name": "Pennsylvania",
           "offsetgroup": "Pennsylvania",
           "orientation": "h",
           "showlegend": true,
           "textposition": "auto",
           "type": "bar",
           "x": [
            1633323
           ],
           "xaxis": "x",
           "y": [
            "Pennsylvania"
           ],
           "yaxis": "y"
          },
          {
           "alignmentgroup": "True",
           "hovertemplate": "color=North Carolina<br>animation_frame=1837<br>x=%{x}<br>y=%{y}<extra></extra>",
           "legendgroup": "North Carolina",
           "marker": {
            "color": "#00cc96"
           },
           "name": "North Carolina",
           "offsetgroup": "North Carolina",
           "orientation": "h",
           "showlegend": true,
           "textposition": "auto",
           "type": "bar",
           "x": [
            749694
           ],
           "xaxis": "x",
           "y": [
            "North Carolina"
           ],
           "yaxis": "y"
          },
          {
           "alignmentgroup": "True",
           "hovertemplate": "color=Massachusetts<br>animation_frame=1837<br>x=%{x}<br>y=%{y}<extra></extra>",
           "legendgroup": "Massachusetts",
           "marker": {
            "color": "#ab63fa"
           },
           "name": "Massachusetts",
           "offsetgroup": "Massachusetts",
           "orientation": "h",
           "showlegend": true,
           "textposition": "auto",
           "type": "bar",
           "x": [
            706974
           ],
           "xaxis": "x",
           "y": [
            "Massachusetts"
           ],
           "yaxis": "y"
          },
          {
           "alignmentgroup": "True",
           "hovertemplate": "color=New York<br>animation_frame=1837<br>x=%{x}<br>y=%{y}<extra></extra>",
           "legendgroup": "New York",
           "marker": {
            "color": "#FFA15A"
           },
           "name": "New York",
           "offsetgroup": "New York",
           "orientation": "h",
           "showlegend": true,
           "textposition": "auto",
           "type": "bar",
           "x": [
            2305742
           ],
           "xaxis": "x",
           "y": [
            "New York"
           ],
           "yaxis": "y"
          },
          {
           "alignmentgroup": "True",
           "hovertemplate": "color=Kentucky<br>animation_frame=1837<br>x=%{x}<br>y=%{y}<extra></extra>",
           "legendgroup": "Kentucky",
           "marker": {
            "color": "#636efa"
           },
           "name": "Kentucky",
           "offsetgroup": "Kentucky",
           "orientation": "h",
           "showlegend": true,
           "textposition": "auto",
           "type": "bar",
           "x": [
            757643
           ],
           "xaxis": "x",
           "y": [
            "Kentucky"
           ],
           "yaxis": "y"
          },
          {
           "alignmentgroup": "True",
           "hovertemplate": "color=Ohio<br>animation_frame=1837<br>x=%{x}<br>y=%{y}<extra></extra>",
           "legendgroup": "Ohio",
           "marker": {
            "color": "#EF553B"
           },
           "name": "Ohio",
           "offsetgroup": "Ohio",
           "orientation": "h",
           "showlegend": true,
           "textposition": "auto",
           "type": "bar",
           "x": [
            1379089
           ],
           "xaxis": "x",
           "y": [
            "Ohio"
           ],
           "yaxis": "y"
          },
          {
           "alignmentgroup": "True",
           "hovertemplate": "color=Tennessee<br>animation_frame=1837<br>x=%{x}<br>y=%{y}<extra></extra>",
           "legendgroup": "Tennessee",
           "marker": {
            "color": "#00cc96"
           },
           "name": "Tennessee",
           "offsetgroup": "Tennessee",
           "orientation": "h",
           "showlegend": true,
           "textposition": "auto",
           "type": "bar",
           "x": [
            793653
           ],
           "xaxis": "x",
           "y": [
            "Tennessee"
           ],
           "yaxis": "y"
          },
          {
           "alignmentgroup": "True",
           "hovertemplate": "color=Georgia<br>animation_frame=1837<br>x=%{x}<br>y=%{y}<extra></extra>",
           "legendgroup": "Georgia",
           "marker": {
            "color": "#ab63fa"
           },
           "name": "Georgia",
           "offsetgroup": "Georgia",
           "orientation": "h",
           "showlegend": true,
           "textposition": "auto",
           "type": "bar",
           "x": [
            649255
           ],
           "xaxis": "x",
           "y": [
            "Georgia"
           ],
           "yaxis": "y"
          },
          {
           "alignmentgroup": "True",
           "hovertemplate": "color=Indiana<br>animation_frame=1837<br>x=%{x}<br>y=%{y}<extra></extra>",
           "legendgroup": "Indiana",
           "marker": {
            "color": "#FFA15A"
           },
           "name": "Indiana",
           "offsetgroup": "Indiana",
           "orientation": "h",
           "showlegend": true,
           "textposition": "auto",
           "type": "bar",
           "x": [
            603113
           ],
           "xaxis": "x",
           "y": [
            "Indiana"
           ],
           "yaxis": "y"
          }
         ],
         "name": "1837"
        },
        {
         "data": [
          {
           "alignmentgroup": "True",
           "hovertemplate": "color=Virginia<br>animation_frame=1845<br>x=%{x}<br>y=%{y}<extra></extra>",
           "legendgroup": "Virginia",
           "marker": {
            "color": "#636efa"
           },
           "name": "Virginia",
           "offsetgroup": "Virginia",
           "orientation": "h",
           "showlegend": true,
           "textposition": "auto",
           "type": "bar",
           "x": [
            1077156
           ],
           "xaxis": "x",
           "y": [
            "Virginia"
           ],
           "yaxis": "y"
          },
          {
           "alignmentgroup": "True",
           "hovertemplate": "color=Pennsylvania<br>animation_frame=1845<br>x=%{x}<br>y=%{y}<extra></extra>",
           "legendgroup": "Pennsylvania",
           "marker": {
            "color": "#EF553B"
           },
           "name": "Pennsylvania",
           "offsetgroup": "Pennsylvania",
           "orientation": "h",
           "showlegend": true,
           "textposition": "auto",
           "type": "bar",
           "x": [
            2048311
           ],
           "xaxis": "x",
           "y": [
            "Pennsylvania"
           ],
           "yaxis": "y"
          },
          {
           "alignmentgroup": "True",
           "hovertemplate": "color=North Carolina<br>animation_frame=1845<br>x=%{x}<br>y=%{y}<extra></extra>",
           "legendgroup": "North Carolina",
           "marker": {
            "color": "#00cc96"
           },
           "name": "North Carolina",
           "offsetgroup": "North Carolina",
           "orientation": "h",
           "showlegend": true,
           "textposition": "auto",
           "type": "bar",
           "x": [
            817209
           ],
           "xaxis": "x",
           "y": [
            "North Carolina"
           ],
           "yaxis": "y"
          },
          {
           "alignmentgroup": "True",
           "hovertemplate": "color=Massachusetts<br>animation_frame=1845<br>x=%{x}<br>y=%{y}<extra></extra>",
           "legendgroup": "Massachusetts",
           "marker": {
            "color": "#ab63fa"
           },
           "name": "Massachusetts",
           "offsetgroup": "Massachusetts",
           "orientation": "h",
           "showlegend": true,
           "textposition": "auto",
           "type": "bar",
           "x": [
            879390
           ],
           "xaxis": "x",
           "y": [
            "Massachusetts"
           ],
           "yaxis": "y"
          },
          {
           "alignmentgroup": "True",
           "hovertemplate": "color=New York<br>animation_frame=1845<br>x=%{x}<br>y=%{y}<extra></extra>",
           "legendgroup": "New York",
           "marker": {
            "color": "#FFA15A"
           },
           "name": "New York",
           "offsetgroup": "New York",
           "orientation": "h",
           "showlegend": true,
           "textposition": "auto",
           "type": "bar",
           "x": [
            2797734
           ],
           "xaxis": "x",
           "y": [
            "New York"
           ],
           "yaxis": "y"
          },
          {
           "alignmentgroup": "True",
           "hovertemplate": "color=Kentucky<br>animation_frame=1845<br>x=%{x}<br>y=%{y}<extra></extra>",
           "legendgroup": "Kentucky",
           "marker": {
            "color": "#636efa"
           },
           "name": "Kentucky",
           "offsetgroup": "Kentucky",
           "orientation": "h",
           "showlegend": true,
           "textposition": "auto",
           "type": "bar",
           "x": [
            891595
           ],
           "xaxis": "x",
           "y": [
            "Kentucky"
           ],
           "yaxis": "y"
          },
          {
           "alignmentgroup": "True",
           "hovertemplate": "color=Ohio<br>animation_frame=1845<br>x=%{x}<br>y=%{y}<extra></extra>",
           "legendgroup": "Ohio",
           "marker": {
            "color": "#EF553B"
           },
           "name": "Ohio",
           "offsetgroup": "Ohio",
           "orientation": "h",
           "showlegend": true,
           "textposition": "auto",
           "type": "bar",
           "x": [
            1773736
           ],
           "xaxis": "x",
           "y": [
            "Ohio"
           ],
           "yaxis": "y"
          },
          {
           "alignmentgroup": "True",
           "hovertemplate": "color=Tennessee<br>animation_frame=1845<br>x=%{x}<br>y=%{y}<extra></extra>",
           "legendgroup": "Tennessee",
           "marker": {
            "color": "#00cc96"
           },
           "name": "Tennessee",
           "offsetgroup": "Tennessee",
           "orientation": "h",
           "showlegend": true,
           "textposition": "auto",
           "type": "bar",
           "x": [
            924938
           ],
           "xaxis": "x",
           "y": [
            "Tennessee"
           ],
           "yaxis": "y"
          },
          {
           "alignmentgroup": "True",
           "hovertemplate": "color=Georgia<br>animation_frame=1845<br>x=%{x}<br>y=%{y}<extra></extra>",
           "legendgroup": "Georgia",
           "marker": {
            "color": "#ab63fa"
           },
           "name": "Georgia",
           "offsetgroup": "Georgia",
           "orientation": "h",
           "showlegend": true,
           "textposition": "auto",
           "type": "bar",
           "x": [
            809898
           ],
           "xaxis": "x",
           "y": [
            "Georgia"
           ],
           "yaxis": "y"
          },
          {
           "alignmentgroup": "True",
           "hovertemplate": "color=Indiana<br>animation_frame=1845<br>x=%{x}<br>y=%{y}<extra></extra>",
           "legendgroup": "Indiana",
           "marker": {
            "color": "#FFA15A"
           },
           "name": "Indiana",
           "offsetgroup": "Indiana",
           "orientation": "h",
           "showlegend": true,
           "textposition": "auto",
           "type": "bar",
           "x": [
            852790
           ],
           "xaxis": "x",
           "y": [
            "Indiana"
           ],
           "yaxis": "y"
          }
         ],
         "name": "1845"
        },
        {
         "data": [
          {
           "alignmentgroup": "True",
           "hovertemplate": "color=Virginia<br>animation_frame=1853<br>x=%{x}<br>y=%{y}<extra></extra>",
           "legendgroup": "Virginia",
           "marker": {
            "color": "#636efa"
           },
           "name": "Virginia",
           "offsetgroup": "Virginia",
           "orientation": "h",
           "showlegend": true,
           "textposition": "auto",
           "type": "bar",
           "x": [
            1153928
           ],
           "xaxis": "x",
           "y": [
            "Virginia"
           ],
           "yaxis": "y"
          },
          {
           "alignmentgroup": "True",
           "hovertemplate": "color=Pennsylvania<br>animation_frame=1853<br>x=%{x}<br>y=%{y}<extra></extra>",
           "legendgroup": "Pennsylvania",
           "marker": {
            "color": "#EF553B"
           },
           "name": "Pennsylvania",
           "offsetgroup": "Pennsylvania",
           "orientation": "h",
           "showlegend": true,
           "textposition": "auto",
           "type": "bar",
           "x": [
            2516762
           ],
           "xaxis": "x",
           "y": [
            "Pennsylvania"
           ],
           "yaxis": "y"
          },
          {
           "alignmentgroup": "True",
           "hovertemplate": "color=Massachusetts<br>animation_frame=1853<br>x=%{x}<br>y=%{y}<extra></extra>",
           "legendgroup": "Massachusetts",
           "marker": {
            "color": "#ab63fa"
           },
           "name": "Massachusetts",
           "offsetgroup": "Massachusetts",
           "orientation": "h",
           "showlegend": true,
           "textposition": "auto",
           "type": "bar",
           "x": [
            1076084
           ],
           "xaxis": "x",
           "y": [
            "Massachusetts"
           ],
           "yaxis": "y"
          },
          {
           "alignmentgroup": "True",
           "hovertemplate": "color=New York<br>animation_frame=1853<br>x=%{x}<br>y=%{y}<extra></extra>",
           "legendgroup": "New York",
           "marker": {
            "color": "#FFA15A"
           },
           "name": "New York",
           "offsetgroup": "New York",
           "orientation": "h",
           "showlegend": true,
           "textposition": "auto",
           "type": "bar",
           "x": [
            3367512
           ],
           "xaxis": "x",
           "y": [
            "New York"
           ],
           "yaxis": "y"
          },
          {
           "alignmentgroup": "True",
           "hovertemplate": "color=Kentucky<br>animation_frame=1853<br>x=%{x}<br>y=%{y}<extra></extra>",
           "legendgroup": "Kentucky",
           "marker": {
            "color": "#636efa"
           },
           "name": "Kentucky",
           "offsetgroup": "Kentucky",
           "orientation": "h",
           "showlegend": true,
           "textposition": "auto",
           "type": "bar",
           "x": [
            1042156
           ],
           "xaxis": "x",
           "y": [
            "Kentucky"
           ],
           "yaxis": "y"
          },
          {
           "alignmentgroup": "True",
           "hovertemplate": "color=Ohio<br>animation_frame=1853<br>x=%{x}<br>y=%{y}<extra></extra>",
           "legendgroup": "Ohio",
           "marker": {
            "color": "#EF553B"
           },
           "name": "Ohio",
           "offsetgroup": "Ohio",
           "orientation": "h",
           "showlegend": true,
           "textposition": "auto",
           "type": "bar",
           "x": [
            2104185
           ],
           "xaxis": "x",
           "y": [
            "Ohio"
           ],
           "yaxis": "y"
          },
          {
           "alignmentgroup": "True",
           "hovertemplate": "color=Tennessee<br>animation_frame=1853<br>x=%{x}<br>y=%{y}<extra></extra>",
           "legendgroup": "Tennessee",
           "marker": {
            "color": "#00cc96"
           },
           "name": "Tennessee",
           "offsetgroup": "Tennessee",
           "orientation": "h",
           "showlegend": true,
           "textposition": "auto",
           "type": "bar",
           "x": [
            1039643
           ],
           "xaxis": "x",
           "y": [
            "Tennessee"
           ],
           "yaxis": "y"
          },
          {
           "alignmentgroup": "True",
           "hovertemplate": "color=Georgia<br>animation_frame=1853<br>x=%{x}<br>y=%{y}<extra></extra>",
           "legendgroup": "Georgia",
           "marker": {
            "color": "#ab63fa"
           },
           "name": "Georgia",
           "offsetgroup": "Georgia",
           "orientation": "h",
           "showlegend": true,
           "textposition": "auto",
           "type": "bar",
           "x": [
            958289
           ],
           "xaxis": "x",
           "y": [
            "Georgia"
           ],
           "yaxis": "y"
          },
          {
           "alignmentgroup": "True",
           "hovertemplate": "color=Indiana<br>animation_frame=1853<br>x=%{x}<br>y=%{y}<extra></extra>",
           "legendgroup": "Indiana",
           "marker": {
            "color": "#FFA15A"
           },
           "name": "Indiana",
           "offsetgroup": "Indiana",
           "orientation": "h",
           "showlegend": true,
           "textposition": "auto",
           "type": "bar",
           "x": [
            1113248
           ],
           "xaxis": "x",
           "y": [
            "Indiana"
           ],
           "yaxis": "y"
          },
          {
           "alignmentgroup": "True",
           "hovertemplate": "color=Illinois<br>animation_frame=1853<br>x=%{x}<br>y=%{y}<extra></extra>",
           "legendgroup": "Illinois",
           "marker": {
            "color": "#19d3f3"
           },
           "name": "Illinois",
           "offsetgroup": "Illinois",
           "orientation": "h",
           "showlegend": true,
           "textposition": "auto",
           "type": "bar",
           "x": [
            1156883
           ],
           "xaxis": "x",
           "y": [
            "Illinois"
           ],
           "yaxis": "y"
          }
         ],
         "name": "1853"
        },
        {
         "data": [
          {
           "alignmentgroup": "True",
           "hovertemplate": "color=Virginia<br>animation_frame=1861<br>x=%{x}<br>y=%{y}<extra></extra>",
           "legendgroup": "Virginia",
           "marker": {
            "color": "#636efa"
           },
           "name": "Virginia",
           "offsetgroup": "Virginia",
           "orientation": "h",
           "showlegend": true,
           "textposition": "auto",
           "type": "bar",
           "x": [
            1220393
           ],
           "xaxis": "x",
           "y": [
            "Virginia"
           ],
           "yaxis": "y"
          },
          {
           "alignmentgroup": "True",
           "hovertemplate": "color=Pennsylvania<br>animation_frame=1861<br>x=%{x}<br>y=%{y}<extra></extra>",
           "legendgroup": "Pennsylvania",
           "marker": {
            "color": "#EF553B"
           },
           "name": "Pennsylvania",
           "offsetgroup": "Pennsylvania",
           "orientation": "h",
           "showlegend": true,
           "textposition": "auto",
           "type": "bar",
           "x": [
            2991144
           ],
           "xaxis": "x",
           "y": [
            "Pennsylvania"
           ],
           "yaxis": "y"
          },
          {
           "alignmentgroup": "True",
           "hovertemplate": "color=Massachusetts<br>animation_frame=1861<br>x=%{x}<br>y=%{y}<extra></extra>",
           "legendgroup": "Massachusetts",
           "marker": {
            "color": "#ab63fa"
           },
           "name": "Massachusetts",
           "offsetgroup": "Massachusetts",
           "orientation": "h",
           "showlegend": true,
           "textposition": "auto",
           "type": "bar",
           "x": [
            1262278
           ],
           "xaxis": "x",
           "y": [
            "Massachusetts"
           ],
           "yaxis": "y"
          },
          {
           "alignmentgroup": "True",
           "hovertemplate": "color=New York<br>animation_frame=1861<br>x=%{x}<br>y=%{y}<extra></extra>",
           "legendgroup": "New York",
           "marker": {
            "color": "#FFA15A"
           },
           "name": "New York",
           "offsetgroup": "New York",
           "orientation": "h",
           "showlegend": true,
           "textposition": "auto",
           "type": "bar",
           "x": [
            3949980
           ],
           "xaxis": "x",
           "y": [
            "New York"
           ],
           "yaxis": "y"
          },
          {
           "alignmentgroup": "True",
           "hovertemplate": "color=Kentucky<br>animation_frame=1861<br>x=%{x}<br>y=%{y}<extra></extra>",
           "legendgroup": "Kentucky",
           "marker": {
            "color": "#636efa"
           },
           "name": "Kentucky",
           "offsetgroup": "Kentucky",
           "orientation": "h",
           "showlegend": true,
           "textposition": "auto",
           "type": "bar",
           "x": [
            1178488
           ],
           "xaxis": "x",
           "y": [
            "Kentucky"
           ],
           "yaxis": "y"
          },
          {
           "alignmentgroup": "True",
           "hovertemplate": "color=Ohio<br>animation_frame=1861<br>x=%{x}<br>y=%{y}<extra></extra>",
           "legendgroup": "Ohio",
           "marker": {
            "color": "#EF553B"
           },
           "name": "Ohio",
           "offsetgroup": "Ohio",
           "orientation": "h",
           "showlegend": true,
           "textposition": "auto",
           "type": "bar",
           "x": [
            2384442
           ],
           "xaxis": "x",
           "y": [
            "Ohio"
           ],
           "yaxis": "y"
          },
          {
           "alignmentgroup": "True",
           "hovertemplate": "color=Tennessee<br>animation_frame=1861<br>x=%{x}<br>y=%{y}<extra></extra>",
           "legendgroup": "Tennessee",
           "marker": {
            "color": "#00cc96"
           },
           "name": "Tennessee",
           "offsetgroup": "Tennessee",
           "orientation": "h",
           "showlegend": true,
           "textposition": "auto",
           "type": "bar",
           "x": [
            1130314
           ],
           "xaxis": "x",
           "y": [
            "Tennessee"
           ],
           "yaxis": "y"
          },
          {
           "alignmentgroup": "True",
           "hovertemplate": "color=Indiana<br>animation_frame=1861<br>x=%{x}<br>y=%{y}<extra></extra>",
           "legendgroup": "Indiana",
           "marker": {
            "color": "#FFA15A"
           },
           "name": "Indiana",
           "offsetgroup": "Indiana",
           "orientation": "h",
           "showlegend": true,
           "textposition": "auto",
           "type": "bar",
           "x": [
            1395974
           ],
           "xaxis": "x",
           "y": [
            "Indiana"
           ],
           "yaxis": "y"
          },
          {
           "alignmentgroup": "True",
           "hovertemplate": "color=Illinois<br>animation_frame=1861<br>x=%{x}<br>y=%{y}<extra></extra>",
           "legendgroup": "Illinois",
           "marker": {
            "color": "#19d3f3"
           },
           "name": "Illinois",
           "offsetgroup": "Illinois",
           "orientation": "h",
           "showlegend": true,
           "textposition": "auto",
           "type": "bar",
           "x": [
            1833916
           ],
           "xaxis": "x",
           "y": [
            "Illinois"
           ],
           "yaxis": "y"
          },
          {
           "alignmentgroup": "True",
           "hovertemplate": "color=Missouri<br>animation_frame=1861<br>x=%{x}<br>y=%{y}<extra></extra>",
           "legendgroup": "Missouri",
           "marker": {
            "color": "#FF6692"
           },
           "name": "Missouri",
           "offsetgroup": "Missouri",
           "orientation": "h",
           "showlegend": true,
           "textposition": "auto",
           "type": "bar",
           "x": [
            1256396
           ],
           "xaxis": "x",
           "y": [
            "Missouri"
           ],
           "yaxis": "y"
          }
         ],
         "name": "1861"
        },
        {
         "data": [
          {
           "alignmentgroup": "True",
           "hovertemplate": "color=Virginia<br>animation_frame=1869<br>x=%{x}<br>y=%{y}<extra></extra>",
           "legendgroup": "Virginia",
           "marker": {
            "color": "#636efa"
           },
           "name": "Virginia",
           "offsetgroup": "Virginia",
           "orientation": "h",
           "showlegend": true,
           "textposition": "auto",
           "type": "bar",
           "x": [
            1224781
           ],
           "xaxis": "x",
           "y": [
            "Virginia"
           ],
           "yaxis": "y"
          },
          {
           "alignmentgroup": "True",
           "hovertemplate": "color=Pennsylvania<br>animation_frame=1869<br>x=%{x}<br>y=%{y}<extra></extra>",
           "legendgroup": "Pennsylvania",
           "marker": {
            "color": "#EF553B"
           },
           "name": "Pennsylvania",
           "offsetgroup": "Pennsylvania",
           "orientation": "h",
           "showlegend": true,
           "textposition": "auto",
           "type": "bar",
           "x": [
            3479486
           ],
           "xaxis": "x",
           "y": [
            "Pennsylvania"
           ],
           "yaxis": "y"
          },
          {
           "alignmentgroup": "True",
           "hovertemplate": "color=Massachusetts<br>animation_frame=1869<br>x=%{x}<br>y=%{y}<extra></extra>",
           "legendgroup": "Massachusetts",
           "marker": {
            "color": "#ab63fa"
           },
           "name": "Massachusetts",
           "offsetgroup": "Massachusetts",
           "orientation": "h",
           "showlegend": true,
           "textposition": "auto",
           "type": "bar",
           "x": [
            1441745
           ],
           "xaxis": "x",
           "y": [
            "Massachusetts"
           ],
           "yaxis": "y"
          },
          {
           "alignmentgroup": "True",
           "hovertemplate": "color=New York<br>animation_frame=1869<br>x=%{x}<br>y=%{y}<extra></extra>",
           "legendgroup": "New York",
           "marker": {
            "color": "#FFA15A"
           },
           "name": "New York",
           "offsetgroup": "New York",
           "orientation": "h",
           "showlegend": true,
           "textposition": "auto",
           "type": "bar",
           "x": [
            4348137
           ],
           "xaxis": "x",
           "y": [
            "New York"
           ],
           "yaxis": "y"
          },
          {
           "alignmentgroup": "True",
           "hovertemplate": "color=Kentucky<br>animation_frame=1869<br>x=%{x}<br>y=%{y}<extra></extra>",
           "legendgroup": "Kentucky",
           "marker": {
            "color": "#636efa"
           },
           "name": "Kentucky",
           "offsetgroup": "Kentucky",
           "orientation": "h",
           "showlegend": true,
           "textposition": "auto",
           "type": "bar",
           "x": [
            1309609
           ],
           "xaxis": "x",
           "y": [
            "Kentucky"
           ],
           "yaxis": "y"
          },
          {
           "alignmentgroup": "True",
           "hovertemplate": "color=Ohio<br>animation_frame=1869<br>x=%{x}<br>y=%{y}<extra></extra>",
           "legendgroup": "Ohio",
           "marker": {
            "color": "#EF553B"
           },
           "name": "Ohio",
           "offsetgroup": "Ohio",
           "orientation": "h",
           "showlegend": true,
           "textposition": "auto",
           "type": "bar",
           "x": [
            2642795
           ],
           "xaxis": "x",
           "y": [
            "Ohio"
           ],
           "yaxis": "y"
          },
          {
           "alignmentgroup": "True",
           "hovertemplate": "color=Tennessee<br>animation_frame=1869<br>x=%{x}<br>y=%{y}<extra></extra>",
           "legendgroup": "Tennessee",
           "marker": {
            "color": "#00cc96"
           },
           "name": "Tennessee",
           "offsetgroup": "Tennessee",
           "orientation": "h",
           "showlegend": true,
           "textposition": "auto",
           "type": "bar",
           "x": [
            1248264
           ],
           "xaxis": "x",
           "y": [
            "Tennessee"
           ],
           "yaxis": "y"
          },
          {
           "alignmentgroup": "True",
           "hovertemplate": "color=Indiana<br>animation_frame=1869<br>x=%{x}<br>y=%{y}<extra></extra>",
           "legendgroup": "Indiana",
           "marker": {
            "color": "#FFA15A"
           },
           "name": "Indiana",
           "offsetgroup": "Indiana",
           "orientation": "h",
           "showlegend": true,
           "textposition": "auto",
           "type": "bar",
           "x": [
            1657864
           ],
           "xaxis": "x",
           "y": [
            "Indiana"
           ],
           "yaxis": "y"
          },
          {
           "alignmentgroup": "True",
           "hovertemplate": "color=Illinois<br>animation_frame=1869<br>x=%{x}<br>y=%{y}<extra></extra>",
           "legendgroup": "Illinois",
           "marker": {
            "color": "#19d3f3"
           },
           "name": "Illinois",
           "offsetgroup": "Illinois",
           "orientation": "h",
           "showlegend": true,
           "textposition": "auto",
           "type": "bar",
           "x": [
            2483413
           ],
           "xaxis": "x",
           "y": [
            "Illinois"
           ],
           "yaxis": "y"
          },
          {
           "alignmentgroup": "True",
           "hovertemplate": "color=Missouri<br>animation_frame=1869<br>x=%{x}<br>y=%{y}<extra></extra>",
           "legendgroup": "Missouri",
           "marker": {
            "color": "#FF6692"
           },
           "name": "Missouri",
           "offsetgroup": "Missouri",
           "orientation": "h",
           "showlegend": true,
           "textposition": "auto",
           "type": "bar",
           "x": [
            1684103
           ],
           "xaxis": "x",
           "y": [
            "Missouri"
           ],
           "yaxis": "y"
          }
         ],
         "name": "1869"
        },
        {
         "data": [
          {
           "alignmentgroup": "True",
           "hovertemplate": "color=Pennsylvania<br>animation_frame=1877<br>x=%{x}<br>y=%{y}<extra></extra>",
           "legendgroup": "Pennsylvania",
           "marker": {
            "color": "#EF553B"
           },
           "name": "Pennsylvania",
           "offsetgroup": "Pennsylvania",
           "orientation": "h",
           "showlegend": true,
           "textposition": "auto",
           "type": "bar",
           "x": [
            4072977
           ],
           "xaxis": "x",
           "y": [
            "Pennsylvania"
           ],
           "yaxis": "y"
          },
          {
           "alignmentgroup": "True",
           "hovertemplate": "color=Massachusetts<br>animation_frame=1877<br>x=%{x}<br>y=%{y}<extra></extra>",
           "legendgroup": "Massachusetts",
           "marker": {
            "color": "#ab63fa"
           },
           "name": "Massachusetts",
           "offsetgroup": "Massachusetts",
           "orientation": "h",
           "showlegend": true,
           "textposition": "auto",
           "type": "bar",
           "x": [
            1693227
           ],
           "xaxis": "x",
           "y": [
            "Massachusetts"
           ],
           "yaxis": "y"
          },
          {
           "alignmentgroup": "True",
           "hovertemplate": "color=New York<br>animation_frame=1877<br>x=%{x}<br>y=%{y}<extra></extra>",
           "legendgroup": "New York",
           "marker": {
            "color": "#FFA15A"
           },
           "name": "New York",
           "offsetgroup": "New York",
           "orientation": "h",
           "showlegend": true,
           "textposition": "auto",
           "type": "bar",
           "x": [
            4889737
           ],
           "xaxis": "x",
           "y": [
            "New York"
           ],
           "yaxis": "y"
          },
          {
           "alignmentgroup": "True",
           "hovertemplate": "color=Kentucky<br>animation_frame=1877<br>x=%{x}<br>y=%{y}<extra></extra>",
           "legendgroup": "Kentucky",
           "marker": {
            "color": "#636efa"
           },
           "name": "Kentucky",
           "offsetgroup": "Kentucky",
           "orientation": "h",
           "showlegend": true,
           "textposition": "auto",
           "type": "bar",
           "x": [
            1558296
           ],
           "xaxis": "x",
           "y": [
            "Kentucky"
           ],
           "yaxis": "y"
          },
          {
           "alignmentgroup": "True",
           "hovertemplate": "color=Ohio<br>animation_frame=1877<br>x=%{x}<br>y=%{y}<extra></extra>",
           "legendgroup": "Ohio",
           "marker": {
            "color": "#EF553B"
           },
           "name": "Ohio",
           "offsetgroup": "Ohio",
           "orientation": "h",
           "showlegend": true,
           "textposition": "auto",
           "type": "bar",
           "x": [
            3051082
           ],
           "xaxis": "x",
           "y": [
            "Ohio"
           ],
           "yaxis": "y"
          },
          {
           "alignmentgroup": "True",
           "hovertemplate": "color=Indiana<br>animation_frame=1877<br>x=%{x}<br>y=%{y}<extra></extra>",
           "legendgroup": "Indiana",
           "marker": {
            "color": "#FFA15A"
           },
           "name": "Indiana",
           "offsetgroup": "Indiana",
           "orientation": "h",
           "showlegend": true,
           "textposition": "auto",
           "type": "bar",
           "x": [
            1896187
           ],
           "xaxis": "x",
           "y": [
            "Indiana"
           ],
           "yaxis": "y"
          },
          {
           "alignmentgroup": "True",
           "hovertemplate": "color=Illinois<br>animation_frame=1877<br>x=%{x}<br>y=%{y}<extra></extra>",
           "legendgroup": "Illinois",
           "marker": {
            "color": "#19d3f3"
           },
           "name": "Illinois",
           "offsetgroup": "Illinois",
           "orientation": "h",
           "showlegend": true,
           "textposition": "auto",
           "type": "bar",
           "x": [
            2929463
           ],
           "xaxis": "x",
           "y": [
            "Illinois"
           ],
           "yaxis": "y"
          },
          {
           "alignmentgroup": "True",
           "hovertemplate": "color=Missouri<br>animation_frame=1877<br>x=%{x}<br>y=%{y}<extra></extra>",
           "legendgroup": "Missouri",
           "marker": {
            "color": "#FF6692"
           },
           "name": "Missouri",
           "offsetgroup": "Missouri",
           "orientation": "h",
           "showlegend": true,
           "textposition": "auto",
           "type": "bar",
           "x": [
            2045046
           ],
           "xaxis": "x",
           "y": [
            "Missouri"
           ],
           "yaxis": "y"
          },
          {
           "alignmentgroup": "True",
           "hovertemplate": "color=Michigan<br>animation_frame=1877<br>x=%{x}<br>y=%{y}<extra></extra>",
           "legendgroup": "Michigan",
           "marker": {
            "color": "#B6E880"
           },
           "name": "Michigan",
           "offsetgroup": "Michigan",
           "orientation": "h",
           "showlegend": true,
           "textposition": "auto",
           "type": "bar",
           "x": [
            1512005
           ],
           "xaxis": "x",
           "y": [
            "Michigan"
           ],
           "yaxis": "y"
          },
          {
           "alignmentgroup": "True",
           "hovertemplate": "color=Iowa<br>animation_frame=1877<br>x=%{x}<br>y=%{y}<extra></extra>",
           "legendgroup": "Iowa",
           "marker": {
            "color": "#FF97FF"
           },
           "name": "Iowa",
           "offsetgroup": "Iowa",
           "orientation": "h",
           "showlegend": true,
           "textposition": "auto",
           "type": "bar",
           "x": [
            1505830
           ],
           "xaxis": "x",
           "y": [
            "Iowa"
           ],
           "yaxis": "y"
          }
         ],
         "name": "1877"
        },
        {
         "data": [
          {
           "alignmentgroup": "True",
           "hovertemplate": "color=Pennsylvania<br>animation_frame=1885<br>x=%{x}<br>y=%{y}<extra></extra>",
           "legendgroup": "Pennsylvania",
           "marker": {
            "color": "#EF553B"
           },
           "name": "Pennsylvania",
           "offsetgroup": "Pennsylvania",
           "orientation": "h",
           "showlegend": true,
           "textposition": "auto",
           "type": "bar",
           "x": [
            4787265
           ],
           "xaxis": "x",
           "y": [
            "Pennsylvania"
           ],
           "yaxis": "y"
          },
          {
           "alignmentgroup": "True",
           "hovertemplate": "color=Massachusetts<br>animation_frame=1885<br>x=%{x}<br>y=%{y}<extra></extra>",
           "legendgroup": "Massachusetts",
           "marker": {
            "color": "#ab63fa"
           },
           "name": "Massachusetts",
           "offsetgroup": "Massachusetts",
           "orientation": "h",
           "showlegend": true,
           "textposition": "auto",
           "type": "bar",
           "x": [
            2018874
           ],
           "xaxis": "x",
           "y": [
            "Massachusetts"
           ],
           "yaxis": "y"
          },
          {
           "alignmentgroup": "True",
           "hovertemplate": "color=New York<br>animation_frame=1885<br>x=%{x}<br>y=%{y}<extra></extra>",
           "legendgroup": "New York",
           "marker": {
            "color": "#FFA15A"
           },
           "name": "New York",
           "offsetgroup": "New York",
           "orientation": "h",
           "showlegend": true,
           "textposition": "auto",
           "type": "bar",
           "x": [
            5558890
           ],
           "xaxis": "x",
           "y": [
            "New York"
           ],
           "yaxis": "y"
          },
          {
           "alignmentgroup": "True",
           "hovertemplate": "color=Ohio<br>animation_frame=1885<br>x=%{x}<br>y=%{y}<extra></extra>",
           "legendgroup": "Ohio",
           "marker": {
            "color": "#EF553B"
           },
           "name": "Ohio",
           "offsetgroup": "Ohio",
           "orientation": "h",
           "showlegend": true,
           "textposition": "auto",
           "type": "bar",
           "x": [
            3443366
           ],
           "xaxis": "x",
           "y": [
            "Ohio"
           ],
           "yaxis": "y"
          },
          {
           "alignmentgroup": "True",
           "hovertemplate": "color=Indiana<br>animation_frame=1885<br>x=%{x}<br>y=%{y}<extra></extra>",
           "legendgroup": "Indiana",
           "marker": {
            "color": "#FFA15A"
           },
           "name": "Indiana",
           "offsetgroup": "Indiana",
           "orientation": "h",
           "showlegend": true,
           "textposition": "auto",
           "type": "bar",
           "x": [
            2089044
           ],
           "xaxis": "x",
           "y": [
            "Indiana"
           ],
           "yaxis": "y"
          },
          {
           "alignmentgroup": "True",
           "hovertemplate": "color=Illinois<br>animation_frame=1885<br>x=%{x}<br>y=%{y}<extra></extra>",
           "legendgroup": "Illinois",
           "marker": {
            "color": "#19d3f3"
           },
           "name": "Illinois",
           "offsetgroup": "Illinois",
           "orientation": "h",
           "showlegend": true,
           "textposition": "auto",
           "type": "bar",
           "x": [
            3465016
           ],
           "xaxis": "x",
           "y": [
            "Illinois"
           ],
           "yaxis": "y"
          },
          {
           "alignmentgroup": "True",
           "hovertemplate": "color=Missouri<br>animation_frame=1885<br>x=%{x}<br>y=%{y}<extra></extra>",
           "legendgroup": "Missouri",
           "marker": {
            "color": "#FF6692"
           },
           "name": "Missouri",
           "offsetgroup": "Missouri",
           "orientation": "h",
           "showlegend": true,
           "textposition": "auto",
           "type": "bar",
           "x": [
            2432589
           ],
           "xaxis": "x",
           "y": [
            "Missouri"
           ],
           "yaxis": "y"
          },
          {
           "alignmentgroup": "True",
           "hovertemplate": "color=Michigan<br>animation_frame=1885<br>x=%{x}<br>y=%{y}<extra></extra>",
           "legendgroup": "Michigan",
           "marker": {
            "color": "#B6E880"
           },
           "name": "Michigan",
           "offsetgroup": "Michigan",
           "orientation": "h",
           "showlegend": true,
           "textposition": "auto",
           "type": "bar",
           "x": [
            1873291
           ],
           "xaxis": "x",
           "y": [
            "Michigan"
           ],
           "yaxis": "y"
          },
          {
           "alignmentgroup": "True",
           "hovertemplate": "color=Iowa<br>animation_frame=1885<br>x=%{x}<br>y=%{y}<extra></extra>",
           "legendgroup": "Iowa",
           "marker": {
            "color": "#FF97FF"
           },
           "name": "Iowa",
           "offsetgroup": "Iowa",
           "orientation": "h",
           "showlegend": true,
           "textposition": "auto",
           "type": "bar",
           "x": [
            1773416
           ],
           "xaxis": "x",
           "y": [
            "Iowa"
           ],
           "yaxis": "y"
          },
          {
           "alignmentgroup": "True",
           "hovertemplate": "color=Texas<br>animation_frame=1885<br>x=%{x}<br>y=%{y}<extra></extra>",
           "legendgroup": "Texas",
           "marker": {
            "color": "#FECB52"
           },
           "name": "Texas",
           "offsetgroup": "Texas",
           "orientation": "h",
           "showlegend": true,
           "textposition": "auto",
           "type": "bar",
           "x": [
            1924736
           ],
           "xaxis": "x",
           "y": [
            "Texas"
           ],
           "yaxis": "y"
          }
         ],
         "name": "1885"
        },
        {
         "data": [
          {
           "alignmentgroup": "True",
           "hovertemplate": "color=Pennsylvania<br>animation_frame=1893<br>x=%{x}<br>y=%{y}<extra></extra>",
           "legendgroup": "Pennsylvania",
           "marker": {
            "color": "#EF553B"
           },
           "name": "Pennsylvania",
           "offsetgroup": "Pennsylvania",
           "orientation": "h",
           "showlegend": true,
           "textposition": "auto",
           "type": "bar",
           "x": [
            5582045
           ],
           "xaxis": "x",
           "y": [
            "Pennsylvania"
           ],
           "yaxis": "y"
          },
          {
           "alignmentgroup": "True",
           "hovertemplate": "color=Massachusetts<br>animation_frame=1893<br>x=%{x}<br>y=%{y}<extra></extra>",
           "legendgroup": "Massachusetts",
           "marker": {
            "color": "#ab63fa"
           },
           "name": "Massachusetts",
           "offsetgroup": "Massachusetts",
           "orientation": "h",
           "showlegend": true,
           "textposition": "auto",
           "type": "bar",
           "x": [
            2414723
           ],
           "xaxis": "x",
           "y": [
            "Massachusetts"
           ],
           "yaxis": "y"
          },
          {
           "alignmentgroup": "True",
           "hovertemplate": "color=New York<br>animation_frame=1893<br>x=%{x}<br>y=%{y}<extra></extra>",
           "legendgroup": "New York",
           "marker": {
            "color": "#FFA15A"
           },
           "name": "New York",
           "offsetgroup": "New York",
           "orientation": "h",
           "showlegend": true,
           "textposition": "auto",
           "type": "bar",
           "x": [
            6395984
           ],
           "xaxis": "x",
           "y": [
            "New York"
           ],
           "yaxis": "y"
          },
          {
           "alignmentgroup": "True",
           "hovertemplate": "color=Ohio<br>animation_frame=1893<br>x=%{x}<br>y=%{y}<extra></extra>",
           "legendgroup": "Ohio",
           "marker": {
            "color": "#EF553B"
           },
           "name": "Ohio",
           "offsetgroup": "Ohio",
           "orientation": "h",
           "showlegend": true,
           "textposition": "auto",
           "type": "bar",
           "x": [
            3822904
           ],
           "xaxis": "x",
           "y": [
            "Ohio"
           ],
           "yaxis": "y"
          },
          {
           "alignmentgroup": "True",
           "hovertemplate": "color=Indiana<br>animation_frame=1893<br>x=%{x}<br>y=%{y}<extra></extra>",
           "legendgroup": "Indiana",
           "marker": {
            "color": "#FFA15A"
           },
           "name": "Indiana",
           "offsetgroup": "Indiana",
           "orientation": "h",
           "showlegend": true,
           "textposition": "auto",
           "type": "bar",
           "x": [
            2292974
           ],
           "xaxis": "x",
           "y": [
            "Indiana"
           ],
           "yaxis": "y"
          },
          {
           "alignmentgroup": "True",
           "hovertemplate": "color=Illinois<br>animation_frame=1893<br>x=%{x}<br>y=%{y}<extra></extra>",
           "legendgroup": "Illinois",
           "marker": {
            "color": "#19d3f3"
           },
           "name": "Illinois",
           "offsetgroup": "Illinois",
           "orientation": "h",
           "showlegend": true,
           "textposition": "auto",
           "type": "bar",
           "x": [
            4135206
           ],
           "xaxis": "x",
           "y": [
            "Illinois"
           ],
           "yaxis": "y"
          },
          {
           "alignmentgroup": "True",
           "hovertemplate": "color=Missouri<br>animation_frame=1893<br>x=%{x}<br>y=%{y}<extra></extra>",
           "legendgroup": "Missouri",
           "marker": {
            "color": "#FF6692"
           },
           "name": "Missouri",
           "offsetgroup": "Missouri",
           "orientation": "h",
           "showlegend": true,
           "textposition": "auto",
           "type": "bar",
           "x": [
            2811851
           ],
           "xaxis": "x",
           "y": [
            "Missouri"
           ],
           "yaxis": "y"
          },
          {
           "alignmentgroup": "True",
           "hovertemplate": "color=Michigan<br>animation_frame=1893<br>x=%{x}<br>y=%{y}<extra></extra>",
           "legendgroup": "Michigan",
           "marker": {
            "color": "#B6E880"
           },
           "name": "Michigan",
           "offsetgroup": "Michigan",
           "orientation": "h",
           "showlegend": true,
           "textposition": "auto",
           "type": "bar",
           "x": [
            2195401
           ],
           "xaxis": "x",
           "y": [
            "Michigan"
           ],
           "yaxis": "y"
          },
          {
           "alignmentgroup": "True",
           "hovertemplate": "color=Iowa<br>animation_frame=1893<br>x=%{x}<br>y=%{y}<extra></extra>",
           "legendgroup": "Iowa",
           "marker": {
            "color": "#FF97FF"
           },
           "name": "Iowa",
           "offsetgroup": "Iowa",
           "orientation": "h",
           "showlegend": true,
           "textposition": "auto",
           "type": "bar",
           "x": [
            2011470
           ],
           "xaxis": "x",
           "y": [
            "Iowa"
           ],
           "yaxis": "y"
          },
          {
           "alignmentgroup": "True",
           "hovertemplate": "color=Texas<br>animation_frame=1893<br>x=%{x}<br>y=%{y}<extra></extra>",
           "legendgroup": "Texas",
           "marker": {
            "color": "#FECB52"
           },
           "name": "Texas",
           "offsetgroup": "Texas",
           "orientation": "h",
           "showlegend": true,
           "textposition": "auto",
           "type": "bar",
           "x": [
            2487891
           ],
           "xaxis": "x",
           "y": [
            "Texas"
           ],
           "yaxis": "y"
          }
         ],
         "name": "1893"
        },
        {
         "data": [
          {
           "alignmentgroup": "True",
           "hovertemplate": "color=Pennsylvania<br>animation_frame=1901<br>x=%{x}<br>y=%{y}<extra></extra>",
           "legendgroup": "Pennsylvania",
           "marker": {
            "color": "#EF553B"
           },
           "name": "Pennsylvania",
           "offsetgroup": "Pennsylvania",
           "orientation": "h",
           "showlegend": true,
           "textposition": "auto",
           "type": "bar",
           "x": [
            6443115
           ],
           "xaxis": "x",
           "y": [
            "Pennsylvania"
           ],
           "yaxis": "y"
          },
          {
           "alignmentgroup": "True",
           "hovertemplate": "color=Massachusetts<br>animation_frame=1901<br>x=%{x}<br>y=%{y}<extra></extra>",
           "legendgroup": "Massachusetts",
           "marker": {
            "color": "#ab63fa"
           },
           "name": "Massachusetts",
           "offsetgroup": "Massachusetts",
           "orientation": "h",
           "showlegend": true,
           "textposition": "auto",
           "type": "bar",
           "x": [
            2863388
           ],
           "xaxis": "x",
           "y": [
            "Massachusetts"
           ],
           "yaxis": "y"
          },
          {
           "alignmentgroup": "True",
           "hovertemplate": "color=New York<br>animation_frame=1901<br>x=%{x}<br>y=%{y}<extra></extra>",
           "legendgroup": "New York",
           "marker": {
            "color": "#FFA15A"
           },
           "name": "New York",
           "offsetgroup": "New York",
           "orientation": "h",
           "showlegend": true,
           "textposition": "auto",
           "type": "bar",
           "x": [
            7459727
           ],
           "xaxis": "x",
           "y": [
            "New York"
           ],
           "yaxis": "y"
          },
          {
           "alignmentgroup": "True",
           "hovertemplate": "color=Ohio<br>animation_frame=1901<br>x=%{x}<br>y=%{y}<extra></extra>",
           "legendgroup": "Ohio",
           "marker": {
            "color": "#EF553B"
           },
           "name": "Ohio",
           "offsetgroup": "Ohio",
           "orientation": "h",
           "showlegend": true,
           "textposition": "auto",
           "type": "bar",
           "x": [
            4220605
           ],
           "xaxis": "x",
           "y": [
            "Ohio"
           ],
           "yaxis": "y"
          },
          {
           "alignmentgroup": "True",
           "hovertemplate": "color=Georgia<br>animation_frame=1901<br>x=%{x}<br>y=%{y}<extra></extra>",
           "legendgroup": "Georgia",
           "marker": {
            "color": "#ab63fa"
           },
           "name": "Georgia",
           "offsetgroup": "Georgia",
           "orientation": "h",
           "showlegend": true,
           "textposition": "auto",
           "type": "bar",
           "x": [
            2256964
           ],
           "xaxis": "x",
           "y": [
            "Georgia"
           ],
           "yaxis": "y"
          },
          {
           "alignmentgroup": "True",
           "hovertemplate": "color=Indiana<br>animation_frame=1901<br>x=%{x}<br>y=%{y}<extra></extra>",
           "legendgroup": "Indiana",
           "marker": {
            "color": "#FFA15A"
           },
           "name": "Indiana",
           "offsetgroup": "Indiana",
           "orientation": "h",
           "showlegend": true,
           "textposition": "auto",
           "type": "bar",
           "x": [
            2535539
           ],
           "xaxis": "x",
           "y": [
            "Indiana"
           ],
           "yaxis": "y"
          },
          {
           "alignmentgroup": "True",
           "hovertemplate": "color=Illinois<br>animation_frame=1901<br>x=%{x}<br>y=%{y}<extra></extra>",
           "legendgroup": "Illinois",
           "marker": {
            "color": "#19d3f3"
           },
           "name": "Illinois",
           "offsetgroup": "Illinois",
           "orientation": "h",
           "showlegend": true,
           "textposition": "auto",
           "type": "bar",
           "x": [
            4906071
           ],
           "xaxis": "x",
           "y": [
            "Illinois"
           ],
           "yaxis": "y"
          },
          {
           "alignmentgroup": "True",
           "hovertemplate": "color=Missouri<br>animation_frame=1901<br>x=%{x}<br>y=%{y}<extra></extra>",
           "legendgroup": "Missouri",
           "marker": {
            "color": "#FF6692"
           },
           "name": "Missouri",
           "offsetgroup": "Missouri",
           "orientation": "h",
           "showlegend": true,
           "textposition": "auto",
           "type": "bar",
           "x": [
            3125976
           ],
           "xaxis": "x",
           "y": [
            "Missouri"
           ],
           "yaxis": "y"
          },
          {
           "alignmentgroup": "True",
           "hovertemplate": "color=Michigan<br>animation_frame=1901<br>x=%{x}<br>y=%{y}<extra></extra>",
           "legendgroup": "Michigan",
           "marker": {
            "color": "#B6E880"
           },
           "name": "Michigan",
           "offsetgroup": "Michigan",
           "orientation": "h",
           "showlegend": true,
           "textposition": "auto",
           "type": "bar",
           "x": [
            2461243
           ],
           "xaxis": "x",
           "y": [
            "Michigan"
           ],
           "yaxis": "y"
          },
          {
           "alignmentgroup": "True",
           "hovertemplate": "color=Texas<br>animation_frame=1901<br>x=%{x}<br>y=%{y}<extra></extra>",
           "legendgroup": "Texas",
           "marker": {
            "color": "#FECB52"
           },
           "name": "Texas",
           "offsetgroup": "Texas",
           "orientation": "h",
           "showlegend": true,
           "textposition": "auto",
           "type": "bar",
           "x": [
            3136417
           ],
           "xaxis": "x",
           "y": [
            "Texas"
           ],
           "yaxis": "y"
          }
         ],
         "name": "1901"
        },
        {
         "data": [
          {
           "alignmentgroup": "True",
           "hovertemplate": "color=Pennsylvania<br>animation_frame=1908<br>x=%{x}<br>y=%{y}<extra></extra>",
           "legendgroup": "Pennsylvania",
           "marker": {
            "color": "#EF553B"
           },
           "name": "Pennsylvania",
           "offsetgroup": "Pennsylvania",
           "orientation": "h",
           "showlegend": true,
           "textposition": "auto",
           "type": "bar",
           "x": [
            7524111
           ],
           "xaxis": "x",
           "y": [
            "Pennsylvania"
           ],
           "yaxis": "y"
          },
          {
           "alignmentgroup": "True",
           "hovertemplate": "color=Massachusetts<br>animation_frame=1908<br>x=%{x}<br>y=%{y}<extra></extra>",
           "legendgroup": "Massachusetts",
           "marker": {
            "color": "#ab63fa"
           },
           "name": "Massachusetts",
           "offsetgroup": "Massachusetts",
           "orientation": "h",
           "showlegend": true,
           "textposition": "auto",
           "type": "bar",
           "x": [
            3308374
           ],
           "xaxis": "x",
           "y": [
            "Massachusetts"
           ],
           "yaxis": "y"
          },
          {
           "alignmentgroup": "True",
           "hovertemplate": "color=New York<br>animation_frame=1908<br>x=%{x}<br>y=%{y}<extra></extra>",
           "legendgroup": "New York",
           "marker": {
            "color": "#FFA15A"
           },
           "name": "New York",
           "offsetgroup": "New York",
           "orientation": "h",
           "showlegend": true,
           "textposition": "auto",
           "type": "bar",
           "x": [
            8922781
           ],
           "xaxis": "x",
           "y": [
            "New York"
           ],
           "yaxis": "y"
          },
          {
           "alignmentgroup": "True",
           "hovertemplate": "color=Ohio<br>animation_frame=1908<br>x=%{x}<br>y=%{y}<extra></extra>",
           "legendgroup": "Ohio",
           "marker": {
            "color": "#EF553B"
           },
           "name": "Ohio",
           "offsetgroup": "Ohio",
           "orientation": "h",
           "showlegend": true,
           "textposition": "auto",
           "type": "bar",
           "x": [
            4704061
           ],
           "xaxis": "x",
           "y": [
            "Ohio"
           ],
           "yaxis": "y"
          },
          {
           "alignmentgroup": "True",
           "hovertemplate": "color=Georgia<br>animation_frame=1908<br>x=%{x}<br>y=%{y}<extra></extra>",
           "legendgroup": "Georgia",
           "marker": {
            "color": "#ab63fa"
           },
           "name": "Georgia",
           "offsetgroup": "Georgia",
           "orientation": "h",
           "showlegend": true,
           "textposition": "auto",
           "type": "bar",
           "x": [
            2568488
           ],
           "xaxis": "x",
           "y": [
            "Georgia"
           ],
           "yaxis": "y"
          },
          {
           "alignmentgroup": "True",
           "hovertemplate": "color=Indiana<br>animation_frame=1908<br>x=%{x}<br>y=%{y}<extra></extra>",
           "legendgroup": "Indiana",
           "marker": {
            "color": "#FFA15A"
           },
           "name": "Indiana",
           "offsetgroup": "Indiana",
           "orientation": "h",
           "showlegend": true,
           "textposition": "auto",
           "type": "bar",
           "x": [
            2681799
           ],
           "xaxis": "x",
           "y": [
            "Indiana"
           ],
           "yaxis": "y"
          },
          {
           "alignmentgroup": "True",
           "hovertemplate": "color=Illinois<br>animation_frame=1908<br>x=%{x}<br>y=%{y}<extra></extra>",
           "legendgroup": "Illinois",
           "marker": {
            "color": "#19d3f3"
           },
           "name": "Illinois",
           "offsetgroup": "Illinois",
           "orientation": "h",
           "showlegend": true,
           "textposition": "auto",
           "type": "bar",
           "x": [
            5554070
           ],
           "xaxis": "x",
           "y": [
            "Illinois"
           ],
           "yaxis": "y"
          },
          {
           "alignmentgroup": "True",
           "hovertemplate": "color=Missouri<br>animation_frame=1908<br>x=%{x}<br>y=%{y}<extra></extra>",
           "legendgroup": "Missouri",
           "marker": {
            "color": "#FF6692"
           },
           "name": "Missouri",
           "offsetgroup": "Missouri",
           "orientation": "h",
           "showlegend": true,
           "textposition": "auto",
           "type": "bar",
           "x": [
            3274024
           ],
           "xaxis": "x",
           "y": [
            "Missouri"
           ],
           "yaxis": "y"
          },
          {
           "alignmentgroup": "True",
           "hovertemplate": "color=Michigan<br>animation_frame=1908<br>x=%{x}<br>y=%{y}<extra></extra>",
           "legendgroup": "Michigan",
           "marker": {
            "color": "#B6E880"
           },
           "name": "Michigan",
           "offsetgroup": "Michigan",
           "orientation": "h",
           "showlegend": true,
           "textposition": "auto",
           "type": "bar",
           "x": [
            2769912
           ],
           "xaxis": "x",
           "y": [
            "Michigan"
           ],
           "yaxis": "y"
          },
          {
           "alignmentgroup": "True",
           "hovertemplate": "color=Texas<br>animation_frame=1908<br>x=%{x}<br>y=%{y}<extra></extra>",
           "legendgroup": "Texas",
           "marker": {
            "color": "#FECB52"
           },
           "name": "Texas",
           "offsetgroup": "Texas",
           "orientation": "h",
           "showlegend": true,
           "textposition": "auto",
           "type": "bar",
           "x": [
            3808835
           ],
           "xaxis": "x",
           "y": [
            "Texas"
           ],
           "yaxis": "y"
          }
         ],
         "name": "1908"
        },
        {
         "data": [
          {
           "alignmentgroup": "True",
           "hovertemplate": "color=Pennsylvania<br>animation_frame=1916<br>x=%{x}<br>y=%{y}<extra></extra>",
           "legendgroup": "Pennsylvania",
           "marker": {
            "color": "#EF553B"
           },
           "name": "Pennsylvania",
           "offsetgroup": "Pennsylvania",
           "orientation": "h",
           "showlegend": true,
           "textposition": "auto",
           "type": "bar",
           "x": [
            8392632
           ],
           "xaxis": "x",
           "y": [
            "Pennsylvania"
           ],
           "yaxis": "y"
          },
          {
           "alignmentgroup": "True",
           "hovertemplate": "color=Massachusetts<br>animation_frame=1916<br>x=%{x}<br>y=%{y}<extra></extra>",
           "legendgroup": "Massachusetts",
           "marker": {
            "color": "#ab63fa"
           },
           "name": "Massachusetts",
           "offsetgroup": "Massachusetts",
           "orientation": "h",
           "showlegend": true,
           "textposition": "auto",
           "type": "bar",
           "x": [
            3701547
           ],
           "xaxis": "x",
           "y": [
            "Massachusetts"
           ],
           "yaxis": "y"
          },
          {
           "alignmentgroup": "True",
           "hovertemplate": "color=New York<br>animation_frame=1916<br>x=%{x}<br>y=%{y}<extra></extra>",
           "legendgroup": "New York",
           "marker": {
            "color": "#FFA15A"
           },
           "name": "New York",
           "offsetgroup": "New York",
           "orientation": "h",
           "showlegend": true,
           "textposition": "auto",
           "type": "bar",
           "x": [
            9990588
           ],
           "xaxis": "x",
           "y": [
            "New York"
           ],
           "yaxis": "y"
          },
          {
           "alignmentgroup": "True",
           "hovertemplate": "color=New Jersey<br>animation_frame=1916<br>x=%{x}<br>y=%{y}<extra></extra>",
           "legendgroup": "New Jersey",
           "marker": {
            "color": "#FF97FF"
           },
           "name": "New Jersey",
           "offsetgroup": "New Jersey",
           "orientation": "h",
           "showlegend": true,
           "textposition": "auto",
           "type": "bar",
           "x": [
            2963879
           ],
           "xaxis": "x",
           "y": [
            "New Jersey"
           ],
           "yaxis": "y"
          },
          {
           "alignmentgroup": "True",
           "hovertemplate": "color=Ohio<br>animation_frame=1916<br>x=%{x}<br>y=%{y}<extra></extra>",
           "legendgroup": "Ohio",
           "marker": {
            "color": "#EF553B"
           },
           "name": "Ohio",
           "offsetgroup": "Ohio",
           "orientation": "h",
           "showlegend": true,
           "textposition": "auto",
           "type": "bar",
           "x": [
            5451447
           ],
           "xaxis": "x",
           "y": [
            "Ohio"
           ],
           "yaxis": "y"
          },
          {
           "alignmentgroup": "True",
           "hovertemplate": "color=Illinois<br>animation_frame=1916<br>x=%{x}<br>y=%{y}<extra></extra>",
           "legendgroup": "Illinois",
           "marker": {
            "color": "#19d3f3"
           },
           "name": "Illinois",
           "offsetgroup": "Illinois",
           "orientation": "h",
           "showlegend": true,
           "textposition": "auto",
           "type": "bar",
           "x": [
            6222514
           ],
           "xaxis": "x",
           "y": [
            "Illinois"
           ],
           "yaxis": "y"
          },
          {
           "alignmentgroup": "True",
           "hovertemplate": "color=Missouri<br>animation_frame=1916<br>x=%{x}<br>y=%{y}<extra></extra>",
           "legendgroup": "Missouri",
           "marker": {
            "color": "#FF6692"
           },
           "name": "Missouri",
           "offsetgroup": "Missouri",
           "orientation": "h",
           "showlegend": true,
           "textposition": "auto",
           "type": "bar",
           "x": [
            3369694
           ],
           "xaxis": "x",
           "y": [
            "Missouri"
           ],
           "yaxis": "y"
          },
          {
           "alignmentgroup": "True",
           "hovertemplate": "color=Michigan<br>animation_frame=1916<br>x=%{x}<br>y=%{y}<extra></extra>",
           "legendgroup": "Michigan",
           "marker": {
            "color": "#B6E880"
           },
           "name": "Michigan",
           "offsetgroup": "Michigan",
           "orientation": "h",
           "showlegend": true,
           "textposition": "auto",
           "type": "bar",
           "x": [
            3402062
           ],
           "xaxis": "x",
           "y": [
            "Michigan"
           ],
           "yaxis": "y"
          },
          {
           "alignmentgroup": "True",
           "hovertemplate": "color=Texas<br>animation_frame=1916<br>x=%{x}<br>y=%{y}<extra></extra>",
           "legendgroup": "Texas",
           "marker": {
            "color": "#FECB52"
           },
           "name": "Texas",
           "offsetgroup": "Texas",
           "orientation": "h",
           "showlegend": true,
           "textposition": "auto",
           "type": "bar",
           "x": [
            4425291
           ],
           "xaxis": "x",
           "y": [
            "Texas"
           ],
           "yaxis": "y"
          },
          {
           "alignmentgroup": "True",
           "hovertemplate": "color=California<br>animation_frame=1916<br>x=%{x}<br>y=%{y}<extra></extra>",
           "legendgroup": "California",
           "marker": {
            "color": "#636efa"
           },
           "name": "California",
           "offsetgroup": "California",
           "orientation": "h",
           "showlegend": true,
           "textposition": "auto",
           "type": "bar",
           "x": [
            3101212
           ],
           "xaxis": "x",
           "y": [
            "California"
           ],
           "yaxis": "y"
          }
         ],
         "name": "1916"
        },
        {
         "data": [
          {
           "alignmentgroup": "True",
           "hovertemplate": "color=Pennsylvania<br>animation_frame=1924<br>x=%{x}<br>y=%{y}<extra></extra>",
           "legendgroup": "Pennsylvania",
           "marker": {
            "color": "#EF553B"
           },
           "name": "Pennsylvania",
           "offsetgroup": "Pennsylvania",
           "orientation": "h",
           "showlegend": true,
           "textposition": "auto",
           "type": "bar",
           "x": [
            9159971
           ],
           "xaxis": "x",
           "y": [
            "Pennsylvania"
           ],
           "yaxis": "y"
          },
          {
           "alignmentgroup": "True",
           "hovertemplate": "color=Massachusetts<br>animation_frame=1924<br>x=%{x}<br>y=%{y}<extra></extra>",
           "legendgroup": "Massachusetts",
           "marker": {
            "color": "#ab63fa"
           },
           "name": "Massachusetts",
           "offsetgroup": "Massachusetts",
           "orientation": "h",
           "showlegend": true,
           "textposition": "auto",
           "type": "bar",
           "x": [
            4044136
           ],
           "xaxis": "x",
           "y": [
            "Massachusetts"
           ],
           "yaxis": "y"
          },
          {
           "alignmentgroup": "True",
           "hovertemplate": "color=New York<br>animation_frame=1924<br>x=%{x}<br>y=%{y}<extra></extra>",
           "legendgroup": "New York",
           "marker": {
            "color": "#FFA15A"
           },
           "name": "New York",
           "offsetgroup": "New York",
           "orientation": "h",
           "showlegend": true,
           "textposition": "auto",
           "type": "bar",
           "x": [
            11448667
           ],
           "xaxis": "x",
           "y": [
            "New York"
           ],
           "yaxis": "y"
          },
          {
           "alignmentgroup": "True",
           "hovertemplate": "color=New Jersey<br>animation_frame=1924<br>x=%{x}<br>y=%{y}<extra></extra>",
           "legendgroup": "New Jersey",
           "marker": {
            "color": "#FF97FF"
           },
           "name": "New Jersey",
           "offsetgroup": "New Jersey",
           "orientation": "h",
           "showlegend": true,
           "textposition": "auto",
           "type": "bar",
           "x": [
            3583351
           ],
           "xaxis": "x",
           "y": [
            "New Jersey"
           ],
           "yaxis": "y"
          },
          {
           "alignmentgroup": "True",
           "hovertemplate": "color=Ohio<br>animation_frame=1924<br>x=%{x}<br>y=%{y}<extra></extra>",
           "legendgroup": "Ohio",
           "marker": {
            "color": "#EF553B"
           },
           "name": "Ohio",
           "offsetgroup": "Ohio",
           "orientation": "h",
           "showlegend": true,
           "textposition": "auto",
           "type": "bar",
           "x": [
            6187747
           ],
           "xaxis": "x",
           "y": [
            "Ohio"
           ],
           "yaxis": "y"
          },
          {
           "alignmentgroup": "True",
           "hovertemplate": "color=Illinois<br>animation_frame=1924<br>x=%{x}<br>y=%{y}<extra></extra>",
           "legendgroup": "Illinois",
           "marker": {
            "color": "#19d3f3"
           },
           "name": "Illinois",
           "offsetgroup": "Illinois",
           "orientation": "h",
           "showlegend": true,
           "textposition": "auto",
           "type": "bar",
           "x": [
            7038219
           ],
           "xaxis": "x",
           "y": [
            "Illinois"
           ],
           "yaxis": "y"
          },
          {
           "alignmentgroup": "True",
           "hovertemplate": "color=Missouri<br>animation_frame=1924<br>x=%{x}<br>y=%{y}<extra></extra>",
           "legendgroup": "Missouri",
           "marker": {
            "color": "#FF6692"
           },
           "name": "Missouri",
           "offsetgroup": "Missouri",
           "orientation": "h",
           "showlegend": true,
           "textposition": "auto",
           "type": "bar",
           "x": [
            3512826
           ],
           "xaxis": "x",
           "y": [
            "Missouri"
           ],
           "yaxis": "y"
          },
          {
           "alignmentgroup": "True",
           "hovertemplate": "color=Michigan<br>animation_frame=1924<br>x=%{x}<br>y=%{y}<extra></extra>",
           "legendgroup": "Michigan",
           "marker": {
            "color": "#B6E880"
           },
           "name": "Michigan",
           "offsetgroup": "Michigan",
           "orientation": "h",
           "showlegend": true,
           "textposition": "auto",
           "type": "bar",
           "x": [
            4235129
           ],
           "xaxis": "x",
           "y": [
            "Michigan"
           ],
           "yaxis": "y"
          },
          {
           "alignmentgroup": "True",
           "hovertemplate": "color=Texas<br>animation_frame=1924<br>x=%{x}<br>y=%{y}<extra></extra>",
           "legendgroup": "Texas",
           "marker": {
            "color": "#FECB52"
           },
           "name": "Texas",
           "offsetgroup": "Texas",
           "orientation": "h",
           "showlegend": true,
           "textposition": "auto",
           "type": "bar",
           "x": [
            5223946
           ],
           "xaxis": "x",
           "y": [
            "Texas"
           ],
           "yaxis": "y"
          },
          {
           "alignmentgroup": "True",
           "hovertemplate": "color=California<br>animation_frame=1924<br>x=%{x}<br>y=%{y}<extra></extra>",
           "legendgroup": "California",
           "marker": {
            "color": "#636efa"
           },
           "name": "California",
           "offsetgroup": "California",
           "orientation": "h",
           "showlegend": true,
           "textposition": "auto",
           "type": "bar",
           "x": [
            4513256
           ],
           "xaxis": "x",
           "y": [
            "California"
           ],
           "yaxis": "y"
          }
         ],
         "name": "1924"
        },
        {
         "data": [
          {
           "alignmentgroup": "True",
           "hovertemplate": "color=Pennsylvania<br>animation_frame=1932<br>x=%{x}<br>y=%{y}<extra></extra>",
           "legendgroup": "Pennsylvania",
           "marker": {
            "color": "#EF553B"
           },
           "name": "Pennsylvania",
           "offsetgroup": "Pennsylvania",
           "orientation": "h",
           "showlegend": true,
           "textposition": "auto",
           "type": "bar",
           "x": [
            9705510
           ],
           "xaxis": "x",
           "y": [
            "Pennsylvania"
           ],
           "yaxis": "y"
          },
          {
           "alignmentgroup": "True",
           "hovertemplate": "color=Massachusetts<br>animation_frame=1932<br>x=%{x}<br>y=%{y}<extra></extra>",
           "legendgroup": "Massachusetts",
           "marker": {
            "color": "#ab63fa"
           },
           "name": "Massachusetts",
           "offsetgroup": "Massachusetts",
           "orientation": "h",
           "showlegend": true,
           "textposition": "auto",
           "type": "bar",
           "x": [
            4268126
           ],
           "xaxis": "x",
           "y": [
            "Massachusetts"
           ],
           "yaxis": "y"
          },
          {
           "alignmentgroup": "True",
           "hovertemplate": "color=New York<br>animation_frame=1932<br>x=%{x}<br>y=%{y}<extra></extra>",
           "legendgroup": "New York",
           "marker": {
            "color": "#FFA15A"
           },
           "name": "New York",
           "offsetgroup": "New York",
           "orientation": "h",
           "showlegend": true,
           "textposition": "auto",
           "type": "bar",
           "x": [
            12833880
           ],
           "xaxis": "x",
           "y": [
            "New York"
           ],
           "yaxis": "y"
          },
          {
           "alignmentgroup": "True",
           "hovertemplate": "color=New Jersey<br>animation_frame=1932<br>x=%{x}<br>y=%{y}<extra></extra>",
           "legendgroup": "New Jersey",
           "marker": {
            "color": "#FF97FF"
           },
           "name": "New Jersey",
           "offsetgroup": "New Jersey",
           "orientation": "h",
           "showlegend": true,
           "textposition": "auto",
           "type": "bar",
           "x": [
            4074115
           ],
           "xaxis": "x",
           "y": [
            "New Jersey"
           ],
           "yaxis": "y"
          },
          {
           "alignmentgroup": "True",
           "hovertemplate": "color=Ohio<br>animation_frame=1932<br>x=%{x}<br>y=%{y}<extra></extra>",
           "legendgroup": "Ohio",
           "marker": {
            "color": "#EF553B"
           },
           "name": "Ohio",
           "offsetgroup": "Ohio",
           "orientation": "h",
           "showlegend": true,
           "textposition": "auto",
           "type": "bar",
           "x": [
            6718674
           ],
           "xaxis": "x",
           "y": [
            "Ohio"
           ],
           "yaxis": "y"
          },
          {
           "alignmentgroup": "True",
           "hovertemplate": "color=Illinois<br>animation_frame=1932<br>x=%{x}<br>y=%{y}<extra></extra>",
           "legendgroup": "Illinois",
           "marker": {
            "color": "#19d3f3"
           },
           "name": "Illinois",
           "offsetgroup": "Illinois",
           "orientation": "h",
           "showlegend": true,
           "textposition": "auto",
           "type": "bar",
           "x": [
            7704195
           ],
           "xaxis": "x",
           "y": [
            "Illinois"
           ],
           "yaxis": "y"
          },
          {
           "alignmentgroup": "True",
           "hovertemplate": "color=Missouri<br>animation_frame=1932<br>x=%{x}<br>y=%{y}<extra></extra>",
           "legendgroup": "Missouri",
           "marker": {
            "color": "#FF6692"
           },
           "name": "Missouri",
           "offsetgroup": "Missouri",
           "orientation": "h",
           "showlegend": true,
           "textposition": "auto",
           "type": "bar",
           "x": [
            3672208
           ],
           "xaxis": "x",
           "y": [
            "Missouri"
           ],
           "yaxis": "y"
          },
          {
           "alignmentgroup": "True",
           "hovertemplate": "color=Michigan<br>animation_frame=1932<br>x=%{x}<br>y=%{y}<extra></extra>",
           "legendgroup": "Michigan",
           "marker": {
            "color": "#B6E880"
           },
           "name": "Michigan",
           "offsetgroup": "Michigan",
           "orientation": "h",
           "showlegend": true,
           "textposition": "auto",
           "type": "bar",
           "x": [
            4956471
           ],
           "xaxis": "x",
           "y": [
            "Michigan"
           ],
           "yaxis": "y"
          },
          {
           "alignmentgroup": "True",
           "hovertemplate": "color=Texas<br>animation_frame=1932<br>x=%{x}<br>y=%{y}<extra></extra>",
           "legendgroup": "Texas",
           "marker": {
            "color": "#FECB52"
           },
           "name": "Texas",
           "offsetgroup": "Texas",
           "orientation": "h",
           "showlegend": true,
           "textposition": "auto",
           "type": "bar",
           "x": [
            5987504
           ],
           "xaxis": "x",
           "y": [
            "Texas"
           ],
           "yaxis": "y"
          },
          {
           "alignmentgroup": "True",
           "hovertemplate": "color=California<br>animation_frame=1932<br>x=%{x}<br>y=%{y}<extra></extra>",
           "legendgroup": "California",
           "marker": {
            "color": "#636efa"
           },
           "name": "California",
           "offsetgroup": "California",
           "orientation": "h",
           "showlegend": true,
           "textposition": "auto",
           "type": "bar",
           "x": [
            6016599
           ],
           "xaxis": "x",
           "y": [
            "California"
           ],
           "yaxis": "y"
          }
         ],
         "name": "1932"
        },
        {
         "data": [
          {
           "alignmentgroup": "True",
           "hovertemplate": "color=Pennsylvania<br>animation_frame=1940<br>x=%{x}<br>y=%{y}<extra></extra>",
           "legendgroup": "Pennsylvania",
           "marker": {
            "color": "#EF553B"
           },
           "name": "Pennsylvania",
           "offsetgroup": "Pennsylvania",
           "orientation": "h",
           "showlegend": true,
           "textposition": "auto",
           "type": "bar",
           "x": [
            9941410
           ],
           "xaxis": "x",
           "y": [
            "Pennsylvania"
           ],
           "yaxis": "y"
          },
          {
           "alignmentgroup": "True",
           "hovertemplate": "color=Massachusetts<br>animation_frame=1940<br>x=%{x}<br>y=%{y}<extra></extra>",
           "legendgroup": "Massachusetts",
           "marker": {
            "color": "#ab63fa"
           },
           "name": "Massachusetts",
           "offsetgroup": "Massachusetts",
           "orientation": "h",
           "showlegend": true,
           "textposition": "auto",
           "type": "bar",
           "x": [
            4342500
           ],
           "xaxis": "x",
           "y": [
            "Massachusetts"
           ],
           "yaxis": "y"
          },
          {
           "alignmentgroup": "True",
           "hovertemplate": "color=New York<br>animation_frame=1940<br>x=%{x}<br>y=%{y}<extra></extra>",
           "legendgroup": "New York",
           "marker": {
            "color": "#FFA15A"
           },
           "name": "New York",
           "offsetgroup": "New York",
           "orientation": "h",
           "showlegend": true,
           "textposition": "auto",
           "type": "bar",
           "x": [
            13572318
           ],
           "xaxis": "x",
           "y": [
            "New York"
           ],
           "yaxis": "y"
          },
          {
           "alignmentgroup": "True",
           "hovertemplate": "color=New Jersey<br>animation_frame=1940<br>x=%{x}<br>y=%{y}<extra></extra>",
           "legendgroup": "New Jersey",
           "marker": {
            "color": "#FF97FF"
           },
           "name": "New Jersey",
           "offsetgroup": "New Jersey",
           "orientation": "h",
           "showlegend": true,
           "textposition": "auto",
           "type": "bar",
           "x": [
            4206728
           ],
           "xaxis": "x",
           "y": [
            "New Jersey"
           ],
           "yaxis": "y"
          },
          {
           "alignmentgroup": "True",
           "hovertemplate": "color=Ohio<br>animation_frame=1940<br>x=%{x}<br>y=%{y}<extra></extra>",
           "legendgroup": "Ohio",
           "marker": {
            "color": "#EF553B"
           },
           "name": "Ohio",
           "offsetgroup": "Ohio",
           "orientation": "h",
           "showlegend": true,
           "textposition": "auto",
           "type": "bar",
           "x": [
            6979268
           ],
           "xaxis": "x",
           "y": [
            "Ohio"
           ],
           "yaxis": "y"
          },
          {
           "alignmentgroup": "True",
           "hovertemplate": "color=Illinois<br>animation_frame=1940<br>x=%{x}<br>y=%{y}<extra></extra>",
           "legendgroup": "Illinois",
           "marker": {
            "color": "#19d3f3"
           },
           "name": "Illinois",
           "offsetgroup": "Illinois",
           "orientation": "h",
           "showlegend": true,
           "textposition": "auto",
           "type": "bar",
           "x": [
            7953443
           ],
           "xaxis": "x",
           "y": [
            "Illinois"
           ],
           "yaxis": "y"
          },
          {
           "alignmentgroup": "True",
           "hovertemplate": "color=Missouri<br>animation_frame=1940<br>x=%{x}<br>y=%{y}<extra></extra>",
           "legendgroup": "Missouri",
           "marker": {
            "color": "#FF6692"
           },
           "name": "Missouri",
           "offsetgroup": "Missouri",
           "orientation": "h",
           "showlegend": true,
           "textposition": "auto",
           "type": "bar",
           "x": [
            3796387
           ],
           "xaxis": "x",
           "y": [
            "Missouri"
           ],
           "yaxis": "y"
          },
          {
           "alignmentgroup": "True",
           "hovertemplate": "color=Michigan<br>animation_frame=1940<br>x=%{x}<br>y=%{y}<extra></extra>",
           "legendgroup": "Michigan",
           "marker": {
            "color": "#B6E880"
           },
           "name": "Michigan",
           "offsetgroup": "Michigan",
           "orientation": "h",
           "showlegend": true,
           "textposition": "auto",
           "type": "bar",
           "x": [
            5333048
           ],
           "xaxis": "x",
           "y": [
            "Michigan"
           ],
           "yaxis": "y"
          },
          {
           "alignmentgroup": "True",
           "hovertemplate": "color=Texas<br>animation_frame=1940<br>x=%{x}<br>y=%{y}<extra></extra>",
           "legendgroup": "Texas",
           "marker": {
            "color": "#FECB52"
           },
           "name": "Texas",
           "offsetgroup": "Texas",
           "orientation": "h",
           "showlegend": true,
           "textposition": "auto",
           "type": "bar",
           "x": [
            6504229
           ],
           "xaxis": "x",
           "y": [
            "Texas"
           ],
           "yaxis": "y"
          },
          {
           "alignmentgroup": "True",
           "hovertemplate": "color=California<br>animation_frame=1940<br>x=%{x}<br>y=%{y}<extra></extra>",
           "legendgroup": "California",
           "marker": {
            "color": "#636efa"
           },
           "name": "California",
           "offsetgroup": "California",
           "orientation": "h",
           "showlegend": true,
           "textposition": "auto",
           "type": "bar",
           "x": [
            7161100
           ],
           "xaxis": "x",
           "y": [
            "California"
           ],
           "yaxis": "y"
          }
         ],
         "name": "1940"
        },
        {
         "data": [
          {
           "alignmentgroup": "True",
           "hovertemplate": "color=Pennsylvania<br>animation_frame=1948<br>x=%{x}<br>y=%{y}<extra></extra>",
           "legendgroup": "Pennsylvania",
           "marker": {
            "color": "#EF553B"
           },
           "name": "Pennsylvania",
           "offsetgroup": "Pennsylvania",
           "orientation": "h",
           "showlegend": true,
           "textposition": "auto",
           "type": "bar",
           "x": [
            10415552
           ],
           "xaxis": "x",
           "y": [
            "Pennsylvania"
           ],
           "yaxis": "y"
          },
          {
           "alignmentgroup": "True",
           "hovertemplate": "color=North Carolina<br>animation_frame=1948<br>x=%{x}<br>y=%{y}<extra></extra>",
           "legendgroup": "North Carolina",
           "marker": {
            "color": "#00cc96"
           },
           "name": "North Carolina",
           "offsetgroup": "North Carolina",
           "orientation": "h",
           "showlegend": true,
           "textposition": "auto",
           "type": "bar",
           "x": [
            3994301
           ],
           "xaxis": "x",
           "y": [
            "North Carolina"
           ],
           "yaxis": "y"
          },
          {
           "alignmentgroup": "True",
           "hovertemplate": "color=Massachusetts<br>animation_frame=1948<br>x=%{x}<br>y=%{y}<extra></extra>",
           "legendgroup": "Massachusetts",
           "marker": {
            "color": "#ab63fa"
           },
           "name": "Massachusetts",
           "offsetgroup": "Massachusetts",
           "orientation": "h",
           "showlegend": true,
           "textposition": "auto",
           "type": "bar",
           "x": [
            4638956
           ],
           "xaxis": "x",
           "y": [
            "Massachusetts"
           ],
           "yaxis": "y"
          },
          {
           "alignmentgroup": "True",
           "hovertemplate": "color=New York<br>animation_frame=1948<br>x=%{x}<br>y=%{y}<extra></extra>",
           "legendgroup": "New York",
           "marker": {
            "color": "#FFA15A"
           },
           "name": "New York",
           "offsetgroup": "New York",
           "orientation": "h",
           "showlegend": true,
           "textposition": "auto",
           "type": "bar",
           "x": [
            14643840
           ],
           "xaxis": "x",
           "y": [
            "New York"
           ],
           "yaxis": "y"
          },
          {
           "alignmentgroup": "True",
           "hovertemplate": "color=New Jersey<br>animation_frame=1948<br>x=%{x}<br>y=%{y}<extra></extra>",
           "legendgroup": "New Jersey",
           "marker": {
            "color": "#FF97FF"
           },
           "name": "New Jersey",
           "offsetgroup": "New Jersey",
           "orientation": "h",
           "showlegend": true,
           "textposition": "auto",
           "type": "bar",
           "x": [
            4742203
           ],
           "xaxis": "x",
           "y": [
            "New Jersey"
           ],
           "yaxis": "y"
          },
          {
           "alignmentgroup": "True",
           "hovertemplate": "color=Ohio<br>animation_frame=1948<br>x=%{x}<br>y=%{y}<extra></extra>",
           "legendgroup": "Ohio",
           "marker": {
            "color": "#EF553B"
           },
           "name": "Ohio",
           "offsetgroup": "Ohio",
           "orientation": "h",
           "showlegend": true,
           "textposition": "auto",
           "type": "bar",
           "x": [
            7803315
           ],
           "xaxis": "x",
           "y": [
            "Ohio"
           ],
           "yaxis": "y"
          },
          {
           "alignmentgroup": "True",
           "hovertemplate": "color=Illinois<br>animation_frame=1948<br>x=%{x}<br>y=%{y}<extra></extra>",
           "legendgroup": "Illinois",
           "marker": {
            "color": "#19d3f3"
           },
           "name": "Illinois",
           "offsetgroup": "Illinois",
           "orientation": "h",
           "showlegend": true,
           "textposition": "auto",
           "type": "bar",
           "x": [
            8599771
           ],
           "xaxis": "x",
           "y": [
            "Illinois"
           ],
           "yaxis": "y"
          },
          {
           "alignmentgroup": "True",
           "hovertemplate": "color=Michigan<br>animation_frame=1948<br>x=%{x}<br>y=%{y}<extra></extra>",
           "legendgroup": "Michigan",
           "marker": {
            "color": "#B6E880"
           },
           "name": "Michigan",
           "offsetgroup": "Michigan",
           "orientation": "h",
           "showlegend": true,
           "textposition": "auto",
           "type": "bar",
           "x": [
            6217882
           ],
           "xaxis": "x",
           "y": [
            "Michigan"
           ],
           "yaxis": "y"
          },
          {
           "alignmentgroup": "True",
           "hovertemplate": "color=Texas<br>animation_frame=1948<br>x=%{x}<br>y=%{y}<extra></extra>",
           "legendgroup": "Texas",
           "marker": {
            "color": "#FECB52"
           },
           "name": "Texas",
           "offsetgroup": "Texas",
           "orientation": "h",
           "showlegend": true,
           "textposition": "auto",
           "type": "bar",
           "x": [
            7532384
           ],
           "xaxis": "x",
           "y": [
            "Texas"
           ],
           "yaxis": "y"
          },
          {
           "alignmentgroup": "True",
           "hovertemplate": "color=California<br>animation_frame=1948<br>x=%{x}<br>y=%{y}<extra></extra>",
           "legendgroup": "California",
           "marker": {
            "color": "#636efa"
           },
           "name": "California",
           "offsetgroup": "California",
           "orientation": "h",
           "showlegend": true,
           "textposition": "auto",
           "type": "bar",
           "x": [
            10078797
           ],
           "xaxis": "x",
           "y": [
            "California"
           ],
           "yaxis": "y"
          }
         ],
         "name": "1948"
        },
        {
         "data": [
          {
           "alignmentgroup": "True",
           "hovertemplate": "color=Pennsylvania<br>animation_frame=1956<br>x=%{x}<br>y=%{y}<extra></extra>",
           "legendgroup": "Pennsylvania",
           "marker": {
            "color": "#EF553B"
           },
           "name": "Pennsylvania",
           "offsetgroup": "Pennsylvania",
           "orientation": "h",
           "showlegend": true,
           "textposition": "auto",
           "type": "bar",
           "x": [
            11036140
           ],
           "xaxis": "x",
           "y": [
            "Pennsylvania"
           ],
           "yaxis": "y"
          },
          {
           "alignmentgroup": "True",
           "hovertemplate": "color=Massachusetts<br>animation_frame=1956<br>x=%{x}<br>y=%{y}<extra></extra>",
           "legendgroup": "Massachusetts",
           "marker": {
            "color": "#ab63fa"
           },
           "name": "Massachusetts",
           "offsetgroup": "Massachusetts",
           "orientation": "h",
           "showlegend": true,
           "textposition": "auto",
           "type": "bar",
           "x": [
            4990625
           ],
           "xaxis": "x",
           "y": [
            "Massachusetts"
           ],
           "yaxis": "y"
          },
          {
           "alignmentgroup": "True",
           "hovertemplate": "color=New York<br>animation_frame=1956<br>x=%{x}<br>y=%{y}<extra></extra>",
           "legendgroup": "New York",
           "marker": {
            "color": "#FFA15A"
           },
           "name": "New York",
           "offsetgroup": "New York",
           "orientation": "h",
           "showlegend": true,
           "textposition": "auto",
           "type": "bar",
           "x": [
            16109162
           ],
           "xaxis": "x",
           "y": [
            "New York"
           ],
           "yaxis": "y"
          },
          {
           "alignmentgroup": "True",
           "hovertemplate": "color=New Jersey<br>animation_frame=1956<br>x=%{x}<br>y=%{y}<extra></extra>",
           "legendgroup": "New Jersey",
           "marker": {
            "color": "#FF97FF"
           },
           "name": "New Jersey",
           "offsetgroup": "New Jersey",
           "orientation": "h",
           "showlegend": true,
           "textposition": "auto",
           "type": "bar",
           "x": [
            5642143
           ],
           "xaxis": "x",
           "y": [
            "New Jersey"
           ],
           "yaxis": "y"
          },
          {
           "alignmentgroup": "True",
           "hovertemplate": "color=Ohio<br>animation_frame=1956<br>x=%{x}<br>y=%{y}<extra></extra>",
           "legendgroup": "Ohio",
           "marker": {
            "color": "#EF553B"
           },
           "name": "Ohio",
           "offsetgroup": "Ohio",
           "orientation": "h",
           "showlegend": true,
           "textposition": "auto",
           "type": "bar",
           "x": [
            9099580
           ],
           "xaxis": "x",
           "y": [
            "Ohio"
           ],
           "yaxis": "y"
          },
          {
           "alignmentgroup": "True",
           "hovertemplate": "color=Indiana<br>animation_frame=1956<br>x=%{x}<br>y=%{y}<extra></extra>",
           "legendgroup": "Indiana",
           "marker": {
            "color": "#FFA15A"
           },
           "name": "Indiana",
           "offsetgroup": "Indiana",
           "orientation": "h",
           "showlegend": true,
           "textposition": "auto",
           "type": "bar",
           "x": [
            4411369
           ],
           "xaxis": "x",
           "y": [
            "Indiana"
           ],
           "yaxis": "y"
          },
          {
           "alignmentgroup": "True",
           "hovertemplate": "color=Illinois<br>animation_frame=1956<br>x=%{x}<br>y=%{y}<extra></extra>",
           "legendgroup": "Illinois",
           "marker": {
            "color": "#19d3f3"
           },
           "name": "Illinois",
           "offsetgroup": "Illinois",
           "orientation": "h",
           "showlegend": true,
           "textposition": "auto",
           "type": "bar",
           "x": [
            9609095
           ],
           "xaxis": "x",
           "y": [
            "Illinois"
           ],
           "yaxis": "y"
          },
          {
           "alignmentgroup": "True",
           "hovertemplate": "color=Michigan<br>animation_frame=1956<br>x=%{x}<br>y=%{y}<extra></extra>",
           "legendgroup": "Michigan",
           "marker": {
            "color": "#B6E880"
           },
           "name": "Michigan",
           "offsetgroup": "Michigan",
           "orientation": "h",
           "showlegend": true,
           "textposition": "auto",
           "type": "bar",
           "x": [
            7322702
           ],
           "xaxis": "x",
           "y": [
            "Michigan"
           ],
           "yaxis": "y"
          },
          {
           "alignmentgroup": "True",
           "hovertemplate": "color=Texas<br>animation_frame=1956<br>x=%{x}<br>y=%{y}<extra></extra>",
           "legendgroup": "Texas",
           "marker": {
            "color": "#FECB52"
           },
           "name": "Texas",
           "offsetgroup": "Texas",
           "orientation": "h",
           "showlegend": true,
           "textposition": "auto",
           "type": "bar",
           "x": [
            8935373
           ],
           "xaxis": "x",
           "y": [
            "Texas"
           ],
           "yaxis": "y"
          },
          {
           "alignmentgroup": "True",
           "hovertemplate": "color=California<br>animation_frame=1956<br>x=%{x}<br>y=%{y}<extra></extra>",
           "legendgroup": "California",
           "marker": {
            "color": "#636efa"
           },
           "name": "California",
           "offsetgroup": "California",
           "orientation": "h",
           "showlegend": true,
           "textposition": "auto",
           "type": "bar",
           "x": [
            13947900
           ],
           "xaxis": "x",
           "y": [
            "California"
           ],
           "yaxis": "y"
          }
         ],
         "name": "1956"
        },
        {
         "data": [
          {
           "alignmentgroup": "True",
           "hovertemplate": "color=Pennsylvania<br>animation_frame=1964<br>x=%{x}<br>y=%{y}<extra></extra>",
           "legendgroup": "Pennsylvania",
           "marker": {
            "color": "#EF553B"
           },
           "name": "Pennsylvania",
           "offsetgroup": "Pennsylvania",
           "orientation": "h",
           "showlegend": true,
           "textposition": "auto",
           "type": "bar",
           "x": [
            11532092
           ],
           "xaxis": "x",
           "y": [
            "Pennsylvania"
           ],
           "yaxis": "y"
          },
          {
           "alignmentgroup": "True",
           "hovertemplate": "color=Massachusetts<br>animation_frame=1964<br>x=%{x}<br>y=%{y}<extra></extra>",
           "legendgroup": "Massachusetts",
           "marker": {
            "color": "#ab63fa"
           },
           "name": "Massachusetts",
           "offsetgroup": "Massachusetts",
           "orientation": "h",
           "showlegend": true,
           "textposition": "auto",
           "type": "bar",
           "x": [
            5390912
           ],
           "xaxis": "x",
           "y": [
            "Massachusetts"
           ],
           "yaxis": "y"
          },
          {
           "alignmentgroup": "True",
           "hovertemplate": "color=New York<br>animation_frame=1964<br>x=%{x}<br>y=%{y}<extra></extra>",
           "legendgroup": "New York",
           "marker": {
            "color": "#FFA15A"
           },
           "name": "New York",
           "offsetgroup": "New York",
           "orientation": "h",
           "showlegend": true,
           "textposition": "auto",
           "type": "bar",
           "x": [
            17434394
           ],
           "xaxis": "x",
           "y": [
            "New York"
           ],
           "yaxis": "y"
          },
          {
           "alignmentgroup": "True",
           "hovertemplate": "color=New Jersey<br>animation_frame=1964<br>x=%{x}<br>y=%{y}<extra></extra>",
           "legendgroup": "New Jersey",
           "marker": {
            "color": "#FF97FF"
           },
           "name": "New Jersey",
           "offsetgroup": "New Jersey",
           "orientation": "h",
           "showlegend": true,
           "textposition": "auto",
           "type": "bar",
           "x": [
            6560505
           ],
           "xaxis": "x",
           "y": [
            "New Jersey"
           ],
           "yaxis": "y"
          },
          {
           "alignmentgroup": "True",
           "hovertemplate": "color=Ohio<br>animation_frame=1964<br>x=%{x}<br>y=%{y}<extra></extra>",
           "legendgroup": "Ohio",
           "marker": {
            "color": "#EF553B"
           },
           "name": "Ohio",
           "offsetgroup": "Ohio",
           "orientation": "h",
           "showlegend": true,
           "textposition": "auto",
           "type": "bar",
           "x": [
            10130296
           ],
           "xaxis": "x",
           "y": [
            "Ohio"
           ],
           "yaxis": "y"
          },
          {
           "alignmentgroup": "True",
           "hovertemplate": "color=Illinois<br>animation_frame=1964<br>x=%{x}<br>y=%{y}<extra></extra>",
           "legendgroup": "Illinois",
           "marker": {
            "color": "#19d3f3"
           },
           "name": "Illinois",
           "offsetgroup": "Illinois",
           "orientation": "h",
           "showlegend": true,
           "textposition": "auto",
           "type": "bar",
           "x": [
            10544145
           ],
           "xaxis": "x",
           "y": [
            "Illinois"
           ],
           "yaxis": "y"
          },
          {
           "alignmentgroup": "True",
           "hovertemplate": "color=Michigan<br>animation_frame=1964<br>x=%{x}<br>y=%{y}<extra></extra>",
           "legendgroup": "Michigan",
           "marker": {
            "color": "#B6E880"
           },
           "name": "Michigan",
           "offsetgroup": "Michigan",
           "orientation": "h",
           "showlegend": true,
           "textposition": "auto",
           "type": "bar",
           "x": [
            8294730
           ],
           "xaxis": "x",
           "y": [
            "Michigan"
           ],
           "yaxis": "y"
          },
          {
           "alignmentgroup": "True",
           "hovertemplate": "color=Texas<br>animation_frame=1964<br>x=%{x}<br>y=%{y}<extra></extra>",
           "legendgroup": "Texas",
           "marker": {
            "color": "#FECB52"
           },
           "name": "Texas",
           "offsetgroup": "Texas",
           "orientation": "h",
           "showlegend": true,
           "textposition": "auto",
           "type": "bar",
           "x": [
            10304563
           ],
           "xaxis": "x",
           "y": [
            "Texas"
           ],
           "yaxis": "y"
          },
          {
           "alignmentgroup": "True",
           "hovertemplate": "color=California<br>animation_frame=1964<br>x=%{x}<br>y=%{y}<extra></extra>",
           "legendgroup": "California",
           "marker": {
            "color": "#636efa"
           },
           "name": "California",
           "offsetgroup": "California",
           "orientation": "h",
           "showlegend": true,
           "textposition": "auto",
           "type": "bar",
           "x": [
            17616069
           ],
           "xaxis": "x",
           "y": [
            "California"
           ],
           "yaxis": "y"
          },
          {
           "alignmentgroup": "True",
           "hovertemplate": "color=Florida<br>animation_frame=1964<br>x=%{x}<br>y=%{y}<extra></extra>",
           "legendgroup": "Florida",
           "marker": {
            "color": "#EF553B"
           },
           "name": "Florida",
           "offsetgroup": "Florida",
           "orientation": "h",
           "showlegend": true,
           "textposition": "auto",
           "type": "bar",
           "x": [
            5775439
           ],
           "xaxis": "x",
           "y": [
            "Florida"
           ],
           "yaxis": "y"
          }
         ],
         "name": "1964"
        },
        {
         "data": [
          {
           "alignmentgroup": "True",
           "hovertemplate": "color=Pennsylvania<br>animation_frame=1972<br>x=%{x}<br>y=%{y}<extra></extra>",
           "legendgroup": "Pennsylvania",
           "marker": {
            "color": "#EF553B"
           },
           "name": "Pennsylvania",
           "offsetgroup": "Pennsylvania",
           "orientation": "h",
           "showlegend": true,
           "textposition": "auto",
           "type": "bar",
           "x": [
            11810802
           ],
           "xaxis": "x",
           "y": [
            "Pennsylvania"
           ],
           "yaxis": "y"
          },
          {
           "alignmentgroup": "True",
           "hovertemplate": "color=Massachusetts<br>animation_frame=1972<br>x=%{x}<br>y=%{y}<extra></extra>",
           "legendgroup": "Massachusetts",
           "marker": {
            "color": "#ab63fa"
           },
           "name": "Massachusetts",
           "offsetgroup": "Massachusetts",
           "orientation": "h",
           "showlegend": true,
           "textposition": "auto",
           "type": "bar",
           "x": [
            5700724
           ],
           "xaxis": "x",
           "y": [
            "Massachusetts"
           ],
           "yaxis": "y"
          },
          {
           "alignmentgroup": "True",
           "hovertemplate": "color=New York<br>animation_frame=1972<br>x=%{x}<br>y=%{y}<extra></extra>",
           "legendgroup": "New York",
           "marker": {
            "color": "#FFA15A"
           },
           "name": "New York",
           "offsetgroup": "New York",
           "orientation": "h",
           "showlegend": true,
           "textposition": "auto",
           "type": "bar",
           "x": [
            18073096
           ],
           "xaxis": "x",
           "y": [
            "New York"
           ],
           "yaxis": "y"
          },
          {
           "alignmentgroup": "True",
           "hovertemplate": "color=New Jersey<br>animation_frame=1972<br>x=%{x}<br>y=%{y}<extra></extra>",
           "legendgroup": "New Jersey",
           "marker": {
            "color": "#FF97FF"
           },
           "name": "New Jersey",
           "offsetgroup": "New Jersey",
           "orientation": "h",
           "showlegend": true,
           "textposition": "auto",
           "type": "bar",
           "x": [
            7215633
           ],
           "xaxis": "x",
           "y": [
            "New Jersey"
           ],
           "yaxis": "y"
          },
          {
           "alignmentgroup": "True",
           "hovertemplate": "color=Ohio<br>animation_frame=1972<br>x=%{x}<br>y=%{y}<extra></extra>",
           "legendgroup": "Ohio",
           "marker": {
            "color": "#EF553B"
           },
           "name": "Ohio",
           "offsetgroup": "Ohio",
           "orientation": "h",
           "showlegend": true,
           "textposition": "auto",
           "type": "bar",
           "x": [
            10687165
           ],
           "xaxis": "x",
           "y": [
            "Ohio"
           ],
           "yaxis": "y"
          },
          {
           "alignmentgroup": "True",
           "hovertemplate": "color=Illinois<br>animation_frame=1972<br>x=%{x}<br>y=%{y}<extra></extra>",
           "legendgroup": "Illinois",
           "marker": {
            "color": "#19d3f3"
           },
           "name": "Illinois",
           "offsetgroup": "Illinois",
           "orientation": "h",
           "showlegend": true,
           "textposition": "auto",
           "type": "bar",
           "x": [
            11189417
           ],
           "xaxis": "x",
           "y": [
            "Illinois"
           ],
           "yaxis": "y"
          },
          {
           "alignmentgroup": "True",
           "hovertemplate": "color=Michigan<br>animation_frame=1972<br>x=%{x}<br>y=%{y}<extra></extra>",
           "legendgroup": "Michigan",
           "marker": {
            "color": "#B6E880"
           },
           "name": "Michigan",
           "offsetgroup": "Michigan",
           "orientation": "h",
           "showlegend": true,
           "textposition": "auto",
           "type": "bar",
           "x": [
            8968496
           ],
           "xaxis": "x",
           "y": [
            "Michigan"
           ],
           "yaxis": "y"
          },
          {
           "alignmentgroup": "True",
           "hovertemplate": "color=Texas<br>animation_frame=1972<br>x=%{x}<br>y=%{y}<extra></extra>",
           "legendgroup": "Texas",
           "marker": {
            "color": "#FECB52"
           },
           "name": "Texas",
           "offsetgroup": "Texas",
           "orientation": "h",
           "showlegend": true,
           "textposition": "auto",
           "type": "bar",
           "x": [
            11928703
           ],
           "xaxis": "x",
           "y": [
            "Texas"
           ],
           "yaxis": "y"
          },
          {
           "alignmentgroup": "True",
           "hovertemplate": "color=California<br>animation_frame=1972<br>x=%{x}<br>y=%{y}<extra></extra>",
           "legendgroup": "California",
           "marker": {
            "color": "#636efa"
           },
           "name": "California",
           "offsetgroup": "California",
           "orientation": "h",
           "showlegend": true,
           "textposition": "auto",
           "type": "bar",
           "x": [
            20849802
           ],
           "xaxis": "x",
           "y": [
            "California"
           ],
           "yaxis": "y"
          },
          {
           "alignmentgroup": "True",
           "hovertemplate": "color=Florida<br>animation_frame=1972<br>x=%{x}<br>y=%{y}<extra></extra>",
           "legendgroup": "Florida",
           "marker": {
            "color": "#EF553B"
           },
           "name": "Florida",
           "offsetgroup": "Florida",
           "orientation": "h",
           "showlegend": true,
           "textposition": "auto",
           "type": "bar",
           "x": [
            7503173
           ],
           "xaxis": "x",
           "y": [
            "Florida"
           ],
           "yaxis": "y"
          }
         ],
         "name": "1972"
        },
        {
         "data": [
          {
           "alignmentgroup": "True",
           "hovertemplate": "color=Pennsylvania<br>animation_frame=1980<br>x=%{x}<br>y=%{y}<extra></extra>",
           "legendgroup": "Pennsylvania",
           "marker": {
            "color": "#EF553B"
           },
           "name": "Pennsylvania",
           "offsetgroup": "Pennsylvania",
           "orientation": "h",
           "showlegend": true,
           "textposition": "auto",
           "type": "bar",
           "x": [
            11864507
           ],
           "xaxis": "x",
           "y": [
            "Pennsylvania"
           ],
           "yaxis": "y"
          },
          {
           "alignmentgroup": "True",
           "hovertemplate": "color=North Carolina<br>animation_frame=1980<br>x=%{x}<br>y=%{y}<extra></extra>",
           "legendgroup": "North Carolina",
           "marker": {
            "color": "#00cc96"
           },
           "name": "North Carolina",
           "offsetgroup": "North Carolina",
           "orientation": "h",
           "showlegend": true,
           "textposition": "auto",
           "type": "bar",
           "x": [
            5907520
           ],
           "xaxis": "x",
           "y": [
            "North Carolina"
           ],
           "yaxis": "y"
          },
          {
           "alignmentgroup": "True",
           "hovertemplate": "color=New York<br>animation_frame=1980<br>x=%{x}<br>y=%{y}<extra></extra>",
           "legendgroup": "New York",
           "marker": {
            "color": "#FFA15A"
           },
           "name": "New York",
           "offsetgroup": "New York",
           "orientation": "h",
           "showlegend": true,
           "textposition": "auto",
           "type": "bar",
           "x": [
            17572982
           ],
           "xaxis": "x",
           "y": [
            "New York"
           ],
           "yaxis": "y"
          },
          {
           "alignmentgroup": "True",
           "hovertemplate": "color=New Jersey<br>animation_frame=1980<br>x=%{x}<br>y=%{y}<extra></extra>",
           "legendgroup": "New Jersey",
           "marker": {
            "color": "#FF97FF"
           },
           "name": "New Jersey",
           "offsetgroup": "New Jersey",
           "orientation": "h",
           "showlegend": true,
           "textposition": "auto",
           "type": "bar",
           "x": [
            7377422
           ],
           "xaxis": "x",
           "y": [
            "New Jersey"
           ],
           "yaxis": "y"
          },
          {
           "alignmentgroup": "True",
           "hovertemplate": "color=Ohio<br>animation_frame=1980<br>x=%{x}<br>y=%{y}<extra></extra>",
           "legendgroup": "Ohio",
           "marker": {
            "color": "#EF553B"
           },
           "name": "Ohio",
           "offsetgroup": "Ohio",
           "orientation": "h",
           "showlegend": true,
           "textposition": "auto",
           "type": "bar",
           "x": [
            10799336
           ],
           "xaxis": "x",
           "y": [
            "Ohio"
           ],
           "yaxis": "y"
          },
          {
           "alignmentgroup": "True",
           "hovertemplate": "color=Illinois<br>animation_frame=1980<br>x=%{x}<br>y=%{y}<extra></extra>",
           "legendgroup": "Illinois",
           "marker": {
            "color": "#19d3f3"
           },
           "name": "Illinois",
           "offsetgroup": "Illinois",
           "orientation": "h",
           "showlegend": true,
           "textposition": "auto",
           "type": "bar",
           "x": [
            11426659
           ],
           "xaxis": "x",
           "y": [
            "Illinois"
           ],
           "yaxis": "y"
          },
          {
           "alignmentgroup": "True",
           "hovertemplate": "color=Michigan<br>animation_frame=1980<br>x=%{x}<br>y=%{y}<extra></extra>",
           "legendgroup": "Michigan",
           "marker": {
            "color": "#B6E880"
           },
           "name": "Michigan",
           "offsetgroup": "Michigan",
           "orientation": "h",
           "showlegend": true,
           "textposition": "auto",
           "type": "bar",
           "x": [
            9263223
           ],
           "xaxis": "x",
           "y": [
            "Michigan"
           ],
           "yaxis": "y"
          },
          {
           "alignmentgroup": "True",
           "hovertemplate": "color=Texas<br>animation_frame=1980<br>x=%{x}<br>y=%{y}<extra></extra>",
           "legendgroup": "Texas",
           "marker": {
            "color": "#FECB52"
           },
           "name": "Texas",
           "offsetgroup": "Texas",
           "orientation": "h",
           "showlegend": true,
           "textposition": "auto",
           "type": "bar",
           "x": [
            14324271
           ],
           "xaxis": "x",
           "y": [
            "Texas"
           ],
           "yaxis": "y"
          },
          {
           "alignmentgroup": "True",
           "hovertemplate": "color=California<br>animation_frame=1980<br>x=%{x}<br>y=%{y}<extra></extra>",
           "legendgroup": "California",
           "marker": {
            "color": "#636efa"
           },
           "name": "California",
           "offsetgroup": "California",
           "orientation": "h",
           "showlegend": true,
           "textposition": "auto",
           "type": "bar",
           "x": [
            23877975
           ],
           "xaxis": "x",
           "y": [
            "California"
           ],
           "yaxis": "y"
          },
          {
           "alignmentgroup": "True",
           "hovertemplate": "color=Florida<br>animation_frame=1980<br>x=%{x}<br>y=%{y}<extra></extra>",
           "legendgroup": "Florida",
           "marker": {
            "color": "#EF553B"
           },
           "name": "Florida",
           "offsetgroup": "Florida",
           "orientation": "h",
           "showlegend": true,
           "textposition": "auto",
           "type": "bar",
           "x": [
            9856379
           ],
           "xaxis": "x",
           "y": [
            "Florida"
           ],
           "yaxis": "y"
          }
         ],
         "name": "1980"
        },
        {
         "data": [
          {
           "alignmentgroup": "True",
           "hovertemplate": "color=Pennsylvania<br>animation_frame=1988<br>x=%{x}<br>y=%{y}<extra></extra>",
           "legendgroup": "Pennsylvania",
           "marker": {
            "color": "#EF553B"
           },
           "name": "Pennsylvania",
           "offsetgroup": "Pennsylvania",
           "orientation": "h",
           "showlegend": true,
           "textposition": "auto",
           "type": "bar",
           "x": [
            11878583
           ],
           "xaxis": "x",
           "y": [
            "Pennsylvania"
           ],
           "yaxis": "y"
          },
          {
           "alignmentgroup": "True",
           "hovertemplate": "color=North Carolina<br>animation_frame=1988<br>x=%{x}<br>y=%{y}<extra></extra>",
           "legendgroup": "North Carolina",
           "marker": {
            "color": "#00cc96"
           },
           "name": "North Carolina",
           "offsetgroup": "North Carolina",
           "orientation": "h",
           "showlegend": true,
           "textposition": "auto",
           "type": "bar",
           "x": [
            6499866
           ],
           "xaxis": "x",
           "y": [
            "North Carolina"
           ],
           "yaxis": "y"
          },
          {
           "alignmentgroup": "True",
           "hovertemplate": "color=New York<br>animation_frame=1988<br>x=%{x}<br>y=%{y}<extra></extra>",
           "legendgroup": "New York",
           "marker": {
            "color": "#FFA15A"
           },
           "name": "New York",
           "offsetgroup": "New York",
           "orientation": "h",
           "showlegend": true,
           "textposition": "auto",
           "type": "bar",
           "x": [
            17915906
           ],
           "xaxis": "x",
           "y": [
            "New York"
           ],
           "yaxis": "y"
          },
          {
           "alignmentgroup": "True",
           "hovertemplate": "color=New Jersey<br>animation_frame=1988<br>x=%{x}<br>y=%{y}<extra></extra>",
           "legendgroup": "New Jersey",
           "marker": {
            "color": "#FF97FF"
           },
           "name": "New Jersey",
           "offsetgroup": "New Jersey",
           "orientation": "h",
           "showlegend": true,
           "textposition": "auto",
           "type": "bar",
           "x": [
            7667194
           ],
           "xaxis": "x",
           "y": [
            "New Jersey"
           ],
           "yaxis": "y"
          },
          {
           "alignmentgroup": "True",
           "hovertemplate": "color=Ohio<br>animation_frame=1988<br>x=%{x}<br>y=%{y}<extra></extra>",
           "legendgroup": "Ohio",
           "marker": {
            "color": "#EF553B"
           },
           "name": "Ohio",
           "offsetgroup": "Ohio",
           "orientation": "h",
           "showlegend": true,
           "textposition": "auto",
           "type": "bar",
           "x": [
            10838583
           ],
           "xaxis": "x",
           "y": [
            "Ohio"
           ],
           "yaxis": "y"
          },
          {
           "alignmentgroup": "True",
           "hovertemplate": "color=Illinois<br>animation_frame=1988<br>x=%{x}<br>y=%{y}<extra></extra>",
           "legendgroup": "Illinois",
           "marker": {
            "color": "#19d3f3"
           },
           "name": "Illinois",
           "offsetgroup": "Illinois",
           "orientation": "h",
           "showlegend": true,
           "textposition": "auto",
           "type": "bar",
           "x": [
            11429898
           ],
           "xaxis": "x",
           "y": [
            "Illinois"
           ],
           "yaxis": "y"
          },
          {
           "alignmentgroup": "True",
           "hovertemplate": "color=Michigan<br>animation_frame=1988<br>x=%{x}<br>y=%{y}<extra></extra>",
           "legendgroup": "Michigan",
           "marker": {
            "color": "#B6E880"
           },
           "name": "Michigan",
           "offsetgroup": "Michigan",
           "orientation": "h",
           "showlegend": true,
           "textposition": "auto",
           "type": "bar",
           "x": [
            9289570
           ],
           "xaxis": "x",
           "y": [
            "Michigan"
           ],
           "yaxis": "y"
          },
          {
           "alignmentgroup": "True",
           "hovertemplate": "color=Texas<br>animation_frame=1988<br>x=%{x}<br>y=%{y}<extra></extra>",
           "legendgroup": "Texas",
           "marker": {
            "color": "#FECB52"
           },
           "name": "Texas",
           "offsetgroup": "Texas",
           "orientation": "h",
           "showlegend": true,
           "textposition": "auto",
           "type": "bar",
           "x": [
            16511110
           ],
           "xaxis": "x",
           "y": [
            "Texas"
           ],
           "yaxis": "y"
          },
          {
           "alignmentgroup": "True",
           "hovertemplate": "color=California<br>animation_frame=1988<br>x=%{x}<br>y=%{y}<extra></extra>",
           "legendgroup": "California",
           "marker": {
            "color": "#636efa"
           },
           "name": "California",
           "offsetgroup": "California",
           "orientation": "h",
           "showlegend": true,
           "textposition": "auto",
           "type": "bar",
           "x": [
            28709656
           ],
           "xaxis": "x",
           "y": [
            "California"
           ],
           "yaxis": "y"
          },
          {
           "alignmentgroup": "True",
           "hovertemplate": "color=Florida<br>animation_frame=1988<br>x=%{x}<br>y=%{y}<extra></extra>",
           "legendgroup": "Florida",
           "marker": {
            "color": "#EF553B"
           },
           "name": "Florida",
           "offsetgroup": "Florida",
           "orientation": "h",
           "showlegend": true,
           "textposition": "auto",
           "type": "bar",
           "x": [
            12387650
           ],
           "xaxis": "x",
           "y": [
            "Florida"
           ],
           "yaxis": "y"
          }
         ],
         "name": "1988"
        },
        {
         "data": [
          {
           "alignmentgroup": "True",
           "hovertemplate": "color=Pennsylvania<br>animation_frame=1996<br>x=%{x}<br>y=%{y}<extra></extra>",
           "legendgroup": "Pennsylvania",
           "marker": {
            "color": "#EF553B"
           },
           "name": "Pennsylvania",
           "offsetgroup": "Pennsylvania",
           "orientation": "h",
           "showlegend": true,
           "textposition": "auto",
           "type": "bar",
           "x": [
            12129553
           ],
           "xaxis": "x",
           "y": [
            "Pennsylvania"
           ],
           "yaxis": "y"
          },
          {
           "alignmentgroup": "True",
           "hovertemplate": "color=New York<br>animation_frame=1996<br>x=%{x}<br>y=%{y}<extra></extra>",
           "legendgroup": "New York",
           "marker": {
            "color": "#FFA15A"
           },
           "name": "New York",
           "offsetgroup": "New York",
           "orientation": "h",
           "showlegend": true,
           "textposition": "auto",
           "type": "bar",
           "x": [
            18602456
           ],
           "xaxis": "x",
           "y": [
            "New York"
           ],
           "yaxis": "y"
          },
          {
           "alignmentgroup": "True",
           "hovertemplate": "color=New Jersey<br>animation_frame=1996<br>x=%{x}<br>y=%{y}<extra></extra>",
           "legendgroup": "New Jersey",
           "marker": {
            "color": "#FF97FF"
           },
           "name": "New Jersey",
           "offsetgroup": "New Jersey",
           "orientation": "h",
           "showlegend": true,
           "textposition": "auto",
           "type": "bar",
           "x": [
            8154840
           ],
           "xaxis": "x",
           "y": [
            "New Jersey"
           ],
           "yaxis": "y"
          },
          {
           "alignmentgroup": "True",
           "hovertemplate": "color=Ohio<br>animation_frame=1996<br>x=%{x}<br>y=%{y}<extra></extra>",
           "legendgroup": "Ohio",
           "marker": {
            "color": "#EF553B"
           },
           "name": "Ohio",
           "offsetgroup": "Ohio",
           "orientation": "h",
           "showlegend": true,
           "textposition": "auto",
           "type": "bar",
           "x": [
            11161199
           ],
           "xaxis": "x",
           "y": [
            "Ohio"
           ],
           "yaxis": "y"
          },
          {
           "alignmentgroup": "True",
           "hovertemplate": "color=Georgia<br>animation_frame=1996<br>x=%{x}<br>y=%{y}<extra></extra>",
           "legendgroup": "Georgia",
           "marker": {
            "color": "#ab63fa"
           },
           "name": "Georgia",
           "offsetgroup": "Georgia",
           "orientation": "h",
           "showlegend": true,
           "textposition": "auto",
           "type": "bar",
           "x": [
            7538501
           ],
           "xaxis": "x",
           "y": [
            "Georgia"
           ],
           "yaxis": "y"
          },
          {
           "alignmentgroup": "True",
           "hovertemplate": "color=Illinois<br>animation_frame=1996<br>x=%{x}<br>y=%{y}<extra></extra>",
           "legendgroup": "Illinois",
           "marker": {
            "color": "#19d3f3"
           },
           "name": "Illinois",
           "offsetgroup": "Illinois",
           "orientation": "h",
           "showlegend": true,
           "textposition": "auto",
           "type": "bar",
           "x": [
            12044272
           ],
           "xaxis": "x",
           "y": [
            "Illinois"
           ],
           "yaxis": "y"
          },
          {
           "alignmentgroup": "True",
           "hovertemplate": "color=Michigan<br>animation_frame=1996<br>x=%{x}<br>y=%{y}<extra></extra>",
           "legendgroup": "Michigan",
           "marker": {
            "color": "#B6E880"
           },
           "name": "Michigan",
           "offsetgroup": "Michigan",
           "orientation": "h",
           "showlegend": true,
           "textposition": "auto",
           "type": "bar",
           "x": [
            9694492
           ],
           "xaxis": "x",
           "y": [
            "Michigan"
           ],
           "yaxis": "y"
          },
          {
           "alignmentgroup": "True",
           "hovertemplate": "color=Texas<br>animation_frame=1996<br>x=%{x}<br>y=%{y}<extra></extra>",
           "legendgroup": "Texas",
           "marker": {
            "color": "#FECB52"
           },
           "name": "Texas",
           "offsetgroup": "Texas",
           "orientation": "h",
           "showlegend": true,
           "textposition": "auto",
           "type": "bar",
           "x": [
            19385668
           ],
           "xaxis": "x",
           "y": [
            "Texas"
           ],
           "yaxis": "y"
          },
          {
           "alignmentgroup": "True",
           "hovertemplate": "color=California<br>animation_frame=1996<br>x=%{x}<br>y=%{y}<extra></extra>",
           "legendgroup": "California",
           "marker": {
            "color": "#636efa"
           },
           "name": "California",
           "offsetgroup": "California",
           "orientation": "h",
           "showlegend": true,
           "textposition": "auto",
           "type": "bar",
           "x": [
            32312065
           ],
           "xaxis": "x",
           "y": [
            "California"
           ],
           "yaxis": "y"
          },
          {
           "alignmentgroup": "True",
           "hovertemplate": "color=Florida<br>animation_frame=1996<br>x=%{x}<br>y=%{y}<extra></extra>",
           "legendgroup": "Florida",
           "marker": {
            "color": "#EF553B"
           },
           "name": "Florida",
           "offsetgroup": "Florida",
           "orientation": "h",
           "showlegend": true,
           "textposition": "auto",
           "type": "bar",
           "x": [
            14827586
           ],
           "xaxis": "x",
           "y": [
            "Florida"
           ],
           "yaxis": "y"
          }
         ],
         "name": "1996"
        },
        {
         "data": [
          {
           "alignmentgroup": "True",
           "hovertemplate": "color=Pennsylvania<br>animation_frame=2004<br>x=%{x}<br>y=%{y}<extra></extra>",
           "legendgroup": "Pennsylvania",
           "marker": {
            "color": "#EF553B"
           },
           "name": "Pennsylvania",
           "offsetgroup": "Pennsylvania",
           "orientation": "h",
           "showlegend": true,
           "textposition": "auto",
           "type": "bar",
           "x": [
            12455395
           ],
           "xaxis": "x",
           "y": [
            "Pennsylvania"
           ],
           "yaxis": "y"
          },
          {
           "alignmentgroup": "True",
           "hovertemplate": "color=North Carolina<br>animation_frame=2004<br>x=%{x}<br>y=%{y}<extra></extra>",
           "legendgroup": "North Carolina",
           "marker": {
            "color": "#00cc96"
           },
           "name": "North Carolina",
           "offsetgroup": "North Carolina",
           "orientation": "h",
           "showlegend": true,
           "textposition": "auto",
           "type": "bar",
           "x": [
            8664280
           ],
           "xaxis": "x",
           "y": [
            "North Carolina"
           ],
           "yaxis": "y"
          },
          {
           "alignmentgroup": "True",
           "hovertemplate": "color=New York<br>animation_frame=2004<br>x=%{x}<br>y=%{y}<extra></extra>",
           "legendgroup": "New York",
           "marker": {
            "color": "#FFA15A"
           },
           "name": "New York",
           "offsetgroup": "New York",
           "orientation": "h",
           "showlegend": true,
           "textposition": "auto",
           "type": "bar",
           "x": [
            19142655
           ],
           "xaxis": "x",
           "y": [
            "New York"
           ],
           "yaxis": "y"
          },
          {
           "alignmentgroup": "True",
           "hovertemplate": "color=Ohio<br>animation_frame=2004<br>x=%{x}<br>y=%{y}<extra></extra>",
           "legendgroup": "Ohio",
           "marker": {
            "color": "#EF553B"
           },
           "name": "Ohio",
           "offsetgroup": "Ohio",
           "orientation": "h",
           "showlegend": true,
           "textposition": "auto",
           "type": "bar",
           "x": [
            11429015
           ],
           "xaxis": "x",
           "y": [
            "Ohio"
           ],
           "yaxis": "y"
          },
          {
           "alignmentgroup": "True",
           "hovertemplate": "color=Georgia<br>animation_frame=2004<br>x=%{x}<br>y=%{y}<extra></extra>",
           "legendgroup": "Georgia",
           "marker": {
            "color": "#ab63fa"
           },
           "name": "Georgia",
           "offsetgroup": "Georgia",
           "orientation": "h",
           "showlegend": true,
           "textposition": "auto",
           "type": "bar",
           "x": [
            8807639
           ],
           "xaxis": "x",
           "y": [
            "Georgia"
           ],
           "yaxis": "y"
          },
          {
           "alignmentgroup": "True",
           "hovertemplate": "color=Illinois<br>animation_frame=2004<br>x=%{x}<br>y=%{y}<extra></extra>",
           "legendgroup": "Illinois",
           "marker": {
            "color": "#19d3f3"
           },
           "name": "Illinois",
           "offsetgroup": "Illinois",
           "orientation": "h",
           "showlegend": true,
           "textposition": "auto",
           "type": "bar",
           "x": [
            12589502
           ],
           "xaxis": "x",
           "y": [
            "Illinois"
           ],
           "yaxis": "y"
          },
          {
           "alignmentgroup": "True",
           "hovertemplate": "color=Michigan<br>animation_frame=2004<br>x=%{x}<br>y=%{y}<extra></extra>",
           "legendgroup": "Michigan",
           "marker": {
            "color": "#B6E880"
           },
           "name": "Michigan",
           "offsetgroup": "Michigan",
           "orientation": "h",
           "showlegend": true,
           "textposition": "auto",
           "type": "bar",
           "x": [
            9915766
           ],
           "xaxis": "x",
           "y": [
            "Michigan"
           ],
           "yaxis": "y"
          },
          {
           "alignmentgroup": "True",
           "hovertemplate": "color=Texas<br>animation_frame=2004<br>x=%{x}<br>y=%{y}<extra></extra>",
           "legendgroup": "Texas",
           "marker": {
            "color": "#FECB52"
           },
           "name": "Texas",
           "offsetgroup": "Texas",
           "orientation": "h",
           "showlegend": true,
           "textposition": "auto",
           "type": "bar",
           "x": [
            22628540
           ],
           "xaxis": "x",
           "y": [
            "Texas"
           ],
           "yaxis": "y"
          },
          {
           "alignmentgroup": "True",
           "hovertemplate": "color=California<br>animation_frame=2004<br>x=%{x}<br>y=%{y}<extra></extra>",
           "legendgroup": "California",
           "marker": {
            "color": "#636efa"
           },
           "name": "California",
           "offsetgroup": "California",
           "orientation": "h",
           "showlegend": true,
           "textposition": "auto",
           "type": "bar",
           "x": [
            35271224
           ],
           "xaxis": "x",
           "y": [
            "California"
           ],
           "yaxis": "y"
          },
          {
           "alignmentgroup": "True",
           "hovertemplate": "color=Florida<br>animation_frame=2004<br>x=%{x}<br>y=%{y}<extra></extra>",
           "legendgroup": "Florida",
           "marker": {
            "color": "#EF553B"
           },
           "name": "Florida",
           "offsetgroup": "Florida",
           "orientation": "h",
           "showlegend": true,
           "textposition": "auto",
           "type": "bar",
           "x": [
            17148833
           ],
           "xaxis": "x",
           "y": [
            "Florida"
           ],
           "yaxis": "y"
          }
         ],
         "name": "2004"
        },
        {
         "data": [
          {
           "alignmentgroup": "True",
           "hovertemplate": "color=Pennsylvania<br>animation_frame=2012<br>x=%{x}<br>y=%{y}<extra></extra>",
           "legendgroup": "Pennsylvania",
           "marker": {
            "color": "#EF553B"
           },
           "name": "Pennsylvania",
           "offsetgroup": "Pennsylvania",
           "orientation": "h",
           "showlegend": true,
           "textposition": "auto",
           "type": "bar",
           "x": [
            12742774
           ],
           "xaxis": "x",
           "y": [
            "Pennsylvania"
           ],
           "yaxis": "y"
          },
          {
           "alignmentgroup": "True",
           "hovertemplate": "color=North Carolina<br>animation_frame=2012<br>x=%{x}<br>y=%{y}<extra></extra>",
           "legendgroup": "North Carolina",
           "marker": {
            "color": "#00cc96"
           },
           "name": "North Carolina",
           "offsetgroup": "North Carolina",
           "orientation": "h",
           "showlegend": true,
           "textposition": "auto",
           "type": "bar",
           "x": [
            9727697
           ],
           "xaxis": "x",
           "y": [
            "North Carolina"
           ],
           "yaxis": "y"
          },
          {
           "alignmentgroup": "True",
           "hovertemplate": "color=New York<br>animation_frame=2012<br>x=%{x}<br>y=%{y}<extra></extra>",
           "legendgroup": "New York",
           "marker": {
            "color": "#FFA15A"
           },
           "name": "New York",
           "offsetgroup": "New York",
           "orientation": "h",
           "showlegend": true,
           "textposition": "auto",
           "type": "bar",
           "x": [
            19635439
           ],
           "xaxis": "x",
           "y": [
            "New York"
           ],
           "yaxis": "y"
          },
          {
           "alignmentgroup": "True",
           "hovertemplate": "color=Ohio<br>animation_frame=2012<br>x=%{x}<br>y=%{y}<extra></extra>",
           "legendgroup": "Ohio",
           "marker": {
            "color": "#EF553B"
           },
           "name": "Ohio",
           "offsetgroup": "Ohio",
           "orientation": "h",
           "showlegend": true,
           "textposition": "auto",
           "type": "bar",
           "x": [
            11604158
           ],
           "xaxis": "x",
           "y": [
            "Ohio"
           ],
           "yaxis": "y"
          },
          {
           "alignmentgroup": "True",
           "hovertemplate": "color=Georgia<br>animation_frame=2012<br>x=%{x}<br>y=%{y}<extra></extra>",
           "legendgroup": "Georgia",
           "marker": {
            "color": "#ab63fa"
           },
           "name": "Georgia",
           "offsetgroup": "Georgia",
           "orientation": "h",
           "showlegend": true,
           "textposition": "auto",
           "type": "bar",
           "x": [
            10023797
           ],
           "xaxis": "x",
           "y": [
            "Georgia"
           ],
           "yaxis": "y"
          },
          {
           "alignmentgroup": "True",
           "hovertemplate": "color=Illinois<br>animation_frame=2012<br>x=%{x}<br>y=%{y}<extra></extra>",
           "legendgroup": "Illinois",
           "marker": {
            "color": "#19d3f3"
           },
           "name": "Illinois",
           "offsetgroup": "Illinois",
           "orientation": "h",
           "showlegend": true,
           "textposition": "auto",
           "type": "bar",
           "x": [
            12900715
           ],
           "xaxis": "x",
           "y": [
            "Illinois"
           ],
           "yaxis": "y"
          },
          {
           "alignmentgroup": "True",
           "hovertemplate": "color=Michigan<br>animation_frame=2012<br>x=%{x}<br>y=%{y}<extra></extra>",
           "legendgroup": "Michigan",
           "marker": {
            "color": "#B6E880"
           },
           "name": "Michigan",
           "offsetgroup": "Michigan",
           "orientation": "h",
           "showlegend": true,
           "textposition": "auto",
           "type": "bar",
           "x": [
            9931789
           ],
           "xaxis": "x",
           "y": [
            "Michigan"
           ],
           "yaxis": "y"
          },
          {
           "alignmentgroup": "True",
           "hovertemplate": "color=Texas<br>animation_frame=2012<br>x=%{x}<br>y=%{y}<extra></extra>",
           "legendgroup": "Texas",
           "marker": {
            "color": "#FECB52"
           },
           "name": "Texas",
           "offsetgroup": "Texas",
           "orientation": "h",
           "showlegend": true,
           "textposition": "auto",
           "type": "bar",
           "x": [
            26326708
           ],
           "xaxis": "x",
           "y": [
            "Texas"
           ],
           "yaxis": "y"
          },
          {
           "alignmentgroup": "True",
           "hovertemplate": "color=California<br>animation_frame=2012<br>x=%{x}<br>y=%{y}<extra></extra>",
           "legendgroup": "California",
           "marker": {
            "color": "#636efa"
           },
           "name": "California",
           "offsetgroup": "California",
           "orientation": "h",
           "showlegend": true,
           "textposition": "auto",
           "type": "bar",
           "x": [
            37976457
           ],
           "xaxis": "x",
           "y": [
            "California"
           ],
           "yaxis": "y"
          },
          {
           "alignmentgroup": "True",
           "hovertemplate": "color=Florida<br>animation_frame=2012<br>x=%{x}<br>y=%{y}<extra></extra>",
           "legendgroup": "Florida",
           "marker": {
            "color": "#EF553B"
           },
           "name": "Florida",
           "offsetgroup": "Florida",
           "orientation": "h",
           "showlegend": true,
           "textposition": "auto",
           "type": "bar",
           "x": [
            19711113
           ],
           "xaxis": "x",
           "y": [
            "Florida"
           ],
           "yaxis": "y"
          }
         ],
         "name": "2012"
        },
        {
         "data": [
          {
           "alignmentgroup": "True",
           "hovertemplate": "color=Pennsylvania<br>animation_frame=2020<br>x=%{x}<br>y=%{y}<extra></extra>",
           "legendgroup": "Pennsylvania",
           "marker": {
            "color": "#EF553B"
           },
           "name": "Pennsylvania",
           "offsetgroup": "Pennsylvania",
           "orientation": "h",
           "showlegend": true,
           "textposition": "auto",
           "type": "bar",
           "x": [
            13002700
           ],
           "xaxis": "x",
           "y": [
            "Pennsylvania"
           ],
           "yaxis": "y"
          },
          {
           "alignmentgroup": "True",
           "hovertemplate": "color=North Carolina<br>animation_frame=2020<br>x=%{x}<br>y=%{y}<extra></extra>",
           "legendgroup": "North Carolina",
           "marker": {
            "color": "#00cc96"
           },
           "name": "North Carolina",
           "offsetgroup": "North Carolina",
           "orientation": "h",
           "showlegend": true,
           "textposition": "auto",
           "type": "bar",
           "x": [
            10439388
           ],
           "xaxis": "x",
           "y": [
            "North Carolina"
           ],
           "yaxis": "y"
          },
          {
           "alignmentgroup": "True",
           "hovertemplate": "color=New York<br>animation_frame=2020<br>x=%{x}<br>y=%{y}<extra></extra>",
           "legendgroup": "New York",
           "marker": {
            "color": "#FFA15A"
           },
           "name": "New York",
           "offsetgroup": "New York",
           "orientation": "h",
           "showlegend": true,
           "textposition": "auto",
           "type": "bar",
           "x": [
            20201249
           ],
           "xaxis": "x",
           "y": [
            "New York"
           ],
           "yaxis": "y"
          },
          {
           "alignmentgroup": "True",
           "hovertemplate": "color=Ohio<br>animation_frame=2020<br>x=%{x}<br>y=%{y}<extra></extra>",
           "legendgroup": "Ohio",
           "marker": {
            "color": "#EF553B"
           },
           "name": "Ohio",
           "offsetgroup": "Ohio",
           "orientation": "h",
           "showlegend": true,
           "textposition": "auto",
           "type": "bar",
           "x": [
            11799448
           ],
           "xaxis": "x",
           "y": [
            "Ohio"
           ],
           "yaxis": "y"
          },
          {
           "alignmentgroup": "True",
           "hovertemplate": "color=Georgia<br>animation_frame=2020<br>x=%{x}<br>y=%{y}<extra></extra>",
           "legendgroup": "Georgia",
           "marker": {
            "color": "#ab63fa"
           },
           "name": "Georgia",
           "offsetgroup": "Georgia",
           "orientation": "h",
           "showlegend": true,
           "textposition": "auto",
           "type": "bar",
           "x": [
            10711908
           ],
           "xaxis": "x",
           "y": [
            "Georgia"
           ],
           "yaxis": "y"
          },
          {
           "alignmentgroup": "True",
           "hovertemplate": "color=Illinois<br>animation_frame=2020<br>x=%{x}<br>y=%{y}<extra></extra>",
           "legendgroup": "Illinois",
           "marker": {
            "color": "#19d3f3"
           },
           "name": "Illinois",
           "offsetgroup": "Illinois",
           "orientation": "h",
           "showlegend": true,
           "textposition": "auto",
           "type": "bar",
           "x": [
            12812508
           ],
           "xaxis": "x",
           "y": [
            "Illinois"
           ],
           "yaxis": "y"
          },
          {
           "alignmentgroup": "True",
           "hovertemplate": "color=Michigan<br>animation_frame=2020<br>x=%{x}<br>y=%{y}<extra></extra>",
           "legendgroup": "Michigan",
           "marker": {
            "color": "#B6E880"
           },
           "name": "Michigan",
           "offsetgroup": "Michigan",
           "orientation": "h",
           "showlegend": true,
           "textposition": "auto",
           "type": "bar",
           "x": [
            10077331
           ],
           "xaxis": "x",
           "y": [
            "Michigan"
           ],
           "yaxis": "y"
          },
          {
           "alignmentgroup": "True",
           "hovertemplate": "color=Texas<br>animation_frame=2020<br>x=%{x}<br>y=%{y}<extra></extra>",
           "legendgroup": "Texas",
           "marker": {
            "color": "#FECB52"
           },
           "name": "Texas",
           "offsetgroup": "Texas",
           "orientation": "h",
           "showlegend": true,
           "textposition": "auto",
           "type": "bar",
           "x": [
            29145505
           ],
           "xaxis": "x",
           "y": [
            "Texas"
           ],
           "yaxis": "y"
          },
          {
           "alignmentgroup": "True",
           "hovertemplate": "color=California<br>animation_frame=2020<br>x=%{x}<br>y=%{y}<extra></extra>",
           "legendgroup": "California",
           "marker": {
            "color": "#636efa"
           },
           "name": "California",
           "offsetgroup": "California",
           "orientation": "h",
           "showlegend": true,
           "textposition": "auto",
           "type": "bar",
           "x": [
            39538223
           ],
           "xaxis": "x",
           "y": [
            "California"
           ],
           "yaxis": "y"
          },
          {
           "alignmentgroup": "True",
           "hovertemplate": "color=Florida<br>animation_frame=2020<br>x=%{x}<br>y=%{y}<extra></extra>",
           "legendgroup": "Florida",
           "marker": {
            "color": "#EF553B"
           },
           "name": "Florida",
           "offsetgroup": "Florida",
           "orientation": "h",
           "showlegend": true,
           "textposition": "auto",
           "type": "bar",
           "x": [
            21538187
           ],
           "xaxis": "x",
           "y": [
            "Florida"
           ],
           "yaxis": "y"
          }
         ],
         "name": "2020"
        }
       ],
       "layout": {
        "barmode": "relative",
        "legend": {
         "title": {
          "text": "color"
         },
         "tracegroupgap": 0
        },
        "margin": {
         "t": 60
        },
        "showlegend": false,
        "sliders": [
         {
          "active": 0,
          "currentvalue": {
           "prefix": "animation_frame="
          },
          "len": 0.9,
          "pad": {
           "b": 10,
           "t": 60
          },
          "steps": [
           {
            "args": [
             [
              "1790"
             ],
             {
              "frame": {
               "duration": 0,
               "redraw": true
              },
              "fromcurrent": true,
              "mode": "immediate",
              "transition": {
               "duration": 0,
               "easing": "linear"
              }
             }
            ],
            "label": "1790",
            "method": "animate"
           },
           {
            "args": [
             [
              "1797"
             ],
             {
              "frame": {
               "duration": 0,
               "redraw": true
              },
              "fromcurrent": true,
              "mode": "immediate",
              "transition": {
               "duration": 0,
               "easing": "linear"
              }
             }
            ],
            "label": "1797",
            "method": "animate"
           },
           {
            "args": [
             [
              "1805"
             ],
             {
              "frame": {
               "duration": 0,
               "redraw": true
              },
              "fromcurrent": true,
              "mode": "immediate",
              "transition": {
               "duration": 0,
               "easing": "linear"
              }
             }
            ],
            "label": "1805",
            "method": "animate"
           },
           {
            "args": [
             [
              "1813"
             ],
             {
              "frame": {
               "duration": 0,
               "redraw": true
              },
              "fromcurrent": true,
              "mode": "immediate",
              "transition": {
               "duration": 0,
               "easing": "linear"
              }
             }
            ],
            "label": "1813",
            "method": "animate"
           },
           {
            "args": [
             [
              "1821"
             ],
             {
              "frame": {
               "duration": 0,
               "redraw": true
              },
              "fromcurrent": true,
              "mode": "immediate",
              "transition": {
               "duration": 0,
               "easing": "linear"
              }
             }
            ],
            "label": "1821",
            "method": "animate"
           },
           {
            "args": [
             [
              "1829"
             ],
             {
              "frame": {
               "duration": 0,
               "redraw": true
              },
              "fromcurrent": true,
              "mode": "immediate",
              "transition": {
               "duration": 0,
               "easing": "linear"
              }
             }
            ],
            "label": "1829",
            "method": "animate"
           },
           {
            "args": [
             [
              "1837"
             ],
             {
              "frame": {
               "duration": 0,
               "redraw": true
              },
              "fromcurrent": true,
              "mode": "immediate",
              "transition": {
               "duration": 0,
               "easing": "linear"
              }
             }
            ],
            "label": "1837",
            "method": "animate"
           },
           {
            "args": [
             [
              "1845"
             ],
             {
              "frame": {
               "duration": 0,
               "redraw": true
              },
              "fromcurrent": true,
              "mode": "immediate",
              "transition": {
               "duration": 0,
               "easing": "linear"
              }
             }
            ],
            "label": "1845",
            "method": "animate"
           },
           {
            "args": [
             [
              "1853"
             ],
             {
              "frame": {
               "duration": 0,
               "redraw": true
              },
              "fromcurrent": true,
              "mode": "immediate",
              "transition": {
               "duration": 0,
               "easing": "linear"
              }
             }
            ],
            "label": "1853",
            "method": "animate"
           },
           {
            "args": [
             [
              "1861"
             ],
             {
              "frame": {
               "duration": 0,
               "redraw": true
              },
              "fromcurrent": true,
              "mode": "immediate",
              "transition": {
               "duration": 0,
               "easing": "linear"
              }
             }
            ],
            "label": "1861",
            "method": "animate"
           },
           {
            "args": [
             [
              "1869"
             ],
             {
              "frame": {
               "duration": 0,
               "redraw": true
              },
              "fromcurrent": true,
              "mode": "immediate",
              "transition": {
               "duration": 0,
               "easing": "linear"
              }
             }
            ],
            "label": "1869",
            "method": "animate"
           },
           {
            "args": [
             [
              "1877"
             ],
             {
              "frame": {
               "duration": 0,
               "redraw": true
              },
              "fromcurrent": true,
              "mode": "immediate",
              "transition": {
               "duration": 0,
               "easing": "linear"
              }
             }
            ],
            "label": "1877",
            "method": "animate"
           },
           {
            "args": [
             [
              "1885"
             ],
             {
              "frame": {
               "duration": 0,
               "redraw": true
              },
              "fromcurrent": true,
              "mode": "immediate",
              "transition": {
               "duration": 0,
               "easing": "linear"
              }
             }
            ],
            "label": "1885",
            "method": "animate"
           },
           {
            "args": [
             [
              "1893"
             ],
             {
              "frame": {
               "duration": 0,
               "redraw": true
              },
              "fromcurrent": true,
              "mode": "immediate",
              "transition": {
               "duration": 0,
               "easing": "linear"
              }
             }
            ],
            "label": "1893",
            "method": "animate"
           },
           {
            "args": [
             [
              "1901"
             ],
             {
              "frame": {
               "duration": 0,
               "redraw": true
              },
              "fromcurrent": true,
              "mode": "immediate",
              "transition": {
               "duration": 0,
               "easing": "linear"
              }
             }
            ],
            "label": "1901",
            "method": "animate"
           },
           {
            "args": [
             [
              "1908"
             ],
             {
              "frame": {
               "duration": 0,
               "redraw": true
              },
              "fromcurrent": true,
              "mode": "immediate",
              "transition": {
               "duration": 0,
               "easing": "linear"
              }
             }
            ],
            "label": "1908",
            "method": "animate"
           },
           {
            "args": [
             [
              "1916"
             ],
             {
              "frame": {
               "duration": 0,
               "redraw": true
              },
              "fromcurrent": true,
              "mode": "immediate",
              "transition": {
               "duration": 0,
               "easing": "linear"
              }
             }
            ],
            "label": "1916",
            "method": "animate"
           },
           {
            "args": [
             [
              "1924"
             ],
             {
              "frame": {
               "duration": 0,
               "redraw": true
              },
              "fromcurrent": true,
              "mode": "immediate",
              "transition": {
               "duration": 0,
               "easing": "linear"
              }
             }
            ],
            "label": "1924",
            "method": "animate"
           },
           {
            "args": [
             [
              "1932"
             ],
             {
              "frame": {
               "duration": 0,
               "redraw": true
              },
              "fromcurrent": true,
              "mode": "immediate",
              "transition": {
               "duration": 0,
               "easing": "linear"
              }
             }
            ],
            "label": "1932",
            "method": "animate"
           },
           {
            "args": [
             [
              "1940"
             ],
             {
              "frame": {
               "duration": 0,
               "redraw": true
              },
              "fromcurrent": true,
              "mode": "immediate",
              "transition": {
               "duration": 0,
               "easing": "linear"
              }
             }
            ],
            "label": "1940",
            "method": "animate"
           },
           {
            "args": [
             [
              "1948"
             ],
             {
              "frame": {
               "duration": 0,
               "redraw": true
              },
              "fromcurrent": true,
              "mode": "immediate",
              "transition": {
               "duration": 0,
               "easing": "linear"
              }
             }
            ],
            "label": "1948",
            "method": "animate"
           },
           {
            "args": [
             [
              "1956"
             ],
             {
              "frame": {
               "duration": 0,
               "redraw": true
              },
              "fromcurrent": true,
              "mode": "immediate",
              "transition": {
               "duration": 0,
               "easing": "linear"
              }
             }
            ],
            "label": "1956",
            "method": "animate"
           },
           {
            "args": [
             [
              "1964"
             ],
             {
              "frame": {
               "duration": 0,
               "redraw": true
              },
              "fromcurrent": true,
              "mode": "immediate",
              "transition": {
               "duration": 0,
               "easing": "linear"
              }
             }
            ],
            "label": "1964",
            "method": "animate"
           },
           {
            "args": [
             [
              "1972"
             ],
             {
              "frame": {
               "duration": 0,
               "redraw": true
              },
              "fromcurrent": true,
              "mode": "immediate",
              "transition": {
               "duration": 0,
               "easing": "linear"
              }
             }
            ],
            "label": "1972",
            "method": "animate"
           },
           {
            "args": [
             [
              "1980"
             ],
             {
              "frame": {
               "duration": 0,
               "redraw": true
              },
              "fromcurrent": true,
              "mode": "immediate",
              "transition": {
               "duration": 0,
               "easing": "linear"
              }
             }
            ],
            "label": "1980",
            "method": "animate"
           },
           {
            "args": [
             [
              "1988"
             ],
             {
              "frame": {
               "duration": 0,
               "redraw": true
              },
              "fromcurrent": true,
              "mode": "immediate",
              "transition": {
               "duration": 0,
               "easing": "linear"
              }
             }
            ],
            "label": "1988",
            "method": "animate"
           },
           {
            "args": [
             [
              "1996"
             ],
             {
              "frame": {
               "duration": 0,
               "redraw": true
              },
              "fromcurrent": true,
              "mode": "immediate",
              "transition": {
               "duration": 0,
               "easing": "linear"
              }
             }
            ],
            "label": "1996",
            "method": "animate"
           },
           {
            "args": [
             [
              "2004"
             ],
             {
              "frame": {
               "duration": 0,
               "redraw": true
              },
              "fromcurrent": true,
              "mode": "immediate",
              "transition": {
               "duration": 0,
               "easing": "linear"
              }
             }
            ],
            "label": "2004",
            "method": "animate"
           },
           {
            "args": [
             [
              "2012"
             ],
             {
              "frame": {
               "duration": 0,
               "redraw": true
              },
              "fromcurrent": true,
              "mode": "immediate",
              "transition": {
               "duration": 0,
               "easing": "linear"
              }
             }
            ],
            "label": "2012",
            "method": "animate"
           },
           {
            "args": [
             [
              "2020"
             ],
             {
              "frame": {
               "duration": 0,
               "redraw": true
              },
              "fromcurrent": true,
              "mode": "immediate",
              "transition": {
               "duration": 0,
               "easing": "linear"
              }
             }
            ],
            "label": "2020",
            "method": "animate"
           }
          ],
          "x": 0.1,
          "xanchor": "left",
          "y": 0,
          "yanchor": "top"
         }
        ],
        "template": {
         "data": {
          "bar": [
           {
            "error_x": {
             "color": "#2a3f5f"
            },
            "error_y": {
             "color": "#2a3f5f"
            },
            "marker": {
             "line": {
              "color": "#E5ECF6",
              "width": 0.5
             }
            },
            "type": "bar"
           }
          ],
          "barpolar": [
           {
            "marker": {
             "line": {
              "color": "#E5ECF6",
              "width": 0.5
             }
            },
            "type": "barpolar"
           }
          ],
          "carpet": [
           {
            "aaxis": {
             "endlinecolor": "#2a3f5f",
             "gridcolor": "white",
             "linecolor": "white",
             "minorgridcolor": "white",
             "startlinecolor": "#2a3f5f"
            },
            "baxis": {
             "endlinecolor": "#2a3f5f",
             "gridcolor": "white",
             "linecolor": "white",
             "minorgridcolor": "white",
             "startlinecolor": "#2a3f5f"
            },
            "type": "carpet"
           }
          ],
          "choropleth": [
           {
            "colorbar": {
             "outlinewidth": 0,
             "ticks": ""
            },
            "type": "choropleth"
           }
          ],
          "contour": [
           {
            "colorbar": {
             "outlinewidth": 0,
             "ticks": ""
            },
            "colorscale": [
             [
              0,
              "#0d0887"
             ],
             [
              0.1111111111111111,
              "#46039f"
             ],
             [
              0.2222222222222222,
              "#7201a8"
             ],
             [
              0.3333333333333333,
              "#9c179e"
             ],
             [
              0.4444444444444444,
              "#bd3786"
             ],
             [
              0.5555555555555556,
              "#d8576b"
             ],
             [
              0.6666666666666666,
              "#ed7953"
             ],
             [
              0.7777777777777778,
              "#fb9f3a"
             ],
             [
              0.8888888888888888,
              "#fdca26"
             ],
             [
              1,
              "#f0f921"
             ]
            ],
            "type": "contour"
           }
          ],
          "contourcarpet": [
           {
            "colorbar": {
             "outlinewidth": 0,
             "ticks": ""
            },
            "type": "contourcarpet"
           }
          ],
          "heatmap": [
           {
            "colorbar": {
             "outlinewidth": 0,
             "ticks": ""
            },
            "colorscale": [
             [
              0,
              "#0d0887"
             ],
             [
              0.1111111111111111,
              "#46039f"
             ],
             [
              0.2222222222222222,
              "#7201a8"
             ],
             [
              0.3333333333333333,
              "#9c179e"
             ],
             [
              0.4444444444444444,
              "#bd3786"
             ],
             [
              0.5555555555555556,
              "#d8576b"
             ],
             [
              0.6666666666666666,
              "#ed7953"
             ],
             [
              0.7777777777777778,
              "#fb9f3a"
             ],
             [
              0.8888888888888888,
              "#fdca26"
             ],
             [
              1,
              "#f0f921"
             ]
            ],
            "type": "heatmap"
           }
          ],
          "heatmapgl": [
           {
            "colorbar": {
             "outlinewidth": 0,
             "ticks": ""
            },
            "colorscale": [
             [
              0,
              "#0d0887"
             ],
             [
              0.1111111111111111,
              "#46039f"
             ],
             [
              0.2222222222222222,
              "#7201a8"
             ],
             [
              0.3333333333333333,
              "#9c179e"
             ],
             [
              0.4444444444444444,
              "#bd3786"
             ],
             [
              0.5555555555555556,
              "#d8576b"
             ],
             [
              0.6666666666666666,
              "#ed7953"
             ],
             [
              0.7777777777777778,
              "#fb9f3a"
             ],
             [
              0.8888888888888888,
              "#fdca26"
             ],
             [
              1,
              "#f0f921"
             ]
            ],
            "type": "heatmapgl"
           }
          ],
          "histogram": [
           {
            "marker": {
             "colorbar": {
              "outlinewidth": 0,
              "ticks": ""
             }
            },
            "type": "histogram"
           }
          ],
          "histogram2d": [
           {
            "colorbar": {
             "outlinewidth": 0,
             "ticks": ""
            },
            "colorscale": [
             [
              0,
              "#0d0887"
             ],
             [
              0.1111111111111111,
              "#46039f"
             ],
             [
              0.2222222222222222,
              "#7201a8"
             ],
             [
              0.3333333333333333,
              "#9c179e"
             ],
             [
              0.4444444444444444,
              "#bd3786"
             ],
             [
              0.5555555555555556,
              "#d8576b"
             ],
             [
              0.6666666666666666,
              "#ed7953"
             ],
             [
              0.7777777777777778,
              "#fb9f3a"
             ],
             [
              0.8888888888888888,
              "#fdca26"
             ],
             [
              1,
              "#f0f921"
             ]
            ],
            "type": "histogram2d"
           }
          ],
          "histogram2dcontour": [
           {
            "colorbar": {
             "outlinewidth": 0,
             "ticks": ""
            },
            "colorscale": [
             [
              0,
              "#0d0887"
             ],
             [
              0.1111111111111111,
              "#46039f"
             ],
             [
              0.2222222222222222,
              "#7201a8"
             ],
             [
              0.3333333333333333,
              "#9c179e"
             ],
             [
              0.4444444444444444,
              "#bd3786"
             ],
             [
              0.5555555555555556,
              "#d8576b"
             ],
             [
              0.6666666666666666,
              "#ed7953"
             ],
             [
              0.7777777777777778,
              "#fb9f3a"
             ],
             [
              0.8888888888888888,
              "#fdca26"
             ],
             [
              1,
              "#f0f921"
             ]
            ],
            "type": "histogram2dcontour"
           }
          ],
          "mesh3d": [
           {
            "colorbar": {
             "outlinewidth": 0,
             "ticks": ""
            },
            "type": "mesh3d"
           }
          ],
          "parcoords": [
           {
            "line": {
             "colorbar": {
              "outlinewidth": 0,
              "ticks": ""
             }
            },
            "type": "parcoords"
           }
          ],
          "pie": [
           {
            "automargin": true,
            "type": "pie"
           }
          ],
          "scatter": [
           {
            "marker": {
             "colorbar": {
              "outlinewidth": 0,
              "ticks": ""
             }
            },
            "type": "scatter"
           }
          ],
          "scatter3d": [
           {
            "line": {
             "colorbar": {
              "outlinewidth": 0,
              "ticks": ""
             }
            },
            "marker": {
             "colorbar": {
              "outlinewidth": 0,
              "ticks": ""
             }
            },
            "type": "scatter3d"
           }
          ],
          "scattercarpet": [
           {
            "marker": {
             "colorbar": {
              "outlinewidth": 0,
              "ticks": ""
             }
            },
            "type": "scattercarpet"
           }
          ],
          "scattergeo": [
           {
            "marker": {
             "colorbar": {
              "outlinewidth": 0,
              "ticks": ""
             }
            },
            "type": "scattergeo"
           }
          ],
          "scattergl": [
           {
            "marker": {
             "colorbar": {
              "outlinewidth": 0,
              "ticks": ""
             }
            },
            "type": "scattergl"
           }
          ],
          "scattermapbox": [
           {
            "marker": {
             "colorbar": {
              "outlinewidth": 0,
              "ticks": ""
             }
            },
            "type": "scattermapbox"
           }
          ],
          "scatterpolar": [
           {
            "marker": {
             "colorbar": {
              "outlinewidth": 0,
              "ticks": ""
             }
            },
            "type": "scatterpolar"
           }
          ],
          "scatterpolargl": [
           {
            "marker": {
             "colorbar": {
              "outlinewidth": 0,
              "ticks": ""
             }
            },
            "type": "scatterpolargl"
           }
          ],
          "scatterternary": [
           {
            "marker": {
             "colorbar": {
              "outlinewidth": 0,
              "ticks": ""
             }
            },
            "type": "scatterternary"
           }
          ],
          "surface": [
           {
            "colorbar": {
             "outlinewidth": 0,
             "ticks": ""
            },
            "colorscale": [
             [
              0,
              "#0d0887"
             ],
             [
              0.1111111111111111,
              "#46039f"
             ],
             [
              0.2222222222222222,
              "#7201a8"
             ],
             [
              0.3333333333333333,
              "#9c179e"
             ],
             [
              0.4444444444444444,
              "#bd3786"
             ],
             [
              0.5555555555555556,
              "#d8576b"
             ],
             [
              0.6666666666666666,
              "#ed7953"
             ],
             [
              0.7777777777777778,
              "#fb9f3a"
             ],
             [
              0.8888888888888888,
              "#fdca26"
             ],
             [
              1,
              "#f0f921"
             ]
            ],
            "type": "surface"
           }
          ],
          "table": [
           {
            "cells": {
             "fill": {
              "color": "#EBF0F8"
             },
             "line": {
              "color": "white"
             }
            },
            "header": {
             "fill": {
              "color": "#C8D4E3"
             },
             "line": {
              "color": "white"
             }
            },
            "type": "table"
           }
          ]
         },
         "layout": {
          "annotationdefaults": {
           "arrowcolor": "#2a3f5f",
           "arrowhead": 0,
           "arrowwidth": 1
          },
          "autotypenumbers": "strict",
          "coloraxis": {
           "colorbar": {
            "outlinewidth": 0,
            "ticks": ""
           }
          },
          "colorscale": {
           "diverging": [
            [
             0,
             "#8e0152"
            ],
            [
             0.1,
             "#c51b7d"
            ],
            [
             0.2,
             "#de77ae"
            ],
            [
             0.3,
             "#f1b6da"
            ],
            [
             0.4,
             "#fde0ef"
            ],
            [
             0.5,
             "#f7f7f7"
            ],
            [
             0.6,
             "#e6f5d0"
            ],
            [
             0.7,
             "#b8e186"
            ],
            [
             0.8,
             "#7fbc41"
            ],
            [
             0.9,
             "#4d9221"
            ],
            [
             1,
             "#276419"
            ]
           ],
           "sequential": [
            [
             0,
             "#0d0887"
            ],
            [
             0.1111111111111111,
             "#46039f"
            ],
            [
             0.2222222222222222,
             "#7201a8"
            ],
            [
             0.3333333333333333,
             "#9c179e"
            ],
            [
             0.4444444444444444,
             "#bd3786"
            ],
            [
             0.5555555555555556,
             "#d8576b"
            ],
            [
             0.6666666666666666,
             "#ed7953"
            ],
            [
             0.7777777777777778,
             "#fb9f3a"
            ],
            [
             0.8888888888888888,
             "#fdca26"
            ],
            [
             1,
             "#f0f921"
            ]
           ],
           "sequentialminus": [
            [
             0,
             "#0d0887"
            ],
            [
             0.1111111111111111,
             "#46039f"
            ],
            [
             0.2222222222222222,
             "#7201a8"
            ],
            [
             0.3333333333333333,
             "#9c179e"
            ],
            [
             0.4444444444444444,
             "#bd3786"
            ],
            [
             0.5555555555555556,
             "#d8576b"
            ],
            [
             0.6666666666666666,
             "#ed7953"
            ],
            [
             0.7777777777777778,
             "#fb9f3a"
            ],
            [
             0.8888888888888888,
             "#fdca26"
            ],
            [
             1,
             "#f0f921"
            ]
           ]
          },
          "colorway": [
           "#636efa",
           "#EF553B",
           "#00cc96",
           "#ab63fa",
           "#FFA15A",
           "#19d3f3",
           "#FF6692",
           "#B6E880",
           "#FF97FF",
           "#FECB52"
          ],
          "font": {
           "color": "#2a3f5f"
          },
          "geo": {
           "bgcolor": "white",
           "lakecolor": "white",
           "landcolor": "#E5ECF6",
           "showlakes": true,
           "showland": true,
           "subunitcolor": "white"
          },
          "hoverlabel": {
           "align": "left"
          },
          "hovermode": "closest",
          "mapbox": {
           "style": "light"
          },
          "paper_bgcolor": "white",
          "plot_bgcolor": "#E5ECF6",
          "polar": {
           "angularaxis": {
            "gridcolor": "white",
            "linecolor": "white",
            "ticks": ""
           },
           "bgcolor": "#E5ECF6",
           "radialaxis": {
            "gridcolor": "white",
            "linecolor": "white",
            "ticks": ""
           }
          },
          "scene": {
           "xaxis": {
            "backgroundcolor": "#E5ECF6",
            "gridcolor": "white",
            "gridwidth": 2,
            "linecolor": "white",
            "showbackground": true,
            "ticks": "",
            "zerolinecolor": "white"
           },
           "yaxis": {
            "backgroundcolor": "#E5ECF6",
            "gridcolor": "white",
            "gridwidth": 2,
            "linecolor": "white",
            "showbackground": true,
            "ticks": "",
            "zerolinecolor": "white"
           },
           "zaxis": {
            "backgroundcolor": "#E5ECF6",
            "gridcolor": "white",
            "gridwidth": 2,
            "linecolor": "white",
            "showbackground": true,
            "ticks": "",
            "zerolinecolor": "white"
           }
          },
          "shapedefaults": {
           "line": {
            "color": "#2a3f5f"
           }
          },
          "ternary": {
           "aaxis": {
            "gridcolor": "white",
            "linecolor": "white",
            "ticks": ""
           },
           "baxis": {
            "gridcolor": "white",
            "linecolor": "white",
            "ticks": ""
           },
           "bgcolor": "#E5ECF6",
           "caxis": {
            "gridcolor": "white",
            "linecolor": "white",
            "ticks": ""
           }
          },
          "title": {
           "x": 0.05
          },
          "xaxis": {
           "automargin": true,
           "gridcolor": "white",
           "linecolor": "white",
           "ticks": "",
           "title": {
            "standoff": 15
           },
           "zerolinecolor": "white",
           "zerolinewidth": 2
          },
          "yaxis": {
           "automargin": true,
           "gridcolor": "white",
           "linecolor": "white",
           "ticks": "",
           "title": {
            "standoff": 15
           },
           "zerolinecolor": "white",
           "zerolinewidth": 2
          }
         }
        },
        "title": {
         "text": "Evolution of State Population from 1790 - 2020"
        },
        "updatemenus": [
         {
          "buttons": [
           {
            "args": [
             null,
             {
              "frame": {
               "duration": 1000,
               "redraw": true
              },
              "fromcurrent": true,
              "mode": "immediate",
              "transition": {
               "duration": 1000,
               "easing": "linear"
              }
             }
            ],
            "label": "&#9654;",
            "method": "animate"
           },
           {
            "args": [
             [
              null
             ],
             {
              "frame": {
               "duration": 0,
               "redraw": true
              },
              "fromcurrent": true,
              "mode": "immediate",
              "transition": {
               "duration": 0,
               "easing": "linear"
              }
             }
            ],
            "label": "&#9724;",
            "method": "animate"
           }
          ],
          "direction": "left",
          "pad": {
           "r": 10,
           "t": 70
          },
          "showactive": false,
          "type": "buttons",
          "x": 0.1,
          "xanchor": "right",
          "y": 0,
          "yanchor": "top"
         }
        ],
        "xaxis": {
         "anchor": "y",
         "domain": [
          0,
          1
         ],
         "title": {
          "text": ""
         }
        },
        "yaxis": {
         "anchor": "x",
         "categoryorder": "total ascending",
         "domain": [
          0,
          1
         ],
         "title": {
          "text": ""
         }
        }
       }
      },
      "text/html": [
       "<div>                            <div id=\"ff00d82e-ad8d-4f68-9213-51859684b9f1\" class=\"plotly-graph-div\" style=\"height:525px; width:100%;\"></div>            <script type=\"text/javascript\">                require([\"plotly\"], function(Plotly) {                    window.PLOTLYENV=window.PLOTLYENV || {};                                    if (document.getElementById(\"ff00d82e-ad8d-4f68-9213-51859684b9f1\")) {                    Plotly.newPlot(                        \"ff00d82e-ad8d-4f68-9213-51859684b9f1\",                        [{\"alignmentgroup\": \"True\", \"hovertemplate\": \"color=Virginia<br>animation_frame=1790<br>x=%{x}<br>y=%{y}<extra></extra>\", \"legendgroup\": \"Virginia\", \"marker\": {\"color\": \"#636efa\"}, \"name\": \"Virginia\", \"offsetgroup\": \"Virginia\", \"orientation\": \"h\", \"showlegend\": true, \"textposition\": \"auto\", \"type\": \"bar\", \"x\": [691937.0], \"xaxis\": \"x\", \"y\": [\"Virginia\"], \"yaxis\": \"y\"}, {\"alignmentgroup\": \"True\", \"hovertemplate\": \"color=Pennsylvania<br>animation_frame=1790<br>x=%{x}<br>y=%{y}<extra></extra>\", \"legendgroup\": \"Pennsylvania\", \"marker\": {\"color\": \"#EF553B\"}, \"name\": \"Pennsylvania\", \"offsetgroup\": \"Pennsylvania\", \"orientation\": \"h\", \"showlegend\": true, \"textposition\": \"auto\", \"type\": \"bar\", \"x\": [434373.0], \"xaxis\": \"x\", \"y\": [\"Pennsylvania\"], \"yaxis\": \"y\"}, {\"alignmentgroup\": \"True\", \"hovertemplate\": \"color=North Carolina<br>animation_frame=1790<br>x=%{x}<br>y=%{y}<extra></extra>\", \"legendgroup\": \"North Carolina\", \"marker\": {\"color\": \"#00cc96\"}, \"name\": \"North Carolina\", \"offsetgroup\": \"North Carolina\", \"orientation\": \"h\", \"showlegend\": true, \"textposition\": \"auto\", \"type\": \"bar\", \"x\": [393751.0], \"xaxis\": \"x\", \"y\": [\"North Carolina\"], \"yaxis\": \"y\"}, {\"alignmentgroup\": \"True\", \"hovertemplate\": \"color=Massachusetts<br>animation_frame=1790<br>x=%{x}<br>y=%{y}<extra></extra>\", \"legendgroup\": \"Massachusetts\", \"marker\": {\"color\": \"#ab63fa\"}, \"name\": \"Massachusetts\", \"offsetgroup\": \"Massachusetts\", \"orientation\": \"h\", \"showlegend\": true, \"textposition\": \"auto\", \"type\": \"bar\", \"x\": [378787.0], \"xaxis\": \"x\", \"y\": [\"Massachusetts\"], \"yaxis\": \"y\"}, {\"alignmentgroup\": \"True\", \"hovertemplate\": \"color=New York<br>animation_frame=1790<br>x=%{x}<br>y=%{y}<extra></extra>\", \"legendgroup\": \"New York\", \"marker\": {\"color\": \"#FFA15A\"}, \"name\": \"New York\", \"offsetgroup\": \"New York\", \"orientation\": \"h\", \"showlegend\": true, \"textposition\": \"auto\", \"type\": \"bar\", \"x\": [340120.0], \"xaxis\": \"x\", \"y\": [\"New York\"], \"yaxis\": \"y\"}, {\"alignmentgroup\": \"True\", \"hovertemplate\": \"color=Maryland<br>animation_frame=1790<br>x=%{x}<br>y=%{y}<extra></extra>\", \"legendgroup\": \"Maryland\", \"marker\": {\"color\": \"#19d3f3\"}, \"name\": \"Maryland\", \"offsetgroup\": \"Maryland\", \"orientation\": \"h\", \"showlegend\": true, \"textposition\": \"auto\", \"type\": \"bar\", \"x\": [319728.0], \"xaxis\": \"x\", \"y\": [\"Maryland\"], \"yaxis\": \"y\"}, {\"alignmentgroup\": \"True\", \"hovertemplate\": \"color=South Carolina<br>animation_frame=1790<br>x=%{x}<br>y=%{y}<extra></extra>\", \"legendgroup\": \"South Carolina\", \"marker\": {\"color\": \"#FF6692\"}, \"name\": \"South Carolina\", \"offsetgroup\": \"South Carolina\", \"orientation\": \"h\", \"showlegend\": true, \"textposition\": \"auto\", \"type\": \"bar\", \"x\": [249073.0], \"xaxis\": \"x\", \"y\": [\"South Carolina\"], \"yaxis\": \"y\"}, {\"alignmentgroup\": \"True\", \"hovertemplate\": \"color=Connecticut<br>animation_frame=1790<br>x=%{x}<br>y=%{y}<extra></extra>\", \"legendgroup\": \"Connecticut\", \"marker\": {\"color\": \"#B6E880\"}, \"name\": \"Connecticut\", \"offsetgroup\": \"Connecticut\", \"orientation\": \"h\", \"showlegend\": true, \"textposition\": \"auto\", \"type\": \"bar\", \"x\": [237946.0], \"xaxis\": \"x\", \"y\": [\"Connecticut\"], \"yaxis\": \"y\"}, {\"alignmentgroup\": \"True\", \"hovertemplate\": \"color=New Jersey<br>animation_frame=1790<br>x=%{x}<br>y=%{y}<extra></extra>\", \"legendgroup\": \"New Jersey\", \"marker\": {\"color\": \"#FF97FF\"}, \"name\": \"New Jersey\", \"offsetgroup\": \"New Jersey\", \"orientation\": \"h\", \"showlegend\": true, \"textposition\": \"auto\", \"type\": \"bar\", \"x\": [184139.0], \"xaxis\": \"x\", \"y\": [\"New Jersey\"], \"yaxis\": \"y\"}, {\"alignmentgroup\": \"True\", \"hovertemplate\": \"color=New Hampshire<br>animation_frame=1790<br>x=%{x}<br>y=%{y}<extra></extra>\", \"legendgroup\": \"New Hampshire\", \"marker\": {\"color\": \"#FECB52\"}, \"name\": \"New Hampshire\", \"offsetgroup\": \"New Hampshire\", \"orientation\": \"h\", \"showlegend\": true, \"textposition\": \"auto\", \"type\": \"bar\", \"x\": [141885.0], \"xaxis\": \"x\", \"y\": [\"New Hampshire\"], \"yaxis\": \"y\"}],                        {\"barmode\": \"relative\", \"legend\": {\"title\": {\"text\": \"color\"}, \"tracegroupgap\": 0}, \"margin\": {\"t\": 60}, \"showlegend\": false, \"sliders\": [{\"active\": 0, \"currentvalue\": {\"prefix\": \"animation_frame=\"}, \"len\": 0.9, \"pad\": {\"b\": 10, \"t\": 60}, \"steps\": [{\"args\": [[\"1790\"], {\"frame\": {\"duration\": 0, \"redraw\": true}, \"fromcurrent\": true, \"mode\": \"immediate\", \"transition\": {\"duration\": 0, \"easing\": \"linear\"}}], \"label\": \"1790\", \"method\": \"animate\"}, {\"args\": [[\"1797\"], {\"frame\": {\"duration\": 0, \"redraw\": true}, \"fromcurrent\": true, \"mode\": \"immediate\", \"transition\": {\"duration\": 0, \"easing\": \"linear\"}}], \"label\": \"1797\", \"method\": \"animate\"}, {\"args\": [[\"1805\"], {\"frame\": {\"duration\": 0, \"redraw\": true}, \"fromcurrent\": true, \"mode\": \"immediate\", \"transition\": {\"duration\": 0, \"easing\": \"linear\"}}], \"label\": \"1805\", \"method\": \"animate\"}, {\"args\": [[\"1813\"], {\"frame\": {\"duration\": 0, \"redraw\": true}, \"fromcurrent\": true, \"mode\": \"immediate\", \"transition\": {\"duration\": 0, \"easing\": \"linear\"}}], \"label\": \"1813\", \"method\": \"animate\"}, {\"args\": [[\"1821\"], {\"frame\": {\"duration\": 0, \"redraw\": true}, \"fromcurrent\": true, \"mode\": \"immediate\", \"transition\": {\"duration\": 0, \"easing\": \"linear\"}}], \"label\": \"1821\", \"method\": \"animate\"}, {\"args\": [[\"1829\"], {\"frame\": {\"duration\": 0, \"redraw\": true}, \"fromcurrent\": true, \"mode\": \"immediate\", \"transition\": {\"duration\": 0, \"easing\": \"linear\"}}], \"label\": \"1829\", \"method\": \"animate\"}, {\"args\": [[\"1837\"], {\"frame\": {\"duration\": 0, \"redraw\": true}, \"fromcurrent\": true, \"mode\": \"immediate\", \"transition\": {\"duration\": 0, \"easing\": \"linear\"}}], \"label\": \"1837\", \"method\": \"animate\"}, {\"args\": [[\"1845\"], {\"frame\": {\"duration\": 0, \"redraw\": true}, \"fromcurrent\": true, \"mode\": \"immediate\", \"transition\": {\"duration\": 0, \"easing\": \"linear\"}}], \"label\": \"1845\", \"method\": \"animate\"}, {\"args\": [[\"1853\"], {\"frame\": {\"duration\": 0, \"redraw\": true}, \"fromcurrent\": true, \"mode\": \"immediate\", \"transition\": {\"duration\": 0, \"easing\": \"linear\"}}], \"label\": \"1853\", \"method\": \"animate\"}, {\"args\": [[\"1861\"], {\"frame\": {\"duration\": 0, \"redraw\": true}, \"fromcurrent\": true, \"mode\": \"immediate\", \"transition\": {\"duration\": 0, \"easing\": \"linear\"}}], \"label\": \"1861\", \"method\": \"animate\"}, {\"args\": [[\"1869\"], {\"frame\": {\"duration\": 0, \"redraw\": true}, \"fromcurrent\": true, \"mode\": \"immediate\", \"transition\": {\"duration\": 0, \"easing\": \"linear\"}}], \"label\": \"1869\", \"method\": \"animate\"}, {\"args\": [[\"1877\"], {\"frame\": {\"duration\": 0, \"redraw\": true}, \"fromcurrent\": true, \"mode\": \"immediate\", \"transition\": {\"duration\": 0, \"easing\": \"linear\"}}], \"label\": \"1877\", \"method\": \"animate\"}, {\"args\": [[\"1885\"], {\"frame\": {\"duration\": 0, \"redraw\": true}, \"fromcurrent\": true, \"mode\": \"immediate\", \"transition\": {\"duration\": 0, \"easing\": \"linear\"}}], \"label\": \"1885\", \"method\": \"animate\"}, {\"args\": [[\"1893\"], {\"frame\": {\"duration\": 0, \"redraw\": true}, \"fromcurrent\": true, \"mode\": \"immediate\", \"transition\": {\"duration\": 0, \"easing\": \"linear\"}}], \"label\": \"1893\", \"method\": \"animate\"}, {\"args\": [[\"1901\"], {\"frame\": {\"duration\": 0, \"redraw\": true}, \"fromcurrent\": true, \"mode\": \"immediate\", \"transition\": {\"duration\": 0, \"easing\": \"linear\"}}], \"label\": \"1901\", \"method\": \"animate\"}, {\"args\": [[\"1908\"], {\"frame\": {\"duration\": 0, \"redraw\": true}, \"fromcurrent\": true, \"mode\": \"immediate\", \"transition\": {\"duration\": 0, \"easing\": \"linear\"}}], \"label\": \"1908\", \"method\": \"animate\"}, {\"args\": [[\"1916\"], {\"frame\": {\"duration\": 0, \"redraw\": true}, \"fromcurrent\": true, \"mode\": \"immediate\", \"transition\": {\"duration\": 0, \"easing\": \"linear\"}}], \"label\": \"1916\", \"method\": \"animate\"}, {\"args\": [[\"1924\"], {\"frame\": {\"duration\": 0, \"redraw\": true}, \"fromcurrent\": true, \"mode\": \"immediate\", \"transition\": {\"duration\": 0, \"easing\": \"linear\"}}], \"label\": \"1924\", \"method\": \"animate\"}, {\"args\": [[\"1932\"], {\"frame\": {\"duration\": 0, \"redraw\": true}, \"fromcurrent\": true, \"mode\": \"immediate\", \"transition\": {\"duration\": 0, \"easing\": \"linear\"}}], \"label\": \"1932\", \"method\": \"animate\"}, {\"args\": [[\"1940\"], {\"frame\": {\"duration\": 0, \"redraw\": true}, \"fromcurrent\": true, \"mode\": \"immediate\", \"transition\": {\"duration\": 0, \"easing\": \"linear\"}}], \"label\": \"1940\", \"method\": \"animate\"}, {\"args\": [[\"1948\"], {\"frame\": {\"duration\": 0, \"redraw\": true}, \"fromcurrent\": true, \"mode\": \"immediate\", \"transition\": {\"duration\": 0, \"easing\": \"linear\"}}], \"label\": \"1948\", \"method\": \"animate\"}, {\"args\": [[\"1956\"], {\"frame\": {\"duration\": 0, \"redraw\": true}, \"fromcurrent\": true, \"mode\": \"immediate\", \"transition\": {\"duration\": 0, \"easing\": \"linear\"}}], \"label\": \"1956\", \"method\": \"animate\"}, {\"args\": [[\"1964\"], {\"frame\": {\"duration\": 0, \"redraw\": true}, \"fromcurrent\": true, \"mode\": \"immediate\", \"transition\": {\"duration\": 0, \"easing\": \"linear\"}}], \"label\": \"1964\", \"method\": \"animate\"}, {\"args\": [[\"1972\"], {\"frame\": {\"duration\": 0, \"redraw\": true}, \"fromcurrent\": true, \"mode\": \"immediate\", \"transition\": {\"duration\": 0, \"easing\": \"linear\"}}], \"label\": \"1972\", \"method\": \"animate\"}, {\"args\": [[\"1980\"], {\"frame\": {\"duration\": 0, \"redraw\": true}, \"fromcurrent\": true, \"mode\": \"immediate\", \"transition\": {\"duration\": 0, \"easing\": \"linear\"}}], \"label\": \"1980\", \"method\": \"animate\"}, {\"args\": [[\"1988\"], {\"frame\": {\"duration\": 0, \"redraw\": true}, \"fromcurrent\": true, \"mode\": \"immediate\", \"transition\": {\"duration\": 0, \"easing\": \"linear\"}}], \"label\": \"1988\", \"method\": \"animate\"}, {\"args\": [[\"1996\"], {\"frame\": {\"duration\": 0, \"redraw\": true}, \"fromcurrent\": true, \"mode\": \"immediate\", \"transition\": {\"duration\": 0, \"easing\": \"linear\"}}], \"label\": \"1996\", \"method\": \"animate\"}, {\"args\": [[\"2004\"], {\"frame\": {\"duration\": 0, \"redraw\": true}, \"fromcurrent\": true, \"mode\": \"immediate\", \"transition\": {\"duration\": 0, \"easing\": \"linear\"}}], \"label\": \"2004\", \"method\": \"animate\"}, {\"args\": [[\"2012\"], {\"frame\": {\"duration\": 0, \"redraw\": true}, \"fromcurrent\": true, \"mode\": \"immediate\", \"transition\": {\"duration\": 0, \"easing\": \"linear\"}}], \"label\": \"2012\", \"method\": \"animate\"}, {\"args\": [[\"2020\"], {\"frame\": {\"duration\": 0, \"redraw\": true}, \"fromcurrent\": true, \"mode\": \"immediate\", \"transition\": {\"duration\": 0, \"easing\": \"linear\"}}], \"label\": \"2020\", \"method\": \"animate\"}], \"x\": 0.1, \"xanchor\": \"left\", \"y\": 0, \"yanchor\": \"top\"}], \"template\": {\"data\": {\"bar\": [{\"error_x\": {\"color\": \"#2a3f5f\"}, \"error_y\": {\"color\": \"#2a3f5f\"}, \"marker\": {\"line\": {\"color\": \"#E5ECF6\", \"width\": 0.5}}, \"type\": \"bar\"}], \"barpolar\": [{\"marker\": {\"line\": {\"color\": \"#E5ECF6\", \"width\": 0.5}}, \"type\": \"barpolar\"}], \"carpet\": [{\"aaxis\": {\"endlinecolor\": \"#2a3f5f\", \"gridcolor\": \"white\", \"linecolor\": \"white\", \"minorgridcolor\": \"white\", \"startlinecolor\": \"#2a3f5f\"}, \"baxis\": {\"endlinecolor\": \"#2a3f5f\", \"gridcolor\": \"white\", \"linecolor\": \"white\", \"minorgridcolor\": \"white\", \"startlinecolor\": \"#2a3f5f\"}, \"type\": \"carpet\"}], \"choropleth\": [{\"colorbar\": {\"outlinewidth\": 0, \"ticks\": \"\"}, \"type\": \"choropleth\"}], \"contour\": [{\"colorbar\": {\"outlinewidth\": 0, \"ticks\": \"\"}, \"colorscale\": [[0.0, \"#0d0887\"], [0.1111111111111111, \"#46039f\"], [0.2222222222222222, \"#7201a8\"], [0.3333333333333333, \"#9c179e\"], [0.4444444444444444, \"#bd3786\"], [0.5555555555555556, \"#d8576b\"], [0.6666666666666666, \"#ed7953\"], [0.7777777777777778, \"#fb9f3a\"], [0.8888888888888888, \"#fdca26\"], [1.0, \"#f0f921\"]], \"type\": \"contour\"}], \"contourcarpet\": [{\"colorbar\": {\"outlinewidth\": 0, \"ticks\": \"\"}, \"type\": \"contourcarpet\"}], \"heatmap\": [{\"colorbar\": {\"outlinewidth\": 0, \"ticks\": \"\"}, \"colorscale\": [[0.0, \"#0d0887\"], [0.1111111111111111, \"#46039f\"], [0.2222222222222222, \"#7201a8\"], [0.3333333333333333, \"#9c179e\"], [0.4444444444444444, \"#bd3786\"], [0.5555555555555556, \"#d8576b\"], [0.6666666666666666, \"#ed7953\"], [0.7777777777777778, \"#fb9f3a\"], [0.8888888888888888, \"#fdca26\"], [1.0, \"#f0f921\"]], \"type\": \"heatmap\"}], \"heatmapgl\": [{\"colorbar\": {\"outlinewidth\": 0, \"ticks\": \"\"}, \"colorscale\": [[0.0, \"#0d0887\"], [0.1111111111111111, \"#46039f\"], [0.2222222222222222, \"#7201a8\"], [0.3333333333333333, \"#9c179e\"], [0.4444444444444444, \"#bd3786\"], [0.5555555555555556, \"#d8576b\"], [0.6666666666666666, \"#ed7953\"], [0.7777777777777778, \"#fb9f3a\"], [0.8888888888888888, \"#fdca26\"], [1.0, \"#f0f921\"]], \"type\": \"heatmapgl\"}], \"histogram\": [{\"marker\": {\"colorbar\": {\"outlinewidth\": 0, \"ticks\": \"\"}}, \"type\": \"histogram\"}], \"histogram2d\": [{\"colorbar\": {\"outlinewidth\": 0, \"ticks\": \"\"}, \"colorscale\": [[0.0, \"#0d0887\"], [0.1111111111111111, \"#46039f\"], [0.2222222222222222, \"#7201a8\"], [0.3333333333333333, \"#9c179e\"], [0.4444444444444444, \"#bd3786\"], [0.5555555555555556, \"#d8576b\"], [0.6666666666666666, \"#ed7953\"], [0.7777777777777778, \"#fb9f3a\"], [0.8888888888888888, \"#fdca26\"], [1.0, \"#f0f921\"]], \"type\": \"histogram2d\"}], \"histogram2dcontour\": [{\"colorbar\": {\"outlinewidth\": 0, \"ticks\": \"\"}, \"colorscale\": [[0.0, \"#0d0887\"], [0.1111111111111111, \"#46039f\"], [0.2222222222222222, \"#7201a8\"], [0.3333333333333333, \"#9c179e\"], [0.4444444444444444, \"#bd3786\"], [0.5555555555555556, \"#d8576b\"], [0.6666666666666666, \"#ed7953\"], [0.7777777777777778, \"#fb9f3a\"], [0.8888888888888888, \"#fdca26\"], [1.0, \"#f0f921\"]], \"type\": \"histogram2dcontour\"}], \"mesh3d\": [{\"colorbar\": {\"outlinewidth\": 0, \"ticks\": \"\"}, \"type\": \"mesh3d\"}], \"parcoords\": [{\"line\": {\"colorbar\": {\"outlinewidth\": 0, \"ticks\": \"\"}}, \"type\": \"parcoords\"}], \"pie\": [{\"automargin\": true, \"type\": \"pie\"}], \"scatter\": [{\"marker\": {\"colorbar\": {\"outlinewidth\": 0, \"ticks\": \"\"}}, \"type\": \"scatter\"}], \"scatter3d\": [{\"line\": {\"colorbar\": {\"outlinewidth\": 0, \"ticks\": \"\"}}, \"marker\": {\"colorbar\": {\"outlinewidth\": 0, \"ticks\": \"\"}}, \"type\": \"scatter3d\"}], \"scattercarpet\": [{\"marker\": {\"colorbar\": {\"outlinewidth\": 0, \"ticks\": \"\"}}, \"type\": \"scattercarpet\"}], \"scattergeo\": [{\"marker\": {\"colorbar\": {\"outlinewidth\": 0, \"ticks\": \"\"}}, \"type\": \"scattergeo\"}], \"scattergl\": [{\"marker\": {\"colorbar\": {\"outlinewidth\": 0, \"ticks\": \"\"}}, \"type\": \"scattergl\"}], \"scattermapbox\": [{\"marker\": {\"colorbar\": {\"outlinewidth\": 0, \"ticks\": \"\"}}, \"type\": \"scattermapbox\"}], \"scatterpolar\": [{\"marker\": {\"colorbar\": {\"outlinewidth\": 0, \"ticks\": \"\"}}, \"type\": \"scatterpolar\"}], \"scatterpolargl\": [{\"marker\": {\"colorbar\": {\"outlinewidth\": 0, \"ticks\": \"\"}}, \"type\": \"scatterpolargl\"}], \"scatterternary\": [{\"marker\": {\"colorbar\": {\"outlinewidth\": 0, \"ticks\": \"\"}}, \"type\": \"scatterternary\"}], \"surface\": [{\"colorbar\": {\"outlinewidth\": 0, \"ticks\": \"\"}, \"colorscale\": [[0.0, \"#0d0887\"], [0.1111111111111111, \"#46039f\"], [0.2222222222222222, \"#7201a8\"], [0.3333333333333333, \"#9c179e\"], [0.4444444444444444, \"#bd3786\"], [0.5555555555555556, \"#d8576b\"], [0.6666666666666666, \"#ed7953\"], [0.7777777777777778, \"#fb9f3a\"], [0.8888888888888888, \"#fdca26\"], [1.0, \"#f0f921\"]], \"type\": \"surface\"}], \"table\": [{\"cells\": {\"fill\": {\"color\": \"#EBF0F8\"}, \"line\": {\"color\": \"white\"}}, \"header\": {\"fill\": {\"color\": \"#C8D4E3\"}, \"line\": {\"color\": \"white\"}}, \"type\": \"table\"}]}, \"layout\": {\"annotationdefaults\": {\"arrowcolor\": \"#2a3f5f\", \"arrowhead\": 0, \"arrowwidth\": 1}, \"autotypenumbers\": \"strict\", \"coloraxis\": {\"colorbar\": {\"outlinewidth\": 0, \"ticks\": \"\"}}, \"colorscale\": {\"diverging\": [[0, \"#8e0152\"], [0.1, \"#c51b7d\"], [0.2, \"#de77ae\"], [0.3, \"#f1b6da\"], [0.4, \"#fde0ef\"], [0.5, \"#f7f7f7\"], [0.6, \"#e6f5d0\"], [0.7, \"#b8e186\"], [0.8, \"#7fbc41\"], [0.9, \"#4d9221\"], [1, \"#276419\"]], \"sequential\": [[0.0, \"#0d0887\"], [0.1111111111111111, \"#46039f\"], [0.2222222222222222, \"#7201a8\"], [0.3333333333333333, \"#9c179e\"], [0.4444444444444444, \"#bd3786\"], [0.5555555555555556, \"#d8576b\"], [0.6666666666666666, \"#ed7953\"], [0.7777777777777778, \"#fb9f3a\"], [0.8888888888888888, \"#fdca26\"], [1.0, \"#f0f921\"]], \"sequentialminus\": [[0.0, \"#0d0887\"], [0.1111111111111111, \"#46039f\"], [0.2222222222222222, \"#7201a8\"], [0.3333333333333333, \"#9c179e\"], [0.4444444444444444, \"#bd3786\"], [0.5555555555555556, \"#d8576b\"], [0.6666666666666666, \"#ed7953\"], [0.7777777777777778, \"#fb9f3a\"], [0.8888888888888888, \"#fdca26\"], [1.0, \"#f0f921\"]]}, \"colorway\": [\"#636efa\", \"#EF553B\", \"#00cc96\", \"#ab63fa\", \"#FFA15A\", \"#19d3f3\", \"#FF6692\", \"#B6E880\", \"#FF97FF\", \"#FECB52\"], \"font\": {\"color\": \"#2a3f5f\"}, \"geo\": {\"bgcolor\": \"white\", \"lakecolor\": \"white\", \"landcolor\": \"#E5ECF6\", \"showlakes\": true, \"showland\": true, \"subunitcolor\": \"white\"}, \"hoverlabel\": {\"align\": \"left\"}, \"hovermode\": \"closest\", \"mapbox\": {\"style\": \"light\"}, \"paper_bgcolor\": \"white\", \"plot_bgcolor\": \"#E5ECF6\", \"polar\": {\"angularaxis\": {\"gridcolor\": \"white\", \"linecolor\": \"white\", \"ticks\": \"\"}, \"bgcolor\": \"#E5ECF6\", \"radialaxis\": {\"gridcolor\": \"white\", \"linecolor\": \"white\", \"ticks\": \"\"}}, \"scene\": {\"xaxis\": {\"backgroundcolor\": \"#E5ECF6\", \"gridcolor\": \"white\", \"gridwidth\": 2, \"linecolor\": \"white\", \"showbackground\": true, \"ticks\": \"\", \"zerolinecolor\": \"white\"}, \"yaxis\": {\"backgroundcolor\": \"#E5ECF6\", \"gridcolor\": \"white\", \"gridwidth\": 2, \"linecolor\": \"white\", \"showbackground\": true, \"ticks\": \"\", \"zerolinecolor\": \"white\"}, \"zaxis\": {\"backgroundcolor\": \"#E5ECF6\", \"gridcolor\": \"white\", \"gridwidth\": 2, \"linecolor\": \"white\", \"showbackground\": true, \"ticks\": \"\", \"zerolinecolor\": \"white\"}}, \"shapedefaults\": {\"line\": {\"color\": \"#2a3f5f\"}}, \"ternary\": {\"aaxis\": {\"gridcolor\": \"white\", \"linecolor\": \"white\", \"ticks\": \"\"}, \"baxis\": {\"gridcolor\": \"white\", \"linecolor\": \"white\", \"ticks\": \"\"}, \"bgcolor\": \"#E5ECF6\", \"caxis\": {\"gridcolor\": \"white\", \"linecolor\": \"white\", \"ticks\": \"\"}}, \"title\": {\"x\": 0.05}, \"xaxis\": {\"automargin\": true, \"gridcolor\": \"white\", \"linecolor\": \"white\", \"ticks\": \"\", \"title\": {\"standoff\": 15}, \"zerolinecolor\": \"white\", \"zerolinewidth\": 2}, \"yaxis\": {\"automargin\": true, \"gridcolor\": \"white\", \"linecolor\": \"white\", \"ticks\": \"\", \"title\": {\"standoff\": 15}, \"zerolinecolor\": \"white\", \"zerolinewidth\": 2}}}, \"title\": {\"text\": \"Evolution of State Population from 1790 - 2020\"}, \"updatemenus\": [{\"buttons\": [{\"args\": [null, {\"frame\": {\"duration\": 1000, \"redraw\": true}, \"fromcurrent\": true, \"mode\": \"immediate\", \"transition\": {\"duration\": 1000, \"easing\": \"linear\"}}], \"label\": \"&#9654;\", \"method\": \"animate\"}, {\"args\": [[null], {\"frame\": {\"duration\": 0, \"redraw\": true}, \"fromcurrent\": true, \"mode\": \"immediate\", \"transition\": {\"duration\": 0, \"easing\": \"linear\"}}], \"label\": \"&#9724;\", \"method\": \"animate\"}], \"direction\": \"left\", \"pad\": {\"r\": 10, \"t\": 70}, \"showactive\": false, \"type\": \"buttons\", \"x\": 0.1, \"xanchor\": \"right\", \"y\": 0, \"yanchor\": \"top\"}], \"xaxis\": {\"anchor\": \"y\", \"domain\": [0.0, 1.0], \"title\": {\"text\": \"\"}}, \"yaxis\": {\"anchor\": \"x\", \"categoryorder\": \"total ascending\", \"domain\": [0.0, 1.0], \"title\": {\"text\": \"\"}}},                        {\"responsive\": true}                    ).then(function(){\n",
       "                            Plotly.addFrames('ff00d82e-ad8d-4f68-9213-51859684b9f1', [{\"data\": [{\"alignmentgroup\": \"True\", \"hovertemplate\": \"color=Virginia<br>animation_frame=1790<br>x=%{x}<br>y=%{y}<extra></extra>\", \"legendgroup\": \"Virginia\", \"marker\": {\"color\": \"#636efa\"}, \"name\": \"Virginia\", \"offsetgroup\": \"Virginia\", \"orientation\": \"h\", \"showlegend\": true, \"textposition\": \"auto\", \"x\": [691937.0], \"xaxis\": \"x\", \"y\": [\"Virginia\"], \"yaxis\": \"y\", \"type\": \"bar\"}, {\"alignmentgroup\": \"True\", \"hovertemplate\": \"color=Pennsylvania<br>animation_frame=1790<br>x=%{x}<br>y=%{y}<extra></extra>\", \"legendgroup\": \"Pennsylvania\", \"marker\": {\"color\": \"#EF553B\"}, \"name\": \"Pennsylvania\", \"offsetgroup\": \"Pennsylvania\", \"orientation\": \"h\", \"showlegend\": true, \"textposition\": \"auto\", \"x\": [434373.0], \"xaxis\": \"x\", \"y\": [\"Pennsylvania\"], \"yaxis\": \"y\", \"type\": \"bar\"}, {\"alignmentgroup\": \"True\", \"hovertemplate\": \"color=North Carolina<br>animation_frame=1790<br>x=%{x}<br>y=%{y}<extra></extra>\", \"legendgroup\": \"North Carolina\", \"marker\": {\"color\": \"#00cc96\"}, \"name\": \"North Carolina\", \"offsetgroup\": \"North Carolina\", \"orientation\": \"h\", \"showlegend\": true, \"textposition\": \"auto\", \"x\": [393751.0], \"xaxis\": \"x\", \"y\": [\"North Carolina\"], \"yaxis\": \"y\", \"type\": \"bar\"}, {\"alignmentgroup\": \"True\", \"hovertemplate\": \"color=Massachusetts<br>animation_frame=1790<br>x=%{x}<br>y=%{y}<extra></extra>\", \"legendgroup\": \"Massachusetts\", \"marker\": {\"color\": \"#ab63fa\"}, \"name\": \"Massachusetts\", \"offsetgroup\": \"Massachusetts\", \"orientation\": \"h\", \"showlegend\": true, \"textposition\": \"auto\", \"x\": [378787.0], \"xaxis\": \"x\", \"y\": [\"Massachusetts\"], \"yaxis\": \"y\", \"type\": \"bar\"}, {\"alignmentgroup\": \"True\", \"hovertemplate\": \"color=New York<br>animation_frame=1790<br>x=%{x}<br>y=%{y}<extra></extra>\", \"legendgroup\": \"New York\", \"marker\": {\"color\": \"#FFA15A\"}, \"name\": \"New York\", \"offsetgroup\": \"New York\", \"orientation\": \"h\", \"showlegend\": true, \"textposition\": \"auto\", \"x\": [340120.0], \"xaxis\": \"x\", \"y\": [\"New York\"], \"yaxis\": \"y\", \"type\": \"bar\"}, {\"alignmentgroup\": \"True\", \"hovertemplate\": \"color=Maryland<br>animation_frame=1790<br>x=%{x}<br>y=%{y}<extra></extra>\", \"legendgroup\": \"Maryland\", \"marker\": {\"color\": \"#19d3f3\"}, \"name\": \"Maryland\", \"offsetgroup\": \"Maryland\", \"orientation\": \"h\", \"showlegend\": true, \"textposition\": \"auto\", \"x\": [319728.0], \"xaxis\": \"x\", \"y\": [\"Maryland\"], \"yaxis\": \"y\", \"type\": \"bar\"}, {\"alignmentgroup\": \"True\", \"hovertemplate\": \"color=South Carolina<br>animation_frame=1790<br>x=%{x}<br>y=%{y}<extra></extra>\", \"legendgroup\": \"South Carolina\", \"marker\": {\"color\": \"#FF6692\"}, \"name\": \"South Carolina\", \"offsetgroup\": \"South Carolina\", \"orientation\": \"h\", \"showlegend\": true, \"textposition\": \"auto\", \"x\": [249073.0], \"xaxis\": \"x\", \"y\": [\"South Carolina\"], \"yaxis\": \"y\", \"type\": \"bar\"}, {\"alignmentgroup\": \"True\", \"hovertemplate\": \"color=Connecticut<br>animation_frame=1790<br>x=%{x}<br>y=%{y}<extra></extra>\", \"legendgroup\": \"Connecticut\", \"marker\": {\"color\": \"#B6E880\"}, \"name\": \"Connecticut\", \"offsetgroup\": \"Connecticut\", \"orientation\": \"h\", \"showlegend\": true, \"textposition\": \"auto\", \"x\": [237946.0], \"xaxis\": \"x\", \"y\": [\"Connecticut\"], \"yaxis\": \"y\", \"type\": \"bar\"}, {\"alignmentgroup\": \"True\", \"hovertemplate\": \"color=New Jersey<br>animation_frame=1790<br>x=%{x}<br>y=%{y}<extra></extra>\", \"legendgroup\": \"New Jersey\", \"marker\": {\"color\": \"#FF97FF\"}, \"name\": \"New Jersey\", \"offsetgroup\": \"New Jersey\", \"orientation\": \"h\", \"showlegend\": true, \"textposition\": \"auto\", \"x\": [184139.0], \"xaxis\": \"x\", \"y\": [\"New Jersey\"], \"yaxis\": \"y\", \"type\": \"bar\"}, {\"alignmentgroup\": \"True\", \"hovertemplate\": \"color=New Hampshire<br>animation_frame=1790<br>x=%{x}<br>y=%{y}<extra></extra>\", \"legendgroup\": \"New Hampshire\", \"marker\": {\"color\": \"#FECB52\"}, \"name\": \"New Hampshire\", \"offsetgroup\": \"New Hampshire\", \"orientation\": \"h\", \"showlegend\": true, \"textposition\": \"auto\", \"x\": [141885.0], \"xaxis\": \"x\", \"y\": [\"New Hampshire\"], \"yaxis\": \"y\", \"type\": \"bar\"}], \"name\": \"1790\"}, {\"data\": [{\"alignmentgroup\": \"True\", \"hovertemplate\": \"color=Virginia<br>animation_frame=1797<br>x=%{x}<br>y=%{y}<extra></extra>\", \"legendgroup\": \"Virginia\", \"marker\": {\"color\": \"#636efa\"}, \"name\": \"Virginia\", \"offsetgroup\": \"Virginia\", \"orientation\": \"h\", \"showlegend\": true, \"textposition\": \"auto\", \"x\": [783636.0], \"xaxis\": \"x\", \"y\": [\"Virginia\"], \"yaxis\": \"y\", \"type\": \"bar\"}, {\"alignmentgroup\": \"True\", \"hovertemplate\": \"color=Pennsylvania<br>animation_frame=1797<br>x=%{x}<br>y=%{y}<extra></extra>\", \"legendgroup\": \"Pennsylvania\", \"marker\": {\"color\": \"#EF553B\"}, \"name\": \"Pennsylvania\", \"offsetgroup\": \"Pennsylvania\", \"orientation\": \"h\", \"showlegend\": true, \"textposition\": \"auto\", \"x\": [567751.0], \"xaxis\": \"x\", \"y\": [\"Pennsylvania\"], \"yaxis\": \"y\", \"type\": \"bar\"}, {\"alignmentgroup\": \"True\", \"hovertemplate\": \"color=North Carolina<br>animation_frame=1797<br>x=%{x}<br>y=%{y}<extra></extra>\", \"legendgroup\": \"North Carolina\", \"marker\": {\"color\": \"#00cc96\"}, \"name\": \"North Carolina\", \"offsetgroup\": \"North Carolina\", \"orientation\": \"h\", \"showlegend\": true, \"textposition\": \"auto\", \"x\": [460651.0], \"xaxis\": \"x\", \"y\": [\"North Carolina\"], \"yaxis\": \"y\", \"type\": \"bar\"}, {\"alignmentgroup\": \"True\", \"hovertemplate\": \"color=Massachusetts<br>animation_frame=1797<br>x=%{x}<br>y=%{y}<extra></extra>\", \"legendgroup\": \"Massachusetts\", \"marker\": {\"color\": \"#ab63fa\"}, \"name\": \"Massachusetts\", \"offsetgroup\": \"Massachusetts\", \"orientation\": \"h\", \"showlegend\": true, \"textposition\": \"auto\", \"x\": [413730.0], \"xaxis\": \"x\", \"y\": [\"Massachusetts\"], \"yaxis\": \"y\", \"type\": \"bar\"}, {\"alignmentgroup\": \"True\", \"hovertemplate\": \"color=New York<br>animation_frame=1797<br>x=%{x}<br>y=%{y}<extra></extra>\", \"legendgroup\": \"New York\", \"marker\": {\"color\": \"#FFA15A\"}, \"name\": \"New York\", \"offsetgroup\": \"New York\", \"orientation\": \"h\", \"showlegend\": true, \"textposition\": \"auto\", \"x\": [535168.0], \"xaxis\": \"x\", \"y\": [\"New York\"], \"yaxis\": \"y\", \"type\": \"bar\"}, {\"alignmentgroup\": \"True\", \"hovertemplate\": \"color=Maryland<br>animation_frame=1797<br>x=%{x}<br>y=%{y}<extra></extra>\", \"legendgroup\": \"Maryland\", \"marker\": {\"color\": \"#19d3f3\"}, \"name\": \"Maryland\", \"offsetgroup\": \"Maryland\", \"orientation\": \"h\", \"showlegend\": true, \"textposition\": \"auto\", \"x\": [337034.0], \"xaxis\": \"x\", \"y\": [\"Maryland\"], \"yaxis\": \"y\", \"type\": \"bar\"}, {\"alignmentgroup\": \"True\", \"hovertemplate\": \"color=South Carolina<br>animation_frame=1797<br>x=%{x}<br>y=%{y}<extra></extra>\", \"legendgroup\": \"South Carolina\", \"marker\": {\"color\": \"#FF6692\"}, \"name\": \"South Carolina\", \"offsetgroup\": \"South Carolina\", \"orientation\": \"h\", \"showlegend\": true, \"textposition\": \"auto\", \"x\": [325622.0], \"xaxis\": \"x\", \"y\": [\"South Carolina\"], \"yaxis\": \"y\", \"type\": \"bar\"}, {\"alignmentgroup\": \"True\", \"hovertemplate\": \"color=Connecticut<br>animation_frame=1797<br>x=%{x}<br>y=%{y}<extra></extra>\", \"legendgroup\": \"Connecticut\", \"marker\": {\"color\": \"#B6E880\"}, \"name\": \"Connecticut\", \"offsetgroup\": \"Connecticut\", \"orientation\": \"h\", \"showlegend\": true, \"textposition\": \"auto\", \"x\": [248301.0], \"xaxis\": \"x\", \"y\": [\"Connecticut\"], \"yaxis\": \"y\", \"type\": \"bar\"}, {\"alignmentgroup\": \"True\", \"hovertemplate\": \"color=New Jersey<br>animation_frame=1797<br>x=%{x}<br>y=%{y}<extra></extra>\", \"legendgroup\": \"New Jersey\", \"marker\": {\"color\": \"#FF97FF\"}, \"name\": \"New Jersey\", \"offsetgroup\": \"New Jersey\", \"orientation\": \"h\", \"showlegend\": true, \"textposition\": \"auto\", \"x\": [205561.0], \"xaxis\": \"x\", \"y\": [\"New Jersey\"], \"yaxis\": \"y\", \"type\": \"bar\"}, {\"alignmentgroup\": \"True\", \"hovertemplate\": \"color=Kentucky<br>animation_frame=1797<br>x=%{x}<br>y=%{y}<extra></extra>\", \"legendgroup\": \"Kentucky\", \"marker\": {\"color\": \"#636efa\"}, \"name\": \"Kentucky\", \"offsetgroup\": \"Kentucky\", \"orientation\": \"h\", \"showlegend\": true, \"textposition\": \"auto\", \"x\": [190487.0], \"xaxis\": \"x\", \"y\": [\"Kentucky\"], \"yaxis\": \"y\", \"type\": \"bar\"}], \"name\": \"1797\"}, {\"data\": [{\"alignmentgroup\": \"True\", \"hovertemplate\": \"color=Virginia<br>animation_frame=1805<br>x=%{x}<br>y=%{y}<extra></extra>\", \"legendgroup\": \"Virginia\", \"marker\": {\"color\": \"#636efa\"}, \"name\": \"Virginia\", \"offsetgroup\": \"Virginia\", \"orientation\": \"h\", \"showlegend\": true, \"textposition\": \"auto\", \"x\": [848665.0], \"xaxis\": \"x\", \"y\": [\"Virginia\"], \"yaxis\": \"y\", \"type\": \"bar\"}, {\"alignmentgroup\": \"True\", \"hovertemplate\": \"color=Pennsylvania<br>animation_frame=1805<br>x=%{x}<br>y=%{y}<extra></extra>\", \"legendgroup\": \"Pennsylvania\", \"marker\": {\"color\": \"#EF553B\"}, \"name\": \"Pennsylvania\", \"offsetgroup\": \"Pennsylvania\", \"orientation\": \"h\", \"showlegend\": true, \"textposition\": \"auto\", \"x\": [724210.0], \"xaxis\": \"x\", \"y\": [\"Pennsylvania\"], \"yaxis\": \"y\", \"type\": \"bar\"}, {\"alignmentgroup\": \"True\", \"hovertemplate\": \"color=North Carolina<br>animation_frame=1805<br>x=%{x}<br>y=%{y}<extra></extra>\", \"legendgroup\": \"North Carolina\", \"marker\": {\"color\": \"#00cc96\"}, \"name\": \"North Carolina\", \"offsetgroup\": \"North Carolina\", \"orientation\": \"h\", \"showlegend\": true, \"textposition\": \"auto\", \"x\": [524075.0], \"xaxis\": \"x\", \"y\": [\"North Carolina\"], \"yaxis\": \"y\", \"type\": \"bar\"}, {\"alignmentgroup\": \"True\", \"hovertemplate\": \"color=Massachusetts<br>animation_frame=1805<br>x=%{x}<br>y=%{y}<extra></extra>\", \"legendgroup\": \"Massachusetts\", \"marker\": {\"color\": \"#ab63fa\"}, \"name\": \"Massachusetts\", \"offsetgroup\": \"Massachusetts\", \"orientation\": \"h\", \"showlegend\": true, \"textposition\": \"auto\", \"x\": [451683.0], \"xaxis\": \"x\", \"y\": [\"Massachusetts\"], \"yaxis\": \"y\", \"type\": \"bar\"}, {\"alignmentgroup\": \"True\", \"hovertemplate\": \"color=New York<br>animation_frame=1805<br>x=%{x}<br>y=%{y}<extra></extra>\", \"legendgroup\": \"New York\", \"marker\": {\"color\": \"#FFA15A\"}, \"name\": \"New York\", \"offsetgroup\": \"New York\", \"orientation\": \"h\", \"showlegend\": true, \"textposition\": \"auto\", \"x\": [804705.0], \"xaxis\": \"x\", \"y\": [\"New York\"], \"yaxis\": \"y\", \"type\": \"bar\"}, {\"alignmentgroup\": \"True\", \"hovertemplate\": \"color=Maryland<br>animation_frame=1805<br>x=%{x}<br>y=%{y}<extra></extra>\", \"legendgroup\": \"Maryland\", \"marker\": {\"color\": \"#19d3f3\"}, \"name\": \"Maryland\", \"offsetgroup\": \"Maryland\", \"orientation\": \"h\", \"showlegend\": true, \"textposition\": \"auto\", \"x\": [364409.0], \"xaxis\": \"x\", \"y\": [\"Maryland\"], \"yaxis\": \"y\", \"type\": \"bar\"}, {\"alignmentgroup\": \"True\", \"hovertemplate\": \"color=South Carolina<br>animation_frame=1805<br>x=%{x}<br>y=%{y}<extra></extra>\", \"legendgroup\": \"South Carolina\", \"marker\": {\"color\": \"#FF6692\"}, \"name\": \"South Carolina\", \"offsetgroup\": \"South Carolina\", \"orientation\": \"h\", \"showlegend\": true, \"textposition\": \"auto\", \"x\": [386346.0], \"xaxis\": \"x\", \"y\": [\"South Carolina\"], \"yaxis\": \"y\", \"type\": \"bar\"}, {\"alignmentgroup\": \"True\", \"hovertemplate\": \"color=Connecticut<br>animation_frame=1805<br>x=%{x}<br>y=%{y}<extra></extra>\", \"legendgroup\": \"Connecticut\", \"marker\": {\"color\": \"#B6E880\"}, \"name\": \"Connecticut\", \"offsetgroup\": \"Connecticut\", \"orientation\": \"h\", \"showlegend\": true, \"textposition\": \"auto\", \"x\": [257474.0], \"xaxis\": \"x\", \"y\": [\"Connecticut\"], \"yaxis\": \"y\", \"type\": \"bar\"}, {\"alignmentgroup\": \"True\", \"hovertemplate\": \"color=New Jersey<br>animation_frame=1805<br>x=%{x}<br>y=%{y}<extra></extra>\", \"legendgroup\": \"New Jersey\", \"marker\": {\"color\": \"#FF97FF\"}, \"name\": \"New Jersey\", \"offsetgroup\": \"New Jersey\", \"orientation\": \"h\", \"showlegend\": true, \"textposition\": \"auto\", \"x\": [231318.0], \"xaxis\": \"x\", \"y\": [\"New Jersey\"], \"yaxis\": \"y\", \"type\": \"bar\"}, {\"alignmentgroup\": \"True\", \"hovertemplate\": \"color=Kentucky<br>animation_frame=1805<br>x=%{x}<br>y=%{y}<extra></extra>\", \"legendgroup\": \"Kentucky\", \"marker\": {\"color\": \"#636efa\"}, \"name\": \"Kentucky\", \"offsetgroup\": \"Kentucky\", \"orientation\": \"h\", \"showlegend\": true, \"textposition\": \"auto\", \"x\": [329731.0], \"xaxis\": \"x\", \"y\": [\"Kentucky\"], \"yaxis\": \"y\", \"type\": \"bar\"}], \"name\": \"1805\"}, {\"data\": [{\"alignmentgroup\": \"True\", \"hovertemplate\": \"color=Virginia<br>animation_frame=1813<br>x=%{x}<br>y=%{y}<extra></extra>\", \"legendgroup\": \"Virginia\", \"marker\": {\"color\": \"#636efa\"}, \"name\": \"Virginia\", \"offsetgroup\": \"Virginia\", \"orientation\": \"h\", \"showlegend\": true, \"textposition\": \"auto\", \"x\": [900661.0], \"xaxis\": \"x\", \"y\": [\"Virginia\"], \"yaxis\": \"y\", \"type\": \"bar\"}, {\"alignmentgroup\": \"True\", \"hovertemplate\": \"color=Pennsylvania<br>animation_frame=1813<br>x=%{x}<br>y=%{y}<extra></extra>\", \"legendgroup\": \"Pennsylvania\", \"marker\": {\"color\": \"#EF553B\"}, \"name\": \"Pennsylvania\", \"offsetgroup\": \"Pennsylvania\", \"orientation\": \"h\", \"showlegend\": true, \"textposition\": \"auto\", \"x\": [900885.0], \"xaxis\": \"x\", \"y\": [\"Pennsylvania\"], \"yaxis\": \"y\", \"type\": \"bar\"}, {\"alignmentgroup\": \"True\", \"hovertemplate\": \"color=North Carolina<br>animation_frame=1813<br>x=%{x}<br>y=%{y}<extra></extra>\", \"legendgroup\": \"North Carolina\", \"marker\": {\"color\": \"#00cc96\"}, \"name\": \"North Carolina\", \"offsetgroup\": \"North Carolina\", \"orientation\": \"h\", \"showlegend\": true, \"textposition\": \"auto\", \"x\": [587744.0], \"xaxis\": \"x\", \"y\": [\"North Carolina\"], \"yaxis\": \"y\", \"type\": \"bar\"}, {\"alignmentgroup\": \"True\", \"hovertemplate\": \"color=Massachusetts<br>animation_frame=1813<br>x=%{x}<br>y=%{y}<extra></extra>\", \"legendgroup\": \"Massachusetts\", \"marker\": {\"color\": \"#ab63fa\"}, \"name\": \"Massachusetts\", \"offsetgroup\": \"Massachusetts\", \"orientation\": \"h\", \"showlegend\": true, \"textposition\": \"auto\", \"x\": [491479.0], \"xaxis\": \"x\", \"y\": [\"Massachusetts\"], \"yaxis\": \"y\", \"type\": \"bar\"}, {\"alignmentgroup\": \"True\", \"hovertemplate\": \"color=New York<br>animation_frame=1813<br>x=%{x}<br>y=%{y}<extra></extra>\", \"legendgroup\": \"New York\", \"marker\": {\"color\": \"#FFA15A\"}, \"name\": \"New York\", \"offsetgroup\": \"New York\", \"orientation\": \"h\", \"showlegend\": true, \"textposition\": \"auto\", \"x\": [1115994.0], \"xaxis\": \"x\", \"y\": [\"New York\"], \"yaxis\": \"y\", \"type\": \"bar\"}, {\"alignmentgroup\": \"True\", \"hovertemplate\": \"color=Maryland<br>animation_frame=1813<br>x=%{x}<br>y=%{y}<extra></extra>\", \"legendgroup\": \"Maryland\", \"marker\": {\"color\": \"#19d3f3\"}, \"name\": \"Maryland\", \"offsetgroup\": \"Maryland\", \"orientation\": \"h\", \"showlegend\": true, \"textposition\": \"auto\", \"x\": [390713.0], \"xaxis\": \"x\", \"y\": [\"Maryland\"], \"yaxis\": \"y\", \"type\": \"bar\"}, {\"alignmentgroup\": \"True\", \"hovertemplate\": \"color=South Carolina<br>animation_frame=1813<br>x=%{x}<br>y=%{y}<extra></extra>\", \"legendgroup\": \"South Carolina\", \"marker\": {\"color\": \"#FF6692\"}, \"name\": \"South Carolina\", \"offsetgroup\": \"South Carolina\", \"orientation\": \"h\", \"showlegend\": true, \"textposition\": \"auto\", \"x\": [448352.0], \"xaxis\": \"x\", \"y\": [\"South Carolina\"], \"yaxis\": \"y\", \"type\": \"bar\"}, {\"alignmentgroup\": \"True\", \"hovertemplate\": \"color=Kentucky<br>animation_frame=1813<br>x=%{x}<br>y=%{y}<extra></extra>\", \"legendgroup\": \"Kentucky\", \"marker\": {\"color\": \"#636efa\"}, \"name\": \"Kentucky\", \"offsetgroup\": \"Kentucky\", \"orientation\": \"h\", \"showlegend\": true, \"textposition\": \"auto\", \"x\": [466368.0], \"xaxis\": \"x\", \"y\": [\"Kentucky\"], \"yaxis\": \"y\", \"type\": \"bar\"}, {\"alignmentgroup\": \"True\", \"hovertemplate\": \"color=Ohio<br>animation_frame=1813<br>x=%{x}<br>y=%{y}<extra></extra>\", \"legendgroup\": \"Ohio\", \"marker\": {\"color\": \"#EF553B\"}, \"name\": \"Ohio\", \"offsetgroup\": \"Ohio\", \"orientation\": \"h\", \"showlegend\": true, \"textposition\": \"auto\", \"x\": [363774.0], \"xaxis\": \"x\", \"y\": [\"Ohio\"], \"yaxis\": \"y\", \"type\": \"bar\"}, {\"alignmentgroup\": \"True\", \"hovertemplate\": \"color=Tennessee<br>animation_frame=1813<br>x=%{x}<br>y=%{y}<extra></extra>\", \"legendgroup\": \"Tennessee\", \"marker\": {\"color\": \"#00cc96\"}, \"name\": \"Tennessee\", \"offsetgroup\": \"Tennessee\", \"orientation\": \"h\", \"showlegend\": true, \"textposition\": \"auto\", \"x\": [322829.0], \"xaxis\": \"x\", \"y\": [\"Tennessee\"], \"yaxis\": \"y\", \"type\": \"bar\"}], \"name\": \"1813\"}, {\"data\": [{\"alignmentgroup\": \"True\", \"hovertemplate\": \"color=Virginia<br>animation_frame=1821<br>x=%{x}<br>y=%{y}<extra></extra>\", \"legendgroup\": \"Virginia\", \"marker\": {\"color\": \"#636efa\"}, \"name\": \"Virginia\", \"offsetgroup\": \"Virginia\", \"orientation\": \"h\", \"showlegend\": true, \"textposition\": \"auto\", \"x\": [956501.0], \"xaxis\": \"x\", \"y\": [\"Virginia\"], \"yaxis\": \"y\", \"type\": \"bar\"}, {\"alignmentgroup\": \"True\", \"hovertemplate\": \"color=Pennsylvania<br>animation_frame=1821<br>x=%{x}<br>y=%{y}<extra></extra>\", \"legendgroup\": \"Pennsylvania\", \"marker\": {\"color\": \"#EF553B\"}, \"name\": \"Pennsylvania\", \"offsetgroup\": \"Pennsylvania\", \"orientation\": \"h\", \"showlegend\": true, \"textposition\": \"auto\", \"x\": [1100971.0], \"xaxis\": \"x\", \"y\": [\"Pennsylvania\"], \"yaxis\": \"y\", \"type\": \"bar\"}, {\"alignmentgroup\": \"True\", \"hovertemplate\": \"color=North Carolina<br>animation_frame=1821<br>x=%{x}<br>y=%{y}<extra></extra>\", \"legendgroup\": \"North Carolina\", \"marker\": {\"color\": \"#00cc96\"}, \"name\": \"North Carolina\", \"offsetgroup\": \"North Carolina\", \"orientation\": \"h\", \"showlegend\": true, \"textposition\": \"auto\", \"x\": [655925.0], \"xaxis\": \"x\", \"y\": [\"North Carolina\"], \"yaxis\": \"y\", \"type\": \"bar\"}, {\"alignmentgroup\": \"True\", \"hovertemplate\": \"color=Massachusetts<br>animation_frame=1821<br>x=%{x}<br>y=%{y}<extra></extra>\", \"legendgroup\": \"Massachusetts\", \"marker\": {\"color\": \"#ab63fa\"}, \"name\": \"Massachusetts\", \"offsetgroup\": \"Massachusetts\", \"orientation\": \"h\", \"showlegend\": true, \"textposition\": \"auto\", \"x\": [538308.0], \"xaxis\": \"x\", \"y\": [\"Massachusetts\"], \"yaxis\": \"y\", \"type\": \"bar\"}, {\"alignmentgroup\": \"True\", \"hovertemplate\": \"color=New York<br>animation_frame=1821<br>x=%{x}<br>y=%{y}<extra></extra>\", \"legendgroup\": \"New York\", \"marker\": {\"color\": \"#FFA15A\"}, \"name\": \"New York\", \"offsetgroup\": \"New York\", \"orientation\": \"h\", \"showlegend\": true, \"textposition\": \"auto\", \"x\": [1466915.0], \"xaxis\": \"x\", \"y\": [\"New York\"], \"yaxis\": \"y\", \"type\": \"bar\"}, {\"alignmentgroup\": \"True\", \"hovertemplate\": \"color=Maryland<br>animation_frame=1821<br>x=%{x}<br>y=%{y}<extra></extra>\", \"legendgroup\": \"Maryland\", \"marker\": {\"color\": \"#19d3f3\"}, \"name\": \"Maryland\", \"offsetgroup\": \"Maryland\", \"orientation\": \"h\", \"showlegend\": true, \"textposition\": \"auto\", \"x\": [414193.0], \"xaxis\": \"x\", \"y\": [\"Maryland\"], \"yaxis\": \"y\", \"type\": \"bar\"}, {\"alignmentgroup\": \"True\", \"hovertemplate\": \"color=South Carolina<br>animation_frame=1821<br>x=%{x}<br>y=%{y}<extra></extra>\", \"legendgroup\": \"South Carolina\", \"marker\": {\"color\": \"#FF6692\"}, \"name\": \"South Carolina\", \"offsetgroup\": \"South Carolina\", \"orientation\": \"h\", \"showlegend\": true, \"textposition\": \"auto\", \"x\": [516266.0], \"xaxis\": \"x\", \"y\": [\"South Carolina\"], \"yaxis\": \"y\", \"type\": \"bar\"}, {\"alignmentgroup\": \"True\", \"hovertemplate\": \"color=Kentucky<br>animation_frame=1821<br>x=%{x}<br>y=%{y}<extra></extra>\", \"legendgroup\": \"Kentucky\", \"marker\": {\"color\": \"#636efa\"}, \"name\": \"Kentucky\", \"offsetgroup\": \"Kentucky\", \"orientation\": \"h\", \"showlegend\": true, \"textposition\": \"auto\", \"x\": [585627.0], \"xaxis\": \"x\", \"y\": [\"Kentucky\"], \"yaxis\": \"y\", \"type\": \"bar\"}, {\"alignmentgroup\": \"True\", \"hovertemplate\": \"color=Ohio<br>animation_frame=1821<br>x=%{x}<br>y=%{y}<extra></extra>\", \"legendgroup\": \"Ohio\", \"marker\": {\"color\": \"#EF553B\"}, \"name\": \"Ohio\", \"offsetgroup\": \"Ohio\", \"orientation\": \"h\", \"showlegend\": true, \"textposition\": \"auto\", \"x\": [642894.0], \"xaxis\": \"x\", \"y\": [\"Ohio\"], \"yaxis\": \"y\", \"type\": \"bar\"}, {\"alignmentgroup\": \"True\", \"hovertemplate\": \"color=Tennessee<br>animation_frame=1821<br>x=%{x}<br>y=%{y}<extra></extra>\", \"legendgroup\": \"Tennessee\", \"marker\": {\"color\": \"#00cc96\"}, \"name\": \"Tennessee\", \"offsetgroup\": \"Tennessee\", \"orientation\": \"h\", \"showlegend\": true, \"textposition\": \"auto\", \"x\": [467484.0], \"xaxis\": \"x\", \"y\": [\"Tennessee\"], \"yaxis\": \"y\", \"type\": \"bar\"}], \"name\": \"1821\"}, {\"data\": [{\"alignmentgroup\": \"True\", \"hovertemplate\": \"color=Virginia<br>animation_frame=1829<br>x=%{x}<br>y=%{y}<extra></extra>\", \"legendgroup\": \"Virginia\", \"marker\": {\"color\": \"#636efa\"}, \"name\": \"Virginia\", \"offsetgroup\": \"Virginia\", \"orientation\": \"h\", \"showlegend\": true, \"textposition\": \"auto\", \"x\": [1040406.0], \"xaxis\": \"x\", \"y\": [\"Virginia\"], \"yaxis\": \"y\", \"type\": \"bar\"}, {\"alignmentgroup\": \"True\", \"hovertemplate\": \"color=Pennsylvania<br>animation_frame=1829<br>x=%{x}<br>y=%{y}<extra></extra>\", \"legendgroup\": \"Pennsylvania\", \"marker\": {\"color\": \"#EF553B\"}, \"name\": \"Pennsylvania\", \"offsetgroup\": \"Pennsylvania\", \"orientation\": \"h\", \"showlegend\": true, \"textposition\": \"auto\", \"x\": [1337930.0], \"xaxis\": \"x\", \"y\": [\"Pennsylvania\"], \"yaxis\": \"y\", \"type\": \"bar\"}, {\"alignmentgroup\": \"True\", \"hovertemplate\": \"color=North Carolina<br>animation_frame=1829<br>x=%{x}<br>y=%{y}<extra></extra>\", \"legendgroup\": \"North Carolina\", \"marker\": {\"color\": \"#00cc96\"}, \"name\": \"North Carolina\", \"offsetgroup\": \"North Carolina\", \"orientation\": \"h\", \"showlegend\": true, \"textposition\": \"auto\", \"x\": [734568.0], \"xaxis\": \"x\", \"y\": [\"North Carolina\"], \"yaxis\": \"y\", \"type\": \"bar\"}, {\"alignmentgroup\": \"True\", \"hovertemplate\": \"color=Massachusetts<br>animation_frame=1829<br>x=%{x}<br>y=%{y}<extra></extra>\", \"legendgroup\": \"Massachusetts\", \"marker\": {\"color\": \"#ab63fa\"}, \"name\": \"Massachusetts\", \"offsetgroup\": \"Massachusetts\", \"orientation\": \"h\", \"showlegend\": true, \"textposition\": \"auto\", \"x\": [607404.0], \"xaxis\": \"x\", \"y\": [\"Massachusetts\"], \"yaxis\": \"y\", \"type\": \"bar\"}, {\"alignmentgroup\": \"True\", \"hovertemplate\": \"color=New York<br>animation_frame=1829<br>x=%{x}<br>y=%{y}<extra></extra>\", \"legendgroup\": \"New York\", \"marker\": {\"color\": \"#FFA15A\"}, \"name\": \"New York\", \"offsetgroup\": \"New York\", \"orientation\": \"h\", \"showlegend\": true, \"textposition\": \"auto\", \"x\": [1899787.0], \"xaxis\": \"x\", \"y\": [\"New York\"], \"yaxis\": \"y\", \"type\": \"bar\"}, {\"alignmentgroup\": \"True\", \"hovertemplate\": \"color=South Carolina<br>animation_frame=1829<br>x=%{x}<br>y=%{y}<extra></extra>\", \"legendgroup\": \"South Carolina\", \"marker\": {\"color\": \"#FF6692\"}, \"name\": \"South Carolina\", \"offsetgroup\": \"South Carolina\", \"orientation\": \"h\", \"showlegend\": true, \"textposition\": \"auto\", \"x\": [578480.0], \"xaxis\": \"x\", \"y\": [\"South Carolina\"], \"yaxis\": \"y\", \"type\": \"bar\"}, {\"alignmentgroup\": \"True\", \"hovertemplate\": \"color=Kentucky<br>animation_frame=1829<br>x=%{x}<br>y=%{y}<extra></extra>\", \"legendgroup\": \"Kentucky\", \"marker\": {\"color\": \"#636efa\"}, \"name\": \"Kentucky\", \"offsetgroup\": \"Kentucky\", \"orientation\": \"h\", \"showlegend\": true, \"textposition\": \"auto\", \"x\": [683655.0], \"xaxis\": \"x\", \"y\": [\"Kentucky\"], \"yaxis\": \"y\", \"type\": \"bar\"}, {\"alignmentgroup\": \"True\", \"hovertemplate\": \"color=Ohio<br>animation_frame=1829<br>x=%{x}<br>y=%{y}<extra></extra>\", \"legendgroup\": \"Ohio\", \"marker\": {\"color\": \"#EF553B\"}, \"name\": \"Ohio\", \"offsetgroup\": \"Ohio\", \"orientation\": \"h\", \"showlegend\": true, \"textposition\": \"auto\", \"x\": [925611.0], \"xaxis\": \"x\", \"y\": [\"Ohio\"], \"yaxis\": \"y\", \"type\": \"bar\"}, {\"alignmentgroup\": \"True\", \"hovertemplate\": \"color=Tennessee<br>animation_frame=1829<br>x=%{x}<br>y=%{y}<extra></extra>\", \"legendgroup\": \"Tennessee\", \"marker\": {\"color\": \"#00cc96\"}, \"name\": \"Tennessee\", \"offsetgroup\": \"Tennessee\", \"orientation\": \"h\", \"showlegend\": true, \"textposition\": \"auto\", \"x\": [672970.0], \"xaxis\": \"x\", \"y\": [\"Tennessee\"], \"yaxis\": \"y\", \"type\": \"bar\"}, {\"alignmentgroup\": \"True\", \"hovertemplate\": \"color=Georgia<br>animation_frame=1829<br>x=%{x}<br>y=%{y}<extra></extra>\", \"legendgroup\": \"Georgia\", \"marker\": {\"color\": \"#ab63fa\"}, \"name\": \"Georgia\", \"offsetgroup\": \"Georgia\", \"orientation\": \"h\", \"showlegend\": true, \"textposition\": \"auto\", \"x\": [510760.0], \"xaxis\": \"x\", \"y\": [\"Georgia\"], \"yaxis\": \"y\", \"type\": \"bar\"}], \"name\": \"1829\"}, {\"data\": [{\"alignmentgroup\": \"True\", \"hovertemplate\": \"color=Virginia<br>animation_frame=1837<br>x=%{x}<br>y=%{y}<extra></extra>\", \"legendgroup\": \"Virginia\", \"marker\": {\"color\": \"#636efa\"}, \"name\": \"Virginia\", \"offsetgroup\": \"Virginia\", \"orientation\": \"h\", \"showlegend\": true, \"textposition\": \"auto\", \"x\": [1029771.0], \"xaxis\": \"x\", \"y\": [\"Virginia\"], \"yaxis\": \"y\", \"type\": \"bar\"}, {\"alignmentgroup\": \"True\", \"hovertemplate\": \"color=Pennsylvania<br>animation_frame=1837<br>x=%{x}<br>y=%{y}<extra></extra>\", \"legendgroup\": \"Pennsylvania\", \"marker\": {\"color\": \"#EF553B\"}, \"name\": \"Pennsylvania\", \"offsetgroup\": \"Pennsylvania\", \"orientation\": \"h\", \"showlegend\": true, \"textposition\": \"auto\", \"x\": [1633323.0], \"xaxis\": \"x\", \"y\": [\"Pennsylvania\"], \"yaxis\": \"y\", \"type\": \"bar\"}, {\"alignmentgroup\": \"True\", \"hovertemplate\": \"color=North Carolina<br>animation_frame=1837<br>x=%{x}<br>y=%{y}<extra></extra>\", \"legendgroup\": \"North Carolina\", \"marker\": {\"color\": \"#00cc96\"}, \"name\": \"North Carolina\", \"offsetgroup\": \"North Carolina\", \"orientation\": \"h\", \"showlegend\": true, \"textposition\": \"auto\", \"x\": [749694.0], \"xaxis\": \"x\", \"y\": [\"North Carolina\"], \"yaxis\": \"y\", \"type\": \"bar\"}, {\"alignmentgroup\": \"True\", \"hovertemplate\": \"color=Massachusetts<br>animation_frame=1837<br>x=%{x}<br>y=%{y}<extra></extra>\", \"legendgroup\": \"Massachusetts\", \"marker\": {\"color\": \"#ab63fa\"}, \"name\": \"Massachusetts\", \"offsetgroup\": \"Massachusetts\", \"orientation\": \"h\", \"showlegend\": true, \"textposition\": \"auto\", \"x\": [706974.0], \"xaxis\": \"x\", \"y\": [\"Massachusetts\"], \"yaxis\": \"y\", \"type\": \"bar\"}, {\"alignmentgroup\": \"True\", \"hovertemplate\": \"color=New York<br>animation_frame=1837<br>x=%{x}<br>y=%{y}<extra></extra>\", \"legendgroup\": \"New York\", \"marker\": {\"color\": \"#FFA15A\"}, \"name\": \"New York\", \"offsetgroup\": \"New York\", \"orientation\": \"h\", \"showlegend\": true, \"textposition\": \"auto\", \"x\": [2305742.0], \"xaxis\": \"x\", \"y\": [\"New York\"], \"yaxis\": \"y\", \"type\": \"bar\"}, {\"alignmentgroup\": \"True\", \"hovertemplate\": \"color=Kentucky<br>animation_frame=1837<br>x=%{x}<br>y=%{y}<extra></extra>\", \"legendgroup\": \"Kentucky\", \"marker\": {\"color\": \"#636efa\"}, \"name\": \"Kentucky\", \"offsetgroup\": \"Kentucky\", \"orientation\": \"h\", \"showlegend\": true, \"textposition\": \"auto\", \"x\": [757643.0], \"xaxis\": \"x\", \"y\": [\"Kentucky\"], \"yaxis\": \"y\", \"type\": \"bar\"}, {\"alignmentgroup\": \"True\", \"hovertemplate\": \"color=Ohio<br>animation_frame=1837<br>x=%{x}<br>y=%{y}<extra></extra>\", \"legendgroup\": \"Ohio\", \"marker\": {\"color\": \"#EF553B\"}, \"name\": \"Ohio\", \"offsetgroup\": \"Ohio\", \"orientation\": \"h\", \"showlegend\": true, \"textposition\": \"auto\", \"x\": [1379089.0], \"xaxis\": \"x\", \"y\": [\"Ohio\"], \"yaxis\": \"y\", \"type\": \"bar\"}, {\"alignmentgroup\": \"True\", \"hovertemplate\": \"color=Tennessee<br>animation_frame=1837<br>x=%{x}<br>y=%{y}<extra></extra>\", \"legendgroup\": \"Tennessee\", \"marker\": {\"color\": \"#00cc96\"}, \"name\": \"Tennessee\", \"offsetgroup\": \"Tennessee\", \"orientation\": \"h\", \"showlegend\": true, \"textposition\": \"auto\", \"x\": [793653.0], \"xaxis\": \"x\", \"y\": [\"Tennessee\"], \"yaxis\": \"y\", \"type\": \"bar\"}, {\"alignmentgroup\": \"True\", \"hovertemplate\": \"color=Georgia<br>animation_frame=1837<br>x=%{x}<br>y=%{y}<extra></extra>\", \"legendgroup\": \"Georgia\", \"marker\": {\"color\": \"#ab63fa\"}, \"name\": \"Georgia\", \"offsetgroup\": \"Georgia\", \"orientation\": \"h\", \"showlegend\": true, \"textposition\": \"auto\", \"x\": [649255.0], \"xaxis\": \"x\", \"y\": [\"Georgia\"], \"yaxis\": \"y\", \"type\": \"bar\"}, {\"alignmentgroup\": \"True\", \"hovertemplate\": \"color=Indiana<br>animation_frame=1837<br>x=%{x}<br>y=%{y}<extra></extra>\", \"legendgroup\": \"Indiana\", \"marker\": {\"color\": \"#FFA15A\"}, \"name\": \"Indiana\", \"offsetgroup\": \"Indiana\", \"orientation\": \"h\", \"showlegend\": true, \"textposition\": \"auto\", \"x\": [603113.0], \"xaxis\": \"x\", \"y\": [\"Indiana\"], \"yaxis\": \"y\", \"type\": \"bar\"}], \"name\": \"1837\"}, {\"data\": [{\"alignmentgroup\": \"True\", \"hovertemplate\": \"color=Virginia<br>animation_frame=1845<br>x=%{x}<br>y=%{y}<extra></extra>\", \"legendgroup\": \"Virginia\", \"marker\": {\"color\": \"#636efa\"}, \"name\": \"Virginia\", \"offsetgroup\": \"Virginia\", \"orientation\": \"h\", \"showlegend\": true, \"textposition\": \"auto\", \"x\": [1077156.0], \"xaxis\": \"x\", \"y\": [\"Virginia\"], \"yaxis\": \"y\", \"type\": \"bar\"}, {\"alignmentgroup\": \"True\", \"hovertemplate\": \"color=Pennsylvania<br>animation_frame=1845<br>x=%{x}<br>y=%{y}<extra></extra>\", \"legendgroup\": \"Pennsylvania\", \"marker\": {\"color\": \"#EF553B\"}, \"name\": \"Pennsylvania\", \"offsetgroup\": \"Pennsylvania\", \"orientation\": \"h\", \"showlegend\": true, \"textposition\": \"auto\", \"x\": [2048311.0], \"xaxis\": \"x\", \"y\": [\"Pennsylvania\"], \"yaxis\": \"y\", \"type\": \"bar\"}, {\"alignmentgroup\": \"True\", \"hovertemplate\": \"color=North Carolina<br>animation_frame=1845<br>x=%{x}<br>y=%{y}<extra></extra>\", \"legendgroup\": \"North Carolina\", \"marker\": {\"color\": \"#00cc96\"}, \"name\": \"North Carolina\", \"offsetgroup\": \"North Carolina\", \"orientation\": \"h\", \"showlegend\": true, \"textposition\": \"auto\", \"x\": [817209.0], \"xaxis\": \"x\", \"y\": [\"North Carolina\"], \"yaxis\": \"y\", \"type\": \"bar\"}, {\"alignmentgroup\": \"True\", \"hovertemplate\": \"color=Massachusetts<br>animation_frame=1845<br>x=%{x}<br>y=%{y}<extra></extra>\", \"legendgroup\": \"Massachusetts\", \"marker\": {\"color\": \"#ab63fa\"}, \"name\": \"Massachusetts\", \"offsetgroup\": \"Massachusetts\", \"orientation\": \"h\", \"showlegend\": true, \"textposition\": \"auto\", \"x\": [879390.0], \"xaxis\": \"x\", \"y\": [\"Massachusetts\"], \"yaxis\": \"y\", \"type\": \"bar\"}, {\"alignmentgroup\": \"True\", \"hovertemplate\": \"color=New York<br>animation_frame=1845<br>x=%{x}<br>y=%{y}<extra></extra>\", \"legendgroup\": \"New York\", \"marker\": {\"color\": \"#FFA15A\"}, \"name\": \"New York\", \"offsetgroup\": \"New York\", \"orientation\": \"h\", \"showlegend\": true, \"textposition\": \"auto\", \"x\": [2797734.0], \"xaxis\": \"x\", \"y\": [\"New York\"], \"yaxis\": \"y\", \"type\": \"bar\"}, {\"alignmentgroup\": \"True\", \"hovertemplate\": \"color=Kentucky<br>animation_frame=1845<br>x=%{x}<br>y=%{y}<extra></extra>\", \"legendgroup\": \"Kentucky\", \"marker\": {\"color\": \"#636efa\"}, \"name\": \"Kentucky\", \"offsetgroup\": \"Kentucky\", \"orientation\": \"h\", \"showlegend\": true, \"textposition\": \"auto\", \"x\": [891595.0], \"xaxis\": \"x\", \"y\": [\"Kentucky\"], \"yaxis\": \"y\", \"type\": \"bar\"}, {\"alignmentgroup\": \"True\", \"hovertemplate\": \"color=Ohio<br>animation_frame=1845<br>x=%{x}<br>y=%{y}<extra></extra>\", \"legendgroup\": \"Ohio\", \"marker\": {\"color\": \"#EF553B\"}, \"name\": \"Ohio\", \"offsetgroup\": \"Ohio\", \"orientation\": \"h\", \"showlegend\": true, \"textposition\": \"auto\", \"x\": [1773736.0], \"xaxis\": \"x\", \"y\": [\"Ohio\"], \"yaxis\": \"y\", \"type\": \"bar\"}, {\"alignmentgroup\": \"True\", \"hovertemplate\": \"color=Tennessee<br>animation_frame=1845<br>x=%{x}<br>y=%{y}<extra></extra>\", \"legendgroup\": \"Tennessee\", \"marker\": {\"color\": \"#00cc96\"}, \"name\": \"Tennessee\", \"offsetgroup\": \"Tennessee\", \"orientation\": \"h\", \"showlegend\": true, \"textposition\": \"auto\", \"x\": [924938.0], \"xaxis\": \"x\", \"y\": [\"Tennessee\"], \"yaxis\": \"y\", \"type\": \"bar\"}, {\"alignmentgroup\": \"True\", \"hovertemplate\": \"color=Georgia<br>animation_frame=1845<br>x=%{x}<br>y=%{y}<extra></extra>\", \"legendgroup\": \"Georgia\", \"marker\": {\"color\": \"#ab63fa\"}, \"name\": \"Georgia\", \"offsetgroup\": \"Georgia\", \"orientation\": \"h\", \"showlegend\": true, \"textposition\": \"auto\", \"x\": [809898.0], \"xaxis\": \"x\", \"y\": [\"Georgia\"], \"yaxis\": \"y\", \"type\": \"bar\"}, {\"alignmentgroup\": \"True\", \"hovertemplate\": \"color=Indiana<br>animation_frame=1845<br>x=%{x}<br>y=%{y}<extra></extra>\", \"legendgroup\": \"Indiana\", \"marker\": {\"color\": \"#FFA15A\"}, \"name\": \"Indiana\", \"offsetgroup\": \"Indiana\", \"orientation\": \"h\", \"showlegend\": true, \"textposition\": \"auto\", \"x\": [852790.0], \"xaxis\": \"x\", \"y\": [\"Indiana\"], \"yaxis\": \"y\", \"type\": \"bar\"}], \"name\": \"1845\"}, {\"data\": [{\"alignmentgroup\": \"True\", \"hovertemplate\": \"color=Virginia<br>animation_frame=1853<br>x=%{x}<br>y=%{y}<extra></extra>\", \"legendgroup\": \"Virginia\", \"marker\": {\"color\": \"#636efa\"}, \"name\": \"Virginia\", \"offsetgroup\": \"Virginia\", \"orientation\": \"h\", \"showlegend\": true, \"textposition\": \"auto\", \"x\": [1153928.0], \"xaxis\": \"x\", \"y\": [\"Virginia\"], \"yaxis\": \"y\", \"type\": \"bar\"}, {\"alignmentgroup\": \"True\", \"hovertemplate\": \"color=Pennsylvania<br>animation_frame=1853<br>x=%{x}<br>y=%{y}<extra></extra>\", \"legendgroup\": \"Pennsylvania\", \"marker\": {\"color\": \"#EF553B\"}, \"name\": \"Pennsylvania\", \"offsetgroup\": \"Pennsylvania\", \"orientation\": \"h\", \"showlegend\": true, \"textposition\": \"auto\", \"x\": [2516762.0], \"xaxis\": \"x\", \"y\": [\"Pennsylvania\"], \"yaxis\": \"y\", \"type\": \"bar\"}, {\"alignmentgroup\": \"True\", \"hovertemplate\": \"color=Massachusetts<br>animation_frame=1853<br>x=%{x}<br>y=%{y}<extra></extra>\", \"legendgroup\": \"Massachusetts\", \"marker\": {\"color\": \"#ab63fa\"}, \"name\": \"Massachusetts\", \"offsetgroup\": \"Massachusetts\", \"orientation\": \"h\", \"showlegend\": true, \"textposition\": \"auto\", \"x\": [1076084.0], \"xaxis\": \"x\", \"y\": [\"Massachusetts\"], \"yaxis\": \"y\", \"type\": \"bar\"}, {\"alignmentgroup\": \"True\", \"hovertemplate\": \"color=New York<br>animation_frame=1853<br>x=%{x}<br>y=%{y}<extra></extra>\", \"legendgroup\": \"New York\", \"marker\": {\"color\": \"#FFA15A\"}, \"name\": \"New York\", \"offsetgroup\": \"New York\", \"orientation\": \"h\", \"showlegend\": true, \"textposition\": \"auto\", \"x\": [3367512.0], \"xaxis\": \"x\", \"y\": [\"New York\"], \"yaxis\": \"y\", \"type\": \"bar\"}, {\"alignmentgroup\": \"True\", \"hovertemplate\": \"color=Kentucky<br>animation_frame=1853<br>x=%{x}<br>y=%{y}<extra></extra>\", \"legendgroup\": \"Kentucky\", \"marker\": {\"color\": \"#636efa\"}, \"name\": \"Kentucky\", \"offsetgroup\": \"Kentucky\", \"orientation\": \"h\", \"showlegend\": true, \"textposition\": \"auto\", \"x\": [1042156.0], \"xaxis\": \"x\", \"y\": [\"Kentucky\"], \"yaxis\": \"y\", \"type\": \"bar\"}, {\"alignmentgroup\": \"True\", \"hovertemplate\": \"color=Ohio<br>animation_frame=1853<br>x=%{x}<br>y=%{y}<extra></extra>\", \"legendgroup\": \"Ohio\", \"marker\": {\"color\": \"#EF553B\"}, \"name\": \"Ohio\", \"offsetgroup\": \"Ohio\", \"orientation\": \"h\", \"showlegend\": true, \"textposition\": \"auto\", \"x\": [2104185.0], \"xaxis\": \"x\", \"y\": [\"Ohio\"], \"yaxis\": \"y\", \"type\": \"bar\"}, {\"alignmentgroup\": \"True\", \"hovertemplate\": \"color=Tennessee<br>animation_frame=1853<br>x=%{x}<br>y=%{y}<extra></extra>\", \"legendgroup\": \"Tennessee\", \"marker\": {\"color\": \"#00cc96\"}, \"name\": \"Tennessee\", \"offsetgroup\": \"Tennessee\", \"orientation\": \"h\", \"showlegend\": true, \"textposition\": \"auto\", \"x\": [1039643.0], \"xaxis\": \"x\", \"y\": [\"Tennessee\"], \"yaxis\": \"y\", \"type\": \"bar\"}, {\"alignmentgroup\": \"True\", \"hovertemplate\": \"color=Georgia<br>animation_frame=1853<br>x=%{x}<br>y=%{y}<extra></extra>\", \"legendgroup\": \"Georgia\", \"marker\": {\"color\": \"#ab63fa\"}, \"name\": \"Georgia\", \"offsetgroup\": \"Georgia\", \"orientation\": \"h\", \"showlegend\": true, \"textposition\": \"auto\", \"x\": [958289.0], \"xaxis\": \"x\", \"y\": [\"Georgia\"], \"yaxis\": \"y\", \"type\": \"bar\"}, {\"alignmentgroup\": \"True\", \"hovertemplate\": \"color=Indiana<br>animation_frame=1853<br>x=%{x}<br>y=%{y}<extra></extra>\", \"legendgroup\": \"Indiana\", \"marker\": {\"color\": \"#FFA15A\"}, \"name\": \"Indiana\", \"offsetgroup\": \"Indiana\", \"orientation\": \"h\", \"showlegend\": true, \"textposition\": \"auto\", \"x\": [1113248.0], \"xaxis\": \"x\", \"y\": [\"Indiana\"], \"yaxis\": \"y\", \"type\": \"bar\"}, {\"alignmentgroup\": \"True\", \"hovertemplate\": \"color=Illinois<br>animation_frame=1853<br>x=%{x}<br>y=%{y}<extra></extra>\", \"legendgroup\": \"Illinois\", \"marker\": {\"color\": \"#19d3f3\"}, \"name\": \"Illinois\", \"offsetgroup\": \"Illinois\", \"orientation\": \"h\", \"showlegend\": true, \"textposition\": \"auto\", \"x\": [1156883.0], \"xaxis\": \"x\", \"y\": [\"Illinois\"], \"yaxis\": \"y\", \"type\": \"bar\"}], \"name\": \"1853\"}, {\"data\": [{\"alignmentgroup\": \"True\", \"hovertemplate\": \"color=Virginia<br>animation_frame=1861<br>x=%{x}<br>y=%{y}<extra></extra>\", \"legendgroup\": \"Virginia\", \"marker\": {\"color\": \"#636efa\"}, \"name\": \"Virginia\", \"offsetgroup\": \"Virginia\", \"orientation\": \"h\", \"showlegend\": true, \"textposition\": \"auto\", \"x\": [1220393.0], \"xaxis\": \"x\", \"y\": [\"Virginia\"], \"yaxis\": \"y\", \"type\": \"bar\"}, {\"alignmentgroup\": \"True\", \"hovertemplate\": \"color=Pennsylvania<br>animation_frame=1861<br>x=%{x}<br>y=%{y}<extra></extra>\", \"legendgroup\": \"Pennsylvania\", \"marker\": {\"color\": \"#EF553B\"}, \"name\": \"Pennsylvania\", \"offsetgroup\": \"Pennsylvania\", \"orientation\": \"h\", \"showlegend\": true, \"textposition\": \"auto\", \"x\": [2991144.0], \"xaxis\": \"x\", \"y\": [\"Pennsylvania\"], \"yaxis\": \"y\", \"type\": \"bar\"}, {\"alignmentgroup\": \"True\", \"hovertemplate\": \"color=Massachusetts<br>animation_frame=1861<br>x=%{x}<br>y=%{y}<extra></extra>\", \"legendgroup\": \"Massachusetts\", \"marker\": {\"color\": \"#ab63fa\"}, \"name\": \"Massachusetts\", \"offsetgroup\": \"Massachusetts\", \"orientation\": \"h\", \"showlegend\": true, \"textposition\": \"auto\", \"x\": [1262278.0], \"xaxis\": \"x\", \"y\": [\"Massachusetts\"], \"yaxis\": \"y\", \"type\": \"bar\"}, {\"alignmentgroup\": \"True\", \"hovertemplate\": \"color=New York<br>animation_frame=1861<br>x=%{x}<br>y=%{y}<extra></extra>\", \"legendgroup\": \"New York\", \"marker\": {\"color\": \"#FFA15A\"}, \"name\": \"New York\", \"offsetgroup\": \"New York\", \"orientation\": \"h\", \"showlegend\": true, \"textposition\": \"auto\", \"x\": [3949980.0], \"xaxis\": \"x\", \"y\": [\"New York\"], \"yaxis\": \"y\", \"type\": \"bar\"}, {\"alignmentgroup\": \"True\", \"hovertemplate\": \"color=Kentucky<br>animation_frame=1861<br>x=%{x}<br>y=%{y}<extra></extra>\", \"legendgroup\": \"Kentucky\", \"marker\": {\"color\": \"#636efa\"}, \"name\": \"Kentucky\", \"offsetgroup\": \"Kentucky\", \"orientation\": \"h\", \"showlegend\": true, \"textposition\": \"auto\", \"x\": [1178488.0], \"xaxis\": \"x\", \"y\": [\"Kentucky\"], \"yaxis\": \"y\", \"type\": \"bar\"}, {\"alignmentgroup\": \"True\", \"hovertemplate\": \"color=Ohio<br>animation_frame=1861<br>x=%{x}<br>y=%{y}<extra></extra>\", \"legendgroup\": \"Ohio\", \"marker\": {\"color\": \"#EF553B\"}, \"name\": \"Ohio\", \"offsetgroup\": \"Ohio\", \"orientation\": \"h\", \"showlegend\": true, \"textposition\": \"auto\", \"x\": [2384442.0], \"xaxis\": \"x\", \"y\": [\"Ohio\"], \"yaxis\": \"y\", \"type\": \"bar\"}, {\"alignmentgroup\": \"True\", \"hovertemplate\": \"color=Tennessee<br>animation_frame=1861<br>x=%{x}<br>y=%{y}<extra></extra>\", \"legendgroup\": \"Tennessee\", \"marker\": {\"color\": \"#00cc96\"}, \"name\": \"Tennessee\", \"offsetgroup\": \"Tennessee\", \"orientation\": \"h\", \"showlegend\": true, \"textposition\": \"auto\", \"x\": [1130314.0], \"xaxis\": \"x\", \"y\": [\"Tennessee\"], \"yaxis\": \"y\", \"type\": \"bar\"}, {\"alignmentgroup\": \"True\", \"hovertemplate\": \"color=Indiana<br>animation_frame=1861<br>x=%{x}<br>y=%{y}<extra></extra>\", \"legendgroup\": \"Indiana\", \"marker\": {\"color\": \"#FFA15A\"}, \"name\": \"Indiana\", \"offsetgroup\": \"Indiana\", \"orientation\": \"h\", \"showlegend\": true, \"textposition\": \"auto\", \"x\": [1395974.0], \"xaxis\": \"x\", \"y\": [\"Indiana\"], \"yaxis\": \"y\", \"type\": \"bar\"}, {\"alignmentgroup\": \"True\", \"hovertemplate\": \"color=Illinois<br>animation_frame=1861<br>x=%{x}<br>y=%{y}<extra></extra>\", \"legendgroup\": \"Illinois\", \"marker\": {\"color\": \"#19d3f3\"}, \"name\": \"Illinois\", \"offsetgroup\": \"Illinois\", \"orientation\": \"h\", \"showlegend\": true, \"textposition\": \"auto\", \"x\": [1833916.0], \"xaxis\": \"x\", \"y\": [\"Illinois\"], \"yaxis\": \"y\", \"type\": \"bar\"}, {\"alignmentgroup\": \"True\", \"hovertemplate\": \"color=Missouri<br>animation_frame=1861<br>x=%{x}<br>y=%{y}<extra></extra>\", \"legendgroup\": \"Missouri\", \"marker\": {\"color\": \"#FF6692\"}, \"name\": \"Missouri\", \"offsetgroup\": \"Missouri\", \"orientation\": \"h\", \"showlegend\": true, \"textposition\": \"auto\", \"x\": [1256396.0], \"xaxis\": \"x\", \"y\": [\"Missouri\"], \"yaxis\": \"y\", \"type\": \"bar\"}], \"name\": \"1861\"}, {\"data\": [{\"alignmentgroup\": \"True\", \"hovertemplate\": \"color=Virginia<br>animation_frame=1869<br>x=%{x}<br>y=%{y}<extra></extra>\", \"legendgroup\": \"Virginia\", \"marker\": {\"color\": \"#636efa\"}, \"name\": \"Virginia\", \"offsetgroup\": \"Virginia\", \"orientation\": \"h\", \"showlegend\": true, \"textposition\": \"auto\", \"x\": [1224781.0], \"xaxis\": \"x\", \"y\": [\"Virginia\"], \"yaxis\": \"y\", \"type\": \"bar\"}, {\"alignmentgroup\": \"True\", \"hovertemplate\": \"color=Pennsylvania<br>animation_frame=1869<br>x=%{x}<br>y=%{y}<extra></extra>\", \"legendgroup\": \"Pennsylvania\", \"marker\": {\"color\": \"#EF553B\"}, \"name\": \"Pennsylvania\", \"offsetgroup\": \"Pennsylvania\", \"orientation\": \"h\", \"showlegend\": true, \"textposition\": \"auto\", \"x\": [3479486.0], \"xaxis\": \"x\", \"y\": [\"Pennsylvania\"], \"yaxis\": \"y\", \"type\": \"bar\"}, {\"alignmentgroup\": \"True\", \"hovertemplate\": \"color=Massachusetts<br>animation_frame=1869<br>x=%{x}<br>y=%{y}<extra></extra>\", \"legendgroup\": \"Massachusetts\", \"marker\": {\"color\": \"#ab63fa\"}, \"name\": \"Massachusetts\", \"offsetgroup\": \"Massachusetts\", \"orientation\": \"h\", \"showlegend\": true, \"textposition\": \"auto\", \"x\": [1441745.0], \"xaxis\": \"x\", \"y\": [\"Massachusetts\"], \"yaxis\": \"y\", \"type\": \"bar\"}, {\"alignmentgroup\": \"True\", \"hovertemplate\": \"color=New York<br>animation_frame=1869<br>x=%{x}<br>y=%{y}<extra></extra>\", \"legendgroup\": \"New York\", \"marker\": {\"color\": \"#FFA15A\"}, \"name\": \"New York\", \"offsetgroup\": \"New York\", \"orientation\": \"h\", \"showlegend\": true, \"textposition\": \"auto\", \"x\": [4348137.0], \"xaxis\": \"x\", \"y\": [\"New York\"], \"yaxis\": \"y\", \"type\": \"bar\"}, {\"alignmentgroup\": \"True\", \"hovertemplate\": \"color=Kentucky<br>animation_frame=1869<br>x=%{x}<br>y=%{y}<extra></extra>\", \"legendgroup\": \"Kentucky\", \"marker\": {\"color\": \"#636efa\"}, \"name\": \"Kentucky\", \"offsetgroup\": \"Kentucky\", \"orientation\": \"h\", \"showlegend\": true, \"textposition\": \"auto\", \"x\": [1309609.0], \"xaxis\": \"x\", \"y\": [\"Kentucky\"], \"yaxis\": \"y\", \"type\": \"bar\"}, {\"alignmentgroup\": \"True\", \"hovertemplate\": \"color=Ohio<br>animation_frame=1869<br>x=%{x}<br>y=%{y}<extra></extra>\", \"legendgroup\": \"Ohio\", \"marker\": {\"color\": \"#EF553B\"}, \"name\": \"Ohio\", \"offsetgroup\": \"Ohio\", \"orientation\": \"h\", \"showlegend\": true, \"textposition\": \"auto\", \"x\": [2642795.0], \"xaxis\": \"x\", \"y\": [\"Ohio\"], \"yaxis\": \"y\", \"type\": \"bar\"}, {\"alignmentgroup\": \"True\", \"hovertemplate\": \"color=Tennessee<br>animation_frame=1869<br>x=%{x}<br>y=%{y}<extra></extra>\", \"legendgroup\": \"Tennessee\", \"marker\": {\"color\": \"#00cc96\"}, \"name\": \"Tennessee\", \"offsetgroup\": \"Tennessee\", \"orientation\": \"h\", \"showlegend\": true, \"textposition\": \"auto\", \"x\": [1248264.0], \"xaxis\": \"x\", \"y\": [\"Tennessee\"], \"yaxis\": \"y\", \"type\": \"bar\"}, {\"alignmentgroup\": \"True\", \"hovertemplate\": \"color=Indiana<br>animation_frame=1869<br>x=%{x}<br>y=%{y}<extra></extra>\", \"legendgroup\": \"Indiana\", \"marker\": {\"color\": \"#FFA15A\"}, \"name\": \"Indiana\", \"offsetgroup\": \"Indiana\", \"orientation\": \"h\", \"showlegend\": true, \"textposition\": \"auto\", \"x\": [1657864.0], \"xaxis\": \"x\", \"y\": [\"Indiana\"], \"yaxis\": \"y\", \"type\": \"bar\"}, {\"alignmentgroup\": \"True\", \"hovertemplate\": \"color=Illinois<br>animation_frame=1869<br>x=%{x}<br>y=%{y}<extra></extra>\", \"legendgroup\": \"Illinois\", \"marker\": {\"color\": \"#19d3f3\"}, \"name\": \"Illinois\", \"offsetgroup\": \"Illinois\", \"orientation\": \"h\", \"showlegend\": true, \"textposition\": \"auto\", \"x\": [2483413.0], \"xaxis\": \"x\", \"y\": [\"Illinois\"], \"yaxis\": \"y\", \"type\": \"bar\"}, {\"alignmentgroup\": \"True\", \"hovertemplate\": \"color=Missouri<br>animation_frame=1869<br>x=%{x}<br>y=%{y}<extra></extra>\", \"legendgroup\": \"Missouri\", \"marker\": {\"color\": \"#FF6692\"}, \"name\": \"Missouri\", \"offsetgroup\": \"Missouri\", \"orientation\": \"h\", \"showlegend\": true, \"textposition\": \"auto\", \"x\": [1684103.0], \"xaxis\": \"x\", \"y\": [\"Missouri\"], \"yaxis\": \"y\", \"type\": \"bar\"}], \"name\": \"1869\"}, {\"data\": [{\"alignmentgroup\": \"True\", \"hovertemplate\": \"color=Pennsylvania<br>animation_frame=1877<br>x=%{x}<br>y=%{y}<extra></extra>\", \"legendgroup\": \"Pennsylvania\", \"marker\": {\"color\": \"#EF553B\"}, \"name\": \"Pennsylvania\", \"offsetgroup\": \"Pennsylvania\", \"orientation\": \"h\", \"showlegend\": true, \"textposition\": \"auto\", \"x\": [4072977.0], \"xaxis\": \"x\", \"y\": [\"Pennsylvania\"], \"yaxis\": \"y\", \"type\": \"bar\"}, {\"alignmentgroup\": \"True\", \"hovertemplate\": \"color=Massachusetts<br>animation_frame=1877<br>x=%{x}<br>y=%{y}<extra></extra>\", \"legendgroup\": \"Massachusetts\", \"marker\": {\"color\": \"#ab63fa\"}, \"name\": \"Massachusetts\", \"offsetgroup\": \"Massachusetts\", \"orientation\": \"h\", \"showlegend\": true, \"textposition\": \"auto\", \"x\": [1693227.0], \"xaxis\": \"x\", \"y\": [\"Massachusetts\"], \"yaxis\": \"y\", \"type\": \"bar\"}, {\"alignmentgroup\": \"True\", \"hovertemplate\": \"color=New York<br>animation_frame=1877<br>x=%{x}<br>y=%{y}<extra></extra>\", \"legendgroup\": \"New York\", \"marker\": {\"color\": \"#FFA15A\"}, \"name\": \"New York\", \"offsetgroup\": \"New York\", \"orientation\": \"h\", \"showlegend\": true, \"textposition\": \"auto\", \"x\": [4889737.0], \"xaxis\": \"x\", \"y\": [\"New York\"], \"yaxis\": \"y\", \"type\": \"bar\"}, {\"alignmentgroup\": \"True\", \"hovertemplate\": \"color=Kentucky<br>animation_frame=1877<br>x=%{x}<br>y=%{y}<extra></extra>\", \"legendgroup\": \"Kentucky\", \"marker\": {\"color\": \"#636efa\"}, \"name\": \"Kentucky\", \"offsetgroup\": \"Kentucky\", \"orientation\": \"h\", \"showlegend\": true, \"textposition\": \"auto\", \"x\": [1558296.0], \"xaxis\": \"x\", \"y\": [\"Kentucky\"], \"yaxis\": \"y\", \"type\": \"bar\"}, {\"alignmentgroup\": \"True\", \"hovertemplate\": \"color=Ohio<br>animation_frame=1877<br>x=%{x}<br>y=%{y}<extra></extra>\", \"legendgroup\": \"Ohio\", \"marker\": {\"color\": \"#EF553B\"}, \"name\": \"Ohio\", \"offsetgroup\": \"Ohio\", \"orientation\": \"h\", \"showlegend\": true, \"textposition\": \"auto\", \"x\": [3051082.0], \"xaxis\": \"x\", \"y\": [\"Ohio\"], \"yaxis\": \"y\", \"type\": \"bar\"}, {\"alignmentgroup\": \"True\", \"hovertemplate\": \"color=Indiana<br>animation_frame=1877<br>x=%{x}<br>y=%{y}<extra></extra>\", \"legendgroup\": \"Indiana\", \"marker\": {\"color\": \"#FFA15A\"}, \"name\": \"Indiana\", \"offsetgroup\": \"Indiana\", \"orientation\": \"h\", \"showlegend\": true, \"textposition\": \"auto\", \"x\": [1896187.0], \"xaxis\": \"x\", \"y\": [\"Indiana\"], \"yaxis\": \"y\", \"type\": \"bar\"}, {\"alignmentgroup\": \"True\", \"hovertemplate\": \"color=Illinois<br>animation_frame=1877<br>x=%{x}<br>y=%{y}<extra></extra>\", \"legendgroup\": \"Illinois\", \"marker\": {\"color\": \"#19d3f3\"}, \"name\": \"Illinois\", \"offsetgroup\": \"Illinois\", \"orientation\": \"h\", \"showlegend\": true, \"textposition\": \"auto\", \"x\": [2929463.0], \"xaxis\": \"x\", \"y\": [\"Illinois\"], \"yaxis\": \"y\", \"type\": \"bar\"}, {\"alignmentgroup\": \"True\", \"hovertemplate\": \"color=Missouri<br>animation_frame=1877<br>x=%{x}<br>y=%{y}<extra></extra>\", \"legendgroup\": \"Missouri\", \"marker\": {\"color\": \"#FF6692\"}, \"name\": \"Missouri\", \"offsetgroup\": \"Missouri\", \"orientation\": \"h\", \"showlegend\": true, \"textposition\": \"auto\", \"x\": [2045046.0], \"xaxis\": \"x\", \"y\": [\"Missouri\"], \"yaxis\": \"y\", \"type\": \"bar\"}, {\"alignmentgroup\": \"True\", \"hovertemplate\": \"color=Michigan<br>animation_frame=1877<br>x=%{x}<br>y=%{y}<extra></extra>\", \"legendgroup\": \"Michigan\", \"marker\": {\"color\": \"#B6E880\"}, \"name\": \"Michigan\", \"offsetgroup\": \"Michigan\", \"orientation\": \"h\", \"showlegend\": true, \"textposition\": \"auto\", \"x\": [1512005.0], \"xaxis\": \"x\", \"y\": [\"Michigan\"], \"yaxis\": \"y\", \"type\": \"bar\"}, {\"alignmentgroup\": \"True\", \"hovertemplate\": \"color=Iowa<br>animation_frame=1877<br>x=%{x}<br>y=%{y}<extra></extra>\", \"legendgroup\": \"Iowa\", \"marker\": {\"color\": \"#FF97FF\"}, \"name\": \"Iowa\", \"offsetgroup\": \"Iowa\", \"orientation\": \"h\", \"showlegend\": true, \"textposition\": \"auto\", \"x\": [1505830.0], \"xaxis\": \"x\", \"y\": [\"Iowa\"], \"yaxis\": \"y\", \"type\": \"bar\"}], \"name\": \"1877\"}, {\"data\": [{\"alignmentgroup\": \"True\", \"hovertemplate\": \"color=Pennsylvania<br>animation_frame=1885<br>x=%{x}<br>y=%{y}<extra></extra>\", \"legendgroup\": \"Pennsylvania\", \"marker\": {\"color\": \"#EF553B\"}, \"name\": \"Pennsylvania\", \"offsetgroup\": \"Pennsylvania\", \"orientation\": \"h\", \"showlegend\": true, \"textposition\": \"auto\", \"x\": [4787265.0], \"xaxis\": \"x\", \"y\": [\"Pennsylvania\"], \"yaxis\": \"y\", \"type\": \"bar\"}, {\"alignmentgroup\": \"True\", \"hovertemplate\": \"color=Massachusetts<br>animation_frame=1885<br>x=%{x}<br>y=%{y}<extra></extra>\", \"legendgroup\": \"Massachusetts\", \"marker\": {\"color\": \"#ab63fa\"}, \"name\": \"Massachusetts\", \"offsetgroup\": \"Massachusetts\", \"orientation\": \"h\", \"showlegend\": true, \"textposition\": \"auto\", \"x\": [2018874.0], \"xaxis\": \"x\", \"y\": [\"Massachusetts\"], \"yaxis\": \"y\", \"type\": \"bar\"}, {\"alignmentgroup\": \"True\", \"hovertemplate\": \"color=New York<br>animation_frame=1885<br>x=%{x}<br>y=%{y}<extra></extra>\", \"legendgroup\": \"New York\", \"marker\": {\"color\": \"#FFA15A\"}, \"name\": \"New York\", \"offsetgroup\": \"New York\", \"orientation\": \"h\", \"showlegend\": true, \"textposition\": \"auto\", \"x\": [5558890.0], \"xaxis\": \"x\", \"y\": [\"New York\"], \"yaxis\": \"y\", \"type\": \"bar\"}, {\"alignmentgroup\": \"True\", \"hovertemplate\": \"color=Ohio<br>animation_frame=1885<br>x=%{x}<br>y=%{y}<extra></extra>\", \"legendgroup\": \"Ohio\", \"marker\": {\"color\": \"#EF553B\"}, \"name\": \"Ohio\", \"offsetgroup\": \"Ohio\", \"orientation\": \"h\", \"showlegend\": true, \"textposition\": \"auto\", \"x\": [3443366.0], \"xaxis\": \"x\", \"y\": [\"Ohio\"], \"yaxis\": \"y\", \"type\": \"bar\"}, {\"alignmentgroup\": \"True\", \"hovertemplate\": \"color=Indiana<br>animation_frame=1885<br>x=%{x}<br>y=%{y}<extra></extra>\", \"legendgroup\": \"Indiana\", \"marker\": {\"color\": \"#FFA15A\"}, \"name\": \"Indiana\", \"offsetgroup\": \"Indiana\", \"orientation\": \"h\", \"showlegend\": true, \"textposition\": \"auto\", \"x\": [2089044.0], \"xaxis\": \"x\", \"y\": [\"Indiana\"], \"yaxis\": \"y\", \"type\": \"bar\"}, {\"alignmentgroup\": \"True\", \"hovertemplate\": \"color=Illinois<br>animation_frame=1885<br>x=%{x}<br>y=%{y}<extra></extra>\", \"legendgroup\": \"Illinois\", \"marker\": {\"color\": \"#19d3f3\"}, \"name\": \"Illinois\", \"offsetgroup\": \"Illinois\", \"orientation\": \"h\", \"showlegend\": true, \"textposition\": \"auto\", \"x\": [3465016.0], \"xaxis\": \"x\", \"y\": [\"Illinois\"], \"yaxis\": \"y\", \"type\": \"bar\"}, {\"alignmentgroup\": \"True\", \"hovertemplate\": \"color=Missouri<br>animation_frame=1885<br>x=%{x}<br>y=%{y}<extra></extra>\", \"legendgroup\": \"Missouri\", \"marker\": {\"color\": \"#FF6692\"}, \"name\": \"Missouri\", \"offsetgroup\": \"Missouri\", \"orientation\": \"h\", \"showlegend\": true, \"textposition\": \"auto\", \"x\": [2432589.0], \"xaxis\": \"x\", \"y\": [\"Missouri\"], \"yaxis\": \"y\", \"type\": \"bar\"}, {\"alignmentgroup\": \"True\", \"hovertemplate\": \"color=Michigan<br>animation_frame=1885<br>x=%{x}<br>y=%{y}<extra></extra>\", \"legendgroup\": \"Michigan\", \"marker\": {\"color\": \"#B6E880\"}, \"name\": \"Michigan\", \"offsetgroup\": \"Michigan\", \"orientation\": \"h\", \"showlegend\": true, \"textposition\": \"auto\", \"x\": [1873291.0], \"xaxis\": \"x\", \"y\": [\"Michigan\"], \"yaxis\": \"y\", \"type\": \"bar\"}, {\"alignmentgroup\": \"True\", \"hovertemplate\": \"color=Iowa<br>animation_frame=1885<br>x=%{x}<br>y=%{y}<extra></extra>\", \"legendgroup\": \"Iowa\", \"marker\": {\"color\": \"#FF97FF\"}, \"name\": \"Iowa\", \"offsetgroup\": \"Iowa\", \"orientation\": \"h\", \"showlegend\": true, \"textposition\": \"auto\", \"x\": [1773416.0], \"xaxis\": \"x\", \"y\": [\"Iowa\"], \"yaxis\": \"y\", \"type\": \"bar\"}, {\"alignmentgroup\": \"True\", \"hovertemplate\": \"color=Texas<br>animation_frame=1885<br>x=%{x}<br>y=%{y}<extra></extra>\", \"legendgroup\": \"Texas\", \"marker\": {\"color\": \"#FECB52\"}, \"name\": \"Texas\", \"offsetgroup\": \"Texas\", \"orientation\": \"h\", \"showlegend\": true, \"textposition\": \"auto\", \"x\": [1924736.0], \"xaxis\": \"x\", \"y\": [\"Texas\"], \"yaxis\": \"y\", \"type\": \"bar\"}], \"name\": \"1885\"}, {\"data\": [{\"alignmentgroup\": \"True\", \"hovertemplate\": \"color=Pennsylvania<br>animation_frame=1893<br>x=%{x}<br>y=%{y}<extra></extra>\", \"legendgroup\": \"Pennsylvania\", \"marker\": {\"color\": \"#EF553B\"}, \"name\": \"Pennsylvania\", \"offsetgroup\": \"Pennsylvania\", \"orientation\": \"h\", \"showlegend\": true, \"textposition\": \"auto\", \"x\": [5582045.0], \"xaxis\": \"x\", \"y\": [\"Pennsylvania\"], \"yaxis\": \"y\", \"type\": \"bar\"}, {\"alignmentgroup\": \"True\", \"hovertemplate\": \"color=Massachusetts<br>animation_frame=1893<br>x=%{x}<br>y=%{y}<extra></extra>\", \"legendgroup\": \"Massachusetts\", \"marker\": {\"color\": \"#ab63fa\"}, \"name\": \"Massachusetts\", \"offsetgroup\": \"Massachusetts\", \"orientation\": \"h\", \"showlegend\": true, \"textposition\": \"auto\", \"x\": [2414723.0], \"xaxis\": \"x\", \"y\": [\"Massachusetts\"], \"yaxis\": \"y\", \"type\": \"bar\"}, {\"alignmentgroup\": \"True\", \"hovertemplate\": \"color=New York<br>animation_frame=1893<br>x=%{x}<br>y=%{y}<extra></extra>\", \"legendgroup\": \"New York\", \"marker\": {\"color\": \"#FFA15A\"}, \"name\": \"New York\", \"offsetgroup\": \"New York\", \"orientation\": \"h\", \"showlegend\": true, \"textposition\": \"auto\", \"x\": [6395984.0], \"xaxis\": \"x\", \"y\": [\"New York\"], \"yaxis\": \"y\", \"type\": \"bar\"}, {\"alignmentgroup\": \"True\", \"hovertemplate\": \"color=Ohio<br>animation_frame=1893<br>x=%{x}<br>y=%{y}<extra></extra>\", \"legendgroup\": \"Ohio\", \"marker\": {\"color\": \"#EF553B\"}, \"name\": \"Ohio\", \"offsetgroup\": \"Ohio\", \"orientation\": \"h\", \"showlegend\": true, \"textposition\": \"auto\", \"x\": [3822904.0], \"xaxis\": \"x\", \"y\": [\"Ohio\"], \"yaxis\": \"y\", \"type\": \"bar\"}, {\"alignmentgroup\": \"True\", \"hovertemplate\": \"color=Indiana<br>animation_frame=1893<br>x=%{x}<br>y=%{y}<extra></extra>\", \"legendgroup\": \"Indiana\", \"marker\": {\"color\": \"#FFA15A\"}, \"name\": \"Indiana\", \"offsetgroup\": \"Indiana\", \"orientation\": \"h\", \"showlegend\": true, \"textposition\": \"auto\", \"x\": [2292974.0], \"xaxis\": \"x\", \"y\": [\"Indiana\"], \"yaxis\": \"y\", \"type\": \"bar\"}, {\"alignmentgroup\": \"True\", \"hovertemplate\": \"color=Illinois<br>animation_frame=1893<br>x=%{x}<br>y=%{y}<extra></extra>\", \"legendgroup\": \"Illinois\", \"marker\": {\"color\": \"#19d3f3\"}, \"name\": \"Illinois\", \"offsetgroup\": \"Illinois\", \"orientation\": \"h\", \"showlegend\": true, \"textposition\": \"auto\", \"x\": [4135206.0], \"xaxis\": \"x\", \"y\": [\"Illinois\"], \"yaxis\": \"y\", \"type\": \"bar\"}, {\"alignmentgroup\": \"True\", \"hovertemplate\": \"color=Missouri<br>animation_frame=1893<br>x=%{x}<br>y=%{y}<extra></extra>\", \"legendgroup\": \"Missouri\", \"marker\": {\"color\": \"#FF6692\"}, \"name\": \"Missouri\", \"offsetgroup\": \"Missouri\", \"orientation\": \"h\", \"showlegend\": true, \"textposition\": \"auto\", \"x\": [2811851.0], \"xaxis\": \"x\", \"y\": [\"Missouri\"], \"yaxis\": \"y\", \"type\": \"bar\"}, {\"alignmentgroup\": \"True\", \"hovertemplate\": \"color=Michigan<br>animation_frame=1893<br>x=%{x}<br>y=%{y}<extra></extra>\", \"legendgroup\": \"Michigan\", \"marker\": {\"color\": \"#B6E880\"}, \"name\": \"Michigan\", \"offsetgroup\": \"Michigan\", \"orientation\": \"h\", \"showlegend\": true, \"textposition\": \"auto\", \"x\": [2195401.0], \"xaxis\": \"x\", \"y\": [\"Michigan\"], \"yaxis\": \"y\", \"type\": \"bar\"}, {\"alignmentgroup\": \"True\", \"hovertemplate\": \"color=Iowa<br>animation_frame=1893<br>x=%{x}<br>y=%{y}<extra></extra>\", \"legendgroup\": \"Iowa\", \"marker\": {\"color\": \"#FF97FF\"}, \"name\": \"Iowa\", \"offsetgroup\": \"Iowa\", \"orientation\": \"h\", \"showlegend\": true, \"textposition\": \"auto\", \"x\": [2011470.0], \"xaxis\": \"x\", \"y\": [\"Iowa\"], \"yaxis\": \"y\", \"type\": \"bar\"}, {\"alignmentgroup\": \"True\", \"hovertemplate\": \"color=Texas<br>animation_frame=1893<br>x=%{x}<br>y=%{y}<extra></extra>\", \"legendgroup\": \"Texas\", \"marker\": {\"color\": \"#FECB52\"}, \"name\": \"Texas\", \"offsetgroup\": \"Texas\", \"orientation\": \"h\", \"showlegend\": true, \"textposition\": \"auto\", \"x\": [2487891.0], \"xaxis\": \"x\", \"y\": [\"Texas\"], \"yaxis\": \"y\", \"type\": \"bar\"}], \"name\": \"1893\"}, {\"data\": [{\"alignmentgroup\": \"True\", \"hovertemplate\": \"color=Pennsylvania<br>animation_frame=1901<br>x=%{x}<br>y=%{y}<extra></extra>\", \"legendgroup\": \"Pennsylvania\", \"marker\": {\"color\": \"#EF553B\"}, \"name\": \"Pennsylvania\", \"offsetgroup\": \"Pennsylvania\", \"orientation\": \"h\", \"showlegend\": true, \"textposition\": \"auto\", \"x\": [6443115.0], \"xaxis\": \"x\", \"y\": [\"Pennsylvania\"], \"yaxis\": \"y\", \"type\": \"bar\"}, {\"alignmentgroup\": \"True\", \"hovertemplate\": \"color=Massachusetts<br>animation_frame=1901<br>x=%{x}<br>y=%{y}<extra></extra>\", \"legendgroup\": \"Massachusetts\", \"marker\": {\"color\": \"#ab63fa\"}, \"name\": \"Massachusetts\", \"offsetgroup\": \"Massachusetts\", \"orientation\": \"h\", \"showlegend\": true, \"textposition\": \"auto\", \"x\": [2863388.0], \"xaxis\": \"x\", \"y\": [\"Massachusetts\"], \"yaxis\": \"y\", \"type\": \"bar\"}, {\"alignmentgroup\": \"True\", \"hovertemplate\": \"color=New York<br>animation_frame=1901<br>x=%{x}<br>y=%{y}<extra></extra>\", \"legendgroup\": \"New York\", \"marker\": {\"color\": \"#FFA15A\"}, \"name\": \"New York\", \"offsetgroup\": \"New York\", \"orientation\": \"h\", \"showlegend\": true, \"textposition\": \"auto\", \"x\": [7459727.0], \"xaxis\": \"x\", \"y\": [\"New York\"], \"yaxis\": \"y\", \"type\": \"bar\"}, {\"alignmentgroup\": \"True\", \"hovertemplate\": \"color=Ohio<br>animation_frame=1901<br>x=%{x}<br>y=%{y}<extra></extra>\", \"legendgroup\": \"Ohio\", \"marker\": {\"color\": \"#EF553B\"}, \"name\": \"Ohio\", \"offsetgroup\": \"Ohio\", \"orientation\": \"h\", \"showlegend\": true, \"textposition\": \"auto\", \"x\": [4220605.0], \"xaxis\": \"x\", \"y\": [\"Ohio\"], \"yaxis\": \"y\", \"type\": \"bar\"}, {\"alignmentgroup\": \"True\", \"hovertemplate\": \"color=Georgia<br>animation_frame=1901<br>x=%{x}<br>y=%{y}<extra></extra>\", \"legendgroup\": \"Georgia\", \"marker\": {\"color\": \"#ab63fa\"}, \"name\": \"Georgia\", \"offsetgroup\": \"Georgia\", \"orientation\": \"h\", \"showlegend\": true, \"textposition\": \"auto\", \"x\": [2256964.0], \"xaxis\": \"x\", \"y\": [\"Georgia\"], \"yaxis\": \"y\", \"type\": \"bar\"}, {\"alignmentgroup\": \"True\", \"hovertemplate\": \"color=Indiana<br>animation_frame=1901<br>x=%{x}<br>y=%{y}<extra></extra>\", \"legendgroup\": \"Indiana\", \"marker\": {\"color\": \"#FFA15A\"}, \"name\": \"Indiana\", \"offsetgroup\": \"Indiana\", \"orientation\": \"h\", \"showlegend\": true, \"textposition\": \"auto\", \"x\": [2535539.0], \"xaxis\": \"x\", \"y\": [\"Indiana\"], \"yaxis\": \"y\", \"type\": \"bar\"}, {\"alignmentgroup\": \"True\", \"hovertemplate\": \"color=Illinois<br>animation_frame=1901<br>x=%{x}<br>y=%{y}<extra></extra>\", \"legendgroup\": \"Illinois\", \"marker\": {\"color\": \"#19d3f3\"}, \"name\": \"Illinois\", \"offsetgroup\": \"Illinois\", \"orientation\": \"h\", \"showlegend\": true, \"textposition\": \"auto\", \"x\": [4906071.0], \"xaxis\": \"x\", \"y\": [\"Illinois\"], \"yaxis\": \"y\", \"type\": \"bar\"}, {\"alignmentgroup\": \"True\", \"hovertemplate\": \"color=Missouri<br>animation_frame=1901<br>x=%{x}<br>y=%{y}<extra></extra>\", \"legendgroup\": \"Missouri\", \"marker\": {\"color\": \"#FF6692\"}, \"name\": \"Missouri\", \"offsetgroup\": \"Missouri\", \"orientation\": \"h\", \"showlegend\": true, \"textposition\": \"auto\", \"x\": [3125976.0], \"xaxis\": \"x\", \"y\": [\"Missouri\"], \"yaxis\": \"y\", \"type\": \"bar\"}, {\"alignmentgroup\": \"True\", \"hovertemplate\": \"color=Michigan<br>animation_frame=1901<br>x=%{x}<br>y=%{y}<extra></extra>\", \"legendgroup\": \"Michigan\", \"marker\": {\"color\": \"#B6E880\"}, \"name\": \"Michigan\", \"offsetgroup\": \"Michigan\", \"orientation\": \"h\", \"showlegend\": true, \"textposition\": \"auto\", \"x\": [2461243.0], \"xaxis\": \"x\", \"y\": [\"Michigan\"], \"yaxis\": \"y\", \"type\": \"bar\"}, {\"alignmentgroup\": \"True\", \"hovertemplate\": \"color=Texas<br>animation_frame=1901<br>x=%{x}<br>y=%{y}<extra></extra>\", \"legendgroup\": \"Texas\", \"marker\": {\"color\": \"#FECB52\"}, \"name\": \"Texas\", \"offsetgroup\": \"Texas\", \"orientation\": \"h\", \"showlegend\": true, \"textposition\": \"auto\", \"x\": [3136417.0], \"xaxis\": \"x\", \"y\": [\"Texas\"], \"yaxis\": \"y\", \"type\": \"bar\"}], \"name\": \"1901\"}, {\"data\": [{\"alignmentgroup\": \"True\", \"hovertemplate\": \"color=Pennsylvania<br>animation_frame=1908<br>x=%{x}<br>y=%{y}<extra></extra>\", \"legendgroup\": \"Pennsylvania\", \"marker\": {\"color\": \"#EF553B\"}, \"name\": \"Pennsylvania\", \"offsetgroup\": \"Pennsylvania\", \"orientation\": \"h\", \"showlegend\": true, \"textposition\": \"auto\", \"x\": [7524111.0], \"xaxis\": \"x\", \"y\": [\"Pennsylvania\"], \"yaxis\": \"y\", \"type\": \"bar\"}, {\"alignmentgroup\": \"True\", \"hovertemplate\": \"color=Massachusetts<br>animation_frame=1908<br>x=%{x}<br>y=%{y}<extra></extra>\", \"legendgroup\": \"Massachusetts\", \"marker\": {\"color\": \"#ab63fa\"}, \"name\": \"Massachusetts\", \"offsetgroup\": \"Massachusetts\", \"orientation\": \"h\", \"showlegend\": true, \"textposition\": \"auto\", \"x\": [3308374.0], \"xaxis\": \"x\", \"y\": [\"Massachusetts\"], \"yaxis\": \"y\", \"type\": \"bar\"}, {\"alignmentgroup\": \"True\", \"hovertemplate\": \"color=New York<br>animation_frame=1908<br>x=%{x}<br>y=%{y}<extra></extra>\", \"legendgroup\": \"New York\", \"marker\": {\"color\": \"#FFA15A\"}, \"name\": \"New York\", \"offsetgroup\": \"New York\", \"orientation\": \"h\", \"showlegend\": true, \"textposition\": \"auto\", \"x\": [8922781.0], \"xaxis\": \"x\", \"y\": [\"New York\"], \"yaxis\": \"y\", \"type\": \"bar\"}, {\"alignmentgroup\": \"True\", \"hovertemplate\": \"color=Ohio<br>animation_frame=1908<br>x=%{x}<br>y=%{y}<extra></extra>\", \"legendgroup\": \"Ohio\", \"marker\": {\"color\": \"#EF553B\"}, \"name\": \"Ohio\", \"offsetgroup\": \"Ohio\", \"orientation\": \"h\", \"showlegend\": true, \"textposition\": \"auto\", \"x\": [4704061.0], \"xaxis\": \"x\", \"y\": [\"Ohio\"], \"yaxis\": \"y\", \"type\": \"bar\"}, {\"alignmentgroup\": \"True\", \"hovertemplate\": \"color=Georgia<br>animation_frame=1908<br>x=%{x}<br>y=%{y}<extra></extra>\", \"legendgroup\": \"Georgia\", \"marker\": {\"color\": \"#ab63fa\"}, \"name\": \"Georgia\", \"offsetgroup\": \"Georgia\", \"orientation\": \"h\", \"showlegend\": true, \"textposition\": \"auto\", \"x\": [2568488.0], \"xaxis\": \"x\", \"y\": [\"Georgia\"], \"yaxis\": \"y\", \"type\": \"bar\"}, {\"alignmentgroup\": \"True\", \"hovertemplate\": \"color=Indiana<br>animation_frame=1908<br>x=%{x}<br>y=%{y}<extra></extra>\", \"legendgroup\": \"Indiana\", \"marker\": {\"color\": \"#FFA15A\"}, \"name\": \"Indiana\", \"offsetgroup\": \"Indiana\", \"orientation\": \"h\", \"showlegend\": true, \"textposition\": \"auto\", \"x\": [2681799.0], \"xaxis\": \"x\", \"y\": [\"Indiana\"], \"yaxis\": \"y\", \"type\": \"bar\"}, {\"alignmentgroup\": \"True\", \"hovertemplate\": \"color=Illinois<br>animation_frame=1908<br>x=%{x}<br>y=%{y}<extra></extra>\", \"legendgroup\": \"Illinois\", \"marker\": {\"color\": \"#19d3f3\"}, \"name\": \"Illinois\", \"offsetgroup\": \"Illinois\", \"orientation\": \"h\", \"showlegend\": true, \"textposition\": \"auto\", \"x\": [5554070.0], \"xaxis\": \"x\", \"y\": [\"Illinois\"], \"yaxis\": \"y\", \"type\": \"bar\"}, {\"alignmentgroup\": \"True\", \"hovertemplate\": \"color=Missouri<br>animation_frame=1908<br>x=%{x}<br>y=%{y}<extra></extra>\", \"legendgroup\": \"Missouri\", \"marker\": {\"color\": \"#FF6692\"}, \"name\": \"Missouri\", \"offsetgroup\": \"Missouri\", \"orientation\": \"h\", \"showlegend\": true, \"textposition\": \"auto\", \"x\": [3274024.0], \"xaxis\": \"x\", \"y\": [\"Missouri\"], \"yaxis\": \"y\", \"type\": \"bar\"}, {\"alignmentgroup\": \"True\", \"hovertemplate\": \"color=Michigan<br>animation_frame=1908<br>x=%{x}<br>y=%{y}<extra></extra>\", \"legendgroup\": \"Michigan\", \"marker\": {\"color\": \"#B6E880\"}, \"name\": \"Michigan\", \"offsetgroup\": \"Michigan\", \"orientation\": \"h\", \"showlegend\": true, \"textposition\": \"auto\", \"x\": [2769912.0], \"xaxis\": \"x\", \"y\": [\"Michigan\"], \"yaxis\": \"y\", \"type\": \"bar\"}, {\"alignmentgroup\": \"True\", \"hovertemplate\": \"color=Texas<br>animation_frame=1908<br>x=%{x}<br>y=%{y}<extra></extra>\", \"legendgroup\": \"Texas\", \"marker\": {\"color\": \"#FECB52\"}, \"name\": \"Texas\", \"offsetgroup\": \"Texas\", \"orientation\": \"h\", \"showlegend\": true, \"textposition\": \"auto\", \"x\": [3808835.0], \"xaxis\": \"x\", \"y\": [\"Texas\"], \"yaxis\": \"y\", \"type\": \"bar\"}], \"name\": \"1908\"}, {\"data\": [{\"alignmentgroup\": \"True\", \"hovertemplate\": \"color=Pennsylvania<br>animation_frame=1916<br>x=%{x}<br>y=%{y}<extra></extra>\", \"legendgroup\": \"Pennsylvania\", \"marker\": {\"color\": \"#EF553B\"}, \"name\": \"Pennsylvania\", \"offsetgroup\": \"Pennsylvania\", \"orientation\": \"h\", \"showlegend\": true, \"textposition\": \"auto\", \"x\": [8392632.0], \"xaxis\": \"x\", \"y\": [\"Pennsylvania\"], \"yaxis\": \"y\", \"type\": \"bar\"}, {\"alignmentgroup\": \"True\", \"hovertemplate\": \"color=Massachusetts<br>animation_frame=1916<br>x=%{x}<br>y=%{y}<extra></extra>\", \"legendgroup\": \"Massachusetts\", \"marker\": {\"color\": \"#ab63fa\"}, \"name\": \"Massachusetts\", \"offsetgroup\": \"Massachusetts\", \"orientation\": \"h\", \"showlegend\": true, \"textposition\": \"auto\", \"x\": [3701547.0], \"xaxis\": \"x\", \"y\": [\"Massachusetts\"], \"yaxis\": \"y\", \"type\": \"bar\"}, {\"alignmentgroup\": \"True\", \"hovertemplate\": \"color=New York<br>animation_frame=1916<br>x=%{x}<br>y=%{y}<extra></extra>\", \"legendgroup\": \"New York\", \"marker\": {\"color\": \"#FFA15A\"}, \"name\": \"New York\", \"offsetgroup\": \"New York\", \"orientation\": \"h\", \"showlegend\": true, \"textposition\": \"auto\", \"x\": [9990588.0], \"xaxis\": \"x\", \"y\": [\"New York\"], \"yaxis\": \"y\", \"type\": \"bar\"}, {\"alignmentgroup\": \"True\", \"hovertemplate\": \"color=New Jersey<br>animation_frame=1916<br>x=%{x}<br>y=%{y}<extra></extra>\", \"legendgroup\": \"New Jersey\", \"marker\": {\"color\": \"#FF97FF\"}, \"name\": \"New Jersey\", \"offsetgroup\": \"New Jersey\", \"orientation\": \"h\", \"showlegend\": true, \"textposition\": \"auto\", \"x\": [2963879.0], \"xaxis\": \"x\", \"y\": [\"New Jersey\"], \"yaxis\": \"y\", \"type\": \"bar\"}, {\"alignmentgroup\": \"True\", \"hovertemplate\": \"color=Ohio<br>animation_frame=1916<br>x=%{x}<br>y=%{y}<extra></extra>\", \"legendgroup\": \"Ohio\", \"marker\": {\"color\": \"#EF553B\"}, \"name\": \"Ohio\", \"offsetgroup\": \"Ohio\", \"orientation\": \"h\", \"showlegend\": true, \"textposition\": \"auto\", \"x\": [5451447.0], \"xaxis\": \"x\", \"y\": [\"Ohio\"], \"yaxis\": \"y\", \"type\": \"bar\"}, {\"alignmentgroup\": \"True\", \"hovertemplate\": \"color=Illinois<br>animation_frame=1916<br>x=%{x}<br>y=%{y}<extra></extra>\", \"legendgroup\": \"Illinois\", \"marker\": {\"color\": \"#19d3f3\"}, \"name\": \"Illinois\", \"offsetgroup\": \"Illinois\", \"orientation\": \"h\", \"showlegend\": true, \"textposition\": \"auto\", \"x\": [6222514.0], \"xaxis\": \"x\", \"y\": [\"Illinois\"], \"yaxis\": \"y\", \"type\": \"bar\"}, {\"alignmentgroup\": \"True\", \"hovertemplate\": \"color=Missouri<br>animation_frame=1916<br>x=%{x}<br>y=%{y}<extra></extra>\", \"legendgroup\": \"Missouri\", \"marker\": {\"color\": \"#FF6692\"}, \"name\": \"Missouri\", \"offsetgroup\": \"Missouri\", \"orientation\": \"h\", \"showlegend\": true, \"textposition\": \"auto\", \"x\": [3369694.0], \"xaxis\": \"x\", \"y\": [\"Missouri\"], \"yaxis\": \"y\", \"type\": \"bar\"}, {\"alignmentgroup\": \"True\", \"hovertemplate\": \"color=Michigan<br>animation_frame=1916<br>x=%{x}<br>y=%{y}<extra></extra>\", \"legendgroup\": \"Michigan\", \"marker\": {\"color\": \"#B6E880\"}, \"name\": \"Michigan\", \"offsetgroup\": \"Michigan\", \"orientation\": \"h\", \"showlegend\": true, \"textposition\": \"auto\", \"x\": [3402062.0], \"xaxis\": \"x\", \"y\": [\"Michigan\"], \"yaxis\": \"y\", \"type\": \"bar\"}, {\"alignmentgroup\": \"True\", \"hovertemplate\": \"color=Texas<br>animation_frame=1916<br>x=%{x}<br>y=%{y}<extra></extra>\", \"legendgroup\": \"Texas\", \"marker\": {\"color\": \"#FECB52\"}, \"name\": \"Texas\", \"offsetgroup\": \"Texas\", \"orientation\": \"h\", \"showlegend\": true, \"textposition\": \"auto\", \"x\": [4425291.0], \"xaxis\": \"x\", \"y\": [\"Texas\"], \"yaxis\": \"y\", \"type\": \"bar\"}, {\"alignmentgroup\": \"True\", \"hovertemplate\": \"color=California<br>animation_frame=1916<br>x=%{x}<br>y=%{y}<extra></extra>\", \"legendgroup\": \"California\", \"marker\": {\"color\": \"#636efa\"}, \"name\": \"California\", \"offsetgroup\": \"California\", \"orientation\": \"h\", \"showlegend\": true, \"textposition\": \"auto\", \"x\": [3101212.0], \"xaxis\": \"x\", \"y\": [\"California\"], \"yaxis\": \"y\", \"type\": \"bar\"}], \"name\": \"1916\"}, {\"data\": [{\"alignmentgroup\": \"True\", \"hovertemplate\": \"color=Pennsylvania<br>animation_frame=1924<br>x=%{x}<br>y=%{y}<extra></extra>\", \"legendgroup\": \"Pennsylvania\", \"marker\": {\"color\": \"#EF553B\"}, \"name\": \"Pennsylvania\", \"offsetgroup\": \"Pennsylvania\", \"orientation\": \"h\", \"showlegend\": true, \"textposition\": \"auto\", \"x\": [9159971.0], \"xaxis\": \"x\", \"y\": [\"Pennsylvania\"], \"yaxis\": \"y\", \"type\": \"bar\"}, {\"alignmentgroup\": \"True\", \"hovertemplate\": \"color=Massachusetts<br>animation_frame=1924<br>x=%{x}<br>y=%{y}<extra></extra>\", \"legendgroup\": \"Massachusetts\", \"marker\": {\"color\": \"#ab63fa\"}, \"name\": \"Massachusetts\", \"offsetgroup\": \"Massachusetts\", \"orientation\": \"h\", \"showlegend\": true, \"textposition\": \"auto\", \"x\": [4044136.0], \"xaxis\": \"x\", \"y\": [\"Massachusetts\"], \"yaxis\": \"y\", \"type\": \"bar\"}, {\"alignmentgroup\": \"True\", \"hovertemplate\": \"color=New York<br>animation_frame=1924<br>x=%{x}<br>y=%{y}<extra></extra>\", \"legendgroup\": \"New York\", \"marker\": {\"color\": \"#FFA15A\"}, \"name\": \"New York\", \"offsetgroup\": \"New York\", \"orientation\": \"h\", \"showlegend\": true, \"textposition\": \"auto\", \"x\": [11448667.0], \"xaxis\": \"x\", \"y\": [\"New York\"], \"yaxis\": \"y\", \"type\": \"bar\"}, {\"alignmentgroup\": \"True\", \"hovertemplate\": \"color=New Jersey<br>animation_frame=1924<br>x=%{x}<br>y=%{y}<extra></extra>\", \"legendgroup\": \"New Jersey\", \"marker\": {\"color\": \"#FF97FF\"}, \"name\": \"New Jersey\", \"offsetgroup\": \"New Jersey\", \"orientation\": \"h\", \"showlegend\": true, \"textposition\": \"auto\", \"x\": [3583351.0], \"xaxis\": \"x\", \"y\": [\"New Jersey\"], \"yaxis\": \"y\", \"type\": \"bar\"}, {\"alignmentgroup\": \"True\", \"hovertemplate\": \"color=Ohio<br>animation_frame=1924<br>x=%{x}<br>y=%{y}<extra></extra>\", \"legendgroup\": \"Ohio\", \"marker\": {\"color\": \"#EF553B\"}, \"name\": \"Ohio\", \"offsetgroup\": \"Ohio\", \"orientation\": \"h\", \"showlegend\": true, \"textposition\": \"auto\", \"x\": [6187747.0], \"xaxis\": \"x\", \"y\": [\"Ohio\"], \"yaxis\": \"y\", \"type\": \"bar\"}, {\"alignmentgroup\": \"True\", \"hovertemplate\": \"color=Illinois<br>animation_frame=1924<br>x=%{x}<br>y=%{y}<extra></extra>\", \"legendgroup\": \"Illinois\", \"marker\": {\"color\": \"#19d3f3\"}, \"name\": \"Illinois\", \"offsetgroup\": \"Illinois\", \"orientation\": \"h\", \"showlegend\": true, \"textposition\": \"auto\", \"x\": [7038219.0], \"xaxis\": \"x\", \"y\": [\"Illinois\"], \"yaxis\": \"y\", \"type\": \"bar\"}, {\"alignmentgroup\": \"True\", \"hovertemplate\": \"color=Missouri<br>animation_frame=1924<br>x=%{x}<br>y=%{y}<extra></extra>\", \"legendgroup\": \"Missouri\", \"marker\": {\"color\": \"#FF6692\"}, \"name\": \"Missouri\", \"offsetgroup\": \"Missouri\", \"orientation\": \"h\", \"showlegend\": true, \"textposition\": \"auto\", \"x\": [3512826.0], \"xaxis\": \"x\", \"y\": [\"Missouri\"], \"yaxis\": \"y\", \"type\": \"bar\"}, {\"alignmentgroup\": \"True\", \"hovertemplate\": \"color=Michigan<br>animation_frame=1924<br>x=%{x}<br>y=%{y}<extra></extra>\", \"legendgroup\": \"Michigan\", \"marker\": {\"color\": \"#B6E880\"}, \"name\": \"Michigan\", \"offsetgroup\": \"Michigan\", \"orientation\": \"h\", \"showlegend\": true, \"textposition\": \"auto\", \"x\": [4235129.0], \"xaxis\": \"x\", \"y\": [\"Michigan\"], \"yaxis\": \"y\", \"type\": \"bar\"}, {\"alignmentgroup\": \"True\", \"hovertemplate\": \"color=Texas<br>animation_frame=1924<br>x=%{x}<br>y=%{y}<extra></extra>\", \"legendgroup\": \"Texas\", \"marker\": {\"color\": \"#FECB52\"}, \"name\": \"Texas\", \"offsetgroup\": \"Texas\", \"orientation\": \"h\", \"showlegend\": true, \"textposition\": \"auto\", \"x\": [5223946.0], \"xaxis\": \"x\", \"y\": [\"Texas\"], \"yaxis\": \"y\", \"type\": \"bar\"}, {\"alignmentgroup\": \"True\", \"hovertemplate\": \"color=California<br>animation_frame=1924<br>x=%{x}<br>y=%{y}<extra></extra>\", \"legendgroup\": \"California\", \"marker\": {\"color\": \"#636efa\"}, \"name\": \"California\", \"offsetgroup\": \"California\", \"orientation\": \"h\", \"showlegend\": true, \"textposition\": \"auto\", \"x\": [4513256.0], \"xaxis\": \"x\", \"y\": [\"California\"], \"yaxis\": \"y\", \"type\": \"bar\"}], \"name\": \"1924\"}, {\"data\": [{\"alignmentgroup\": \"True\", \"hovertemplate\": \"color=Pennsylvania<br>animation_frame=1932<br>x=%{x}<br>y=%{y}<extra></extra>\", \"legendgroup\": \"Pennsylvania\", \"marker\": {\"color\": \"#EF553B\"}, \"name\": \"Pennsylvania\", \"offsetgroup\": \"Pennsylvania\", \"orientation\": \"h\", \"showlegend\": true, \"textposition\": \"auto\", \"x\": [9705510.0], \"xaxis\": \"x\", \"y\": [\"Pennsylvania\"], \"yaxis\": \"y\", \"type\": \"bar\"}, {\"alignmentgroup\": \"True\", \"hovertemplate\": \"color=Massachusetts<br>animation_frame=1932<br>x=%{x}<br>y=%{y}<extra></extra>\", \"legendgroup\": \"Massachusetts\", \"marker\": {\"color\": \"#ab63fa\"}, \"name\": \"Massachusetts\", \"offsetgroup\": \"Massachusetts\", \"orientation\": \"h\", \"showlegend\": true, \"textposition\": \"auto\", \"x\": [4268126.0], \"xaxis\": \"x\", \"y\": [\"Massachusetts\"], \"yaxis\": \"y\", \"type\": \"bar\"}, {\"alignmentgroup\": \"True\", \"hovertemplate\": \"color=New York<br>animation_frame=1932<br>x=%{x}<br>y=%{y}<extra></extra>\", \"legendgroup\": \"New York\", \"marker\": {\"color\": \"#FFA15A\"}, \"name\": \"New York\", \"offsetgroup\": \"New York\", \"orientation\": \"h\", \"showlegend\": true, \"textposition\": \"auto\", \"x\": [12833880.0], \"xaxis\": \"x\", \"y\": [\"New York\"], \"yaxis\": \"y\", \"type\": \"bar\"}, {\"alignmentgroup\": \"True\", \"hovertemplate\": \"color=New Jersey<br>animation_frame=1932<br>x=%{x}<br>y=%{y}<extra></extra>\", \"legendgroup\": \"New Jersey\", \"marker\": {\"color\": \"#FF97FF\"}, \"name\": \"New Jersey\", \"offsetgroup\": \"New Jersey\", \"orientation\": \"h\", \"showlegend\": true, \"textposition\": \"auto\", \"x\": [4074115.0], \"xaxis\": \"x\", \"y\": [\"New Jersey\"], \"yaxis\": \"y\", \"type\": \"bar\"}, {\"alignmentgroup\": \"True\", \"hovertemplate\": \"color=Ohio<br>animation_frame=1932<br>x=%{x}<br>y=%{y}<extra></extra>\", \"legendgroup\": \"Ohio\", \"marker\": {\"color\": \"#EF553B\"}, \"name\": \"Ohio\", \"offsetgroup\": \"Ohio\", \"orientation\": \"h\", \"showlegend\": true, \"textposition\": \"auto\", \"x\": [6718674.0], \"xaxis\": \"x\", \"y\": [\"Ohio\"], \"yaxis\": \"y\", \"type\": \"bar\"}, {\"alignmentgroup\": \"True\", \"hovertemplate\": \"color=Illinois<br>animation_frame=1932<br>x=%{x}<br>y=%{y}<extra></extra>\", \"legendgroup\": \"Illinois\", \"marker\": {\"color\": \"#19d3f3\"}, \"name\": \"Illinois\", \"offsetgroup\": \"Illinois\", \"orientation\": \"h\", \"showlegend\": true, \"textposition\": \"auto\", \"x\": [7704195.0], \"xaxis\": \"x\", \"y\": [\"Illinois\"], \"yaxis\": \"y\", \"type\": \"bar\"}, {\"alignmentgroup\": \"True\", \"hovertemplate\": \"color=Missouri<br>animation_frame=1932<br>x=%{x}<br>y=%{y}<extra></extra>\", \"legendgroup\": \"Missouri\", \"marker\": {\"color\": \"#FF6692\"}, \"name\": \"Missouri\", \"offsetgroup\": \"Missouri\", \"orientation\": \"h\", \"showlegend\": true, \"textposition\": \"auto\", \"x\": [3672208.0], \"xaxis\": \"x\", \"y\": [\"Missouri\"], \"yaxis\": \"y\", \"type\": \"bar\"}, {\"alignmentgroup\": \"True\", \"hovertemplate\": \"color=Michigan<br>animation_frame=1932<br>x=%{x}<br>y=%{y}<extra></extra>\", \"legendgroup\": \"Michigan\", \"marker\": {\"color\": \"#B6E880\"}, \"name\": \"Michigan\", \"offsetgroup\": \"Michigan\", \"orientation\": \"h\", \"showlegend\": true, \"textposition\": \"auto\", \"x\": [4956471.0], \"xaxis\": \"x\", \"y\": [\"Michigan\"], \"yaxis\": \"y\", \"type\": \"bar\"}, {\"alignmentgroup\": \"True\", \"hovertemplate\": \"color=Texas<br>animation_frame=1932<br>x=%{x}<br>y=%{y}<extra></extra>\", \"legendgroup\": \"Texas\", \"marker\": {\"color\": \"#FECB52\"}, \"name\": \"Texas\", \"offsetgroup\": \"Texas\", \"orientation\": \"h\", \"showlegend\": true, \"textposition\": \"auto\", \"x\": [5987504.0], \"xaxis\": \"x\", \"y\": [\"Texas\"], \"yaxis\": \"y\", \"type\": \"bar\"}, {\"alignmentgroup\": \"True\", \"hovertemplate\": \"color=California<br>animation_frame=1932<br>x=%{x}<br>y=%{y}<extra></extra>\", \"legendgroup\": \"California\", \"marker\": {\"color\": \"#636efa\"}, \"name\": \"California\", \"offsetgroup\": \"California\", \"orientation\": \"h\", \"showlegend\": true, \"textposition\": \"auto\", \"x\": [6016599.0], \"xaxis\": \"x\", \"y\": [\"California\"], \"yaxis\": \"y\", \"type\": \"bar\"}], \"name\": \"1932\"}, {\"data\": [{\"alignmentgroup\": \"True\", \"hovertemplate\": \"color=Pennsylvania<br>animation_frame=1940<br>x=%{x}<br>y=%{y}<extra></extra>\", \"legendgroup\": \"Pennsylvania\", \"marker\": {\"color\": \"#EF553B\"}, \"name\": \"Pennsylvania\", \"offsetgroup\": \"Pennsylvania\", \"orientation\": \"h\", \"showlegend\": true, \"textposition\": \"auto\", \"x\": [9941410.0], \"xaxis\": \"x\", \"y\": [\"Pennsylvania\"], \"yaxis\": \"y\", \"type\": \"bar\"}, {\"alignmentgroup\": \"True\", \"hovertemplate\": \"color=Massachusetts<br>animation_frame=1940<br>x=%{x}<br>y=%{y}<extra></extra>\", \"legendgroup\": \"Massachusetts\", \"marker\": {\"color\": \"#ab63fa\"}, \"name\": \"Massachusetts\", \"offsetgroup\": \"Massachusetts\", \"orientation\": \"h\", \"showlegend\": true, \"textposition\": \"auto\", \"x\": [4342500.0], \"xaxis\": \"x\", \"y\": [\"Massachusetts\"], \"yaxis\": \"y\", \"type\": \"bar\"}, {\"alignmentgroup\": \"True\", \"hovertemplate\": \"color=New York<br>animation_frame=1940<br>x=%{x}<br>y=%{y}<extra></extra>\", \"legendgroup\": \"New York\", \"marker\": {\"color\": \"#FFA15A\"}, \"name\": \"New York\", \"offsetgroup\": \"New York\", \"orientation\": \"h\", \"showlegend\": true, \"textposition\": \"auto\", \"x\": [13572318.0], \"xaxis\": \"x\", \"y\": [\"New York\"], \"yaxis\": \"y\", \"type\": \"bar\"}, {\"alignmentgroup\": \"True\", \"hovertemplate\": \"color=New Jersey<br>animation_frame=1940<br>x=%{x}<br>y=%{y}<extra></extra>\", \"legendgroup\": \"New Jersey\", \"marker\": {\"color\": \"#FF97FF\"}, \"name\": \"New Jersey\", \"offsetgroup\": \"New Jersey\", \"orientation\": \"h\", \"showlegend\": true, \"textposition\": \"auto\", \"x\": [4206728.0], \"xaxis\": \"x\", \"y\": [\"New Jersey\"], \"yaxis\": \"y\", \"type\": \"bar\"}, {\"alignmentgroup\": \"True\", \"hovertemplate\": \"color=Ohio<br>animation_frame=1940<br>x=%{x}<br>y=%{y}<extra></extra>\", \"legendgroup\": \"Ohio\", \"marker\": {\"color\": \"#EF553B\"}, \"name\": \"Ohio\", \"offsetgroup\": \"Ohio\", \"orientation\": \"h\", \"showlegend\": true, \"textposition\": \"auto\", \"x\": [6979268.0], \"xaxis\": \"x\", \"y\": [\"Ohio\"], \"yaxis\": \"y\", \"type\": \"bar\"}, {\"alignmentgroup\": \"True\", \"hovertemplate\": \"color=Illinois<br>animation_frame=1940<br>x=%{x}<br>y=%{y}<extra></extra>\", \"legendgroup\": \"Illinois\", \"marker\": {\"color\": \"#19d3f3\"}, \"name\": \"Illinois\", \"offsetgroup\": \"Illinois\", \"orientation\": \"h\", \"showlegend\": true, \"textposition\": \"auto\", \"x\": [7953443.0], \"xaxis\": \"x\", \"y\": [\"Illinois\"], \"yaxis\": \"y\", \"type\": \"bar\"}, {\"alignmentgroup\": \"True\", \"hovertemplate\": \"color=Missouri<br>animation_frame=1940<br>x=%{x}<br>y=%{y}<extra></extra>\", \"legendgroup\": \"Missouri\", \"marker\": {\"color\": \"#FF6692\"}, \"name\": \"Missouri\", \"offsetgroup\": \"Missouri\", \"orientation\": \"h\", \"showlegend\": true, \"textposition\": \"auto\", \"x\": [3796387.0], \"xaxis\": \"x\", \"y\": [\"Missouri\"], \"yaxis\": \"y\", \"type\": \"bar\"}, {\"alignmentgroup\": \"True\", \"hovertemplate\": \"color=Michigan<br>animation_frame=1940<br>x=%{x}<br>y=%{y}<extra></extra>\", \"legendgroup\": \"Michigan\", \"marker\": {\"color\": \"#B6E880\"}, \"name\": \"Michigan\", \"offsetgroup\": \"Michigan\", \"orientation\": \"h\", \"showlegend\": true, \"textposition\": \"auto\", \"x\": [5333048.0], \"xaxis\": \"x\", \"y\": [\"Michigan\"], \"yaxis\": \"y\", \"type\": \"bar\"}, {\"alignmentgroup\": \"True\", \"hovertemplate\": \"color=Texas<br>animation_frame=1940<br>x=%{x}<br>y=%{y}<extra></extra>\", \"legendgroup\": \"Texas\", \"marker\": {\"color\": \"#FECB52\"}, \"name\": \"Texas\", \"offsetgroup\": \"Texas\", \"orientation\": \"h\", \"showlegend\": true, \"textposition\": \"auto\", \"x\": [6504229.0], \"xaxis\": \"x\", \"y\": [\"Texas\"], \"yaxis\": \"y\", \"type\": \"bar\"}, {\"alignmentgroup\": \"True\", \"hovertemplate\": \"color=California<br>animation_frame=1940<br>x=%{x}<br>y=%{y}<extra></extra>\", \"legendgroup\": \"California\", \"marker\": {\"color\": \"#636efa\"}, \"name\": \"California\", \"offsetgroup\": \"California\", \"orientation\": \"h\", \"showlegend\": true, \"textposition\": \"auto\", \"x\": [7161100.0], \"xaxis\": \"x\", \"y\": [\"California\"], \"yaxis\": \"y\", \"type\": \"bar\"}], \"name\": \"1940\"}, {\"data\": [{\"alignmentgroup\": \"True\", \"hovertemplate\": \"color=Pennsylvania<br>animation_frame=1948<br>x=%{x}<br>y=%{y}<extra></extra>\", \"legendgroup\": \"Pennsylvania\", \"marker\": {\"color\": \"#EF553B\"}, \"name\": \"Pennsylvania\", \"offsetgroup\": \"Pennsylvania\", \"orientation\": \"h\", \"showlegend\": true, \"textposition\": \"auto\", \"x\": [10415552.0], \"xaxis\": \"x\", \"y\": [\"Pennsylvania\"], \"yaxis\": \"y\", \"type\": \"bar\"}, {\"alignmentgroup\": \"True\", \"hovertemplate\": \"color=North Carolina<br>animation_frame=1948<br>x=%{x}<br>y=%{y}<extra></extra>\", \"legendgroup\": \"North Carolina\", \"marker\": {\"color\": \"#00cc96\"}, \"name\": \"North Carolina\", \"offsetgroup\": \"North Carolina\", \"orientation\": \"h\", \"showlegend\": true, \"textposition\": \"auto\", \"x\": [3994301.0], \"xaxis\": \"x\", \"y\": [\"North Carolina\"], \"yaxis\": \"y\", \"type\": \"bar\"}, {\"alignmentgroup\": \"True\", \"hovertemplate\": \"color=Massachusetts<br>animation_frame=1948<br>x=%{x}<br>y=%{y}<extra></extra>\", \"legendgroup\": \"Massachusetts\", \"marker\": {\"color\": \"#ab63fa\"}, \"name\": \"Massachusetts\", \"offsetgroup\": \"Massachusetts\", \"orientation\": \"h\", \"showlegend\": true, \"textposition\": \"auto\", \"x\": [4638956.0], \"xaxis\": \"x\", \"y\": [\"Massachusetts\"], \"yaxis\": \"y\", \"type\": \"bar\"}, {\"alignmentgroup\": \"True\", \"hovertemplate\": \"color=New York<br>animation_frame=1948<br>x=%{x}<br>y=%{y}<extra></extra>\", \"legendgroup\": \"New York\", \"marker\": {\"color\": \"#FFA15A\"}, \"name\": \"New York\", \"offsetgroup\": \"New York\", \"orientation\": \"h\", \"showlegend\": true, \"textposition\": \"auto\", \"x\": [14643840.0], \"xaxis\": \"x\", \"y\": [\"New York\"], \"yaxis\": \"y\", \"type\": \"bar\"}, {\"alignmentgroup\": \"True\", \"hovertemplate\": \"color=New Jersey<br>animation_frame=1948<br>x=%{x}<br>y=%{y}<extra></extra>\", \"legendgroup\": \"New Jersey\", \"marker\": {\"color\": \"#FF97FF\"}, \"name\": \"New Jersey\", \"offsetgroup\": \"New Jersey\", \"orientation\": \"h\", \"showlegend\": true, \"textposition\": \"auto\", \"x\": [4742203.0], \"xaxis\": \"x\", \"y\": [\"New Jersey\"], \"yaxis\": \"y\", \"type\": \"bar\"}, {\"alignmentgroup\": \"True\", \"hovertemplate\": \"color=Ohio<br>animation_frame=1948<br>x=%{x}<br>y=%{y}<extra></extra>\", \"legendgroup\": \"Ohio\", \"marker\": {\"color\": \"#EF553B\"}, \"name\": \"Ohio\", \"offsetgroup\": \"Ohio\", \"orientation\": \"h\", \"showlegend\": true, \"textposition\": \"auto\", \"x\": [7803315.0], \"xaxis\": \"x\", \"y\": [\"Ohio\"], \"yaxis\": \"y\", \"type\": \"bar\"}, {\"alignmentgroup\": \"True\", \"hovertemplate\": \"color=Illinois<br>animation_frame=1948<br>x=%{x}<br>y=%{y}<extra></extra>\", \"legendgroup\": \"Illinois\", \"marker\": {\"color\": \"#19d3f3\"}, \"name\": \"Illinois\", \"offsetgroup\": \"Illinois\", \"orientation\": \"h\", \"showlegend\": true, \"textposition\": \"auto\", \"x\": [8599771.0], \"xaxis\": \"x\", \"y\": [\"Illinois\"], \"yaxis\": \"y\", \"type\": \"bar\"}, {\"alignmentgroup\": \"True\", \"hovertemplate\": \"color=Michigan<br>animation_frame=1948<br>x=%{x}<br>y=%{y}<extra></extra>\", \"legendgroup\": \"Michigan\", \"marker\": {\"color\": \"#B6E880\"}, \"name\": \"Michigan\", \"offsetgroup\": \"Michigan\", \"orientation\": \"h\", \"showlegend\": true, \"textposition\": \"auto\", \"x\": [6217882.0], \"xaxis\": \"x\", \"y\": [\"Michigan\"], \"yaxis\": \"y\", \"type\": \"bar\"}, {\"alignmentgroup\": \"True\", \"hovertemplate\": \"color=Texas<br>animation_frame=1948<br>x=%{x}<br>y=%{y}<extra></extra>\", \"legendgroup\": \"Texas\", \"marker\": {\"color\": \"#FECB52\"}, \"name\": \"Texas\", \"offsetgroup\": \"Texas\", \"orientation\": \"h\", \"showlegend\": true, \"textposition\": \"auto\", \"x\": [7532384.0], \"xaxis\": \"x\", \"y\": [\"Texas\"], \"yaxis\": \"y\", \"type\": \"bar\"}, {\"alignmentgroup\": \"True\", \"hovertemplate\": \"color=California<br>animation_frame=1948<br>x=%{x}<br>y=%{y}<extra></extra>\", \"legendgroup\": \"California\", \"marker\": {\"color\": \"#636efa\"}, \"name\": \"California\", \"offsetgroup\": \"California\", \"orientation\": \"h\", \"showlegend\": true, \"textposition\": \"auto\", \"x\": [10078797.0], \"xaxis\": \"x\", \"y\": [\"California\"], \"yaxis\": \"y\", \"type\": \"bar\"}], \"name\": \"1948\"}, {\"data\": [{\"alignmentgroup\": \"True\", \"hovertemplate\": \"color=Pennsylvania<br>animation_frame=1956<br>x=%{x}<br>y=%{y}<extra></extra>\", \"legendgroup\": \"Pennsylvania\", \"marker\": {\"color\": \"#EF553B\"}, \"name\": \"Pennsylvania\", \"offsetgroup\": \"Pennsylvania\", \"orientation\": \"h\", \"showlegend\": true, \"textposition\": \"auto\", \"x\": [11036140.0], \"xaxis\": \"x\", \"y\": [\"Pennsylvania\"], \"yaxis\": \"y\", \"type\": \"bar\"}, {\"alignmentgroup\": \"True\", \"hovertemplate\": \"color=Massachusetts<br>animation_frame=1956<br>x=%{x}<br>y=%{y}<extra></extra>\", \"legendgroup\": \"Massachusetts\", \"marker\": {\"color\": \"#ab63fa\"}, \"name\": \"Massachusetts\", \"offsetgroup\": \"Massachusetts\", \"orientation\": \"h\", \"showlegend\": true, \"textposition\": \"auto\", \"x\": [4990625.0], \"xaxis\": \"x\", \"y\": [\"Massachusetts\"], \"yaxis\": \"y\", \"type\": \"bar\"}, {\"alignmentgroup\": \"True\", \"hovertemplate\": \"color=New York<br>animation_frame=1956<br>x=%{x}<br>y=%{y}<extra></extra>\", \"legendgroup\": \"New York\", \"marker\": {\"color\": \"#FFA15A\"}, \"name\": \"New York\", \"offsetgroup\": \"New York\", \"orientation\": \"h\", \"showlegend\": true, \"textposition\": \"auto\", \"x\": [16109162.0], \"xaxis\": \"x\", \"y\": [\"New York\"], \"yaxis\": \"y\", \"type\": \"bar\"}, {\"alignmentgroup\": \"True\", \"hovertemplate\": \"color=New Jersey<br>animation_frame=1956<br>x=%{x}<br>y=%{y}<extra></extra>\", \"legendgroup\": \"New Jersey\", \"marker\": {\"color\": \"#FF97FF\"}, \"name\": \"New Jersey\", \"offsetgroup\": \"New Jersey\", \"orientation\": \"h\", \"showlegend\": true, \"textposition\": \"auto\", \"x\": [5642143.0], \"xaxis\": \"x\", \"y\": [\"New Jersey\"], \"yaxis\": \"y\", \"type\": \"bar\"}, {\"alignmentgroup\": \"True\", \"hovertemplate\": \"color=Ohio<br>animation_frame=1956<br>x=%{x}<br>y=%{y}<extra></extra>\", \"legendgroup\": \"Ohio\", \"marker\": {\"color\": \"#EF553B\"}, \"name\": \"Ohio\", \"offsetgroup\": \"Ohio\", \"orientation\": \"h\", \"showlegend\": true, \"textposition\": \"auto\", \"x\": [9099580.0], \"xaxis\": \"x\", \"y\": [\"Ohio\"], \"yaxis\": \"y\", \"type\": \"bar\"}, {\"alignmentgroup\": \"True\", \"hovertemplate\": \"color=Indiana<br>animation_frame=1956<br>x=%{x}<br>y=%{y}<extra></extra>\", \"legendgroup\": \"Indiana\", \"marker\": {\"color\": \"#FFA15A\"}, \"name\": \"Indiana\", \"offsetgroup\": \"Indiana\", \"orientation\": \"h\", \"showlegend\": true, \"textposition\": \"auto\", \"x\": [4411369.0], \"xaxis\": \"x\", \"y\": [\"Indiana\"], \"yaxis\": \"y\", \"type\": \"bar\"}, {\"alignmentgroup\": \"True\", \"hovertemplate\": \"color=Illinois<br>animation_frame=1956<br>x=%{x}<br>y=%{y}<extra></extra>\", \"legendgroup\": \"Illinois\", \"marker\": {\"color\": \"#19d3f3\"}, \"name\": \"Illinois\", \"offsetgroup\": \"Illinois\", \"orientation\": \"h\", \"showlegend\": true, \"textposition\": \"auto\", \"x\": [9609095.0], \"xaxis\": \"x\", \"y\": [\"Illinois\"], \"yaxis\": \"y\", \"type\": \"bar\"}, {\"alignmentgroup\": \"True\", \"hovertemplate\": \"color=Michigan<br>animation_frame=1956<br>x=%{x}<br>y=%{y}<extra></extra>\", \"legendgroup\": \"Michigan\", \"marker\": {\"color\": \"#B6E880\"}, \"name\": \"Michigan\", \"offsetgroup\": \"Michigan\", \"orientation\": \"h\", \"showlegend\": true, \"textposition\": \"auto\", \"x\": [7322702.0], \"xaxis\": \"x\", \"y\": [\"Michigan\"], \"yaxis\": \"y\", \"type\": \"bar\"}, {\"alignmentgroup\": \"True\", \"hovertemplate\": \"color=Texas<br>animation_frame=1956<br>x=%{x}<br>y=%{y}<extra></extra>\", \"legendgroup\": \"Texas\", \"marker\": {\"color\": \"#FECB52\"}, \"name\": \"Texas\", \"offsetgroup\": \"Texas\", \"orientation\": \"h\", \"showlegend\": true, \"textposition\": \"auto\", \"x\": [8935373.0], \"xaxis\": \"x\", \"y\": [\"Texas\"], \"yaxis\": \"y\", \"type\": \"bar\"}, {\"alignmentgroup\": \"True\", \"hovertemplate\": \"color=California<br>animation_frame=1956<br>x=%{x}<br>y=%{y}<extra></extra>\", \"legendgroup\": \"California\", \"marker\": {\"color\": \"#636efa\"}, \"name\": \"California\", \"offsetgroup\": \"California\", \"orientation\": \"h\", \"showlegend\": true, \"textposition\": \"auto\", \"x\": [13947900.0], \"xaxis\": \"x\", \"y\": [\"California\"], \"yaxis\": \"y\", \"type\": \"bar\"}], \"name\": \"1956\"}, {\"data\": [{\"alignmentgroup\": \"True\", \"hovertemplate\": \"color=Pennsylvania<br>animation_frame=1964<br>x=%{x}<br>y=%{y}<extra></extra>\", \"legendgroup\": \"Pennsylvania\", \"marker\": {\"color\": \"#EF553B\"}, \"name\": \"Pennsylvania\", \"offsetgroup\": \"Pennsylvania\", \"orientation\": \"h\", \"showlegend\": true, \"textposition\": \"auto\", \"x\": [11532092.0], \"xaxis\": \"x\", \"y\": [\"Pennsylvania\"], \"yaxis\": \"y\", \"type\": \"bar\"}, {\"alignmentgroup\": \"True\", \"hovertemplate\": \"color=Massachusetts<br>animation_frame=1964<br>x=%{x}<br>y=%{y}<extra></extra>\", \"legendgroup\": \"Massachusetts\", \"marker\": {\"color\": \"#ab63fa\"}, \"name\": \"Massachusetts\", \"offsetgroup\": \"Massachusetts\", \"orientation\": \"h\", \"showlegend\": true, \"textposition\": \"auto\", \"x\": [5390912.0], \"xaxis\": \"x\", \"y\": [\"Massachusetts\"], \"yaxis\": \"y\", \"type\": \"bar\"}, {\"alignmentgroup\": \"True\", \"hovertemplate\": \"color=New York<br>animation_frame=1964<br>x=%{x}<br>y=%{y}<extra></extra>\", \"legendgroup\": \"New York\", \"marker\": {\"color\": \"#FFA15A\"}, \"name\": \"New York\", \"offsetgroup\": \"New York\", \"orientation\": \"h\", \"showlegend\": true, \"textposition\": \"auto\", \"x\": [17434394.0], \"xaxis\": \"x\", \"y\": [\"New York\"], \"yaxis\": \"y\", \"type\": \"bar\"}, {\"alignmentgroup\": \"True\", \"hovertemplate\": \"color=New Jersey<br>animation_frame=1964<br>x=%{x}<br>y=%{y}<extra></extra>\", \"legendgroup\": \"New Jersey\", \"marker\": {\"color\": \"#FF97FF\"}, \"name\": \"New Jersey\", \"offsetgroup\": \"New Jersey\", \"orientation\": \"h\", \"showlegend\": true, \"textposition\": \"auto\", \"x\": [6560505.0], \"xaxis\": \"x\", \"y\": [\"New Jersey\"], \"yaxis\": \"y\", \"type\": \"bar\"}, {\"alignmentgroup\": \"True\", \"hovertemplate\": \"color=Ohio<br>animation_frame=1964<br>x=%{x}<br>y=%{y}<extra></extra>\", \"legendgroup\": \"Ohio\", \"marker\": {\"color\": \"#EF553B\"}, \"name\": \"Ohio\", \"offsetgroup\": \"Ohio\", \"orientation\": \"h\", \"showlegend\": true, \"textposition\": \"auto\", \"x\": [10130296.0], \"xaxis\": \"x\", \"y\": [\"Ohio\"], \"yaxis\": \"y\", \"type\": \"bar\"}, {\"alignmentgroup\": \"True\", \"hovertemplate\": \"color=Illinois<br>animation_frame=1964<br>x=%{x}<br>y=%{y}<extra></extra>\", \"legendgroup\": \"Illinois\", \"marker\": {\"color\": \"#19d3f3\"}, \"name\": \"Illinois\", \"offsetgroup\": \"Illinois\", \"orientation\": \"h\", \"showlegend\": true, \"textposition\": \"auto\", \"x\": [10544145.0], \"xaxis\": \"x\", \"y\": [\"Illinois\"], \"yaxis\": \"y\", \"type\": \"bar\"}, {\"alignmentgroup\": \"True\", \"hovertemplate\": \"color=Michigan<br>animation_frame=1964<br>x=%{x}<br>y=%{y}<extra></extra>\", \"legendgroup\": \"Michigan\", \"marker\": {\"color\": \"#B6E880\"}, \"name\": \"Michigan\", \"offsetgroup\": \"Michigan\", \"orientation\": \"h\", \"showlegend\": true, \"textposition\": \"auto\", \"x\": [8294730.0], \"xaxis\": \"x\", \"y\": [\"Michigan\"], \"yaxis\": \"y\", \"type\": \"bar\"}, {\"alignmentgroup\": \"True\", \"hovertemplate\": \"color=Texas<br>animation_frame=1964<br>x=%{x}<br>y=%{y}<extra></extra>\", \"legendgroup\": \"Texas\", \"marker\": {\"color\": \"#FECB52\"}, \"name\": \"Texas\", \"offsetgroup\": \"Texas\", \"orientation\": \"h\", \"showlegend\": true, \"textposition\": \"auto\", \"x\": [10304563.0], \"xaxis\": \"x\", \"y\": [\"Texas\"], \"yaxis\": \"y\", \"type\": \"bar\"}, {\"alignmentgroup\": \"True\", \"hovertemplate\": \"color=California<br>animation_frame=1964<br>x=%{x}<br>y=%{y}<extra></extra>\", \"legendgroup\": \"California\", \"marker\": {\"color\": \"#636efa\"}, \"name\": \"California\", \"offsetgroup\": \"California\", \"orientation\": \"h\", \"showlegend\": true, \"textposition\": \"auto\", \"x\": [17616069.0], \"xaxis\": \"x\", \"y\": [\"California\"], \"yaxis\": \"y\", \"type\": \"bar\"}, {\"alignmentgroup\": \"True\", \"hovertemplate\": \"color=Florida<br>animation_frame=1964<br>x=%{x}<br>y=%{y}<extra></extra>\", \"legendgroup\": \"Florida\", \"marker\": {\"color\": \"#EF553B\"}, \"name\": \"Florida\", \"offsetgroup\": \"Florida\", \"orientation\": \"h\", \"showlegend\": true, \"textposition\": \"auto\", \"x\": [5775439.0], \"xaxis\": \"x\", \"y\": [\"Florida\"], \"yaxis\": \"y\", \"type\": \"bar\"}], \"name\": \"1964\"}, {\"data\": [{\"alignmentgroup\": \"True\", \"hovertemplate\": \"color=Pennsylvania<br>animation_frame=1972<br>x=%{x}<br>y=%{y}<extra></extra>\", \"legendgroup\": \"Pennsylvania\", \"marker\": {\"color\": \"#EF553B\"}, \"name\": \"Pennsylvania\", \"offsetgroup\": \"Pennsylvania\", \"orientation\": \"h\", \"showlegend\": true, \"textposition\": \"auto\", \"x\": [11810802.0], \"xaxis\": \"x\", \"y\": [\"Pennsylvania\"], \"yaxis\": \"y\", \"type\": \"bar\"}, {\"alignmentgroup\": \"True\", \"hovertemplate\": \"color=Massachusetts<br>animation_frame=1972<br>x=%{x}<br>y=%{y}<extra></extra>\", \"legendgroup\": \"Massachusetts\", \"marker\": {\"color\": \"#ab63fa\"}, \"name\": \"Massachusetts\", \"offsetgroup\": \"Massachusetts\", \"orientation\": \"h\", \"showlegend\": true, \"textposition\": \"auto\", \"x\": [5700724.0], \"xaxis\": \"x\", \"y\": [\"Massachusetts\"], \"yaxis\": \"y\", \"type\": \"bar\"}, {\"alignmentgroup\": \"True\", \"hovertemplate\": \"color=New York<br>animation_frame=1972<br>x=%{x}<br>y=%{y}<extra></extra>\", \"legendgroup\": \"New York\", \"marker\": {\"color\": \"#FFA15A\"}, \"name\": \"New York\", \"offsetgroup\": \"New York\", \"orientation\": \"h\", \"showlegend\": true, \"textposition\": \"auto\", \"x\": [18073096.0], \"xaxis\": \"x\", \"y\": [\"New York\"], \"yaxis\": \"y\", \"type\": \"bar\"}, {\"alignmentgroup\": \"True\", \"hovertemplate\": \"color=New Jersey<br>animation_frame=1972<br>x=%{x}<br>y=%{y}<extra></extra>\", \"legendgroup\": \"New Jersey\", \"marker\": {\"color\": \"#FF97FF\"}, \"name\": \"New Jersey\", \"offsetgroup\": \"New Jersey\", \"orientation\": \"h\", \"showlegend\": true, \"textposition\": \"auto\", \"x\": [7215633.0], \"xaxis\": \"x\", \"y\": [\"New Jersey\"], \"yaxis\": \"y\", \"type\": \"bar\"}, {\"alignmentgroup\": \"True\", \"hovertemplate\": \"color=Ohio<br>animation_frame=1972<br>x=%{x}<br>y=%{y}<extra></extra>\", \"legendgroup\": \"Ohio\", \"marker\": {\"color\": \"#EF553B\"}, \"name\": \"Ohio\", \"offsetgroup\": \"Ohio\", \"orientation\": \"h\", \"showlegend\": true, \"textposition\": \"auto\", \"x\": [10687165.0], \"xaxis\": \"x\", \"y\": [\"Ohio\"], \"yaxis\": \"y\", \"type\": \"bar\"}, {\"alignmentgroup\": \"True\", \"hovertemplate\": \"color=Illinois<br>animation_frame=1972<br>x=%{x}<br>y=%{y}<extra></extra>\", \"legendgroup\": \"Illinois\", \"marker\": {\"color\": \"#19d3f3\"}, \"name\": \"Illinois\", \"offsetgroup\": \"Illinois\", \"orientation\": \"h\", \"showlegend\": true, \"textposition\": \"auto\", \"x\": [11189417.0], \"xaxis\": \"x\", \"y\": [\"Illinois\"], \"yaxis\": \"y\", \"type\": \"bar\"}, {\"alignmentgroup\": \"True\", \"hovertemplate\": \"color=Michigan<br>animation_frame=1972<br>x=%{x}<br>y=%{y}<extra></extra>\", \"legendgroup\": \"Michigan\", \"marker\": {\"color\": \"#B6E880\"}, \"name\": \"Michigan\", \"offsetgroup\": \"Michigan\", \"orientation\": \"h\", \"showlegend\": true, \"textposition\": \"auto\", \"x\": [8968496.0], \"xaxis\": \"x\", \"y\": [\"Michigan\"], \"yaxis\": \"y\", \"type\": \"bar\"}, {\"alignmentgroup\": \"True\", \"hovertemplate\": \"color=Texas<br>animation_frame=1972<br>x=%{x}<br>y=%{y}<extra></extra>\", \"legendgroup\": \"Texas\", \"marker\": {\"color\": \"#FECB52\"}, \"name\": \"Texas\", \"offsetgroup\": \"Texas\", \"orientation\": \"h\", \"showlegend\": true, \"textposition\": \"auto\", \"x\": [11928703.0], \"xaxis\": \"x\", \"y\": [\"Texas\"], \"yaxis\": \"y\", \"type\": \"bar\"}, {\"alignmentgroup\": \"True\", \"hovertemplate\": \"color=California<br>animation_frame=1972<br>x=%{x}<br>y=%{y}<extra></extra>\", \"legendgroup\": \"California\", \"marker\": {\"color\": \"#636efa\"}, \"name\": \"California\", \"offsetgroup\": \"California\", \"orientation\": \"h\", \"showlegend\": true, \"textposition\": \"auto\", \"x\": [20849802.0], \"xaxis\": \"x\", \"y\": [\"California\"], \"yaxis\": \"y\", \"type\": \"bar\"}, {\"alignmentgroup\": \"True\", \"hovertemplate\": \"color=Florida<br>animation_frame=1972<br>x=%{x}<br>y=%{y}<extra></extra>\", \"legendgroup\": \"Florida\", \"marker\": {\"color\": \"#EF553B\"}, \"name\": \"Florida\", \"offsetgroup\": \"Florida\", \"orientation\": \"h\", \"showlegend\": true, \"textposition\": \"auto\", \"x\": [7503173.0], \"xaxis\": \"x\", \"y\": [\"Florida\"], \"yaxis\": \"y\", \"type\": \"bar\"}], \"name\": \"1972\"}, {\"data\": [{\"alignmentgroup\": \"True\", \"hovertemplate\": \"color=Pennsylvania<br>animation_frame=1980<br>x=%{x}<br>y=%{y}<extra></extra>\", \"legendgroup\": \"Pennsylvania\", \"marker\": {\"color\": \"#EF553B\"}, \"name\": \"Pennsylvania\", \"offsetgroup\": \"Pennsylvania\", \"orientation\": \"h\", \"showlegend\": true, \"textposition\": \"auto\", \"x\": [11864507.0], \"xaxis\": \"x\", \"y\": [\"Pennsylvania\"], \"yaxis\": \"y\", \"type\": \"bar\"}, {\"alignmentgroup\": \"True\", \"hovertemplate\": \"color=North Carolina<br>animation_frame=1980<br>x=%{x}<br>y=%{y}<extra></extra>\", \"legendgroup\": \"North Carolina\", \"marker\": {\"color\": \"#00cc96\"}, \"name\": \"North Carolina\", \"offsetgroup\": \"North Carolina\", \"orientation\": \"h\", \"showlegend\": true, \"textposition\": \"auto\", \"x\": [5907520.0], \"xaxis\": \"x\", \"y\": [\"North Carolina\"], \"yaxis\": \"y\", \"type\": \"bar\"}, {\"alignmentgroup\": \"True\", \"hovertemplate\": \"color=New York<br>animation_frame=1980<br>x=%{x}<br>y=%{y}<extra></extra>\", \"legendgroup\": \"New York\", \"marker\": {\"color\": \"#FFA15A\"}, \"name\": \"New York\", \"offsetgroup\": \"New York\", \"orientation\": \"h\", \"showlegend\": true, \"textposition\": \"auto\", \"x\": [17572982.0], \"xaxis\": \"x\", \"y\": [\"New York\"], \"yaxis\": \"y\", \"type\": \"bar\"}, {\"alignmentgroup\": \"True\", \"hovertemplate\": \"color=New Jersey<br>animation_frame=1980<br>x=%{x}<br>y=%{y}<extra></extra>\", \"legendgroup\": \"New Jersey\", \"marker\": {\"color\": \"#FF97FF\"}, \"name\": \"New Jersey\", \"offsetgroup\": \"New Jersey\", \"orientation\": \"h\", \"showlegend\": true, \"textposition\": \"auto\", \"x\": [7377422.0], \"xaxis\": \"x\", \"y\": [\"New Jersey\"], \"yaxis\": \"y\", \"type\": \"bar\"}, {\"alignmentgroup\": \"True\", \"hovertemplate\": \"color=Ohio<br>animation_frame=1980<br>x=%{x}<br>y=%{y}<extra></extra>\", \"legendgroup\": \"Ohio\", \"marker\": {\"color\": \"#EF553B\"}, \"name\": \"Ohio\", \"offsetgroup\": \"Ohio\", \"orientation\": \"h\", \"showlegend\": true, \"textposition\": \"auto\", \"x\": [10799336.0], \"xaxis\": \"x\", \"y\": [\"Ohio\"], \"yaxis\": \"y\", \"type\": \"bar\"}, {\"alignmentgroup\": \"True\", \"hovertemplate\": \"color=Illinois<br>animation_frame=1980<br>x=%{x}<br>y=%{y}<extra></extra>\", \"legendgroup\": \"Illinois\", \"marker\": {\"color\": \"#19d3f3\"}, \"name\": \"Illinois\", \"offsetgroup\": \"Illinois\", \"orientation\": \"h\", \"showlegend\": true, \"textposition\": \"auto\", \"x\": [11426659.0], \"xaxis\": \"x\", \"y\": [\"Illinois\"], \"yaxis\": \"y\", \"type\": \"bar\"}, {\"alignmentgroup\": \"True\", \"hovertemplate\": \"color=Michigan<br>animation_frame=1980<br>x=%{x}<br>y=%{y}<extra></extra>\", \"legendgroup\": \"Michigan\", \"marker\": {\"color\": \"#B6E880\"}, \"name\": \"Michigan\", \"offsetgroup\": \"Michigan\", \"orientation\": \"h\", \"showlegend\": true, \"textposition\": \"auto\", \"x\": [9263223.0], \"xaxis\": \"x\", \"y\": [\"Michigan\"], \"yaxis\": \"y\", \"type\": \"bar\"}, {\"alignmentgroup\": \"True\", \"hovertemplate\": \"color=Texas<br>animation_frame=1980<br>x=%{x}<br>y=%{y}<extra></extra>\", \"legendgroup\": \"Texas\", \"marker\": {\"color\": \"#FECB52\"}, \"name\": \"Texas\", \"offsetgroup\": \"Texas\", \"orientation\": \"h\", \"showlegend\": true, \"textposition\": \"auto\", \"x\": [14324271.0], \"xaxis\": \"x\", \"y\": [\"Texas\"], \"yaxis\": \"y\", \"type\": \"bar\"}, {\"alignmentgroup\": \"True\", \"hovertemplate\": \"color=California<br>animation_frame=1980<br>x=%{x}<br>y=%{y}<extra></extra>\", \"legendgroup\": \"California\", \"marker\": {\"color\": \"#636efa\"}, \"name\": \"California\", \"offsetgroup\": \"California\", \"orientation\": \"h\", \"showlegend\": true, \"textposition\": \"auto\", \"x\": [23877975.0], \"xaxis\": \"x\", \"y\": [\"California\"], \"yaxis\": \"y\", \"type\": \"bar\"}, {\"alignmentgroup\": \"True\", \"hovertemplate\": \"color=Florida<br>animation_frame=1980<br>x=%{x}<br>y=%{y}<extra></extra>\", \"legendgroup\": \"Florida\", \"marker\": {\"color\": \"#EF553B\"}, \"name\": \"Florida\", \"offsetgroup\": \"Florida\", \"orientation\": \"h\", \"showlegend\": true, \"textposition\": \"auto\", \"x\": [9856379.0], \"xaxis\": \"x\", \"y\": [\"Florida\"], \"yaxis\": \"y\", \"type\": \"bar\"}], \"name\": \"1980\"}, {\"data\": [{\"alignmentgroup\": \"True\", \"hovertemplate\": \"color=Pennsylvania<br>animation_frame=1988<br>x=%{x}<br>y=%{y}<extra></extra>\", \"legendgroup\": \"Pennsylvania\", \"marker\": {\"color\": \"#EF553B\"}, \"name\": \"Pennsylvania\", \"offsetgroup\": \"Pennsylvania\", \"orientation\": \"h\", \"showlegend\": true, \"textposition\": \"auto\", \"x\": [11878583.0], \"xaxis\": \"x\", \"y\": [\"Pennsylvania\"], \"yaxis\": \"y\", \"type\": \"bar\"}, {\"alignmentgroup\": \"True\", \"hovertemplate\": \"color=North Carolina<br>animation_frame=1988<br>x=%{x}<br>y=%{y}<extra></extra>\", \"legendgroup\": \"North Carolina\", \"marker\": {\"color\": \"#00cc96\"}, \"name\": \"North Carolina\", \"offsetgroup\": \"North Carolina\", \"orientation\": \"h\", \"showlegend\": true, \"textposition\": \"auto\", \"x\": [6499866.0], \"xaxis\": \"x\", \"y\": [\"North Carolina\"], \"yaxis\": \"y\", \"type\": \"bar\"}, {\"alignmentgroup\": \"True\", \"hovertemplate\": \"color=New York<br>animation_frame=1988<br>x=%{x}<br>y=%{y}<extra></extra>\", \"legendgroup\": \"New York\", \"marker\": {\"color\": \"#FFA15A\"}, \"name\": \"New York\", \"offsetgroup\": \"New York\", \"orientation\": \"h\", \"showlegend\": true, \"textposition\": \"auto\", \"x\": [17915906.0], \"xaxis\": \"x\", \"y\": [\"New York\"], \"yaxis\": \"y\", \"type\": \"bar\"}, {\"alignmentgroup\": \"True\", \"hovertemplate\": \"color=New Jersey<br>animation_frame=1988<br>x=%{x}<br>y=%{y}<extra></extra>\", \"legendgroup\": \"New Jersey\", \"marker\": {\"color\": \"#FF97FF\"}, \"name\": \"New Jersey\", \"offsetgroup\": \"New Jersey\", \"orientation\": \"h\", \"showlegend\": true, \"textposition\": \"auto\", \"x\": [7667194.0], \"xaxis\": \"x\", \"y\": [\"New Jersey\"], \"yaxis\": \"y\", \"type\": \"bar\"}, {\"alignmentgroup\": \"True\", \"hovertemplate\": \"color=Ohio<br>animation_frame=1988<br>x=%{x}<br>y=%{y}<extra></extra>\", \"legendgroup\": \"Ohio\", \"marker\": {\"color\": \"#EF553B\"}, \"name\": \"Ohio\", \"offsetgroup\": \"Ohio\", \"orientation\": \"h\", \"showlegend\": true, \"textposition\": \"auto\", \"x\": [10838583.0], \"xaxis\": \"x\", \"y\": [\"Ohio\"], \"yaxis\": \"y\", \"type\": \"bar\"}, {\"alignmentgroup\": \"True\", \"hovertemplate\": \"color=Illinois<br>animation_frame=1988<br>x=%{x}<br>y=%{y}<extra></extra>\", \"legendgroup\": \"Illinois\", \"marker\": {\"color\": \"#19d3f3\"}, \"name\": \"Illinois\", \"offsetgroup\": \"Illinois\", \"orientation\": \"h\", \"showlegend\": true, \"textposition\": \"auto\", \"x\": [11429898.0], \"xaxis\": \"x\", \"y\": [\"Illinois\"], \"yaxis\": \"y\", \"type\": \"bar\"}, {\"alignmentgroup\": \"True\", \"hovertemplate\": \"color=Michigan<br>animation_frame=1988<br>x=%{x}<br>y=%{y}<extra></extra>\", \"legendgroup\": \"Michigan\", \"marker\": {\"color\": \"#B6E880\"}, \"name\": \"Michigan\", \"offsetgroup\": \"Michigan\", \"orientation\": \"h\", \"showlegend\": true, \"textposition\": \"auto\", \"x\": [9289570.0], \"xaxis\": \"x\", \"y\": [\"Michigan\"], \"yaxis\": \"y\", \"type\": \"bar\"}, {\"alignmentgroup\": \"True\", \"hovertemplate\": \"color=Texas<br>animation_frame=1988<br>x=%{x}<br>y=%{y}<extra></extra>\", \"legendgroup\": \"Texas\", \"marker\": {\"color\": \"#FECB52\"}, \"name\": \"Texas\", \"offsetgroup\": \"Texas\", \"orientation\": \"h\", \"showlegend\": true, \"textposition\": \"auto\", \"x\": [16511110.0], \"xaxis\": \"x\", \"y\": [\"Texas\"], \"yaxis\": \"y\", \"type\": \"bar\"}, {\"alignmentgroup\": \"True\", \"hovertemplate\": \"color=California<br>animation_frame=1988<br>x=%{x}<br>y=%{y}<extra></extra>\", \"legendgroup\": \"California\", \"marker\": {\"color\": \"#636efa\"}, \"name\": \"California\", \"offsetgroup\": \"California\", \"orientation\": \"h\", \"showlegend\": true, \"textposition\": \"auto\", \"x\": [28709656.0], \"xaxis\": \"x\", \"y\": [\"California\"], \"yaxis\": \"y\", \"type\": \"bar\"}, {\"alignmentgroup\": \"True\", \"hovertemplate\": \"color=Florida<br>animation_frame=1988<br>x=%{x}<br>y=%{y}<extra></extra>\", \"legendgroup\": \"Florida\", \"marker\": {\"color\": \"#EF553B\"}, \"name\": \"Florida\", \"offsetgroup\": \"Florida\", \"orientation\": \"h\", \"showlegend\": true, \"textposition\": \"auto\", \"x\": [12387650.0], \"xaxis\": \"x\", \"y\": [\"Florida\"], \"yaxis\": \"y\", \"type\": \"bar\"}], \"name\": \"1988\"}, {\"data\": [{\"alignmentgroup\": \"True\", \"hovertemplate\": \"color=Pennsylvania<br>animation_frame=1996<br>x=%{x}<br>y=%{y}<extra></extra>\", \"legendgroup\": \"Pennsylvania\", \"marker\": {\"color\": \"#EF553B\"}, \"name\": \"Pennsylvania\", \"offsetgroup\": \"Pennsylvania\", \"orientation\": \"h\", \"showlegend\": true, \"textposition\": \"auto\", \"x\": [12129553.0], \"xaxis\": \"x\", \"y\": [\"Pennsylvania\"], \"yaxis\": \"y\", \"type\": \"bar\"}, {\"alignmentgroup\": \"True\", \"hovertemplate\": \"color=New York<br>animation_frame=1996<br>x=%{x}<br>y=%{y}<extra></extra>\", \"legendgroup\": \"New York\", \"marker\": {\"color\": \"#FFA15A\"}, \"name\": \"New York\", \"offsetgroup\": \"New York\", \"orientation\": \"h\", \"showlegend\": true, \"textposition\": \"auto\", \"x\": [18602456.0], \"xaxis\": \"x\", \"y\": [\"New York\"], \"yaxis\": \"y\", \"type\": \"bar\"}, {\"alignmentgroup\": \"True\", \"hovertemplate\": \"color=New Jersey<br>animation_frame=1996<br>x=%{x}<br>y=%{y}<extra></extra>\", \"legendgroup\": \"New Jersey\", \"marker\": {\"color\": \"#FF97FF\"}, \"name\": \"New Jersey\", \"offsetgroup\": \"New Jersey\", \"orientation\": \"h\", \"showlegend\": true, \"textposition\": \"auto\", \"x\": [8154840.0], \"xaxis\": \"x\", \"y\": [\"New Jersey\"], \"yaxis\": \"y\", \"type\": \"bar\"}, {\"alignmentgroup\": \"True\", \"hovertemplate\": \"color=Ohio<br>animation_frame=1996<br>x=%{x}<br>y=%{y}<extra></extra>\", \"legendgroup\": \"Ohio\", \"marker\": {\"color\": \"#EF553B\"}, \"name\": \"Ohio\", \"offsetgroup\": \"Ohio\", \"orientation\": \"h\", \"showlegend\": true, \"textposition\": \"auto\", \"x\": [11161199.0], \"xaxis\": \"x\", \"y\": [\"Ohio\"], \"yaxis\": \"y\", \"type\": \"bar\"}, {\"alignmentgroup\": \"True\", \"hovertemplate\": \"color=Georgia<br>animation_frame=1996<br>x=%{x}<br>y=%{y}<extra></extra>\", \"legendgroup\": \"Georgia\", \"marker\": {\"color\": \"#ab63fa\"}, \"name\": \"Georgia\", \"offsetgroup\": \"Georgia\", \"orientation\": \"h\", \"showlegend\": true, \"textposition\": \"auto\", \"x\": [7538501.0], \"xaxis\": \"x\", \"y\": [\"Georgia\"], \"yaxis\": \"y\", \"type\": \"bar\"}, {\"alignmentgroup\": \"True\", \"hovertemplate\": \"color=Illinois<br>animation_frame=1996<br>x=%{x}<br>y=%{y}<extra></extra>\", \"legendgroup\": \"Illinois\", \"marker\": {\"color\": \"#19d3f3\"}, \"name\": \"Illinois\", \"offsetgroup\": \"Illinois\", \"orientation\": \"h\", \"showlegend\": true, \"textposition\": \"auto\", \"x\": [12044272.0], \"xaxis\": \"x\", \"y\": [\"Illinois\"], \"yaxis\": \"y\", \"type\": \"bar\"}, {\"alignmentgroup\": \"True\", \"hovertemplate\": \"color=Michigan<br>animation_frame=1996<br>x=%{x}<br>y=%{y}<extra></extra>\", \"legendgroup\": \"Michigan\", \"marker\": {\"color\": \"#B6E880\"}, \"name\": \"Michigan\", \"offsetgroup\": \"Michigan\", \"orientation\": \"h\", \"showlegend\": true, \"textposition\": \"auto\", \"x\": [9694492.0], \"xaxis\": \"x\", \"y\": [\"Michigan\"], \"yaxis\": \"y\", \"type\": \"bar\"}, {\"alignmentgroup\": \"True\", \"hovertemplate\": \"color=Texas<br>animation_frame=1996<br>x=%{x}<br>y=%{y}<extra></extra>\", \"legendgroup\": \"Texas\", \"marker\": {\"color\": \"#FECB52\"}, \"name\": \"Texas\", \"offsetgroup\": \"Texas\", \"orientation\": \"h\", \"showlegend\": true, \"textposition\": \"auto\", \"x\": [19385668.0], \"xaxis\": \"x\", \"y\": [\"Texas\"], \"yaxis\": \"y\", \"type\": \"bar\"}, {\"alignmentgroup\": \"True\", \"hovertemplate\": \"color=California<br>animation_frame=1996<br>x=%{x}<br>y=%{y}<extra></extra>\", \"legendgroup\": \"California\", \"marker\": {\"color\": \"#636efa\"}, \"name\": \"California\", \"offsetgroup\": \"California\", \"orientation\": \"h\", \"showlegend\": true, \"textposition\": \"auto\", \"x\": [32312065.0], \"xaxis\": \"x\", \"y\": [\"California\"], \"yaxis\": \"y\", \"type\": \"bar\"}, {\"alignmentgroup\": \"True\", \"hovertemplate\": \"color=Florida<br>animation_frame=1996<br>x=%{x}<br>y=%{y}<extra></extra>\", \"legendgroup\": \"Florida\", \"marker\": {\"color\": \"#EF553B\"}, \"name\": \"Florida\", \"offsetgroup\": \"Florida\", \"orientation\": \"h\", \"showlegend\": true, \"textposition\": \"auto\", \"x\": [14827586.0], \"xaxis\": \"x\", \"y\": [\"Florida\"], \"yaxis\": \"y\", \"type\": \"bar\"}], \"name\": \"1996\"}, {\"data\": [{\"alignmentgroup\": \"True\", \"hovertemplate\": \"color=Pennsylvania<br>animation_frame=2004<br>x=%{x}<br>y=%{y}<extra></extra>\", \"legendgroup\": \"Pennsylvania\", \"marker\": {\"color\": \"#EF553B\"}, \"name\": \"Pennsylvania\", \"offsetgroup\": \"Pennsylvania\", \"orientation\": \"h\", \"showlegend\": true, \"textposition\": \"auto\", \"x\": [12455395.0], \"xaxis\": \"x\", \"y\": [\"Pennsylvania\"], \"yaxis\": \"y\", \"type\": \"bar\"}, {\"alignmentgroup\": \"True\", \"hovertemplate\": \"color=North Carolina<br>animation_frame=2004<br>x=%{x}<br>y=%{y}<extra></extra>\", \"legendgroup\": \"North Carolina\", \"marker\": {\"color\": \"#00cc96\"}, \"name\": \"North Carolina\", \"offsetgroup\": \"North Carolina\", \"orientation\": \"h\", \"showlegend\": true, \"textposition\": \"auto\", \"x\": [8664280.0], \"xaxis\": \"x\", \"y\": [\"North Carolina\"], \"yaxis\": \"y\", \"type\": \"bar\"}, {\"alignmentgroup\": \"True\", \"hovertemplate\": \"color=New York<br>animation_frame=2004<br>x=%{x}<br>y=%{y}<extra></extra>\", \"legendgroup\": \"New York\", \"marker\": {\"color\": \"#FFA15A\"}, \"name\": \"New York\", \"offsetgroup\": \"New York\", \"orientation\": \"h\", \"showlegend\": true, \"textposition\": \"auto\", \"x\": [19142655.0], \"xaxis\": \"x\", \"y\": [\"New York\"], \"yaxis\": \"y\", \"type\": \"bar\"}, {\"alignmentgroup\": \"True\", \"hovertemplate\": \"color=Ohio<br>animation_frame=2004<br>x=%{x}<br>y=%{y}<extra></extra>\", \"legendgroup\": \"Ohio\", \"marker\": {\"color\": \"#EF553B\"}, \"name\": \"Ohio\", \"offsetgroup\": \"Ohio\", \"orientation\": \"h\", \"showlegend\": true, \"textposition\": \"auto\", \"x\": [11429015.0], \"xaxis\": \"x\", \"y\": [\"Ohio\"], \"yaxis\": \"y\", \"type\": \"bar\"}, {\"alignmentgroup\": \"True\", \"hovertemplate\": \"color=Georgia<br>animation_frame=2004<br>x=%{x}<br>y=%{y}<extra></extra>\", \"legendgroup\": \"Georgia\", \"marker\": {\"color\": \"#ab63fa\"}, \"name\": \"Georgia\", \"offsetgroup\": \"Georgia\", \"orientation\": \"h\", \"showlegend\": true, \"textposition\": \"auto\", \"x\": [8807639.0], \"xaxis\": \"x\", \"y\": [\"Georgia\"], \"yaxis\": \"y\", \"type\": \"bar\"}, {\"alignmentgroup\": \"True\", \"hovertemplate\": \"color=Illinois<br>animation_frame=2004<br>x=%{x}<br>y=%{y}<extra></extra>\", \"legendgroup\": \"Illinois\", \"marker\": {\"color\": \"#19d3f3\"}, \"name\": \"Illinois\", \"offsetgroup\": \"Illinois\", \"orientation\": \"h\", \"showlegend\": true, \"textposition\": \"auto\", \"x\": [12589502.0], \"xaxis\": \"x\", \"y\": [\"Illinois\"], \"yaxis\": \"y\", \"type\": \"bar\"}, {\"alignmentgroup\": \"True\", \"hovertemplate\": \"color=Michigan<br>animation_frame=2004<br>x=%{x}<br>y=%{y}<extra></extra>\", \"legendgroup\": \"Michigan\", \"marker\": {\"color\": \"#B6E880\"}, \"name\": \"Michigan\", \"offsetgroup\": \"Michigan\", \"orientation\": \"h\", \"showlegend\": true, \"textposition\": \"auto\", \"x\": [9915766.0], \"xaxis\": \"x\", \"y\": [\"Michigan\"], \"yaxis\": \"y\", \"type\": \"bar\"}, {\"alignmentgroup\": \"True\", \"hovertemplate\": \"color=Texas<br>animation_frame=2004<br>x=%{x}<br>y=%{y}<extra></extra>\", \"legendgroup\": \"Texas\", \"marker\": {\"color\": \"#FECB52\"}, \"name\": \"Texas\", \"offsetgroup\": \"Texas\", \"orientation\": \"h\", \"showlegend\": true, \"textposition\": \"auto\", \"x\": [22628540.0], \"xaxis\": \"x\", \"y\": [\"Texas\"], \"yaxis\": \"y\", \"type\": \"bar\"}, {\"alignmentgroup\": \"True\", \"hovertemplate\": \"color=California<br>animation_frame=2004<br>x=%{x}<br>y=%{y}<extra></extra>\", \"legendgroup\": \"California\", \"marker\": {\"color\": \"#636efa\"}, \"name\": \"California\", \"offsetgroup\": \"California\", \"orientation\": \"h\", \"showlegend\": true, \"textposition\": \"auto\", \"x\": [35271224.0], \"xaxis\": \"x\", \"y\": [\"California\"], \"yaxis\": \"y\", \"type\": \"bar\"}, {\"alignmentgroup\": \"True\", \"hovertemplate\": \"color=Florida<br>animation_frame=2004<br>x=%{x}<br>y=%{y}<extra></extra>\", \"legendgroup\": \"Florida\", \"marker\": {\"color\": \"#EF553B\"}, \"name\": \"Florida\", \"offsetgroup\": \"Florida\", \"orientation\": \"h\", \"showlegend\": true, \"textposition\": \"auto\", \"x\": [17148833.0], \"xaxis\": \"x\", \"y\": [\"Florida\"], \"yaxis\": \"y\", \"type\": \"bar\"}], \"name\": \"2004\"}, {\"data\": [{\"alignmentgroup\": \"True\", \"hovertemplate\": \"color=Pennsylvania<br>animation_frame=2012<br>x=%{x}<br>y=%{y}<extra></extra>\", \"legendgroup\": \"Pennsylvania\", \"marker\": {\"color\": \"#EF553B\"}, \"name\": \"Pennsylvania\", \"offsetgroup\": \"Pennsylvania\", \"orientation\": \"h\", \"showlegend\": true, \"textposition\": \"auto\", \"x\": [12742774.0], \"xaxis\": \"x\", \"y\": [\"Pennsylvania\"], \"yaxis\": \"y\", \"type\": \"bar\"}, {\"alignmentgroup\": \"True\", \"hovertemplate\": \"color=North Carolina<br>animation_frame=2012<br>x=%{x}<br>y=%{y}<extra></extra>\", \"legendgroup\": \"North Carolina\", \"marker\": {\"color\": \"#00cc96\"}, \"name\": \"North Carolina\", \"offsetgroup\": \"North Carolina\", \"orientation\": \"h\", \"showlegend\": true, \"textposition\": \"auto\", \"x\": [9727697.0], \"xaxis\": \"x\", \"y\": [\"North Carolina\"], \"yaxis\": \"y\", \"type\": \"bar\"}, {\"alignmentgroup\": \"True\", \"hovertemplate\": \"color=New York<br>animation_frame=2012<br>x=%{x}<br>y=%{y}<extra></extra>\", \"legendgroup\": \"New York\", \"marker\": {\"color\": \"#FFA15A\"}, \"name\": \"New York\", \"offsetgroup\": \"New York\", \"orientation\": \"h\", \"showlegend\": true, \"textposition\": \"auto\", \"x\": [19635439.0], \"xaxis\": \"x\", \"y\": [\"New York\"], \"yaxis\": \"y\", \"type\": \"bar\"}, {\"alignmentgroup\": \"True\", \"hovertemplate\": \"color=Ohio<br>animation_frame=2012<br>x=%{x}<br>y=%{y}<extra></extra>\", \"legendgroup\": \"Ohio\", \"marker\": {\"color\": \"#EF553B\"}, \"name\": \"Ohio\", \"offsetgroup\": \"Ohio\", \"orientation\": \"h\", \"showlegend\": true, \"textposition\": \"auto\", \"x\": [11604158.0], \"xaxis\": \"x\", \"y\": [\"Ohio\"], \"yaxis\": \"y\", \"type\": \"bar\"}, {\"alignmentgroup\": \"True\", \"hovertemplate\": \"color=Georgia<br>animation_frame=2012<br>x=%{x}<br>y=%{y}<extra></extra>\", \"legendgroup\": \"Georgia\", \"marker\": {\"color\": \"#ab63fa\"}, \"name\": \"Georgia\", \"offsetgroup\": \"Georgia\", \"orientation\": \"h\", \"showlegend\": true, \"textposition\": \"auto\", \"x\": [10023797.0], \"xaxis\": \"x\", \"y\": [\"Georgia\"], \"yaxis\": \"y\", \"type\": \"bar\"}, {\"alignmentgroup\": \"True\", \"hovertemplate\": \"color=Illinois<br>animation_frame=2012<br>x=%{x}<br>y=%{y}<extra></extra>\", \"legendgroup\": \"Illinois\", \"marker\": {\"color\": \"#19d3f3\"}, \"name\": \"Illinois\", \"offsetgroup\": \"Illinois\", \"orientation\": \"h\", \"showlegend\": true, \"textposition\": \"auto\", \"x\": [12900715.0], \"xaxis\": \"x\", \"y\": [\"Illinois\"], \"yaxis\": \"y\", \"type\": \"bar\"}, {\"alignmentgroup\": \"True\", \"hovertemplate\": \"color=Michigan<br>animation_frame=2012<br>x=%{x}<br>y=%{y}<extra></extra>\", \"legendgroup\": \"Michigan\", \"marker\": {\"color\": \"#B6E880\"}, \"name\": \"Michigan\", \"offsetgroup\": \"Michigan\", \"orientation\": \"h\", \"showlegend\": true, \"textposition\": \"auto\", \"x\": [9931789.0], \"xaxis\": \"x\", \"y\": [\"Michigan\"], \"yaxis\": \"y\", \"type\": \"bar\"}, {\"alignmentgroup\": \"True\", \"hovertemplate\": \"color=Texas<br>animation_frame=2012<br>x=%{x}<br>y=%{y}<extra></extra>\", \"legendgroup\": \"Texas\", \"marker\": {\"color\": \"#FECB52\"}, \"name\": \"Texas\", \"offsetgroup\": \"Texas\", \"orientation\": \"h\", \"showlegend\": true, \"textposition\": \"auto\", \"x\": [26326708.0], \"xaxis\": \"x\", \"y\": [\"Texas\"], \"yaxis\": \"y\", \"type\": \"bar\"}, {\"alignmentgroup\": \"True\", \"hovertemplate\": \"color=California<br>animation_frame=2012<br>x=%{x}<br>y=%{y}<extra></extra>\", \"legendgroup\": \"California\", \"marker\": {\"color\": \"#636efa\"}, \"name\": \"California\", \"offsetgroup\": \"California\", \"orientation\": \"h\", \"showlegend\": true, \"textposition\": \"auto\", \"x\": [37976457.0], \"xaxis\": \"x\", \"y\": [\"California\"], \"yaxis\": \"y\", \"type\": \"bar\"}, {\"alignmentgroup\": \"True\", \"hovertemplate\": \"color=Florida<br>animation_frame=2012<br>x=%{x}<br>y=%{y}<extra></extra>\", \"legendgroup\": \"Florida\", \"marker\": {\"color\": \"#EF553B\"}, \"name\": \"Florida\", \"offsetgroup\": \"Florida\", \"orientation\": \"h\", \"showlegend\": true, \"textposition\": \"auto\", \"x\": [19711113.0], \"xaxis\": \"x\", \"y\": [\"Florida\"], \"yaxis\": \"y\", \"type\": \"bar\"}], \"name\": \"2012\"}, {\"data\": [{\"alignmentgroup\": \"True\", \"hovertemplate\": \"color=Pennsylvania<br>animation_frame=2020<br>x=%{x}<br>y=%{y}<extra></extra>\", \"legendgroup\": \"Pennsylvania\", \"marker\": {\"color\": \"#EF553B\"}, \"name\": \"Pennsylvania\", \"offsetgroup\": \"Pennsylvania\", \"orientation\": \"h\", \"showlegend\": true, \"textposition\": \"auto\", \"x\": [13002700.0], \"xaxis\": \"x\", \"y\": [\"Pennsylvania\"], \"yaxis\": \"y\", \"type\": \"bar\"}, {\"alignmentgroup\": \"True\", \"hovertemplate\": \"color=North Carolina<br>animation_frame=2020<br>x=%{x}<br>y=%{y}<extra></extra>\", \"legendgroup\": \"North Carolina\", \"marker\": {\"color\": \"#00cc96\"}, \"name\": \"North Carolina\", \"offsetgroup\": \"North Carolina\", \"orientation\": \"h\", \"showlegend\": true, \"textposition\": \"auto\", \"x\": [10439388.0], \"xaxis\": \"x\", \"y\": [\"North Carolina\"], \"yaxis\": \"y\", \"type\": \"bar\"}, {\"alignmentgroup\": \"True\", \"hovertemplate\": \"color=New York<br>animation_frame=2020<br>x=%{x}<br>y=%{y}<extra></extra>\", \"legendgroup\": \"New York\", \"marker\": {\"color\": \"#FFA15A\"}, \"name\": \"New York\", \"offsetgroup\": \"New York\", \"orientation\": \"h\", \"showlegend\": true, \"textposition\": \"auto\", \"x\": [20201249.0], \"xaxis\": \"x\", \"y\": [\"New York\"], \"yaxis\": \"y\", \"type\": \"bar\"}, {\"alignmentgroup\": \"True\", \"hovertemplate\": \"color=Ohio<br>animation_frame=2020<br>x=%{x}<br>y=%{y}<extra></extra>\", \"legendgroup\": \"Ohio\", \"marker\": {\"color\": \"#EF553B\"}, \"name\": \"Ohio\", \"offsetgroup\": \"Ohio\", \"orientation\": \"h\", \"showlegend\": true, \"textposition\": \"auto\", \"x\": [11799448.0], \"xaxis\": \"x\", \"y\": [\"Ohio\"], \"yaxis\": \"y\", \"type\": \"bar\"}, {\"alignmentgroup\": \"True\", \"hovertemplate\": \"color=Georgia<br>animation_frame=2020<br>x=%{x}<br>y=%{y}<extra></extra>\", \"legendgroup\": \"Georgia\", \"marker\": {\"color\": \"#ab63fa\"}, \"name\": \"Georgia\", \"offsetgroup\": \"Georgia\", \"orientation\": \"h\", \"showlegend\": true, \"textposition\": \"auto\", \"x\": [10711908.0], \"xaxis\": \"x\", \"y\": [\"Georgia\"], \"yaxis\": \"y\", \"type\": \"bar\"}, {\"alignmentgroup\": \"True\", \"hovertemplate\": \"color=Illinois<br>animation_frame=2020<br>x=%{x}<br>y=%{y}<extra></extra>\", \"legendgroup\": \"Illinois\", \"marker\": {\"color\": \"#19d3f3\"}, \"name\": \"Illinois\", \"offsetgroup\": \"Illinois\", \"orientation\": \"h\", \"showlegend\": true, \"textposition\": \"auto\", \"x\": [12812508.0], \"xaxis\": \"x\", \"y\": [\"Illinois\"], \"yaxis\": \"y\", \"type\": \"bar\"}, {\"alignmentgroup\": \"True\", \"hovertemplate\": \"color=Michigan<br>animation_frame=2020<br>x=%{x}<br>y=%{y}<extra></extra>\", \"legendgroup\": \"Michigan\", \"marker\": {\"color\": \"#B6E880\"}, \"name\": \"Michigan\", \"offsetgroup\": \"Michigan\", \"orientation\": \"h\", \"showlegend\": true, \"textposition\": \"auto\", \"x\": [10077331.0], \"xaxis\": \"x\", \"y\": [\"Michigan\"], \"yaxis\": \"y\", \"type\": \"bar\"}, {\"alignmentgroup\": \"True\", \"hovertemplate\": \"color=Texas<br>animation_frame=2020<br>x=%{x}<br>y=%{y}<extra></extra>\", \"legendgroup\": \"Texas\", \"marker\": {\"color\": \"#FECB52\"}, \"name\": \"Texas\", \"offsetgroup\": \"Texas\", \"orientation\": \"h\", \"showlegend\": true, \"textposition\": \"auto\", \"x\": [29145505.0], \"xaxis\": \"x\", \"y\": [\"Texas\"], \"yaxis\": \"y\", \"type\": \"bar\"}, {\"alignmentgroup\": \"True\", \"hovertemplate\": \"color=California<br>animation_frame=2020<br>x=%{x}<br>y=%{y}<extra></extra>\", \"legendgroup\": \"California\", \"marker\": {\"color\": \"#636efa\"}, \"name\": \"California\", \"offsetgroup\": \"California\", \"orientation\": \"h\", \"showlegend\": true, \"textposition\": \"auto\", \"x\": [39538223.0], \"xaxis\": \"x\", \"y\": [\"California\"], \"yaxis\": \"y\", \"type\": \"bar\"}, {\"alignmentgroup\": \"True\", \"hovertemplate\": \"color=Florida<br>animation_frame=2020<br>x=%{x}<br>y=%{y}<extra></extra>\", \"legendgroup\": \"Florida\", \"marker\": {\"color\": \"#EF553B\"}, \"name\": \"Florida\", \"offsetgroup\": \"Florida\", \"orientation\": \"h\", \"showlegend\": true, \"textposition\": \"auto\", \"x\": [21538187.0], \"xaxis\": \"x\", \"y\": [\"Florida\"], \"yaxis\": \"y\", \"type\": \"bar\"}], \"name\": \"2020\"}]);\n",
       "                        }).then(function(){\n",
       "                            \n",
       "var gd = document.getElementById('ff00d82e-ad8d-4f68-9213-51859684b9f1');\n",
       "var x = new MutationObserver(function (mutations, observer) {{\n",
       "        var display = window.getComputedStyle(gd).display;\n",
       "        if (!display || display === 'none') {{\n",
       "            console.log([gd, 'removed!']);\n",
       "            Plotly.purge(gd);\n",
       "            observer.disconnect();\n",
       "        }}\n",
       "}});\n",
       "\n",
       "// Listen for the removal of the full notebook cells\n",
       "var notebookContainer = gd.closest('#notebook-container');\n",
       "if (notebookContainer) {{\n",
       "    x.observe(notebookContainer, {childList: true});\n",
       "}}\n",
       "\n",
       "// Listen for the clearing of the current output cell\n",
       "var outputEl = gd.closest('.output');\n",
       "if (outputEl) {{\n",
       "    x.observe(outputEl, {childList: true});\n",
       "}}\n",
       "\n",
       "                        })                };                });            </script>        </div>"
      ]
     },
     "metadata": {},
     "output_type": "display_data"
    }
   ],
   "source": [
    "# Make animation frame\n",
    "fig = px.bar(x=df_out.Population, y=df_out.State, orientation='h', animation_frame=df_out.Year, color=df_out.State)\n",
    "# Do not show legend\n",
    "fig.update_layout(showlegend=False, title_text=f'Evolution of State Population from 1790 - 2020', \n",
    "                  yaxis_title='', xaxis_title='')\n",
    "# Sort labels by greatest population value\n",
    "fig.update_yaxes(categoryorder='total ascending')\n",
    "# Adjust the transition speed\n",
    "fig.layout.updatemenus[0].buttons[0].args[1]['frame']['duration'] = 1000\n",
    "fig.layout.updatemenus[0].buttons[0].args[1]['transition']['duration'] = 1000\n",
    "\n",
    "fig.show()"
   ]
  },
  {
   "cell_type": "code",
   "execution_count": null,
   "id": "a5600989",
   "metadata": {},
   "outputs": [],
   "source": []
  }
 ],
 "metadata": {
  "kernelspec": {
   "display_name": "Python 3",
   "language": "python",
   "name": "python3"
  },
  "language_info": {
   "codemirror_mode": {
    "name": "ipython",
    "version": 3
   },
   "file_extension": ".py",
   "mimetype": "text/x-python",
   "name": "python",
   "nbconvert_exporter": "python",
   "pygments_lexer": "ipython3",
   "version": "3.8.8"
  }
 },
 "nbformat": 4,
 "nbformat_minor": 5
}
